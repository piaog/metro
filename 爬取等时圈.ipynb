{
 "cells": [
  {
   "cell_type": "code",
   "execution_count": 1,
   "metadata": {},
   "outputs": [],
   "source": [
    "import urllib\n",
    "import urllib.request\n",
    "import geopandas as gpd\n",
    "import pandas as pd"
   ]
  },
  {
   "cell_type": "code",
   "execution_count": 1,
   "metadata": {},
   "outputs": [],
   "source": [
    "#mapbox上申请的密钥\n",
    "ACCESS_TOKEN=''"
   ]
  },
  {
   "cell_type": "markdown",
   "metadata": {},
   "source": [
    "# 单个爬取"
   ]
  },
  {
   "cell_type": "code",
   "execution_count": 6,
   "metadata": {},
   "outputs": [],
   "source": [
    "url='https://api.mapbox.com/isochrone/v1/mapbox/walking/121.483675%2C31.233764?contours_minutes=15&polygons=true&access_token='+ACCESS_TOKEN"
   ]
  },
  {
   "cell_type": "code",
   "execution_count": 7,
   "metadata": {},
   "outputs": [
    {
     "data": {
      "text/plain": [
       "'{\"features\":[{\"properties\":{\"fillOpacity\":0.33,\"fill-opacity\":0.33,\"opacity\":0.33,\"fillColor\":\"#bf4040\",\"fill\":\"#bf4040\",\"color\":\"#bf4040\",\"contour\":15},\"geometry\":{\"coordinates\":[[[121.480716,31.244805],[121.478675,31.243093],[121.478756,31.241683],[121.477706,31.241733],[121.476531,31.239908],[121.473646,31.237764],[121.473171,31.235764],[121.471901,31.233538],[121.472187,31.230764],[121.471508,31.229764],[121.473525,31.228764],[121.473279,31.227764],[121.473675,31.22732],[121.476864,31.225953],[121.478675,31.224667],[121.479675,31.225931],[121.481389,31.224478],[121.485675,31.223229],[121.486675,31.225446],[121.487675,31.224897],[121.489785,31.226654],[121.491675,31.22754],[121.492833,31.227606],[121.494097,31.229764],[121.492518,31.231607],[121.492281,31.23337],[121.490675,31.233611],[121.490433,31.234522],[121.489603,31.234692],[121.489473,31.235562],[121.488614,31.235703],[121.488288,31.237377],[121.487553,31.237764],[121.487368,31.239457],[121.486497,31.239764],[121.486439,31.242764],[121.485675,31.243276],[121.484675,31.243018],[121.482675,31.244343],[121.480716,31.244805]]],\"type\":\"Polygon\"},\"type\":\"Feature\"}],\"type\":\"FeatureCollection\"}'"
      ]
     },
     "execution_count": 7,
     "metadata": {},
     "output_type": "execute_result"
    }
   ],
   "source": [
    "#抓取\n",
    "request=urllib.request.Request(url)\n",
    "response=urllib.request.urlopen(request)\n",
    "data=response.read().decode('utf-8')\n",
    "data"
   ]
  },
  {
   "cell_type": "code",
   "execution_count": 8,
   "metadata": {},
   "outputs": [],
   "source": [
    "f=open('data.json',mode='w')\n",
    "f.write(data)\n",
    "f.close()"
   ]
  },
  {
   "cell_type": "code",
   "execution_count": 9,
   "metadata": {},
   "outputs": [
    {
     "data": {
      "text/plain": [
       "<matplotlib.axes._subplots.AxesSubplot at 0x29356ace348>"
      ]
     },
     "execution_count": 9,
     "metadata": {},
     "output_type": "execute_result"
    },
    {
     "data": {
      "image/png": "[encoded data removed]",
      "text/plain": [
       "<Figure size 432x288 with 1 Axes>"
      ]
     },
     "metadata": {
      "needs_background": "light"
     },
     "output_type": "display_data"
    }
   ],
   "source": [
    "df=gpd.read_file('data.json')\n",
    "df.plot()"
   ]
  },
  {
   "cell_type": "code",
   "execution_count": 25,
   "metadata": {},
   "outputs": [],
   "source": [
    "df.to_file(r'C:\\Users\\飘哥\\Desktop\\上海行政区\\等时圈\\市中心.shp',encoding='utf-8')"
   ]
  },
  {
   "cell_type": "code",
   "execution_count": 11,
   "metadata": {},
   "outputs": [
    {
     "data": {
      "text/plain": [
       "geopandas.geodataframe.GeoDataFrame"
      ]
     },
     "execution_count": 11,
     "metadata": {},
     "output_type": "execute_result"
    }
   ],
   "source": [
    "type(df)"
   ]
  },
  {
   "cell_type": "markdown",
   "metadata": {},
   "source": [
    "# 批量爬取"
   ]
  },
  {
   "cell_type": "code",
   "execution_count": 4,
   "metadata": {},
   "outputs": [
    {
     "data": {
      "text/html": [
       "<div>\n",
       "<style scoped>\n",
       "    .dataframe tbody tr th:only-of-type {\n",
       "        vertical-align: middle;\n",
       "    }\n",
       "\n",
       "    .dataframe tbody tr th {\n",
       "        vertical-align: top;\n",
       "    }\n",
       "\n",
       "    .dataframe thead th {\n",
       "        text-align: right;\n",
       "    }\n",
       "</style>\n",
       "<table border=\"1\" class=\"dataframe\">\n",
       "  <thead>\n",
       "    <tr style=\"text-align: right;\">\n",
       "      <th></th>\n",
       "      <th>name</th>\n",
       "      <th>categories</th>\n",
       "      <th>街镇名</th>\n",
       "      <th>lat</th>\n",
       "      <th>lng</th>\n",
       "    </tr>\n",
       "  </thead>\n",
       "  <tbody>\n",
       "    <tr>\n",
       "      <th>0</th>\n",
       "      <td>江杨北路</td>\n",
       "      <td>居住区</td>\n",
       "      <td>杨行镇</td>\n",
       "      <td>31.409674</td>\n",
       "      <td>121.435220</td>\n",
       "    </tr>\n",
       "    <tr>\n",
       "      <th>1</th>\n",
       "      <td>铁力路</td>\n",
       "      <td>混合区</td>\n",
       "      <td>杨行镇</td>\n",
       "      <td>31.409685</td>\n",
       "      <td>121.456757</td>\n",
       "    </tr>\n",
       "    <tr>\n",
       "      <th>2</th>\n",
       "      <td>美兰湖</td>\n",
       "      <td>居住区</td>\n",
       "      <td>罗店镇</td>\n",
       "      <td>31.403678</td>\n",
       "      <td>121.345334</td>\n",
       "    </tr>\n",
       "    <tr>\n",
       "      <th>3</th>\n",
       "      <td>友谊路</td>\n",
       "      <td>混合区</td>\n",
       "      <td>友谊路街道</td>\n",
       "      <td>31.406039</td>\n",
       "      <td>121.471343</td>\n",
       "    </tr>\n",
       "    <tr>\n",
       "      <th>4</th>\n",
       "      <td>富锦路</td>\n",
       "      <td>居住区</td>\n",
       "      <td>杨行镇</td>\n",
       "      <td>31.394078</td>\n",
       "      <td>121.420009</td>\n",
       "    </tr>\n",
       "    <tr>\n",
       "      <th>...</th>\n",
       "      <td>...</td>\n",
       "      <td>...</td>\n",
       "      <td>...</td>\n",
       "      <td>...</td>\n",
       "      <td>...</td>\n",
       "    </tr>\n",
       "    <tr>\n",
       "      <th>315</th>\n",
       "      <td>临港大道</td>\n",
       "      <td>混合区</td>\n",
       "      <td>申港街道</td>\n",
       "      <td>30.925876</td>\n",
       "      <td>121.906772</td>\n",
       "    </tr>\n",
       "    <tr>\n",
       "      <th>316</th>\n",
       "      <td>滴水湖</td>\n",
       "      <td>混合区</td>\n",
       "      <td>申港街道</td>\n",
       "      <td>30.909291</td>\n",
       "      <td>121.925831</td>\n",
       "    </tr>\n",
       "    <tr>\n",
       "      <th>317</th>\n",
       "      <td>野生动物园</td>\n",
       "      <td>居住区</td>\n",
       "      <td>宣桥镇</td>\n",
       "      <td>31.052450</td>\n",
       "      <td>121.695519</td>\n",
       "    </tr>\n",
       "    <tr>\n",
       "      <th>318</th>\n",
       "      <td>醉白池</td>\n",
       "      <td>居住区</td>\n",
       "      <td>岳阳街道</td>\n",
       "      <td>31.003732</td>\n",
       "      <td>121.224626</td>\n",
       "    </tr>\n",
       "    <tr>\n",
       "      <th>319</th>\n",
       "      <td>花木路</td>\n",
       "      <td>工作区</td>\n",
       "      <td>花木街道</td>\n",
       "      <td>31.213339</td>\n",
       "      <td>121.558115</td>\n",
       "    </tr>\n",
       "  </tbody>\n",
       "</table>\n",
       "<p>320 rows × 5 columns</p>\n",
       "</div>"
      ],
      "text/plain": [
       "      name categories    街镇名        lat         lng\n",
       "0     江杨北路        居住区    杨行镇  31.409674  121.435220\n",
       "1      铁力路        混合区    杨行镇  31.409685  121.456757\n",
       "2      美兰湖        居住区    罗店镇  31.403678  121.345334\n",
       "3      友谊路        混合区  友谊路街道  31.406039  121.471343\n",
       "4      富锦路        居住区    杨行镇  31.394078  121.420009\n",
       "..     ...        ...    ...        ...         ...\n",
       "315   临港大道        混合区   申港街道  30.925876  121.906772\n",
       "316    滴水湖        混合区   申港街道  30.909291  121.925831\n",
       "317  野生动物园        居住区    宣桥镇  31.052450  121.695519\n",
       "318    醉白池        居住区   岳阳街道  31.003732  121.224626\n",
       "319    花木路        工作区   花木街道  31.213339  121.558115\n",
       "\n",
       "[320 rows x 5 columns]"
      ]
     },
     "execution_count": 4,
     "metadata": {},
     "output_type": "execute_result"
    }
   ],
   "source": [
    "df=pd.read_csv(r'C:\\Users\\飘哥\\Desktop\\地铁站经纬度.csv',encoding='gb2312')\n",
    "df"
   ]
  },
  {
   "cell_type": "code",
   "execution_count": 5,
   "metadata": {},
   "outputs": [],
   "source": [
    "#walking步行,driving驾车,cycling单车\n",
    "def get_circle(lng,lat):\n",
    "    url='https://api.mapbox.com/isochrone/v1/mapbox/walking/'+str(lng)+'%2C'+str(lat)+'?contours_minutes=15&polygons=true&access_token='+ACCESS_TOKEN\n",
    "    #抓取\n",
    "    request=urllib.request.Request(url)\n",
    "    response=urllib.request.urlopen(request)\n",
    "    data=response.read().decode('utf-8')\n",
    "    f=open('data.json',mode='w')\n",
    "    f.write(data)\n",
    "    f.close()\n",
    "    data=gpd.read_file('data.json')\n",
    "    return data"
   ]
  },
  {
   "cell_type": "code",
   "execution_count": 87,
   "metadata": {},
   "outputs": [
    {
     "data": {
      "text/html": [
       "<div>\n",
       "<style scoped>\n",
       "    .dataframe tbody tr th:only-of-type {\n",
       "        vertical-align: middle;\n",
       "    }\n",
       "\n",
       "    .dataframe tbody tr th {\n",
       "        vertical-align: top;\n",
       "    }\n",
       "\n",
       "    .dataframe thead th {\n",
       "        text-align: right;\n",
       "    }\n",
       "</style>\n",
       "<table border=\"1\" class=\"dataframe\">\n",
       "  <thead>\n",
       "    <tr style=\"text-align: right;\">\n",
       "      <th></th>\n",
       "      <th>fillOpacity</th>\n",
       "      <th>fill-opacity</th>\n",
       "      <th>opacity</th>\n",
       "      <th>fillColor</th>\n",
       "      <th>fill</th>\n",
       "      <th>color</th>\n",
       "      <th>contour</th>\n",
       "      <th>geometry</th>\n",
       "      <th>name</th>\n",
       "    </tr>\n",
       "  </thead>\n",
       "  <tbody>\n",
       "    <tr>\n",
       "      <th>0</th>\n",
       "      <td>0.33</td>\n",
       "      <td>0.33</td>\n",
       "      <td>0.33</td>\n",
       "      <td>#bf4040</td>\n",
       "      <td>#bf4040</td>\n",
       "      <td>#bf4040</td>\n",
       "      <td>15</td>\n",
       "      <td>POLYGON ((121.43064 31.41909, 121.43022 31.419...</td>\n",
       "      <td>江杨北路</td>\n",
       "    </tr>\n",
       "    <tr>\n",
       "      <th>0</th>\n",
       "      <td>0.33</td>\n",
       "      <td>0.33</td>\n",
       "      <td>0.33</td>\n",
       "      <td>#bf4040</td>\n",
       "      <td>#bf4040</td>\n",
       "      <td>#bf4040</td>\n",
       "      <td>15</td>\n",
       "      <td>POLYGON ((121.45118 31.41811, 121.44900 31.418...</td>\n",
       "      <td>铁力路</td>\n",
       "    </tr>\n",
       "    <tr>\n",
       "      <th>0</th>\n",
       "      <td>0.33</td>\n",
       "      <td>0.33</td>\n",
       "      <td>0.33</td>\n",
       "      <td>#bf4040</td>\n",
       "      <td>#bf4040</td>\n",
       "      <td>#bf4040</td>\n",
       "      <td>15</td>\n",
       "      <td>POLYGON ((121.35348 31.40983, 121.35274 31.409...</td>\n",
       "      <td>美兰湖</td>\n",
       "    </tr>\n",
       "    <tr>\n",
       "      <th>0</th>\n",
       "      <td>0.33</td>\n",
       "      <td>0.33</td>\n",
       "      <td>0.33</td>\n",
       "      <td>#bf4040</td>\n",
       "      <td>#bf4040</td>\n",
       "      <td>#bf4040</td>\n",
       "      <td>15</td>\n",
       "      <td>POLYGON ((121.46459 31.41529, 121.46334 31.415...</td>\n",
       "      <td>友谊路</td>\n",
       "    </tr>\n",
       "    <tr>\n",
       "      <th>0</th>\n",
       "      <td>0.33</td>\n",
       "      <td>0.33</td>\n",
       "      <td>0.33</td>\n",
       "      <td>#bf4040</td>\n",
       "      <td>#bf4040</td>\n",
       "      <td>#bf4040</td>\n",
       "      <td>15</td>\n",
       "      <td>POLYGON ((121.41836 31.40543, 121.41801 31.405...</td>\n",
       "      <td>富锦路</td>\n",
       "    </tr>\n",
       "    <tr>\n",
       "      <th>...</th>\n",
       "      <td>...</td>\n",
       "      <td>...</td>\n",
       "      <td>...</td>\n",
       "      <td>...</td>\n",
       "      <td>...</td>\n",
       "      <td>...</td>\n",
       "      <td>...</td>\n",
       "      <td>...</td>\n",
       "      <td>...</td>\n",
       "    </tr>\n",
       "    <tr>\n",
       "      <th>0</th>\n",
       "      <td>0.33</td>\n",
       "      <td>0.33</td>\n",
       "      <td>0.33</td>\n",
       "      <td>#bf4040</td>\n",
       "      <td>#bf4040</td>\n",
       "      <td>#bf4040</td>\n",
       "      <td>15</td>\n",
       "      <td>POLYGON ((121.89913 30.93424, 121.89741 30.934...</td>\n",
       "      <td>临港大道</td>\n",
       "    </tr>\n",
       "    <tr>\n",
       "      <th>0</th>\n",
       "      <td>0.33</td>\n",
       "      <td>0.33</td>\n",
       "      <td>0.33</td>\n",
       "      <td>#bf4040</td>\n",
       "      <td>#bf4040</td>\n",
       "      <td>#bf4040</td>\n",
       "      <td>15</td>\n",
       "      <td>POLYGON ((121.93484 30.91630, 121.93383 30.915...</td>\n",
       "      <td>滴水湖</td>\n",
       "    </tr>\n",
       "    <tr>\n",
       "      <th>0</th>\n",
       "      <td>0.33</td>\n",
       "      <td>0.33</td>\n",
       "      <td>0.33</td>\n",
       "      <td>#bf4040</td>\n",
       "      <td>#bf4040</td>\n",
       "      <td>#bf4040</td>\n",
       "      <td>15</td>\n",
       "      <td>POLYGON ((121.69572 31.06266, 121.69524 31.062...</td>\n",
       "      <td>野生动物园</td>\n",
       "    </tr>\n",
       "    <tr>\n",
       "      <th>0</th>\n",
       "      <td>0.33</td>\n",
       "      <td>0.33</td>\n",
       "      <td>0.33</td>\n",
       "      <td>#bf4040</td>\n",
       "      <td>#bf4040</td>\n",
       "      <td>#bf4040</td>\n",
       "      <td>15</td>\n",
       "      <td>POLYGON ((121.22392 31.01503, 121.22363 31.015...</td>\n",
       "      <td>醉白池</td>\n",
       "    </tr>\n",
       "    <tr>\n",
       "      <th>0</th>\n",
       "      <td>0.33</td>\n",
       "      <td>0.33</td>\n",
       "      <td>0.33</td>\n",
       "      <td>#bf4040</td>\n",
       "      <td>#bf4040</td>\n",
       "      <td>#bf4040</td>\n",
       "      <td>15</td>\n",
       "      <td>POLYGON ((121.55612 31.22488, 121.55672 31.223...</td>\n",
       "      <td>花木路</td>\n",
       "    </tr>\n",
       "  </tbody>\n",
       "</table>\n",
       "<p>320 rows × 9 columns</p>\n",
       "</div>"
      ],
      "text/plain": [
       "    fillOpacity  fill-opacity  opacity fillColor     fill    color  contour  \\\n",
       "0          0.33          0.33     0.33   #bf4040  #bf4040  #bf4040       15   \n",
       "0          0.33          0.33     0.33   #bf4040  #bf4040  #bf4040       15   \n",
       "0          0.33          0.33     0.33   #bf4040  #bf4040  #bf4040       15   \n",
       "0          0.33          0.33     0.33   #bf4040  #bf4040  #bf4040       15   \n",
       "0          0.33          0.33     0.33   #bf4040  #bf4040  #bf4040       15   \n",
       "..          ...           ...      ...       ...      ...      ...      ...   \n",
       "0          0.33          0.33     0.33   #bf4040  #bf4040  #bf4040       15   \n",
       "0          0.33          0.33     0.33   #bf4040  #bf4040  #bf4040       15   \n",
       "0          0.33          0.33     0.33   #bf4040  #bf4040  #bf4040       15   \n",
       "0          0.33          0.33     0.33   #bf4040  #bf4040  #bf4040       15   \n",
       "0          0.33          0.33     0.33   #bf4040  #bf4040  #bf4040       15   \n",
       "\n",
       "                                             geometry   name  \n",
       "0   POLYGON ((121.43064 31.41909, 121.43022 31.419...   江杨北路  \n",
       "0   POLYGON ((121.45118 31.41811, 121.44900 31.418...    铁力路  \n",
       "0   POLYGON ((121.35348 31.40983, 121.35274 31.409...    美兰湖  \n",
       "0   POLYGON ((121.46459 31.41529, 121.46334 31.415...    友谊路  \n",
       "0   POLYGON ((121.41836 31.40543, 121.41801 31.405...    富锦路  \n",
       "..                                                ...    ...  \n",
       "0   POLYGON ((121.89913 30.93424, 121.89741 30.934...   临港大道  \n",
       "0   POLYGON ((121.93484 30.91630, 121.93383 30.915...    滴水湖  \n",
       "0   POLYGON ((121.69572 31.06266, 121.69524 31.062...  野生动物园  \n",
       "0   POLYGON ((121.22392 31.01503, 121.22363 31.015...    醉白池  \n",
       "0   POLYGON ((121.55612 31.22488, 121.55672 31.223...    花木路  \n",
       "\n",
       "[320 rows x 9 columns]"
      ]
     },
     "execution_count": 87,
     "metadata": {},
     "output_type": "execute_result"
    }
   ],
   "source": [
    "final=[]\n",
    "for i in range(0,len(df)):\n",
    "    result=get_circle(df.lng[i],df.lat[i])\n",
    "    result['name']=df.name[i]\n",
    "    final.append(result)    \n",
    "final=pd.concat(final,0)\n",
    "final"
   ]
  },
  {
   "cell_type": "code",
   "execution_count": 88,
   "metadata": {},
   "outputs": [],
   "source": [
    "final.to_file(r'C:\\Users\\飘哥\\Desktop\\上海行政区\\等时圈\\15分钟等时圈.shp',encoding='utf-8')"
   ]
  }
 ],
 "metadata": {
  "kernelspec": {
   "display_name": "Python 3",
   "language": "python",
   "name": "python3"
  },
  "language_info": {
   "codemirror_mode": {
    "name": "ipython",
    "version": 3
   },
   "file_extension": ".py",
   "mimetype": "text/x-python",
   "name": "python",
   "nbconvert_exporter": "python",
   "pygments_lexer": "ipython3",
   "version": "3.7.4"
  },
  "toc": {
   "base_numbering": 1,
   "nav_menu": {},
   "number_sections": true,
   "sideBar": true,
   "skip_h1_title": false,
   "title_cell": "Table of Contents",
   "title_sidebar": "Contents",
   "toc_cell": false,
   "toc_position": {},
   "toc_section_display": true,
   "toc_window_display": false
  }
 },
 "nbformat": 4,
 "nbformat_minor": 4
}
