{
 "cells": [
  {
   "cell_type": "code",
   "execution_count": 1,
   "metadata": {},
   "outputs": [],
   "source": [
    "import pandas as pd\n",
    "import numpy as np\n",
    "import re"
   ]
  },
  {
   "cell_type": "markdown",
   "metadata": {},
   "source": [
    "# match用法"
   ]
  },
  {
   "cell_type": "code",
   "execution_count": 2,
   "metadata": {},
   "outputs": [],
   "source": [
    "s1='ab黄cd同abc学'"
   ]
  },
  {
   "cell_type": "code",
   "execution_count": 12,
   "metadata": {},
   "outputs": [
    {
     "data": {
      "text/plain": [
       "'a'"
      ]
     },
     "execution_count": 12,
     "metadata": {},
     "output_type": "execute_result"
    }
   ],
   "source": [
    "r1=re.search('a',s1)\n",
    "r1.group()"
   ]
  },
  {
   "cell_type": "code",
   "execution_count": 20,
   "metadata": {},
   "outputs": [
    {
     "data": {
      "text/plain": [
       "['b', 'c', 'b', 'c']"
      ]
     },
     "execution_count": 20,
     "metadata": {},
     "output_type": "execute_result"
    }
   ],
   "source": [
    "re.findall('[b|c]',s1)"
   ]
  },
  {
   "cell_type": "code",
   "execution_count": 285,
   "metadata": {},
   "outputs": [],
   "source": [
    "html = '''<html>\n",
    "<head lang=\"en\">\n",
    "<title>Title</title>\n",
    "<meta http-equiv=\"Content-Type\" content=\"text/html; charset=utf-8\" />\n",
    "</head>\n",
    "<body>\n",
    "   <div id=\"content\">\n",
    "       <ul id=\"ul1\">\n",
    "           <li>first</li>\n",
    "           <li>second</li>\n",
    "           <li>third</li>\n",
    "       </ul>\n",
    "       <ul id=\"ul2\">\n",
    "           <li>alpha</li>\n",
    "           <li>beta</li>\n",
    "       </ul>\n",
    "    </div>\n",
    "    <div id=\"url\">\n",
    "        < a href=\"http:www.baidu.com\" title=\"baidu\">baidu</ a>\n",
    "        < a href=\"http:www.tipdm.com\" title=\"tipdm\">tipdm</ a>\n",
    "    </div>\n",
    "</body>\n",
    "</html>\n",
    "'''"
   ]
  },
  {
   "cell_type": "code",
   "execution_count": 287,
   "metadata": {},
   "outputs": [
    {
     "data": {
      "text/plain": [
       "['http:www.baidu.com', 'http:www.tipdm.com']"
      ]
     },
     "execution_count": 287,
     "metadata": {},
     "output_type": "execute_result"
    }
   ],
   "source": [
    "re.findall('http:.*.com',html)"
   ]
  },
  {
   "cell_type": "code",
   "execution_count": 45,
   "metadata": {},
   "outputs": [
    {
     "data": {
      "text/plain": [
       "['first', 'second', 'third', 'alpha', 'beta']"
      ]
     },
     "execution_count": 45,
     "metadata": {},
     "output_type": "execute_result"
    }
   ],
   "source": [
    "re.findall('<li>(.*?)</li>',html)"
   ]
  },
  {
   "cell_type": "code",
   "execution_count": 51,
   "metadata": {},
   "outputs": [
    {
     "data": {
      "text/plain": [
       "['http:www.baidu.com', 'http:www.tipdm.com']"
      ]
     },
     "execution_count": 51,
     "metadata": {},
     "output_type": "execute_result"
    }
   ],
   "source": [
    "re.findall('href=\"(.*?)\"',html)"
   ]
  },
  {
   "cell_type": "markdown",
   "metadata": {},
   "source": [
    "# 房价 "
   ]
  },
  {
   "cell_type": "code",
   "execution_count": null,
   "metadata": {},
   "outputs": [],
   "source": [
    "an=' 绿景新美域 大两房 东南向 地铁口物业 业主诚心卖 绿景花园二期   | 2室1厅 | 72.68平米 | 南 | 精装 低楼层(共29层)2005年建板塔结合  -  房本满五年 472 万 单价64943元'\n",
    "print (re.findall(r'\\s.{5}\\s',an))\n",
    "#用空格隔开，且有五个字符的字符串\n",
    "print (re.search(r'\\s(.{5,6})(?:期)\\s+',an).group())\n",
    "#找到首个有六个字符串短语  \n",
    "print (re.search(r'\\s(?:低)(.{10,20})(?:合)|(?:结)\\s+',an).group())\n",
    "#以低开始并以合结束的，中间10到20个字符的字符串\n",
    "sp_an=[x for  x  in re.split(' ',an) if str(x) !='' and str(x).find('东')!=-1]\n",
    "print (sp_an)\n",
    "#字符串的find方法应用。用空格分割整个字符串并找到含有东这个字的字符串\n",
    "sp_bn=[x for  x  in re.split(' ',an) if str(x) !='' and str(x).__contains__('房本')]\n",
    "print (sp_bn)\n",
    "#用空格分割字符串并找到含有房本这两个字的字符\n",
    "print ([x for x in re.findall('\\S+',an) if str(x).__contains__('室')])\n",
    "#找到字符串中不是空格的字符，并找到其中含有室这个字的字符串\n",
    "print(re.match('(?P<de1>.*)\\|(?P<de2>.*)\\|(?P<de3>.*)\\|(?P<de4>.*)\\|(?P<de5>.*)-(?P<de6>.*)',an).group('de6'))\n",
    "print (re.split('\\s',an))\n",
    "print (re.split('(口|业)',an))\n",
    "print (re.search(r'\\s(?:低|业)(.{3,20})(?:合|卖)\\s+',an).group())\n",
    "print (re.search(r'\\d+(?:平米)',an).group())\n"
   ]
  },
  {
   "cell_type": "code",
   "execution_count": 52,
   "metadata": {},
   "outputs": [
    {
     "name": "stdout",
     "output_type": "stream",
     "text": [
      "[' 绿景新美域 ', ' 地铁口物业 ', ' | 南 | ', ' 房本满五年 ']\n"
     ]
    }
   ],
   "source": [
    "an=' 绿景新美域 大两房 东南向 地铁口物业 业主诚心卖 绿景花园二期   | 2室1厅 | 72.68平米 | 南 | 精装 低楼层(共29层)2005年建板塔结合  -  房本满五年 472 万 单价64943元'\n",
    "print (re.findall(r'\\s.{5}\\s',an))"
   ]
  },
  {
   "cell_type": "code",
   "execution_count": 59,
   "metadata": {},
   "outputs": [
    {
     "name": "stdout",
     "output_type": "stream",
     "text": [
      "[' 绿景新美域 大两房 东南向 地铁口物业 业主诚心卖 绿景花园二期   | 2室1厅 | 72.68平米 | 南 | 精装 低楼层(共29层)2005年建板塔结合  -  房本满五年 472 万 单价64943']\n"
     ]
    }
   ],
   "source": [
    "print (re.findall(r'(.+\\d)',an))"
   ]
  },
  {
   "cell_type": "markdown",
   "metadata": {},
   "source": [
    "# 常用的格式校验\n",
    "- 邮箱验证\n",
    "- IP地址验证\n",
    "- 电话号码验证\n",
    "- 身份证号码验证\n",
    "- 密码强度验证\n",
    "- 网址验证\n",
    "- 汉字验证  [\\u4e00-\\u9fa5]\n",
    "- ......\n",
    "- 凡是有一定规律的,批量的数据获取，都可以使用正则表达式来完成"
   ]
  },
  {
   "cell_type": "code",
   "execution_count": 5,
   "metadata": {},
   "outputs": [],
   "source": [
    "import re\n",
    "import pandas as pd\n",
    "import numpy as np"
   ]
  },
  {
   "cell_type": "code",
   "execution_count": 11,
   "metadata": {},
   "outputs": [
    {
     "data": {
      "text/plain": [
       "['贪', '心', '学', '院', '的', '官', '网', '是']"
      ]
     },
     "execution_count": 11,
     "metadata": {},
     "output_type": "execute_result"
    }
   ],
   "source": [
    "s = '贪心学院的官网是:http://www.greeedyal.com'\n",
    "#汉字unicode范围\n",
    "re.findall('[\\u4e00-\\u9fa5]', s)"
   ]
  },
  {
   "cell_type": "code",
   "execution_count": 15,
   "metadata": {},
   "outputs": [
    {
     "data": {
      "text/plain": [
       "['hello']"
      ]
     },
     "execution_count": 15,
     "metadata": {},
     "output_type": "execute_result"
    }
   ],
   "source": [
    "##正式入门,返回值是一个列表\n",
    "s = 'hello world'\n",
    "reg='hello'\n",
    "re.findall(reg,s)"
   ]
  },
  {
   "cell_type": "code",
   "execution_count": 17,
   "metadata": {},
   "outputs": [
    {
     "data": {
      "text/plain": [
       "'l'"
      ]
     },
     "execution_count": 17,
     "metadata": {},
     "output_type": "execute_result"
    }
   ],
   "source": [
    "s = 'hello world'\n",
    "reg='l'\n",
    "re.findall(reg,s)[1]"
   ]
  },
  {
   "cell_type": "markdown",
   "metadata": {},
   "source": [
    "## 元字符 "
   ]
  },
  {
   "cell_type": "markdown",
   "metadata": {},
   "source": [
    "|字符|说明|\n",
    "|--|--|\n",
    "|.|代表的是换行符以外的任意字符。 换行符是：(不同的操作系统有不同的换行符) \\n \\r\\n|\n",
    "|\\w|匹配字母、数字、下划线、汉字的一个字符|\n",
    "|\\s|匹配任意的空白符|\n",
    "|\\d|匹配数字|\n",
    "|^|匹配字符串的开始|\n",
    "|$|匹配字符串的结束|"
   ]
  },
  {
   "cell_type": "code",
   "execution_count": 29,
   "metadata": {},
   "outputs": [],
   "source": [
    "s='1,成都,泸沽湖,\\\n",
    "1145,376,成都-泸沽湖3天2晚 | 入住7天酒店丽江古城中心店\\\n",
    "+ 成都航空往返机票,7天酒店丽江古城中心店 经济型 4.0分/5分,经济房-不含早-限时特... 其他 不含早'\n"
   ]
  },
  {
   "cell_type": "code",
   "execution_count": 31,
   "metadata": {
    "scrolled": true
   },
   "outputs": [
    {
     "name": "stdout",
     "output_type": "stream",
     "text": [
      "['1', ',', '成', '都', ',', '泸', '沽', '湖', ',', '1', '1', '4', '5', ',', '3', '7', '6', ',', '成', '都', '-', '泸', '沽', '湖', '3', '天', '2', '晚', ' ', '|', ' ', '入', '住', '7', '天', '酒', '店', '丽', '江', '古', '城', '中', '心', '店', '+', ' ', '成', '都', '航', '空', '往', '返', '机', '票', ',', '7', '天', '酒', '店', '丽', '江', '古', '城', '中', '心', '店', ' ', '经', '济', '型', ' ', '4', '.', '0', '分', '/', '5', '分', ',', '经', '济', '房', '-', '不', '含', '早', '-', '限', '时', '特', '.', '.', '.', ' ', '其', '他', ' ', '不', '含', '早']\n"
     ]
    }
   ],
   "source": [
    "#.表示除了换行符的所有单个字符\n",
    "r=re.findall('.',s)\n",
    "print(r)"
   ]
  },
  {
   "cell_type": "code",
   "execution_count": 32,
   "metadata": {},
   "outputs": [
    {
     "name": "stdout",
     "output_type": "stream",
     "text": [
      "['1', '成', '都', '泸', '沽', '湖', '1', '1', '4', '5', '3', '7', '6', '成', '都', '泸', '沽', '湖', '3', '天', '2', '晚', '入', '住', '7', '天', '酒', '店', '丽', '江', '古', '城', '中', '心', '店', '成', '都', '航', '空', '往', '返', '机', '票', '7', '天', '酒', '店', '丽', '江', '古', '城', '中', '心', '店', '经', '济', '型', '4', '0', '分', '5', '分', '经', '济', '房', '不', '含', '早', '限', '时', '特', '其', '他', '不', '含', '早']\n"
     ]
    }
   ],
   "source": [
    "print(re.findall('\\w',s))"
   ]
  },
  {
   "cell_type": "code",
   "execution_count": 36,
   "metadata": {},
   "outputs": [
    {
     "name": "stdout",
     "output_type": "stream",
     "text": [
      "['1', '1', '1', '4', '5', '3', '7', '6', '3', '2', '7', '7', '4', '0', '5']\n"
     ]
    }
   ],
   "source": [
    "print(re.findall('\\d',s))"
   ]
  },
  {
   "cell_type": "code",
   "execution_count": 38,
   "metadata": {},
   "outputs": [
    {
     "name": "stdout",
     "output_type": "stream",
     "text": [
      "['1']\n"
     ]
    }
   ],
   "source": [
    "print(re.findall('^\\w',s))"
   ]
  },
  {
   "cell_type": "code",
   "execution_count": 39,
   "metadata": {},
   "outputs": [
    {
     "name": "stdout",
     "output_type": "stream",
     "text": [
      "['1', '1', '1', '4', '5', '3', '7', '6', '3', '2', '7', '7', '4', '0', '5']\n"
     ]
    }
   ],
   "source": [
    "#正则表达式的范围匹配\n",
    "print(re.findall('[0-9]',s))"
   ]
  },
  {
   "cell_type": "code",
   "execution_count": 42,
   "metadata": {},
   "outputs": [
    {
     "name": "stdout",
     "output_type": "stream",
     "text": [
      "['1', '1', '1', '4', '5', '3', '7', '6', '3', '2', '7', '7', '4', '0', '5']\n"
     ]
    }
   ],
   "source": [
    "#0-9或a-z或A-Z\n",
    "print(re.findall('[0-9a-zA-Z]',s))"
   ]
  },
  {
   "cell_type": "code",
   "execution_count": 40,
   "metadata": {},
   "outputs": [
    {
     "name": "stdout",
     "output_type": "stream",
     "text": [
      "['1', '1', '1', '3', '3', '2']\n"
     ]
    }
   ],
   "source": [
    "print(re.findall('[123]',s))"
   ]
  },
  {
   "cell_type": "markdown",
   "metadata": {},
   "source": [
    "## 反义代码"
   ]
  },
  {
   "cell_type": "markdown",
   "metadata": {},
   "source": [
    "反义代码的意思就是与元字符表示相反的代码\n",
    "\n",
    "- \\W 匹配的任意 不是 字母、数字、下划线、汉字 的字符\n",
    "- \\S 匹配任意 不是 空白符的字符\n",
    "- \\D 匹配任意 不是 数字的字符"
   ]
  },
  {
   "cell_type": "markdown",
   "metadata": {},
   "source": [
    "##都匹配|[\\d\\D]"
   ]
  },
  {
   "cell_type": "markdown",
   "metadata": {},
   "source": [
    "## 限定符 "
   ]
  },
  {
   "cell_type": "markdown",
   "metadata": {},
   "source": [
    "|符号|说明|\n",
    "|--|--|\n",
    "|*|代表的重复0次或者是多次|\n",
    "|+|代表的是重复1次或者是多次|\n",
    "|?|代表的是重复0次或者是1次|\n",
    "|{n}|重复n次，举例：{3}指的就是重复3次|\n",
    "|{n,}|重复n次或者更多次数|\n",
    "|{n,m}|重复n次到m次，所以这里m一般要比n大|"
   ]
  },
  {
   "cell_type": "code",
   "execution_count": 60,
   "metadata": {},
   "outputs": [
    {
     "data": {
      "text/plain": [
       "['http://www.greedyai.com']"
      ]
     },
     "execution_count": 60,
     "metadata": {},
     "output_type": "execute_result"
    }
   ],
   "source": [
    "#把w这个字库扩出来\n",
    "s = '贪心学院的官网是：http://www.greedyai.com'\n",
    "reg = 'http://[w]{3}\\.[a-z0-9]+\\.com'\n",
    "\n",
    "re.findall(reg,s)"
   ]
  },
  {
   "cell_type": "code",
   "execution_count": 56,
   "metadata": {},
   "outputs": [
    {
     "data": {
      "text/plain": [
       "['http://www.greedyai.com']"
      ]
     },
     "execution_count": 56,
     "metadata": {},
     "output_type": "execute_result"
    }
   ],
   "source": [
    "#把w这个字库扩出来，加上[]就是一个优先级\n",
    "s = '贪心学院的官网是：http://www.greedyai.com'\n",
    "reg = 'http://www\\.[a-z0-9]+\\.com'\n",
    "\n",
    "re.findall(reg,s)"
   ]
  },
  {
   "cell_type": "code",
   "execution_count": 75,
   "metadata": {},
   "outputs": [
    {
     "data": {
      "text/plain": [
       "['http://www.greedyai.com']"
      ]
     },
     "execution_count": 75,
     "metadata": {},
     "output_type": "execute_result"
    }
   ],
   "source": [
    "#把w这个字库扩出来，www.后的所有字符匹配多次\n",
    "s = '贪心学院的官网是：http://www.greedyai.com'\n",
    "reg = 'http://www.[\\w\\W]*\\.com$'\n",
    "\n",
    "re.findall(reg,s)"
   ]
  },
  {
   "cell_type": "code",
   "execution_count": 87,
   "metadata": {},
   "outputs": [
    {
     "data": {
      "text/plain": [
       "['', '', '', '', '', '', '240102989', '']"
      ]
     },
     "execution_count": 87,
     "metadata": {},
     "output_type": "execute_result"
    }
   ],
   "source": [
    "#因为*包含了0，所以会出现这个\n",
    "s = '我的qq号是240102989'\n",
    "re.findall('\\d*',s)"
   ]
  },
  {
   "cell_type": "code",
   "execution_count": 413,
   "metadata": {},
   "outputs": [
    {
     "data": {
      "text/plain": [
       "['240102989']"
      ]
     },
     "execution_count": 413,
     "metadata": {},
     "output_type": "execute_result"
    }
   ],
   "source": [
    "s = '我的qq号是240102989'\n",
    "re.findall('\\d+',s)"
   ]
  },
  {
   "cell_type": "code",
   "execution_count": 88,
   "metadata": {},
   "outputs": [
    {
     "data": {
      "text/plain": [
       "['240102989']"
      ]
     },
     "execution_count": 88,
     "metadata": {},
     "output_type": "execute_result"
    }
   ],
   "source": [
    "s = '我的qq号是240102989'\n",
    "re.findall('\\d{5,12}',s)"
   ]
  },
  {
   "cell_type": "markdown",
   "metadata": {},
   "source": [
    "## 分组匹配 加上括号来匹配"
   ]
  },
  {
   "cell_type": "code",
   "execution_count": 90,
   "metadata": {},
   "outputs": [
    {
     "data": {
      "text/plain": [
       "['240102989', '22002']"
      ]
     },
     "execution_count": 90,
     "metadata": {},
     "output_type": "execute_result"
    }
   ],
   "source": [
    "s = '我的qq号是240102989,我的邮编是22002'\n",
    "re.findall('\\d+',s)"
   ]
  },
  {
   "cell_type": "code",
   "execution_count": 419,
   "metadata": {},
   "outputs": [
    {
     "data": {
      "text/plain": [
       "['19821832425']"
      ]
     },
     "execution_count": 419,
     "metadata": {},
     "output_type": "execute_result"
    }
   ],
   "source": [
    "s='我的手机号是19821832425'\n",
    "re.findall('\\d[1-9]{1,10}',s)"
   ]
  },
  {
   "cell_type": "code",
   "execution_count": 417,
   "metadata": {},
   "outputs": [
    {
     "data": {
      "text/plain": [
       "[('240102989', '22002')]"
      ]
     },
     "execution_count": 417,
     "metadata": {},
     "output_type": "execute_result"
    }
   ],
   "source": [
    "#显示的值会使一个元组\n",
    "s = '我的qq号是240102989,我的邮编是22002'\n",
    "re.findall('(\\d{9}).*(\\d{5})',s)"
   ]
  },
  {
   "cell_type": "code",
   "execution_count": 135,
   "metadata": {},
   "outputs": [
    {
     "data": {
      "text/plain": [
       "'22002'"
      ]
     },
     "execution_count": 135,
     "metadata": {},
     "output_type": "execute_result"
    }
   ],
   "source": [
    "s = '我的qq号是240102989,我的邮编是22002'\n",
    "re.findall('(\\d{9}).*(\\d{5})',s)[0][1]"
   ]
  },
  {
   "cell_type": "code",
   "execution_count": 110,
   "metadata": {},
   "outputs": [
    {
     "data": {
      "text/plain": [
       "['240102989,我的邮编是22002']"
      ]
     },
     "execution_count": 110,
     "metadata": {},
     "output_type": "execute_result"
    }
   ],
   "source": [
    "re.findall('\\d{9}.*\\d{5}',s)"
   ]
  },
  {
   "cell_type": "code",
   "execution_count": 116,
   "metadata": {},
   "outputs": [
    {
     "data": {
      "text/plain": [
       "'240102989,我的邮编是22002'"
      ]
     },
     "execution_count": 116,
     "metadata": {},
     "output_type": "execute_result"
    }
   ],
   "source": [
    "#0代表所有，1代表分的第一组，2代表分的第二组,每个括号的正则表达式表达匹配一组\n",
    "re.search('(\\d{9}).*(\\d{5})',s).group(0)"
   ]
  },
  {
   "cell_type": "code",
   "execution_count": 117,
   "metadata": {},
   "outputs": [
    {
     "data": {
      "text/plain": [
       "'240102989'"
      ]
     },
     "execution_count": 117,
     "metadata": {},
     "output_type": "execute_result"
    }
   ],
   "source": [
    "re.search('(\\d{9}).*(\\d{5})',s).group(1)"
   ]
  },
  {
   "cell_type": "code",
   "execution_count": 121,
   "metadata": {},
   "outputs": [
    {
     "data": {
      "text/plain": [
       "['hello', 'hello']"
      ]
     },
     "execution_count": 121,
     "metadata": {},
     "output_type": "execute_result"
    }
   ],
   "source": [
    "#match匹配开头,相比findall匹配一次就结束\n",
    "s = 'hello asd hellodsd'\n",
    "re.findall('hello',s)"
   ]
  },
  {
   "cell_type": "code",
   "execution_count": 126,
   "metadata": {},
   "outputs": [
    {
     "data": {
      "text/plain": [
       "'hello'"
      ]
     },
     "execution_count": 126,
     "metadata": {},
     "output_type": "execute_result"
    }
   ],
   "source": [
    "re.match('hello',s).group()"
   ]
  },
  {
   "cell_type": "code",
   "execution_count": 128,
   "metadata": {},
   "outputs": [
    {
     "ename": "AttributeError",
     "evalue": "'NoneType' object has no attribute 'group'",
     "output_type": "error",
     "traceback": [
      "\u001b[1;31m---------------------------------------------------------------------------\u001b[0m",
      "\u001b[1;31mAttributeError\u001b[0m                            Traceback (most recent call last)",
      "\u001b[1;32m<ipython-input-128-84ac5e5fe93e>\u001b[0m in \u001b[0;36m<module>\u001b[1;34m\u001b[0m\n\u001b[0;32m      1\u001b[0m \u001b[0ms\u001b[0m \u001b[1;33m=\u001b[0m \u001b[1;34m'aahello asd hellodsd'\u001b[0m\u001b[1;33m\u001b[0m\u001b[1;33m\u001b[0m\u001b[0m\n\u001b[1;32m----> 2\u001b[1;33m \u001b[0mre\u001b[0m\u001b[1;33m.\u001b[0m\u001b[0mmatch\u001b[0m\u001b[1;33m(\u001b[0m\u001b[1;34m'hello'\u001b[0m\u001b[1;33m,\u001b[0m\u001b[0ms\u001b[0m\u001b[1;33m)\u001b[0m\u001b[1;33m.\u001b[0m\u001b[0mgroup\u001b[0m\u001b[1;33m(\u001b[0m\u001b[1;33m)\u001b[0m\u001b[1;33m\u001b[0m\u001b[1;33m\u001b[0m\u001b[0m\n\u001b[0m",
      "\u001b[1;31mAttributeError\u001b[0m: 'NoneType' object has no attribute 'group'"
     ]
    }
   ],
   "source": [
    "#匹配开头\n",
    "s = 'aahello asd hellodsd'\n",
    "re.match('hello',s).group()"
   ]
  },
  {
   "cell_type": "code",
   "execution_count": 129,
   "metadata": {},
   "outputs": [
    {
     "data": {
      "text/plain": [
       "'hello'"
      ]
     },
     "execution_count": 129,
     "metadata": {},
     "output_type": "execute_result"
    }
   ],
   "source": [
    "#匹配第一个\n",
    "s = 'aahello asd hellodsd'\n",
    "re.search('hello',s).group()"
   ]
  },
  {
   "cell_type": "markdown",
   "metadata": {},
   "source": [
    "findall / search/match 区别\n",
    "- findall 是查找所有的\n",
    "- search 匹配第一个\n",
    "- match  匹配开头的"
   ]
  },
  {
   "cell_type": "markdown",
   "metadata": {},
   "source": [
    "## 贪婪与非贪婪 "
   ]
  },
  {
   "cell_type": "markdown",
   "metadata": {},
   "source": [
    "- 贪婪的意思是尽可能多的匹配\n",
    "- 非贪婪的意思就是尽可能少的匹配\n",
    "- 非贪婪操作符是问号：'符号?' \n",
    "\n",
    "\n",
    "- ?号代表的是重复0次或者是1次，再加一个问号，代表的是非贪婪操作，那么最后就只匹配0次"
   ]
  },
  {
   "cell_type": "code",
   "execution_count": 152,
   "metadata": {},
   "outputs": [
    {
     "data": {
      "text/plain": [
       "['greedya']"
      ]
     },
     "execution_count": 152,
     "metadata": {},
     "output_type": "execute_result"
    }
   ],
   "source": [
    "#限定符限定最邻近的字符，这里是i，如果限定符前面是\\d则匹配很多数字\n",
    "s = 'gggggggreedyaiiiiiiii'\n",
    "re.findall('greedyai??',s)"
   ]
  },
  {
   "cell_type": "code",
   "execution_count": 153,
   "metadata": {},
   "outputs": [
    {
     "data": {
      "text/plain": [
       "['ggreedyai']"
      ]
     },
     "execution_count": 153,
     "metadata": {},
     "output_type": "execute_result"
    }
   ],
   "source": [
    "s = 'gggggggreedyaiiiiiiii'\n",
    "re.findall('ggreedyai?',s)"
   ]
  },
  {
   "cell_type": "code",
   "execution_count": 160,
   "metadata": {},
   "outputs": [
    {
     "data": {
      "text/plain": [
       "['gggggggreedya']"
      ]
     },
     "execution_count": 160,
     "metadata": {},
     "output_type": "execute_result"
    }
   ],
   "source": [
    "s = 'gggggggreedyaiiiiiiii'\n",
    "re.findall('g*reedyai??',s)"
   ]
  },
  {
   "cell_type": "markdown",
   "metadata": {},
   "source": [
    "## 分支条件匹配"
   ]
  },
  {
   "cell_type": "markdown",
   "metadata": {},
   "source": [
    "- 使用 | 来分隔开不同的正则表达式，代表着 条件1 或 条件2 或条件3 ......"
   ]
  },
  {
   "cell_type": "code",
   "execution_count": 181,
   "metadata": {},
   "outputs": [
    {
     "data": {
      "text/plain": [
       "['010-78472328', '0431-9837523     0432-97462743']"
      ]
     },
     "execution_count": 181,
     "metadata": {},
     "output_type": "execute_result"
    }
   ],
   "source": [
    "s = '电话号码有： 010-78472328      0431-9837523     0432-97462743'\n",
    "\n",
    "# 分支条件匹配原则，前边的条件尽量匹配少的数据，后边的条件匹配多的数据\n",
    "re.findall('010.\\d*|0431.*',s)"
   ]
  },
  {
   "cell_type": "code",
   "execution_count": 184,
   "metadata": {},
   "outputs": [
    {
     "data": {
      "text/plain": [
       "['010-78472328', '0431-9837523', '0432-97462743']"
      ]
     },
     "execution_count": 184,
     "metadata": {},
     "output_type": "execute_result"
    }
   ],
   "source": [
    "re.findall('\\d{3}-\\d*|\\d{4}-\\d*',s)"
   ]
  },
  {
   "cell_type": "markdown",
   "metadata": {},
   "source": [
    "## 零宽断言 "
   ]
  },
  {
   "cell_type": "markdown",
   "metadata": {},
   "source": [
    "- 匹配\"正则表达式reg\"前边的位置  (?=reg)\n",
    "- 匹配\"正则表达式reg\"后边的位置  (?<=reg)\n",
    "- 匹配后边跟的不是\"正则表达式reg\"的位置 (?!reg)\n",
    "- 匹配前边不是\"正则表达式reg\"的位置  (?<!reg)"
   ]
  },
  {
   "cell_type": "code",
   "execution_count": 191,
   "metadata": {},
   "outputs": [
    {
     "data": {
      "text/plain": [
       "['llo']"
      ]
     },
     "execution_count": 191,
     "metadata": {},
     "output_type": "execute_result"
    }
   ],
   "source": [
    "#匹配前面的内容\n",
    "s = 'hellogreedyailove'\n",
    "reg='l{2}o(?=greedyai)'\n",
    "re.findall(reg,s)"
   ]
  },
  {
   "cell_type": "code",
   "execution_count": 192,
   "metadata": {},
   "outputs": [
    {
     "data": {
      "text/plain": [
       "[',']"
      ]
     },
     "execution_count": 192,
     "metadata": {},
     "output_type": "execute_result"
    }
   ],
   "source": [
    "s = \"5c714bb4397be4c5251a65c3,2,3,通州北苑,北京,朝阳,132.0,东南,2,近地铁 集中供暖,天时名苑 3室2厅 11000元,https://m.lianjia.com/chuzu/bj/zufang/BJ2191007111268540416.html,153,11000,元/月,天时名苑,整租\"\n",
    "\n",
    "reg = \",(?=http)\"\n",
    "re.findall(reg,s)"
   ]
  },
  {
   "cell_type": "code",
   "execution_count": 193,
   "metadata": {},
   "outputs": [
    {
     "data": {
      "text/plain": [
       "[',']"
      ]
     },
     "execution_count": 193,
     "metadata": {},
     "output_type": "execute_result"
    }
   ],
   "source": [
    "reg = \"(?<=11000元),\"\n",
    "re.findall(reg,s)"
   ]
  },
  {
   "cell_type": "markdown",
   "metadata": {},
   "source": [
    "# 项目实战"
   ]
  },
  {
   "cell_type": "code",
   "execution_count": 194,
   "metadata": {},
   "outputs": [],
   "source": [
    "import os\n",
    "import pandas as pd\n",
    "import re\n",
    "import numpy as np"
   ]
  },
  {
   "cell_type": "code",
   "execution_count": 195,
   "metadata": {},
   "outputs": [],
   "source": [
    "os.chdir(r'C:\\Users\\飘哥\\Desktop\\练习代码\\贪心数据\\使用正则进行数据的复杂筛选')"
   ]
  },
  {
   "cell_type": "markdown",
   "metadata": {},
   "source": [
    "## 酒店数据 "
   ]
  },
  {
   "cell_type": "code",
   "execution_count": 211,
   "metadata": {},
   "outputs": [
    {
     "data": {
      "text/html": [
       "<div>\n",
       "<style scoped>\n",
       "    .dataframe tbody tr th:only-of-type {\n",
       "        vertical-align: middle;\n",
       "    }\n",
       "\n",
       "    .dataframe tbody tr th {\n",
       "        vertical-align: top;\n",
       "    }\n",
       "\n",
       "    .dataframe thead th {\n",
       "        text-align: right;\n",
       "    }\n",
       "</style>\n",
       "<table border=\"1\" class=\"dataframe\">\n",
       "  <thead>\n",
       "    <tr style=\"text-align: right;\">\n",
       "      <th></th>\n",
       "      <th>出发地</th>\n",
       "      <th>目的地</th>\n",
       "      <th>价格</th>\n",
       "      <th>节省</th>\n",
       "      <th>路线名</th>\n",
       "      <th>酒店</th>\n",
       "      <th>房间</th>\n",
       "      <th>去程航司</th>\n",
       "      <th>去程方式</th>\n",
       "      <th>去程时间</th>\n",
       "      <th>回程航司</th>\n",
       "      <th>回程方式</th>\n",
       "      <th>回程时间</th>\n",
       "    </tr>\n",
       "  </thead>\n",
       "  <tbody>\n",
       "    <tr>\n",
       "      <th>0</th>\n",
       "      <td>哈尔滨</td>\n",
       "      <td>北海</td>\n",
       "      <td>2208.0</td>\n",
       "      <td>650.0</td>\n",
       "      <td>哈尔滨-北海3天2晚 | 入住北海祥丰嘉年华大酒店 + 春秋航空往返机票</td>\n",
       "      <td>北海祥丰嘉年华大酒店 舒适型 4.7分/5分</td>\n",
       "      <td>标准双人间(双床) 双床 不含早 1间2晚</td>\n",
       "      <td>春秋航空 9C8741</td>\n",
       "      <td>直飞</td>\n",
       "      <td>17:10-21:50</td>\n",
       "      <td>春秋航空 9C8742</td>\n",
       "      <td>直飞</td>\n",
       "      <td>10:20-15:05</td>\n",
       "    </tr>\n",
       "    <tr>\n",
       "      <th>1</th>\n",
       "      <td>成都</td>\n",
       "      <td>泸沽湖</td>\n",
       "      <td>1145.0</td>\n",
       "      <td>376.0</td>\n",
       "      <td>成都-泸沽湖3天2晚 | 入住7天酒店丽江古城中心店 + 成都航空往返机票</td>\n",
       "      <td>7天酒店丽江古城中心店 经济型 4.0分/5分</td>\n",
       "      <td>经济房-不含早-限时特... 其他 不含早 1间2晚</td>\n",
       "      <td>成都航空 EU2237</td>\n",
       "      <td>直飞</td>\n",
       "      <td>19:45-21:20</td>\n",
       "      <td>成都航空 EU2738</td>\n",
       "      <td>直飞</td>\n",
       "      <td>23:30-01:05</td>\n",
       "    </tr>\n",
       "    <tr>\n",
       "      <th>2</th>\n",
       "      <td>广州</td>\n",
       "      <td>沈阳</td>\n",
       "      <td>2702.0</td>\n",
       "      <td>618.0</td>\n",
       "      <td>广州-沈阳3天2晚 | 入住沈阳中煤宾馆 + 南方航空/深圳航空往返机票</td>\n",
       "      <td>沈阳中煤宾馆 舒适型 4.5分/5分</td>\n",
       "      <td>大床间(内宾) 大床 双早 1间2晚</td>\n",
       "      <td>南方航空 CZ6384</td>\n",
       "      <td>直飞</td>\n",
       "      <td>08:05-11:45</td>\n",
       "      <td>深圳航空 ZH9652</td>\n",
       "      <td>经停</td>\n",
       "      <td>08:20-13:05</td>\n",
       "    </tr>\n",
       "    <tr>\n",
       "      <th>3</th>\n",
       "      <td>上海</td>\n",
       "      <td>九寨沟</td>\n",
       "      <td>1954.0</td>\n",
       "      <td>484.0</td>\n",
       "      <td>上海-九寨沟3天2晚 | 入住红原芸谊大酒店 + 成都航空往返机票</td>\n",
       "      <td>红原芸谊大酒店 舒适型 4.6分/5分</td>\n",
       "      <td>豪华双床房[双早] 双床 双早 1间2晚</td>\n",
       "      <td>成都航空 EU6678</td>\n",
       "      <td>直飞</td>\n",
       "      <td>21:55-01:15</td>\n",
       "      <td>成都航空 EU6677</td>\n",
       "      <td>直飞</td>\n",
       "      <td>17:45-20:35</td>\n",
       "    </tr>\n",
       "    <tr>\n",
       "      <th>4</th>\n",
       "      <td>广州</td>\n",
       "      <td>天津</td>\n",
       "      <td>1608.0</td>\n",
       "      <td>422.0</td>\n",
       "      <td>广州-天津3天2晚 | 入住天津逸海明珠大酒店 + 奥凯航空/海南航空往返机票</td>\n",
       "      <td>天津逸海明珠大酒店 高档型 4.1分/5分</td>\n",
       "      <td>豪华双床房(预付) 双床 不含早 1间2晚</td>\n",
       "      <td>奥凯航空 BK2787</td>\n",
       "      <td>直飞</td>\n",
       "      <td>06:55-10:00</td>\n",
       "      <td>海南航空 HU7201</td>\n",
       "      <td>直飞</td>\n",
       "      <td>20:15-23:25</td>\n",
       "    </tr>\n",
       "  </tbody>\n",
       "</table>\n",
       "</div>"
      ],
      "text/plain": [
       "  出发地   目的地     价格      节省                                      路线名  \\\n",
       "0  哈尔滨   北海  2208.0  650.0     哈尔滨-北海3天2晚 | 入住北海祥丰嘉年华大酒店 + 春秋航空往返机票   \n",
       "1   成都  泸沽湖  1145.0  376.0    成都-泸沽湖3天2晚 | 入住7天酒店丽江古城中心店 + 成都航空往返机票   \n",
       "2   广州   沈阳  2702.0  618.0     广州-沈阳3天2晚 | 入住沈阳中煤宾馆 + 南方航空/深圳航空往返机票   \n",
       "3   上海  九寨沟  1954.0  484.0        上海-九寨沟3天2晚 | 入住红原芸谊大酒店 + 成都航空往返机票   \n",
       "4   广州   天津  1608.0  422.0  广州-天津3天2晚 | 入住天津逸海明珠大酒店 + 奥凯航空/海南航空往返机票   \n",
       "\n",
       "                        酒店                          房间         去程航司 去程方式  \\\n",
       "0   北海祥丰嘉年华大酒店 舒适型 4.7分/5分       标准双人间(双床) 双床 不含早 1间2晚  春秋航空 9C8741   直飞   \n",
       "1  7天酒店丽江古城中心店 经济型 4.0分/5分  经济房-不含早-限时特... 其他 不含早 1间2晚  成都航空 EU2237   直飞   \n",
       "2       沈阳中煤宾馆 舒适型 4.5分/5分          大床间(内宾) 大床 双早 1间2晚  南方航空 CZ6384   直飞   \n",
       "3      红原芸谊大酒店 舒适型 4.6分/5分        豪华双床房[双早] 双床 双早 1间2晚  成都航空 EU6678   直飞   \n",
       "4    天津逸海明珠大酒店 高档型 4.1分/5分       豪华双床房(预付) 双床 不含早 1间2晚  奥凯航空 BK2787   直飞   \n",
       "\n",
       "          去程时间         回程航司 回程方式          回程时间  \n",
       "0  17:10-21:50  春秋航空 9C8742    直飞  10:20-15:05  \n",
       "1  19:45-21:20  成都航空 EU2738    直飞  23:30-01:05  \n",
       "2  08:05-11:45  深圳航空 ZH9652    经停  08:20-13:05  \n",
       "3  21:55-01:15  成都航空 EU6677    直飞  17:45-20:35  \n",
       "4  06:55-10:00  海南航空 HU7201    直飞  20:15-23:25  "
      ]
     },
     "execution_count": 211,
     "metadata": {},
     "output_type": "execute_result"
    }
   ],
   "source": [
    "data=pd.read_csv('旅游.csv',index_col=0)\n",
    "data.head()"
   ]
  },
  {
   "cell_type": "code",
   "execution_count": 257,
   "metadata": {},
   "outputs": [
    {
     "data": {
      "text/html": [
       "<div>\n",
       "<style scoped>\n",
       "    .dataframe tbody tr th:only-of-type {\n",
       "        vertical-align: middle;\n",
       "    }\n",
       "\n",
       "    .dataframe tbody tr th {\n",
       "        vertical-align: top;\n",
       "    }\n",
       "\n",
       "    .dataframe thead th {\n",
       "        text-align: right;\n",
       "    }\n",
       "</style>\n",
       "<table border=\"1\" class=\"dataframe\">\n",
       "  <thead>\n",
       "    <tr style=\"text-align: right;\">\n",
       "      <th></th>\n",
       "      <th>出发地</th>\n",
       "      <th>目的地</th>\n",
       "      <th>价格</th>\n",
       "      <th>节省</th>\n",
       "      <th>路线名</th>\n",
       "      <th>酒店</th>\n",
       "      <th>房间</th>\n",
       "      <th>去程航司</th>\n",
       "      <th>去程方式</th>\n",
       "      <th>去程时间</th>\n",
       "      <th>回程航司</th>\n",
       "      <th>回程方式</th>\n",
       "      <th>回程时间</th>\n",
       "      <th>酒店评分</th>\n",
       "      <th>类型</th>\n",
       "    </tr>\n",
       "  </thead>\n",
       "  <tbody>\n",
       "    <tr>\n",
       "      <th>0</th>\n",
       "      <td>哈尔滨</td>\n",
       "      <td>北海</td>\n",
       "      <td>2208.0</td>\n",
       "      <td>650.0</td>\n",
       "      <td>哈尔滨-北海3天2晚 | 入住北海祥丰嘉年华大酒店 + 春秋航空往返机票</td>\n",
       "      <td>北海祥丰嘉年华大酒店 舒适型 4.7分/5分</td>\n",
       "      <td>标准双人间(双床) 双床 不含早 1间2晚</td>\n",
       "      <td>春秋航空 9C8741</td>\n",
       "      <td>直飞</td>\n",
       "      <td>17:10-21:50</td>\n",
       "      <td>春秋航空 9C8742</td>\n",
       "      <td>直飞</td>\n",
       "      <td>10:20-15:05</td>\n",
       "      <td>4.7</td>\n",
       "      <td>舒适型</td>\n",
       "    </tr>\n",
       "    <tr>\n",
       "      <th>1</th>\n",
       "      <td>成都</td>\n",
       "      <td>泸沽湖</td>\n",
       "      <td>1145.0</td>\n",
       "      <td>376.0</td>\n",
       "      <td>成都-泸沽湖3天2晚 | 入住7天酒店丽江古城中心店 + 成都航空往返机票</td>\n",
       "      <td>7天酒店丽江古城中心店 经济型 4.0分/5分</td>\n",
       "      <td>经济房-不含早-限时特... 其他 不含早 1间2晚</td>\n",
       "      <td>成都航空 EU2237</td>\n",
       "      <td>直飞</td>\n",
       "      <td>19:45-21:20</td>\n",
       "      <td>成都航空 EU2738</td>\n",
       "      <td>直飞</td>\n",
       "      <td>23:30-01:05</td>\n",
       "      <td>4.0</td>\n",
       "      <td>经济型</td>\n",
       "    </tr>\n",
       "    <tr>\n",
       "      <th>2</th>\n",
       "      <td>广州</td>\n",
       "      <td>沈阳</td>\n",
       "      <td>2702.0</td>\n",
       "      <td>618.0</td>\n",
       "      <td>广州-沈阳3天2晚 | 入住沈阳中煤宾馆 + 南方航空/深圳航空往返机票</td>\n",
       "      <td>沈阳中煤宾馆 舒适型 4.5分/5分</td>\n",
       "      <td>大床间(内宾) 大床 双早 1间2晚</td>\n",
       "      <td>南方航空 CZ6384</td>\n",
       "      <td>直飞</td>\n",
       "      <td>08:05-11:45</td>\n",
       "      <td>深圳航空 ZH9652</td>\n",
       "      <td>经停</td>\n",
       "      <td>08:20-13:05</td>\n",
       "      <td>4.5</td>\n",
       "      <td>舒适型</td>\n",
       "    </tr>\n",
       "    <tr>\n",
       "      <th>3</th>\n",
       "      <td>上海</td>\n",
       "      <td>九寨沟</td>\n",
       "      <td>1954.0</td>\n",
       "      <td>484.0</td>\n",
       "      <td>上海-九寨沟3天2晚 | 入住红原芸谊大酒店 + 成都航空往返机票</td>\n",
       "      <td>红原芸谊大酒店 舒适型 4.6分/5分</td>\n",
       "      <td>豪华双床房[双早] 双床 双早 1间2晚</td>\n",
       "      <td>成都航空 EU6678</td>\n",
       "      <td>直飞</td>\n",
       "      <td>21:55-01:15</td>\n",
       "      <td>成都航空 EU6677</td>\n",
       "      <td>直飞</td>\n",
       "      <td>17:45-20:35</td>\n",
       "      <td>4.6</td>\n",
       "      <td>舒适型</td>\n",
       "    </tr>\n",
       "    <tr>\n",
       "      <th>4</th>\n",
       "      <td>广州</td>\n",
       "      <td>天津</td>\n",
       "      <td>1608.0</td>\n",
       "      <td>422.0</td>\n",
       "      <td>广州-天津3天2晚 | 入住天津逸海明珠大酒店 + 奥凯航空/海南航空往返机票</td>\n",
       "      <td>天津逸海明珠大酒店 高档型 4.1分/5分</td>\n",
       "      <td>豪华双床房(预付) 双床 不含早 1间2晚</td>\n",
       "      <td>奥凯航空 BK2787</td>\n",
       "      <td>直飞</td>\n",
       "      <td>06:55-10:00</td>\n",
       "      <td>海南航空 HU7201</td>\n",
       "      <td>直飞</td>\n",
       "      <td>20:15-23:25</td>\n",
       "      <td>4.1</td>\n",
       "      <td>高档型</td>\n",
       "    </tr>\n",
       "  </tbody>\n",
       "</table>\n",
       "</div>"
      ],
      "text/plain": [
       "  出发地   目的地     价格      节省                                      路线名  \\\n",
       "0  哈尔滨   北海  2208.0  650.0     哈尔滨-北海3天2晚 | 入住北海祥丰嘉年华大酒店 + 春秋航空往返机票   \n",
       "1   成都  泸沽湖  1145.0  376.0    成都-泸沽湖3天2晚 | 入住7天酒店丽江古城中心店 + 成都航空往返机票   \n",
       "2   广州   沈阳  2702.0  618.0     广州-沈阳3天2晚 | 入住沈阳中煤宾馆 + 南方航空/深圳航空往返机票   \n",
       "3   上海  九寨沟  1954.0  484.0        上海-九寨沟3天2晚 | 入住红原芸谊大酒店 + 成都航空往返机票   \n",
       "4   广州   天津  1608.0  422.0  广州-天津3天2晚 | 入住天津逸海明珠大酒店 + 奥凯航空/海南航空往返机票   \n",
       "\n",
       "                        酒店                          房间         去程航司 去程方式  \\\n",
       "0   北海祥丰嘉年华大酒店 舒适型 4.7分/5分       标准双人间(双床) 双床 不含早 1间2晚  春秋航空 9C8741   直飞   \n",
       "1  7天酒店丽江古城中心店 经济型 4.0分/5分  经济房-不含早-限时特... 其他 不含早 1间2晚  成都航空 EU2237   直飞   \n",
       "2       沈阳中煤宾馆 舒适型 4.5分/5分          大床间(内宾) 大床 双早 1间2晚  南方航空 CZ6384   直飞   \n",
       "3      红原芸谊大酒店 舒适型 4.6分/5分        豪华双床房[双早] 双床 双早 1间2晚  成都航空 EU6678   直飞   \n",
       "4    天津逸海明珠大酒店 高档型 4.1分/5分       豪华双床房(预付) 双床 不含早 1间2晚  奥凯航空 BK2787   直飞   \n",
       "\n",
       "          去程时间         回程航司 回程方式          回程时间 酒店评分   类型  \n",
       "0  17:10-21:50  春秋航空 9C8742    直飞  10:20-15:05  4.7  舒适型  \n",
       "1  19:45-21:20  成都航空 EU2738    直飞  23:30-01:05  4.0  经济型  \n",
       "2  08:05-11:45  深圳航空 ZH9652    经停  08:20-13:05  4.5  舒适型  \n",
       "3  21:55-01:15  成都航空 EU6677    直飞  17:45-20:35  4.6  舒适型  \n",
       "4  06:55-10:00  海南航空 HU7201    直飞  20:15-23:25  4.1  高档型  "
      ]
     },
     "execution_count": 257,
     "metadata": {},
     "output_type": "execute_result"
    }
   ],
   "source": [
    "#extrat是利用正则表达式抽取数据，必须有分组，取的是分组内的数据，要啥必须括上\n",
    "# data['酒店评分']=data.酒店.apply(lambda x:re.findall('(\\d\\.\\d)分',x)[0])\n",
    "data['酒店评分']=data.酒店.str.extract('(\\d\\.\\d)分')\n",
    "data.head()"
   ]
  },
  {
   "cell_type": "code",
   "execution_count": 256,
   "metadata": {},
   "outputs": [
    {
     "data": {
      "text/html": [
       "<div>\n",
       "<style scoped>\n",
       "    .dataframe tbody tr th:only-of-type {\n",
       "        vertical-align: middle;\n",
       "    }\n",
       "\n",
       "    .dataframe tbody tr th {\n",
       "        vertical-align: top;\n",
       "    }\n",
       "\n",
       "    .dataframe thead th {\n",
       "        text-align: right;\n",
       "    }\n",
       "</style>\n",
       "<table border=\"1\" class=\"dataframe\">\n",
       "  <thead>\n",
       "    <tr style=\"text-align: right;\">\n",
       "      <th></th>\n",
       "      <th>出发地</th>\n",
       "      <th>目的地</th>\n",
       "      <th>价格</th>\n",
       "      <th>节省</th>\n",
       "      <th>路线名</th>\n",
       "      <th>酒店</th>\n",
       "      <th>房间</th>\n",
       "      <th>去程航司</th>\n",
       "      <th>去程方式</th>\n",
       "      <th>去程时间</th>\n",
       "      <th>回程航司</th>\n",
       "      <th>回程方式</th>\n",
       "      <th>回程时间</th>\n",
       "      <th>酒店评分</th>\n",
       "      <th>类型</th>\n",
       "    </tr>\n",
       "  </thead>\n",
       "  <tbody>\n",
       "    <tr>\n",
       "      <th>0</th>\n",
       "      <td>哈尔滨</td>\n",
       "      <td>北海</td>\n",
       "      <td>2208.0</td>\n",
       "      <td>650.0</td>\n",
       "      <td>哈尔滨-北海3天2晚 | 入住北海祥丰嘉年华大酒店 + 春秋航空往返机票</td>\n",
       "      <td>北海祥丰嘉年华大酒店 舒适型 4.7分/5分</td>\n",
       "      <td>标准双人间(双床) 双床 不含早 1间2晚</td>\n",
       "      <td>春秋航空 9C8741</td>\n",
       "      <td>直飞</td>\n",
       "      <td>17:10-21:50</td>\n",
       "      <td>春秋航空 9C8742</td>\n",
       "      <td>直飞</td>\n",
       "      <td>10:20-15:05</td>\n",
       "      <td>4.7</td>\n",
       "      <td>舒适型</td>\n",
       "    </tr>\n",
       "    <tr>\n",
       "      <th>1</th>\n",
       "      <td>成都</td>\n",
       "      <td>泸沽湖</td>\n",
       "      <td>1145.0</td>\n",
       "      <td>376.0</td>\n",
       "      <td>成都-泸沽湖3天2晚 | 入住7天酒店丽江古城中心店 + 成都航空往返机票</td>\n",
       "      <td>7天酒店丽江古城中心店 经济型 4.0分/5分</td>\n",
       "      <td>经济房-不含早-限时特... 其他 不含早 1间2晚</td>\n",
       "      <td>成都航空 EU2237</td>\n",
       "      <td>直飞</td>\n",
       "      <td>19:45-21:20</td>\n",
       "      <td>成都航空 EU2738</td>\n",
       "      <td>直飞</td>\n",
       "      <td>23:30-01:05</td>\n",
       "      <td>4.0</td>\n",
       "      <td>经济型</td>\n",
       "    </tr>\n",
       "    <tr>\n",
       "      <th>2</th>\n",
       "      <td>广州</td>\n",
       "      <td>沈阳</td>\n",
       "      <td>2702.0</td>\n",
       "      <td>618.0</td>\n",
       "      <td>广州-沈阳3天2晚 | 入住沈阳中煤宾馆 + 南方航空/深圳航空往返机票</td>\n",
       "      <td>沈阳中煤宾馆 舒适型 4.5分/5分</td>\n",
       "      <td>大床间(内宾) 大床 双早 1间2晚</td>\n",
       "      <td>南方航空 CZ6384</td>\n",
       "      <td>直飞</td>\n",
       "      <td>08:05-11:45</td>\n",
       "      <td>深圳航空 ZH9652</td>\n",
       "      <td>经停</td>\n",
       "      <td>08:20-13:05</td>\n",
       "      <td>4.5</td>\n",
       "      <td>舒适型</td>\n",
       "    </tr>\n",
       "    <tr>\n",
       "      <th>3</th>\n",
       "      <td>上海</td>\n",
       "      <td>九寨沟</td>\n",
       "      <td>1954.0</td>\n",
       "      <td>484.0</td>\n",
       "      <td>上海-九寨沟3天2晚 | 入住红原芸谊大酒店 + 成都航空往返机票</td>\n",
       "      <td>红原芸谊大酒店 舒适型 4.6分/5分</td>\n",
       "      <td>豪华双床房[双早] 双床 双早 1间2晚</td>\n",
       "      <td>成都航空 EU6678</td>\n",
       "      <td>直飞</td>\n",
       "      <td>21:55-01:15</td>\n",
       "      <td>成都航空 EU6677</td>\n",
       "      <td>直飞</td>\n",
       "      <td>17:45-20:35</td>\n",
       "      <td>4.6</td>\n",
       "      <td>舒适型</td>\n",
       "    </tr>\n",
       "    <tr>\n",
       "      <th>4</th>\n",
       "      <td>广州</td>\n",
       "      <td>天津</td>\n",
       "      <td>1608.0</td>\n",
       "      <td>422.0</td>\n",
       "      <td>广州-天津3天2晚 | 入住天津逸海明珠大酒店 + 奥凯航空/海南航空往返机票</td>\n",
       "      <td>天津逸海明珠大酒店 高档型 4.1分/5分</td>\n",
       "      <td>豪华双床房(预付) 双床 不含早 1间2晚</td>\n",
       "      <td>奥凯航空 BK2787</td>\n",
       "      <td>直飞</td>\n",
       "      <td>06:55-10:00</td>\n",
       "      <td>海南航空 HU7201</td>\n",
       "      <td>直飞</td>\n",
       "      <td>20:15-23:25</td>\n",
       "      <td>4.1</td>\n",
       "      <td>高档型</td>\n",
       "    </tr>\n",
       "  </tbody>\n",
       "</table>\n",
       "</div>"
      ],
      "text/plain": [
       "  出发地   目的地     价格      节省                                      路线名  \\\n",
       "0  哈尔滨   北海  2208.0  650.0     哈尔滨-北海3天2晚 | 入住北海祥丰嘉年华大酒店 + 春秋航空往返机票   \n",
       "1   成都  泸沽湖  1145.0  376.0    成都-泸沽湖3天2晚 | 入住7天酒店丽江古城中心店 + 成都航空往返机票   \n",
       "2   广州   沈阳  2702.0  618.0     广州-沈阳3天2晚 | 入住沈阳中煤宾馆 + 南方航空/深圳航空往返机票   \n",
       "3   上海  九寨沟  1954.0  484.0        上海-九寨沟3天2晚 | 入住红原芸谊大酒店 + 成都航空往返机票   \n",
       "4   广州   天津  1608.0  422.0  广州-天津3天2晚 | 入住天津逸海明珠大酒店 + 奥凯航空/海南航空往返机票   \n",
       "\n",
       "                        酒店                          房间         去程航司 去程方式  \\\n",
       "0   北海祥丰嘉年华大酒店 舒适型 4.7分/5分       标准双人间(双床) 双床 不含早 1间2晚  春秋航空 9C8741   直飞   \n",
       "1  7天酒店丽江古城中心店 经济型 4.0分/5分  经济房-不含早-限时特... 其他 不含早 1间2晚  成都航空 EU2237   直飞   \n",
       "2       沈阳中煤宾馆 舒适型 4.5分/5分          大床间(内宾) 大床 双早 1间2晚  南方航空 CZ6384   直飞   \n",
       "3      红原芸谊大酒店 舒适型 4.6分/5分        豪华双床房[双早] 双床 双早 1间2晚  成都航空 EU6678   直飞   \n",
       "4    天津逸海明珠大酒店 高档型 4.1分/5分       豪华双床房(预付) 双床 不含早 1间2晚  奥凯航空 BK2787   直飞   \n",
       "\n",
       "          去程时间         回程航司 回程方式          回程时间 酒店评分   类型  \n",
       "0  17:10-21:50  春秋航空 9C8742    直飞  10:20-15:05  4.7  舒适型  \n",
       "1  19:45-21:20  成都航空 EU2738    直飞  23:30-01:05  4.0  经济型  \n",
       "2  08:05-11:45  深圳航空 ZH9652    经停  08:20-13:05  4.5  舒适型  \n",
       "3  21:55-01:15  成都航空 EU6677    直飞  17:45-20:35  4.6  舒适型  \n",
       "4  06:55-10:00  海南航空 HU7201    直飞  20:15-23:25  4.1  高档型  "
      ]
     },
     "execution_count": 256,
     "metadata": {},
     "output_type": "execute_result"
    }
   ],
   "source": [
    "# data['类型']=data.酒店.str.extract('(\\w\\w型)')\n",
    "# data['类型']=data.酒店.str.extract('(\\w+型)')\n",
    "data['类型']=data.酒店.str.extract('\\s(\\w+)\\s')\n",
    "data.head()"
   ]
  },
  {
   "cell_type": "code",
   "execution_count": 265,
   "metadata": {},
   "outputs": [
    {
     "data": {
      "text/html": [
       "<div>\n",
       "<style scoped>\n",
       "    .dataframe tbody tr th:only-of-type {\n",
       "        vertical-align: middle;\n",
       "    }\n",
       "\n",
       "    .dataframe tbody tr th {\n",
       "        vertical-align: top;\n",
       "    }\n",
       "\n",
       "    .dataframe thead th {\n",
       "        text-align: right;\n",
       "    }\n",
       "</style>\n",
       "<table border=\"1\" class=\"dataframe\">\n",
       "  <thead>\n",
       "    <tr style=\"text-align: right;\">\n",
       "      <th></th>\n",
       "      <th>出发地</th>\n",
       "      <th>目的地</th>\n",
       "      <th>价格</th>\n",
       "      <th>节省</th>\n",
       "      <th>路线名</th>\n",
       "      <th>酒店</th>\n",
       "      <th>房间</th>\n",
       "      <th>去程航司</th>\n",
       "      <th>去程方式</th>\n",
       "      <th>去程时间</th>\n",
       "      <th>回程航司</th>\n",
       "      <th>回程方式</th>\n",
       "      <th>回程时间</th>\n",
       "      <th>酒店评分</th>\n",
       "      <th>类型</th>\n",
       "      <th>几天几晚</th>\n",
       "      <th>天数</th>\n",
       "    </tr>\n",
       "  </thead>\n",
       "  <tbody>\n",
       "    <tr>\n",
       "      <th>0</th>\n",
       "      <td>哈尔滨</td>\n",
       "      <td>北海</td>\n",
       "      <td>2208.0</td>\n",
       "      <td>650.0</td>\n",
       "      <td>哈尔滨-北海3天2晚 | 入住北海祥丰嘉年华大酒店 + 春秋航空往返机票</td>\n",
       "      <td>北海祥丰嘉年华大酒店 舒适型 4.7分/5分</td>\n",
       "      <td>标准双人间(双床) 双床 不含早 1间2晚</td>\n",
       "      <td>春秋航空 9C8741</td>\n",
       "      <td>直飞</td>\n",
       "      <td>17:10-21:50</td>\n",
       "      <td>春秋航空 9C8742</td>\n",
       "      <td>直飞</td>\n",
       "      <td>10:20-15:05</td>\n",
       "      <td>4.7</td>\n",
       "      <td>舒适型</td>\n",
       "      <td>3天2晚</td>\n",
       "      <td>3天2晚</td>\n",
       "    </tr>\n",
       "    <tr>\n",
       "      <th>1</th>\n",
       "      <td>成都</td>\n",
       "      <td>泸沽湖</td>\n",
       "      <td>1145.0</td>\n",
       "      <td>376.0</td>\n",
       "      <td>成都-泸沽湖3天2晚 | 入住7天酒店丽江古城中心店 + 成都航空往返机票</td>\n",
       "      <td>7天酒店丽江古城中心店 经济型 4.0分/5分</td>\n",
       "      <td>经济房-不含早-限时特... 其他 不含早 1间2晚</td>\n",
       "      <td>成都航空 EU2237</td>\n",
       "      <td>直飞</td>\n",
       "      <td>19:45-21:20</td>\n",
       "      <td>成都航空 EU2738</td>\n",
       "      <td>直飞</td>\n",
       "      <td>23:30-01:05</td>\n",
       "      <td>4.0</td>\n",
       "      <td>经济型</td>\n",
       "      <td>3天2晚</td>\n",
       "      <td>3天2晚</td>\n",
       "    </tr>\n",
       "    <tr>\n",
       "      <th>2</th>\n",
       "      <td>广州</td>\n",
       "      <td>沈阳</td>\n",
       "      <td>2702.0</td>\n",
       "      <td>618.0</td>\n",
       "      <td>广州-沈阳3天2晚 | 入住沈阳中煤宾馆 + 南方航空/深圳航空往返机票</td>\n",
       "      <td>沈阳中煤宾馆 舒适型 4.5分/5分</td>\n",
       "      <td>大床间(内宾) 大床 双早 1间2晚</td>\n",
       "      <td>南方航空 CZ6384</td>\n",
       "      <td>直飞</td>\n",
       "      <td>08:05-11:45</td>\n",
       "      <td>深圳航空 ZH9652</td>\n",
       "      <td>经停</td>\n",
       "      <td>08:20-13:05</td>\n",
       "      <td>4.5</td>\n",
       "      <td>舒适型</td>\n",
       "      <td>3天2晚</td>\n",
       "      <td>3天2晚</td>\n",
       "    </tr>\n",
       "    <tr>\n",
       "      <th>3</th>\n",
       "      <td>上海</td>\n",
       "      <td>九寨沟</td>\n",
       "      <td>1954.0</td>\n",
       "      <td>484.0</td>\n",
       "      <td>上海-九寨沟3天2晚 | 入住红原芸谊大酒店 + 成都航空往返机票</td>\n",
       "      <td>红原芸谊大酒店 舒适型 4.6分/5分</td>\n",
       "      <td>豪华双床房[双早] 双床 双早 1间2晚</td>\n",
       "      <td>成都航空 EU6678</td>\n",
       "      <td>直飞</td>\n",
       "      <td>21:55-01:15</td>\n",
       "      <td>成都航空 EU6677</td>\n",
       "      <td>直飞</td>\n",
       "      <td>17:45-20:35</td>\n",
       "      <td>4.6</td>\n",
       "      <td>舒适型</td>\n",
       "      <td>3天2晚</td>\n",
       "      <td>3天2晚</td>\n",
       "    </tr>\n",
       "    <tr>\n",
       "      <th>4</th>\n",
       "      <td>广州</td>\n",
       "      <td>天津</td>\n",
       "      <td>1608.0</td>\n",
       "      <td>422.0</td>\n",
       "      <td>广州-天津3天2晚 | 入住天津逸海明珠大酒店 + 奥凯航空/海南航空往返机票</td>\n",
       "      <td>天津逸海明珠大酒店 高档型 4.1分/5分</td>\n",
       "      <td>豪华双床房(预付) 双床 不含早 1间2晚</td>\n",
       "      <td>奥凯航空 BK2787</td>\n",
       "      <td>直飞</td>\n",
       "      <td>06:55-10:00</td>\n",
       "      <td>海南航空 HU7201</td>\n",
       "      <td>直飞</td>\n",
       "      <td>20:15-23:25</td>\n",
       "      <td>4.1</td>\n",
       "      <td>高档型</td>\n",
       "      <td>3天2晚</td>\n",
       "      <td>3天2晚</td>\n",
       "    </tr>\n",
       "  </tbody>\n",
       "</table>\n",
       "</div>"
      ],
      "text/plain": [
       "  出发地   目的地     价格      节省                                      路线名  \\\n",
       "0  哈尔滨   北海  2208.0  650.0     哈尔滨-北海3天2晚 | 入住北海祥丰嘉年华大酒店 + 春秋航空往返机票   \n",
       "1   成都  泸沽湖  1145.0  376.0    成都-泸沽湖3天2晚 | 入住7天酒店丽江古城中心店 + 成都航空往返机票   \n",
       "2   广州   沈阳  2702.0  618.0     广州-沈阳3天2晚 | 入住沈阳中煤宾馆 + 南方航空/深圳航空往返机票   \n",
       "3   上海  九寨沟  1954.0  484.0        上海-九寨沟3天2晚 | 入住红原芸谊大酒店 + 成都航空往返机票   \n",
       "4   广州   天津  1608.0  422.0  广州-天津3天2晚 | 入住天津逸海明珠大酒店 + 奥凯航空/海南航空往返机票   \n",
       "\n",
       "                        酒店                          房间         去程航司 去程方式  \\\n",
       "0   北海祥丰嘉年华大酒店 舒适型 4.7分/5分       标准双人间(双床) 双床 不含早 1间2晚  春秋航空 9C8741   直飞   \n",
       "1  7天酒店丽江古城中心店 经济型 4.0分/5分  经济房-不含早-限时特... 其他 不含早 1间2晚  成都航空 EU2237   直飞   \n",
       "2       沈阳中煤宾馆 舒适型 4.5分/5分          大床间(内宾) 大床 双早 1间2晚  南方航空 CZ6384   直飞   \n",
       "3      红原芸谊大酒店 舒适型 4.6分/5分        豪华双床房[双早] 双床 双早 1间2晚  成都航空 EU6678   直飞   \n",
       "4    天津逸海明珠大酒店 高档型 4.1分/5分       豪华双床房(预付) 双床 不含早 1间2晚  奥凯航空 BK2787   直飞   \n",
       "\n",
       "          去程时间         回程航司 回程方式          回程时间 酒店评分   类型  几天几晚    天数  \n",
       "0  17:10-21:50  春秋航空 9C8742    直飞  10:20-15:05  4.7  舒适型  3天2晚  3天2晚  \n",
       "1  19:45-21:20  成都航空 EU2738    直飞  23:30-01:05  4.0  经济型  3天2晚  3天2晚  \n",
       "2  08:05-11:45  深圳航空 ZH9652    经停  08:20-13:05  4.5  舒适型  3天2晚  3天2晚  \n",
       "3  21:55-01:15  成都航空 EU6677    直飞  17:45-20:35  4.6  舒适型  3天2晚  3天2晚  \n",
       "4  06:55-10:00  海南航空 HU7201    直飞  20:15-23:25  4.1  高档型  3天2晚  3天2晚  "
      ]
     },
     "execution_count": 265,
     "metadata": {},
     "output_type": "execute_result"
    }
   ],
   "source": [
    "data['天数']=data.路线名.str.extract('(\\d天\\d晚)')\n",
    "data.head()"
   ]
  },
  {
   "cell_type": "markdown",
   "metadata": {},
   "source": [
    "## 租房数据"
   ]
  },
  {
   "cell_type": "code",
   "execution_count": 299,
   "metadata": {},
   "outputs": [
    {
     "data": {
      "text/html": [
       "<div>\n",
       "<style scoped>\n",
       "    .dataframe tbody tr th:only-of-type {\n",
       "        vertical-align: middle;\n",
       "    }\n",
       "\n",
       "    .dataframe tbody tr th {\n",
       "        vertical-align: top;\n",
       "    }\n",
       "\n",
       "    .dataframe thead th {\n",
       "        text-align: right;\n",
       "    }\n",
       "</style>\n",
       "<table border=\"1\" class=\"dataframe\">\n",
       "  <thead>\n",
       "    <tr style=\"text-align: right;\">\n",
       "      <th></th>\n",
       "      <th>bathroom_num</th>\n",
       "      <th>bedroom_num</th>\n",
       "      <th>bizcircle_name</th>\n",
       "      <th>city</th>\n",
       "      <th>dist</th>\n",
       "      <th>distance</th>\n",
       "      <th>frame_orientation</th>\n",
       "      <th>hall_num</th>\n",
       "      <th>house_tag</th>\n",
       "      <th>house_title</th>\n",
       "      <th>rent_area</th>\n",
       "      <th>rent_price_listing</th>\n",
       "      <th>rent_price_unit</th>\n",
       "      <th>resblock_name</th>\n",
       "      <th>type</th>\n",
       "    </tr>\n",
       "  </thead>\n",
       "  <tbody>\n",
       "    <tr>\n",
       "      <th>0</th>\n",
       "      <td>1</td>\n",
       "      <td>2</td>\n",
       "      <td>西罗园</td>\n",
       "      <td>北京</td>\n",
       "      <td>丰台</td>\n",
       "      <td>1101.0</td>\n",
       "      <td>西南</td>\n",
       "      <td>1</td>\n",
       "      <td>近地铁 集中供暖</td>\n",
       "      <td>整租 · 南三环边木樨园桥西宝汇苑带车位西南向两居室！https://m.lianjia.c...</td>\n",
       "      <td>72</td>\n",
       "      <td>6000</td>\n",
       "      <td>元/月</td>\n",
       "      <td>宝汇苑</td>\n",
       "      <td>整租</td>\n",
       "    </tr>\n",
       "    <tr>\n",
       "      <th>1</th>\n",
       "      <td>2</td>\n",
       "      <td>3</td>\n",
       "      <td>通州北苑</td>\n",
       "      <td>北京</td>\n",
       "      <td>朝阳</td>\n",
       "      <td>132.0</td>\n",
       "      <td>东南</td>\n",
       "      <td>2</td>\n",
       "      <td>近地铁 集中供暖</td>\n",
       "      <td>天时名苑 3室2厅 11000元https://m.lianjia.com/chuzu/bj...</td>\n",
       "      <td>153</td>\n",
       "      <td>11000</td>\n",
       "      <td>元/月</td>\n",
       "      <td>天时名苑</td>\n",
       "      <td>整租</td>\n",
       "    </tr>\n",
       "    <tr>\n",
       "      <th>2</th>\n",
       "      <td>2</td>\n",
       "      <td>3</td>\n",
       "      <td>朝阳公园</td>\n",
       "      <td>北京</td>\n",
       "      <td>朝阳</td>\n",
       "      <td>296.0</td>\n",
       "      <td>东北</td>\n",
       "      <td>2</td>\n",
       "      <td>近地铁 精装 双卫生间</td>\n",
       "      <td>整租 · 丽水嘉园 3室2厅 16300元https://m.lianjia.com/chu...</td>\n",
       "      <td>133</td>\n",
       "      <td>16300</td>\n",
       "      <td>元/月</td>\n",
       "      <td>丽水嘉园</td>\n",
       "      <td>整租</td>\n",
       "    </tr>\n",
       "    <tr>\n",
       "      <th>3</th>\n",
       "      <td>1</td>\n",
       "      <td>2</td>\n",
       "      <td>六铺炕</td>\n",
       "      <td>北京</td>\n",
       "      <td>西城</td>\n",
       "      <td>1177.0</td>\n",
       "      <td>南 北</td>\n",
       "      <td>1</td>\n",
       "      <td>精装 集中供暖 随时看房</td>\n",
       "      <td>整租 · 黄寺大街24号院精装修两居室 南北通透 中间楼层https://m.lianjia...</td>\n",
       "      <td>60</td>\n",
       "      <td>8500</td>\n",
       "      <td>元/月</td>\n",
       "      <td>黄寺大街24号院</td>\n",
       "      <td>整租</td>\n",
       "    </tr>\n",
       "    <tr>\n",
       "      <th>4</th>\n",
       "      <td>1</td>\n",
       "      <td>2</td>\n",
       "      <td>科技园区</td>\n",
       "      <td>北京</td>\n",
       "      <td>丰台</td>\n",
       "      <td>993.0</td>\n",
       "      <td>南 北</td>\n",
       "      <td>1</td>\n",
       "      <td>近地铁 精装 集中供暖</td>\n",
       "      <td>整租 · 京投银泰万科西华府 2室1厅 7300元https://m.lianjia.com...</td>\n",
       "      <td>83</td>\n",
       "      <td>7300</td>\n",
       "      <td>元/月</td>\n",
       "      <td>京投银泰万科西华府</td>\n",
       "      <td>整租</td>\n",
       "    </tr>\n",
       "  </tbody>\n",
       "</table>\n",
       "</div>"
      ],
      "text/plain": [
       "   bathroom_num  bedroom_num bizcircle_name city dist  distance  \\\n",
       "0             1            2            西罗园   北京   丰台    1101.0   \n",
       "1             2            3           通州北苑   北京   朝阳     132.0   \n",
       "2             2            3           朝阳公园   北京   朝阳     296.0   \n",
       "3             1            2            六铺炕   北京   西城    1177.0   \n",
       "4             1            2           科技园区   北京   丰台     993.0   \n",
       "\n",
       "  frame_orientation  hall_num     house_tag  \\\n",
       "0                西南         1      近地铁 集中供暖   \n",
       "1                东南         2      近地铁 集中供暖   \n",
       "2                东北         2   近地铁 精装 双卫生间   \n",
       "3               南 北         1  精装 集中供暖 随时看房   \n",
       "4               南 北         1   近地铁 精装 集中供暖   \n",
       "\n",
       "                                         house_title rent_area  \\\n",
       "0  整租 · 南三环边木樨园桥西宝汇苑带车位西南向两居室！https://m.lianjia.c...        72   \n",
       "1  天时名苑 3室2厅 11000元https://m.lianjia.com/chuzu/bj...       153   \n",
       "2  整租 · 丽水嘉园 3室2厅 16300元https://m.lianjia.com/chu...       133   \n",
       "3  整租 · 黄寺大街24号院精装修两居室 南北通透 中间楼层https://m.lianjia...        60   \n",
       "4  整租 · 京投银泰万科西华府 2室1厅 7300元https://m.lianjia.com...        83   \n",
       "\n",
       "  rent_price_listing rent_price_unit resblock_name type  \n",
       "0               6000             元/月           宝汇苑   整租  \n",
       "1              11000             元/月          天时名苑   整租  \n",
       "2              16300             元/月          丽水嘉园   整租  \n",
       "3               8500             元/月      黄寺大街24号院   整租  \n",
       "4               7300             元/月     京投银泰万科西华府   整租  "
      ]
     },
     "execution_count": 299,
     "metadata": {},
     "output_type": "execute_result"
    }
   ],
   "source": [
    "zufang=pd.read_csv('租房.csv',index_col=0).reset_index(drop=True)\n",
    "zufang.head()"
   ]
  },
  {
   "cell_type": "code",
   "execution_count": 283,
   "metadata": {},
   "outputs": [
    {
     "data": {
      "text/html": [
       "<div>\n",
       "<style scoped>\n",
       "    .dataframe tbody tr th:only-of-type {\n",
       "        vertical-align: middle;\n",
       "    }\n",
       "\n",
       "    .dataframe tbody tr th {\n",
       "        vertical-align: top;\n",
       "    }\n",
       "\n",
       "    .dataframe thead th {\n",
       "        text-align: right;\n",
       "    }\n",
       "</style>\n",
       "<table border=\"1\" class=\"dataframe\">\n",
       "  <thead>\n",
       "    <tr style=\"text-align: right;\">\n",
       "      <th></th>\n",
       "      <th>bathroom_num</th>\n",
       "      <th>bedroom_num</th>\n",
       "      <th>bizcircle_name</th>\n",
       "      <th>city</th>\n",
       "      <th>dist</th>\n",
       "      <th>distance</th>\n",
       "      <th>frame_orientation</th>\n",
       "      <th>hall_num</th>\n",
       "      <th>house_tag</th>\n",
       "      <th>house_title</th>\n",
       "      <th>rent_area</th>\n",
       "      <th>rent_price_listing</th>\n",
       "      <th>rent_price_unit</th>\n",
       "      <th>resblock_name</th>\n",
       "      <th>type</th>\n",
       "      <th>url</th>\n",
       "    </tr>\n",
       "  </thead>\n",
       "  <tbody>\n",
       "    <tr>\n",
       "      <th>0</th>\n",
       "      <td>1</td>\n",
       "      <td>2</td>\n",
       "      <td>西罗园</td>\n",
       "      <td>北京</td>\n",
       "      <td>丰台</td>\n",
       "      <td>1101.0</td>\n",
       "      <td>西南</td>\n",
       "      <td>1</td>\n",
       "      <td>近地铁 集中供暖</td>\n",
       "      <td>整租 · 南三环边木樨园桥西宝汇苑带车位西南向两居室！https://m.lianjia.c...</td>\n",
       "      <td>72</td>\n",
       "      <td>6000</td>\n",
       "      <td>元/月</td>\n",
       "      <td>宝汇苑</td>\n",
       "      <td>整租</td>\n",
       "      <td>https://m.lianjia.com/chuzu/bj/zufang/BJ218966...</td>\n",
       "    </tr>\n",
       "    <tr>\n",
       "      <th>1</th>\n",
       "      <td>2</td>\n",
       "      <td>3</td>\n",
       "      <td>通州北苑</td>\n",
       "      <td>北京</td>\n",
       "      <td>朝阳</td>\n",
       "      <td>132.0</td>\n",
       "      <td>东南</td>\n",
       "      <td>2</td>\n",
       "      <td>近地铁 集中供暖</td>\n",
       "      <td>天时名苑 3室2厅 11000元https://m.lianjia.com/chuzu/bj...</td>\n",
       "      <td>153</td>\n",
       "      <td>11000</td>\n",
       "      <td>元/月</td>\n",
       "      <td>天时名苑</td>\n",
       "      <td>整租</td>\n",
       "      <td>https://m.lianjia.com/chuzu/bj/zufang/BJ219100...</td>\n",
       "    </tr>\n",
       "    <tr>\n",
       "      <th>2</th>\n",
       "      <td>2</td>\n",
       "      <td>3</td>\n",
       "      <td>朝阳公园</td>\n",
       "      <td>北京</td>\n",
       "      <td>朝阳</td>\n",
       "      <td>296.0</td>\n",
       "      <td>东北</td>\n",
       "      <td>2</td>\n",
       "      <td>近地铁 精装 双卫生间</td>\n",
       "      <td>整租 · 丽水嘉园 3室2厅 16300元https://m.lianjia.com/chu...</td>\n",
       "      <td>133</td>\n",
       "      <td>16300</td>\n",
       "      <td>元/月</td>\n",
       "      <td>丽水嘉园</td>\n",
       "      <td>整租</td>\n",
       "      <td>https://m.lianjia.com/chuzu/bj/zufang/BJ217730...</td>\n",
       "    </tr>\n",
       "    <tr>\n",
       "      <th>3</th>\n",
       "      <td>1</td>\n",
       "      <td>2</td>\n",
       "      <td>六铺炕</td>\n",
       "      <td>北京</td>\n",
       "      <td>西城</td>\n",
       "      <td>1177.0</td>\n",
       "      <td>南 北</td>\n",
       "      <td>1</td>\n",
       "      <td>精装 集中供暖 随时看房</td>\n",
       "      <td>整租 · 黄寺大街24号院精装修两居室 南北通透 中间楼层https://m.lianjia...</td>\n",
       "      <td>60</td>\n",
       "      <td>8500</td>\n",
       "      <td>元/月</td>\n",
       "      <td>黄寺大街24号院</td>\n",
       "      <td>整租</td>\n",
       "      <td>https://m.lianjia.com/chuzu/bj/zufang/BJ211269...</td>\n",
       "    </tr>\n",
       "    <tr>\n",
       "      <th>4</th>\n",
       "      <td>1</td>\n",
       "      <td>2</td>\n",
       "      <td>科技园区</td>\n",
       "      <td>北京</td>\n",
       "      <td>丰台</td>\n",
       "      <td>993.0</td>\n",
       "      <td>南 北</td>\n",
       "      <td>1</td>\n",
       "      <td>近地铁 精装 集中供暖</td>\n",
       "      <td>整租 · 京投银泰万科西华府 2室1厅 7300元https://m.lianjia.com...</td>\n",
       "      <td>83</td>\n",
       "      <td>7300</td>\n",
       "      <td>元/月</td>\n",
       "      <td>京投银泰万科西华府</td>\n",
       "      <td>整租</td>\n",
       "      <td>https://m.lianjia.com/chuzu/bj/zufang/BJ212014...</td>\n",
       "    </tr>\n",
       "  </tbody>\n",
       "</table>\n",
       "</div>"
      ],
      "text/plain": [
       "   bathroom_num  bedroom_num bizcircle_name city dist  distance  \\\n",
       "0             1            2            西罗园   北京   丰台    1101.0   \n",
       "1             2            3           通州北苑   北京   朝阳     132.0   \n",
       "2             2            3           朝阳公园   北京   朝阳     296.0   \n",
       "3             1            2            六铺炕   北京   西城    1177.0   \n",
       "4             1            2           科技园区   北京   丰台     993.0   \n",
       "\n",
       "  frame_orientation  hall_num     house_tag  \\\n",
       "0                西南         1      近地铁 集中供暖   \n",
       "1                东南         2      近地铁 集中供暖   \n",
       "2                东北         2   近地铁 精装 双卫生间   \n",
       "3               南 北         1  精装 集中供暖 随时看房   \n",
       "4               南 北         1   近地铁 精装 集中供暖   \n",
       "\n",
       "                                         house_title rent_area  \\\n",
       "0  整租 · 南三环边木樨园桥西宝汇苑带车位西南向两居室！https://m.lianjia.c...        72   \n",
       "1  天时名苑 3室2厅 11000元https://m.lianjia.com/chuzu/bj...       153   \n",
       "2  整租 · 丽水嘉园 3室2厅 16300元https://m.lianjia.com/chu...       133   \n",
       "3  整租 · 黄寺大街24号院精装修两居室 南北通透 中间楼层https://m.lianjia...        60   \n",
       "4  整租 · 京投银泰万科西华府 2室1厅 7300元https://m.lianjia.com...        83   \n",
       "\n",
       "  rent_price_listing rent_price_unit resblock_name type  \\\n",
       "0               6000             元/月           宝汇苑   整租   \n",
       "1              11000             元/月          天时名苑   整租   \n",
       "2              16300             元/月          丽水嘉园   整租   \n",
       "3               8500             元/月      黄寺大街24号院   整租   \n",
       "4               7300             元/月     京投银泰万科西华府   整租   \n",
       "\n",
       "                                                 url  \n",
       "0  https://m.lianjia.com/chuzu/bj/zufang/BJ218966...  \n",
       "1  https://m.lianjia.com/chuzu/bj/zufang/BJ219100...  \n",
       "2  https://m.lianjia.com/chuzu/bj/zufang/BJ217730...  \n",
       "3  https://m.lianjia.com/chuzu/bj/zufang/BJ211269...  \n",
       "4  https://m.lianjia.com/chuzu/bj/zufang/BJ212014...  "
      ]
     },
     "execution_count": 283,
     "metadata": {},
     "output_type": "execute_result"
    }
   ],
   "source": [
    "# zufang['url']=zufang.house_title.str.extract('(https://[\\w\\W]*)')\n",
    "zufang['url']=zufang.house_title.str.extract('(https://.*)')\n",
    "zufang.head()"
   ]
  },
  {
   "cell_type": "code",
   "execution_count": 284,
   "metadata": {},
   "outputs": [
    {
     "data": {
      "text/plain": [
       "0       https://m.lianjia.com/chuzu/bj/zufang/BJ218966...\n",
       "1       https://m.lianjia.com/chuzu/bj/zufang/BJ219100...\n",
       "2       https://m.lianjia.com/chuzu/bj/zufang/BJ217730...\n",
       "3       https://m.lianjia.com/chuzu/bj/zufang/BJ211269...\n",
       "4       https://m.lianjia.com/chuzu/bj/zufang/BJ212014...\n",
       "                              ...                        \n",
       "8404    https://m.lianjia.com/chuzu/gz/zufang/GZ209759...\n",
       "8405    https://m.lianjia.com/chuzu/gz/apartment/layou...\n",
       "8406    https://m.lianjia.com/chuzu/gz/zufang/GZ216267...\n",
       "8407    https://m.lianjia.com/chuzu/gz/apartment/layou...\n",
       "8408    https://m.lianjia.com/chuzu/gz/zufang/GZ202798...\n",
       "Name: url, Length: 8409, dtype: object"
      ]
     },
     "execution_count": 284,
     "metadata": {},
     "output_type": "execute_result"
    }
   ],
   "source": [
    "zufang.url"
   ]
  },
  {
   "cell_type": "code",
   "execution_count": 288,
   "metadata": {},
   "outputs": [
    {
     "data": {
      "text/html": [
       "<div>\n",
       "<style scoped>\n",
       "    .dataframe tbody tr th:only-of-type {\n",
       "        vertical-align: middle;\n",
       "    }\n",
       "\n",
       "    .dataframe tbody tr th {\n",
       "        vertical-align: top;\n",
       "    }\n",
       "\n",
       "    .dataframe thead th {\n",
       "        text-align: right;\n",
       "    }\n",
       "</style>\n",
       "<table border=\"1\" class=\"dataframe\">\n",
       "  <thead>\n",
       "    <tr style=\"text-align: right;\">\n",
       "      <th></th>\n",
       "      <th>bathroom_num</th>\n",
       "      <th>bedroom_num</th>\n",
       "      <th>bizcircle_name</th>\n",
       "      <th>city</th>\n",
       "      <th>dist</th>\n",
       "      <th>distance</th>\n",
       "      <th>frame_orientation</th>\n",
       "      <th>hall_num</th>\n",
       "      <th>house_tag</th>\n",
       "      <th>house_title</th>\n",
       "      <th>rent_area</th>\n",
       "      <th>rent_price_listing</th>\n",
       "      <th>rent_price_unit</th>\n",
       "      <th>resblock_name</th>\n",
       "      <th>type</th>\n",
       "      <th>url</th>\n",
       "    </tr>\n",
       "  </thead>\n",
       "  <tbody>\n",
       "    <tr>\n",
       "      <th>0</th>\n",
       "      <td>1</td>\n",
       "      <td>2</td>\n",
       "      <td>西罗园</td>\n",
       "      <td>北京</td>\n",
       "      <td>丰台</td>\n",
       "      <td>1101.0</td>\n",
       "      <td>西南</td>\n",
       "      <td>1</td>\n",
       "      <td>近地铁 集中供暖</td>\n",
       "      <td>整租 · 南三环边木樨园桥西宝汇苑带车位西南向两居室！https://m.lianjia.c...</td>\n",
       "      <td>72</td>\n",
       "      <td>6000</td>\n",
       "      <td>元/月</td>\n",
       "      <td>宝汇苑</td>\n",
       "      <td>整租</td>\n",
       "      <td>https://m.lianjia.com/chuzu/bj/zufang/BJ218966...</td>\n",
       "    </tr>\n",
       "    <tr>\n",
       "      <th>1</th>\n",
       "      <td>2</td>\n",
       "      <td>3</td>\n",
       "      <td>通州北苑</td>\n",
       "      <td>北京</td>\n",
       "      <td>朝阳</td>\n",
       "      <td>132.0</td>\n",
       "      <td>东南</td>\n",
       "      <td>2</td>\n",
       "      <td>近地铁 集中供暖</td>\n",
       "      <td>天时名苑 3室2厅 11000元https://m.lianjia.com/chuzu/bj...</td>\n",
       "      <td>153</td>\n",
       "      <td>11000</td>\n",
       "      <td>元/月</td>\n",
       "      <td>天时名苑</td>\n",
       "      <td>整租</td>\n",
       "      <td>https://m.lianjia.com/chuzu/bj/zufang/BJ219100...</td>\n",
       "    </tr>\n",
       "    <tr>\n",
       "      <th>2</th>\n",
       "      <td>2</td>\n",
       "      <td>3</td>\n",
       "      <td>朝阳公园</td>\n",
       "      <td>北京</td>\n",
       "      <td>朝阳</td>\n",
       "      <td>296.0</td>\n",
       "      <td>东北</td>\n",
       "      <td>2</td>\n",
       "      <td>近地铁 精装 双卫生间</td>\n",
       "      <td>整租 · 丽水嘉园 3室2厅 16300元https://m.lianjia.com/chu...</td>\n",
       "      <td>133</td>\n",
       "      <td>16300</td>\n",
       "      <td>元/月</td>\n",
       "      <td>丽水嘉园</td>\n",
       "      <td>整租</td>\n",
       "      <td>https://m.lianjia.com/chuzu/bj/zufang/BJ217730...</td>\n",
       "    </tr>\n",
       "    <tr>\n",
       "      <th>3</th>\n",
       "      <td>1</td>\n",
       "      <td>2</td>\n",
       "      <td>六铺炕</td>\n",
       "      <td>北京</td>\n",
       "      <td>西城</td>\n",
       "      <td>1177.0</td>\n",
       "      <td>南 北</td>\n",
       "      <td>1</td>\n",
       "      <td>精装 集中供暖 随时看房</td>\n",
       "      <td>整租 · 黄寺大街24号院精装修两居室 南北通透 中间楼层https://m.lianjia...</td>\n",
       "      <td>60</td>\n",
       "      <td>8500</td>\n",
       "      <td>元/月</td>\n",
       "      <td>黄寺大街24号院</td>\n",
       "      <td>整租</td>\n",
       "      <td>https://m.lianjia.com/chuzu/bj/zufang/BJ211269...</td>\n",
       "    </tr>\n",
       "    <tr>\n",
       "      <th>4</th>\n",
       "      <td>1</td>\n",
       "      <td>2</td>\n",
       "      <td>科技园区</td>\n",
       "      <td>北京</td>\n",
       "      <td>丰台</td>\n",
       "      <td>993.0</td>\n",
       "      <td>南 北</td>\n",
       "      <td>1</td>\n",
       "      <td>近地铁 精装 集中供暖</td>\n",
       "      <td>整租 · 京投银泰万科西华府 2室1厅 7300元https://m.lianjia.com...</td>\n",
       "      <td>83</td>\n",
       "      <td>7300</td>\n",
       "      <td>元/月</td>\n",
       "      <td>京投银泰万科西华府</td>\n",
       "      <td>整租</td>\n",
       "      <td>https://m.lianjia.com/chuzu/bj/zufang/BJ212014...</td>\n",
       "    </tr>\n",
       "  </tbody>\n",
       "</table>\n",
       "</div>"
      ],
      "text/plain": [
       "   bathroom_num  bedroom_num bizcircle_name city dist  distance  \\\n",
       "0             1            2            西罗园   北京   丰台    1101.0   \n",
       "1             2            3           通州北苑   北京   朝阳     132.0   \n",
       "2             2            3           朝阳公园   北京   朝阳     296.0   \n",
       "3             1            2            六铺炕   北京   西城    1177.0   \n",
       "4             1            2           科技园区   北京   丰台     993.0   \n",
       "\n",
       "  frame_orientation  hall_num     house_tag  \\\n",
       "0                西南         1      近地铁 集中供暖   \n",
       "1                东南         2      近地铁 集中供暖   \n",
       "2                东北         2   近地铁 精装 双卫生间   \n",
       "3               南 北         1  精装 集中供暖 随时看房   \n",
       "4               南 北         1   近地铁 精装 集中供暖   \n",
       "\n",
       "                                         house_title rent_area  \\\n",
       "0  整租 · 南三环边木樨园桥西宝汇苑带车位西南向两居室！https://m.lianjia.c...        72   \n",
       "1  天时名苑 3室2厅 11000元https://m.lianjia.com/chuzu/bj...       153   \n",
       "2  整租 · 丽水嘉园 3室2厅 16300元https://m.lianjia.com/chu...       133   \n",
       "3  整租 · 黄寺大街24号院精装修两居室 南北通透 中间楼层https://m.lianjia...        60   \n",
       "4  整租 · 京投银泰万科西华府 2室1厅 7300元https://m.lianjia.com...        83   \n",
       "\n",
       "  rent_price_listing rent_price_unit resblock_name type  \\\n",
       "0               6000             元/月           宝汇苑   整租   \n",
       "1              11000             元/月          天时名苑   整租   \n",
       "2              16300             元/月          丽水嘉园   整租   \n",
       "3               8500             元/月      黄寺大街24号院   整租   \n",
       "4               7300             元/月     京投银泰万科西华府   整租   \n",
       "\n",
       "                                                 url  \n",
       "0  https://m.lianjia.com/chuzu/bj/zufang/BJ218966...  \n",
       "1  https://m.lianjia.com/chuzu/bj/zufang/BJ219100...  \n",
       "2  https://m.lianjia.com/chuzu/bj/zufang/BJ217730...  \n",
       "3  https://m.lianjia.com/chuzu/bj/zufang/BJ211269...  \n",
       "4  https://m.lianjia.com/chuzu/bj/zufang/BJ212014...  "
      ]
     },
     "execution_count": 288,
     "metadata": {},
     "output_type": "execute_result"
    }
   ],
   "source": [
    "zufang.head()"
   ]
  },
  {
   "cell_type": "code",
   "execution_count": 289,
   "metadata": {},
   "outputs": [],
   "source": [
    "def str_concat(a,b):\n",
    "    return str(a)+'室'+str(b)+'厅'"
   ]
  },
  {
   "cell_type": "code",
   "execution_count": 290,
   "metadata": {},
   "outputs": [
    {
     "data": {
      "text/plain": [
       "'1室2厅'"
      ]
     },
     "execution_count": 290,
     "metadata": {},
     "output_type": "execute_result"
    }
   ],
   "source": [
    "str_concat(1,2)"
   ]
  },
  {
   "cell_type": "code",
   "execution_count": 300,
   "metadata": {},
   "outputs": [
    {
     "data": {
      "text/html": [
       "<div>\n",
       "<style scoped>\n",
       "    .dataframe tbody tr th:only-of-type {\n",
       "        vertical-align: middle;\n",
       "    }\n",
       "\n",
       "    .dataframe tbody tr th {\n",
       "        vertical-align: top;\n",
       "    }\n",
       "\n",
       "    .dataframe thead th {\n",
       "        text-align: right;\n",
       "    }\n",
       "</style>\n",
       "<table border=\"1\" class=\"dataframe\">\n",
       "  <thead>\n",
       "    <tr style=\"text-align: right;\">\n",
       "      <th></th>\n",
       "      <th>bathroom_num</th>\n",
       "      <th>bedroom_num</th>\n",
       "      <th>bizcircle_name</th>\n",
       "      <th>city</th>\n",
       "      <th>dist</th>\n",
       "      <th>distance</th>\n",
       "      <th>frame_orientation</th>\n",
       "      <th>hall_num</th>\n",
       "      <th>house_tag</th>\n",
       "      <th>house_title</th>\n",
       "      <th>rent_area</th>\n",
       "      <th>rent_price_listing</th>\n",
       "      <th>rent_price_unit</th>\n",
       "      <th>resblock_name</th>\n",
       "      <th>type</th>\n",
       "      <th>户型</th>\n",
       "    </tr>\n",
       "  </thead>\n",
       "  <tbody>\n",
       "    <tr>\n",
       "      <th>0</th>\n",
       "      <td>1</td>\n",
       "      <td>2</td>\n",
       "      <td>西罗园</td>\n",
       "      <td>北京</td>\n",
       "      <td>丰台</td>\n",
       "      <td>1101.0</td>\n",
       "      <td>西南</td>\n",
       "      <td>1</td>\n",
       "      <td>近地铁 集中供暖</td>\n",
       "      <td>整租 · 南三环边木樨园桥西宝汇苑带车位西南向两居室！https://m.lianjia.c...</td>\n",
       "      <td>72</td>\n",
       "      <td>6000</td>\n",
       "      <td>元/月</td>\n",
       "      <td>宝汇苑</td>\n",
       "      <td>整租</td>\n",
       "      <td>2室1厅</td>\n",
       "    </tr>\n",
       "    <tr>\n",
       "      <th>1</th>\n",
       "      <td>2</td>\n",
       "      <td>3</td>\n",
       "      <td>通州北苑</td>\n",
       "      <td>北京</td>\n",
       "      <td>朝阳</td>\n",
       "      <td>132.0</td>\n",
       "      <td>东南</td>\n",
       "      <td>2</td>\n",
       "      <td>近地铁 集中供暖</td>\n",
       "      <td>天时名苑 3室2厅 11000元https://m.lianjia.com/chuzu/bj...</td>\n",
       "      <td>153</td>\n",
       "      <td>11000</td>\n",
       "      <td>元/月</td>\n",
       "      <td>天时名苑</td>\n",
       "      <td>整租</td>\n",
       "      <td>3室2厅</td>\n",
       "    </tr>\n",
       "    <tr>\n",
       "      <th>2</th>\n",
       "      <td>2</td>\n",
       "      <td>3</td>\n",
       "      <td>朝阳公园</td>\n",
       "      <td>北京</td>\n",
       "      <td>朝阳</td>\n",
       "      <td>296.0</td>\n",
       "      <td>东北</td>\n",
       "      <td>2</td>\n",
       "      <td>近地铁 精装 双卫生间</td>\n",
       "      <td>整租 · 丽水嘉园 3室2厅 16300元https://m.lianjia.com/chu...</td>\n",
       "      <td>133</td>\n",
       "      <td>16300</td>\n",
       "      <td>元/月</td>\n",
       "      <td>丽水嘉园</td>\n",
       "      <td>整租</td>\n",
       "      <td>3室2厅</td>\n",
       "    </tr>\n",
       "    <tr>\n",
       "      <th>3</th>\n",
       "      <td>1</td>\n",
       "      <td>2</td>\n",
       "      <td>六铺炕</td>\n",
       "      <td>北京</td>\n",
       "      <td>西城</td>\n",
       "      <td>1177.0</td>\n",
       "      <td>南 北</td>\n",
       "      <td>1</td>\n",
       "      <td>精装 集中供暖 随时看房</td>\n",
       "      <td>整租 · 黄寺大街24号院精装修两居室 南北通透 中间楼层https://m.lianjia...</td>\n",
       "      <td>60</td>\n",
       "      <td>8500</td>\n",
       "      <td>元/月</td>\n",
       "      <td>黄寺大街24号院</td>\n",
       "      <td>整租</td>\n",
       "      <td>2室1厅</td>\n",
       "    </tr>\n",
       "    <tr>\n",
       "      <th>4</th>\n",
       "      <td>1</td>\n",
       "      <td>2</td>\n",
       "      <td>科技园区</td>\n",
       "      <td>北京</td>\n",
       "      <td>丰台</td>\n",
       "      <td>993.0</td>\n",
       "      <td>南 北</td>\n",
       "      <td>1</td>\n",
       "      <td>近地铁 精装 集中供暖</td>\n",
       "      <td>整租 · 京投银泰万科西华府 2室1厅 7300元https://m.lianjia.com...</td>\n",
       "      <td>83</td>\n",
       "      <td>7300</td>\n",
       "      <td>元/月</td>\n",
       "      <td>京投银泰万科西华府</td>\n",
       "      <td>整租</td>\n",
       "      <td>2室1厅</td>\n",
       "    </tr>\n",
       "  </tbody>\n",
       "</table>\n",
       "</div>"
      ],
      "text/plain": [
       "   bathroom_num  bedroom_num bizcircle_name city dist  distance  \\\n",
       "0             1            2            西罗园   北京   丰台    1101.0   \n",
       "1             2            3           通州北苑   北京   朝阳     132.0   \n",
       "2             2            3           朝阳公园   北京   朝阳     296.0   \n",
       "3             1            2            六铺炕   北京   西城    1177.0   \n",
       "4             1            2           科技园区   北京   丰台     993.0   \n",
       "\n",
       "  frame_orientation  hall_num     house_tag  \\\n",
       "0                西南         1      近地铁 集中供暖   \n",
       "1                东南         2      近地铁 集中供暖   \n",
       "2                东北         2   近地铁 精装 双卫生间   \n",
       "3               南 北         1  精装 集中供暖 随时看房   \n",
       "4               南 北         1   近地铁 精装 集中供暖   \n",
       "\n",
       "                                         house_title rent_area  \\\n",
       "0  整租 · 南三环边木樨园桥西宝汇苑带车位西南向两居室！https://m.lianjia.c...        72   \n",
       "1  天时名苑 3室2厅 11000元https://m.lianjia.com/chuzu/bj...       153   \n",
       "2  整租 · 丽水嘉园 3室2厅 16300元https://m.lianjia.com/chu...       133   \n",
       "3  整租 · 黄寺大街24号院精装修两居室 南北通透 中间楼层https://m.lianjia...        60   \n",
       "4  整租 · 京投银泰万科西华府 2室1厅 7300元https://m.lianjia.com...        83   \n",
       "\n",
       "  rent_price_listing rent_price_unit resblock_name type    户型  \n",
       "0               6000             元/月           宝汇苑   整租  2室1厅  \n",
       "1              11000             元/月          天时名苑   整租  3室2厅  \n",
       "2              16300             元/月          丽水嘉园   整租  3室2厅  \n",
       "3               8500             元/月      黄寺大街24号院   整租  2室1厅  \n",
       "4               7300             元/月     京投银泰万科西华府   整租  2室1厅  "
      ]
     },
     "execution_count": 300,
     "metadata": {},
     "output_type": "execute_result"
    }
   ],
   "source": [
    "zufang['户型']=zufang.apply(lambda x:str_concat(x.bedroom_num,x.bathroom_num),axis=1)\n",
    "zufang.head()"
   ]
  },
  {
   "cell_type": "markdown",
   "metadata": {},
   "source": [
    "## 评论数据 "
   ]
  },
  {
   "cell_type": "code",
   "execution_count": 302,
   "metadata": {},
   "outputs": [
    {
     "data": {
      "text/html": [
       "<div>\n",
       "<style scoped>\n",
       "    .dataframe tbody tr th:only-of-type {\n",
       "        vertical-align: middle;\n",
       "    }\n",
       "\n",
       "    .dataframe tbody tr th {\n",
       "        vertical-align: top;\n",
       "    }\n",
       "\n",
       "    .dataframe thead th {\n",
       "        text-align: right;\n",
       "    }\n",
       "</style>\n",
       "<table border=\"1\" class=\"dataframe\">\n",
       "  <thead>\n",
       "    <tr style=\"text-align: right;\">\n",
       "      <th></th>\n",
       "      <th>content</th>\n",
       "      <th>creationTime</th>\n",
       "      <th>nickname</th>\n",
       "      <th>referenceName</th>\n",
       "      <th>content_type</th>\n",
       "    </tr>\n",
       "  </thead>\n",
       "  <tbody>\n",
       "    <tr>\n",
       "      <th>0</th>\n",
       "      <td>东西收到这么久，都忘了去好评，美的大品牌，值得信赖，东西整体来看，个人感觉还不错，没有出现什...</td>\n",
       "      <td>2017-04-17 13:01:54</td>\n",
       "      <td>鑫***辰</td>\n",
       "      <td>美的（Midea）60升预约洗浴 无线遥控 电热水器 F60-15WB5(Y)</td>\n",
       "      <td>pos</td>\n",
       "    </tr>\n",
       "    <tr>\n",
       "      <th>1</th>\n",
       "      <td>安装师傅很给力，热水器也好用，感谢美的。</td>\n",
       "      <td>2017-04-17 10:45:33</td>\n",
       "      <td>切***药</td>\n",
       "      <td>美的（Midea）60升预约洗浴 无线遥控 电热水器 F60-15WB5(Y)</td>\n",
       "      <td>pos</td>\n",
       "    </tr>\n",
       "    <tr>\n",
       "      <th>2</th>\n",
       "      <td>还没安装，基本满意</td>\n",
       "      <td>2017-04-17 10:58:33</td>\n",
       "      <td>j***x</td>\n",
       "      <td>美的（Midea）60升预约洗浴 无线遥控 电热水器 F60-15WB5(Y)</td>\n",
       "      <td>pos</td>\n",
       "    </tr>\n",
       "    <tr>\n",
       "      <th>3</th>\n",
       "      <td>电热水器收到了，京东自营商品就是好，发货速度快，品质有保障，安装效果好，宝贝非常喜欢，冬天可...</td>\n",
       "      <td>2017-10-18 20:22:33</td>\n",
       "      <td>j***2</td>\n",
       "      <td>美的（Midea）60升预约洗浴 无线遥控 电热水器 F60-15WB5(Y)</td>\n",
       "      <td>pos</td>\n",
       "    </tr>\n",
       "    <tr>\n",
       "      <th>4</th>\n",
       "      <td>用了几次才来评价，对产品非常满意，加热快保温时间长，售后服务特别好，主动打电话询问送货情况帮...</td>\n",
       "      <td>2017-04-17 09:19:16</td>\n",
       "      <td>j***6</td>\n",
       "      <td>美的（Midea）60升预约洗浴 无线遥控 电热水器 F60-15WB5(Y)</td>\n",
       "      <td>pos</td>\n",
       "    </tr>\n",
       "  </tbody>\n",
       "</table>\n",
       "</div>"
      ],
      "text/plain": [
       "                                             content         creationTime  \\\n",
       "0  东西收到这么久，都忘了去好评，美的大品牌，值得信赖，东西整体来看，个人感觉还不错，没有出现什...  2017-04-17 13:01:54   \n",
       "1                               安装师傅很给力，热水器也好用，感谢美的。  2017-04-17 10:45:33   \n",
       "2                                          还没安装，基本满意  2017-04-17 10:58:33   \n",
       "3  电热水器收到了，京东自营商品就是好，发货速度快，品质有保障，安装效果好，宝贝非常喜欢，冬天可...  2017-10-18 20:22:33   \n",
       "4  用了几次才来评价，对产品非常满意，加热快保温时间长，售后服务特别好，主动打电话询问送货情况帮...  2017-04-17 09:19:16   \n",
       "\n",
       "  nickname                            referenceName content_type  \n",
       "0    鑫***辰  美的（Midea）60升预约洗浴 无线遥控 电热水器 F60-15WB5(Y)          pos  \n",
       "1    切***药  美的（Midea）60升预约洗浴 无线遥控 电热水器 F60-15WB5(Y)          pos  \n",
       "2    j***x  美的（Midea）60升预约洗浴 无线遥控 电热水器 F60-15WB5(Y)          pos  \n",
       "3    j***2  美的（Midea）60升预约洗浴 无线遥控 电热水器 F60-15WB5(Y)          pos  \n",
       "4    j***6  美的（Midea）60升预约洗浴 无线遥控 电热水器 F60-15WB5(Y)          pos  "
      ]
     },
     "execution_count": 302,
     "metadata": {},
     "output_type": "execute_result"
    }
   ],
   "source": [
    "pinlun=pd.read_csv('评论.csv')\n",
    "pinlun.head()"
   ]
  },
  {
   "cell_type": "code",
   "execution_count": 308,
   "metadata": {},
   "outputs": [
    {
     "data": {
      "text/html": [
       "<div>\n",
       "<style scoped>\n",
       "    .dataframe tbody tr th:only-of-type {\n",
       "        vertical-align: middle;\n",
       "    }\n",
       "\n",
       "    .dataframe tbody tr th {\n",
       "        vertical-align: top;\n",
       "    }\n",
       "\n",
       "    .dataframe thead th {\n",
       "        text-align: right;\n",
       "    }\n",
       "</style>\n",
       "<table border=\"1\" class=\"dataframe\">\n",
       "  <thead>\n",
       "    <tr style=\"text-align: right;\">\n",
       "      <th></th>\n",
       "      <th>0</th>\n",
       "    </tr>\n",
       "  </thead>\n",
       "  <tbody>\n",
       "    <tr>\n",
       "      <th>0</th>\n",
       "      <td>13:01:54</td>\n",
       "    </tr>\n",
       "    <tr>\n",
       "      <th>1</th>\n",
       "      <td>10:45:33</td>\n",
       "    </tr>\n",
       "    <tr>\n",
       "      <th>2</th>\n",
       "      <td>10:58:33</td>\n",
       "    </tr>\n",
       "    <tr>\n",
       "      <th>3</th>\n",
       "      <td>20:22:33</td>\n",
       "    </tr>\n",
       "    <tr>\n",
       "      <th>4</th>\n",
       "      <td>09:19:16</td>\n",
       "    </tr>\n",
       "  </tbody>\n",
       "</table>\n",
       "</div>"
      ],
      "text/plain": [
       "          0\n",
       "0  13:01:54\n",
       "1  10:45:33\n",
       "2  10:58:33\n",
       "3  20:22:33\n",
       "4  09:19:16"
      ]
     },
     "execution_count": 308,
     "metadata": {},
     "output_type": "execute_result"
    }
   ],
   "source": [
    "#什么是用户的评论时间\n",
    "time=pinlun.creationTime.str.extract(' (.*)')\n",
    "time.head()"
   ]
  },
  {
   "cell_type": "code",
   "execution_count": 311,
   "metadata": {},
   "outputs": [
    {
     "data": {
      "text/html": [
       "<div>\n",
       "<style scoped>\n",
       "    .dataframe tbody tr th:only-of-type {\n",
       "        vertical-align: middle;\n",
       "    }\n",
       "\n",
       "    .dataframe tbody tr th {\n",
       "        vertical-align: top;\n",
       "    }\n",
       "\n",
       "    .dataframe thead th {\n",
       "        text-align: right;\n",
       "    }\n",
       "</style>\n",
       "<table border=\"1\" class=\"dataframe\">\n",
       "  <thead>\n",
       "    <tr style=\"text-align: right;\">\n",
       "      <th></th>\n",
       "      <th>content</th>\n",
       "      <th>creationTime</th>\n",
       "      <th>nickname</th>\n",
       "      <th>referenceName</th>\n",
       "      <th>content_type</th>\n",
       "      <th>hour</th>\n",
       "    </tr>\n",
       "  </thead>\n",
       "  <tbody>\n",
       "    <tr>\n",
       "      <th>0</th>\n",
       "      <td>东西收到这么久，都忘了去好评，美的大品牌，值得信赖，东西整体来看，个人感觉还不错，没有出现什...</td>\n",
       "      <td>2017-04-17 13:01:54</td>\n",
       "      <td>鑫***辰</td>\n",
       "      <td>美的（Midea）60升预约洗浴 无线遥控 电热水器 F60-15WB5(Y)</td>\n",
       "      <td>pos</td>\n",
       "      <td>13</td>\n",
       "    </tr>\n",
       "    <tr>\n",
       "      <th>1</th>\n",
       "      <td>安装师傅很给力，热水器也好用，感谢美的。</td>\n",
       "      <td>2017-04-17 10:45:33</td>\n",
       "      <td>切***药</td>\n",
       "      <td>美的（Midea）60升预约洗浴 无线遥控 电热水器 F60-15WB5(Y)</td>\n",
       "      <td>pos</td>\n",
       "      <td>10</td>\n",
       "    </tr>\n",
       "    <tr>\n",
       "      <th>2</th>\n",
       "      <td>还没安装，基本满意</td>\n",
       "      <td>2017-04-17 10:58:33</td>\n",
       "      <td>j***x</td>\n",
       "      <td>美的（Midea）60升预约洗浴 无线遥控 电热水器 F60-15WB5(Y)</td>\n",
       "      <td>pos</td>\n",
       "      <td>10</td>\n",
       "    </tr>\n",
       "    <tr>\n",
       "      <th>3</th>\n",
       "      <td>电热水器收到了，京东自营商品就是好，发货速度快，品质有保障，安装效果好，宝贝非常喜欢，冬天可...</td>\n",
       "      <td>2017-10-18 20:22:33</td>\n",
       "      <td>j***2</td>\n",
       "      <td>美的（Midea）60升预约洗浴 无线遥控 电热水器 F60-15WB5(Y)</td>\n",
       "      <td>pos</td>\n",
       "      <td>20</td>\n",
       "    </tr>\n",
       "    <tr>\n",
       "      <th>4</th>\n",
       "      <td>用了几次才来评价，对产品非常满意，加热快保温时间长，售后服务特别好，主动打电话询问送货情况帮...</td>\n",
       "      <td>2017-04-17 09:19:16</td>\n",
       "      <td>j***6</td>\n",
       "      <td>美的（Midea）60升预约洗浴 无线遥控 电热水器 F60-15WB5(Y)</td>\n",
       "      <td>pos</td>\n",
       "      <td>09</td>\n",
       "    </tr>\n",
       "  </tbody>\n",
       "</table>\n",
       "</div>"
      ],
      "text/plain": [
       "                                             content         creationTime  \\\n",
       "0  东西收到这么久，都忘了去好评，美的大品牌，值得信赖，东西整体来看，个人感觉还不错，没有出现什...  2017-04-17 13:01:54   \n",
       "1                               安装师傅很给力，热水器也好用，感谢美的。  2017-04-17 10:45:33   \n",
       "2                                          还没安装，基本满意  2017-04-17 10:58:33   \n",
       "3  电热水器收到了，京东自营商品就是好，发货速度快，品质有保障，安装效果好，宝贝非常喜欢，冬天可...  2017-10-18 20:22:33   \n",
       "4  用了几次才来评价，对产品非常满意，加热快保温时间长，售后服务特别好，主动打电话询问送货情况帮...  2017-04-17 09:19:16   \n",
       "\n",
       "  nickname                            referenceName content_type hour  \n",
       "0    鑫***辰  美的（Midea）60升预约洗浴 无线遥控 电热水器 F60-15WB5(Y)          pos   13  \n",
       "1    切***药  美的（Midea）60升预约洗浴 无线遥控 电热水器 F60-15WB5(Y)          pos   10  \n",
       "2    j***x  美的（Midea）60升预约洗浴 无线遥控 电热水器 F60-15WB5(Y)          pos   10  \n",
       "3    j***2  美的（Midea）60升预约洗浴 无线遥控 电热水器 F60-15WB5(Y)          pos   20  \n",
       "4    j***6  美的（Midea）60升预约洗浴 无线遥控 电热水器 F60-15WB5(Y)          pos   09  "
      ]
     },
     "execution_count": 311,
     "metadata": {},
     "output_type": "execute_result"
    }
   ],
   "source": [
    "pinlun['hour']=time[0].str.extract('^(\\d+):')\n",
    "pinlun.head()"
   ]
  },
  {
   "cell_type": "code",
   "execution_count": 324,
   "metadata": {
    "collapsed": true
   },
   "outputs": [
    {
     "data": {
      "text/html": [
       "<div>\n",
       "<style scoped>\n",
       "    .dataframe tbody tr th:only-of-type {\n",
       "        vertical-align: middle;\n",
       "    }\n",
       "\n",
       "    .dataframe tbody tr th {\n",
       "        vertical-align: top;\n",
       "    }\n",
       "\n",
       "    .dataframe thead th {\n",
       "        text-align: right;\n",
       "    }\n",
       "</style>\n",
       "<table border=\"1\" class=\"dataframe\">\n",
       "  <thead>\n",
       "    <tr style=\"text-align: right;\">\n",
       "      <th></th>\n",
       "      <th>content</th>\n",
       "      <th>creationTime</th>\n",
       "      <th>nickname</th>\n",
       "      <th>referenceName</th>\n",
       "      <th>content_type</th>\n",
       "    </tr>\n",
       "    <tr>\n",
       "      <th>hour</th>\n",
       "      <th></th>\n",
       "      <th></th>\n",
       "      <th></th>\n",
       "      <th></th>\n",
       "      <th></th>\n",
       "    </tr>\n",
       "  </thead>\n",
       "  <tbody>\n",
       "    <tr>\n",
       "      <th>00</th>\n",
       "      <td>35</td>\n",
       "      <td>35</td>\n",
       "      <td>35</td>\n",
       "      <td>35</td>\n",
       "      <td>35</td>\n",
       "    </tr>\n",
       "    <tr>\n",
       "      <th>01</th>\n",
       "      <td>17</td>\n",
       "      <td>17</td>\n",
       "      <td>17</td>\n",
       "      <td>17</td>\n",
       "      <td>17</td>\n",
       "    </tr>\n",
       "    <tr>\n",
       "      <th>02</th>\n",
       "      <td>5</td>\n",
       "      <td>5</td>\n",
       "      <td>5</td>\n",
       "      <td>5</td>\n",
       "      <td>5</td>\n",
       "    </tr>\n",
       "    <tr>\n",
       "      <th>03</th>\n",
       "      <td>5</td>\n",
       "      <td>5</td>\n",
       "      <td>5</td>\n",
       "      <td>5</td>\n",
       "      <td>5</td>\n",
       "    </tr>\n",
       "    <tr>\n",
       "      <th>04</th>\n",
       "      <td>5</td>\n",
       "      <td>5</td>\n",
       "      <td>5</td>\n",
       "      <td>5</td>\n",
       "      <td>5</td>\n",
       "    </tr>\n",
       "    <tr>\n",
       "      <th>05</th>\n",
       "      <td>7</td>\n",
       "      <td>7</td>\n",
       "      <td>7</td>\n",
       "      <td>7</td>\n",
       "      <td>7</td>\n",
       "    </tr>\n",
       "    <tr>\n",
       "      <th>06</th>\n",
       "      <td>17</td>\n",
       "      <td>17</td>\n",
       "      <td>17</td>\n",
       "      <td>17</td>\n",
       "      <td>17</td>\n",
       "    </tr>\n",
       "    <tr>\n",
       "      <th>07</th>\n",
       "      <td>49</td>\n",
       "      <td>49</td>\n",
       "      <td>49</td>\n",
       "      <td>49</td>\n",
       "      <td>49</td>\n",
       "    </tr>\n",
       "    <tr>\n",
       "      <th>08</th>\n",
       "      <td>83</td>\n",
       "      <td>83</td>\n",
       "      <td>83</td>\n",
       "      <td>83</td>\n",
       "      <td>83</td>\n",
       "    </tr>\n",
       "    <tr>\n",
       "      <th>09</th>\n",
       "      <td>115</td>\n",
       "      <td>115</td>\n",
       "      <td>115</td>\n",
       "      <td>115</td>\n",
       "      <td>115</td>\n",
       "    </tr>\n",
       "    <tr>\n",
       "      <th>10</th>\n",
       "      <td>149</td>\n",
       "      <td>149</td>\n",
       "      <td>149</td>\n",
       "      <td>149</td>\n",
       "      <td>149</td>\n",
       "    </tr>\n",
       "    <tr>\n",
       "      <th>11</th>\n",
       "      <td>140</td>\n",
       "      <td>140</td>\n",
       "      <td>140</td>\n",
       "      <td>140</td>\n",
       "      <td>140</td>\n",
       "    </tr>\n",
       "    <tr>\n",
       "      <th>12</th>\n",
       "      <td>108</td>\n",
       "      <td>108</td>\n",
       "      <td>108</td>\n",
       "      <td>108</td>\n",
       "      <td>108</td>\n",
       "    </tr>\n",
       "    <tr>\n",
       "      <th>13</th>\n",
       "      <td>123</td>\n",
       "      <td>123</td>\n",
       "      <td>123</td>\n",
       "      <td>123</td>\n",
       "      <td>123</td>\n",
       "    </tr>\n",
       "    <tr>\n",
       "      <th>14</th>\n",
       "      <td>125</td>\n",
       "      <td>125</td>\n",
       "      <td>125</td>\n",
       "      <td>125</td>\n",
       "      <td>125</td>\n",
       "    </tr>\n",
       "    <tr>\n",
       "      <th>15</th>\n",
       "      <td>117</td>\n",
       "      <td>117</td>\n",
       "      <td>117</td>\n",
       "      <td>117</td>\n",
       "      <td>117</td>\n",
       "    </tr>\n",
       "    <tr>\n",
       "      <th>16</th>\n",
       "      <td>121</td>\n",
       "      <td>121</td>\n",
       "      <td>121</td>\n",
       "      <td>121</td>\n",
       "      <td>121</td>\n",
       "    </tr>\n",
       "    <tr>\n",
       "      <th>17</th>\n",
       "      <td>126</td>\n",
       "      <td>126</td>\n",
       "      <td>126</td>\n",
       "      <td>126</td>\n",
       "      <td>126</td>\n",
       "    </tr>\n",
       "    <tr>\n",
       "      <th>18</th>\n",
       "      <td>112</td>\n",
       "      <td>112</td>\n",
       "      <td>112</td>\n",
       "      <td>112</td>\n",
       "      <td>112</td>\n",
       "    </tr>\n",
       "    <tr>\n",
       "      <th>19</th>\n",
       "      <td>113</td>\n",
       "      <td>113</td>\n",
       "      <td>113</td>\n",
       "      <td>113</td>\n",
       "      <td>113</td>\n",
       "    </tr>\n",
       "    <tr>\n",
       "      <th>20</th>\n",
       "      <td>132</td>\n",
       "      <td>132</td>\n",
       "      <td>132</td>\n",
       "      <td>132</td>\n",
       "      <td>132</td>\n",
       "    </tr>\n",
       "    <tr>\n",
       "      <th>21</th>\n",
       "      <td>125</td>\n",
       "      <td>125</td>\n",
       "      <td>125</td>\n",
       "      <td>125</td>\n",
       "      <td>125</td>\n",
       "    </tr>\n",
       "    <tr>\n",
       "      <th>22</th>\n",
       "      <td>103</td>\n",
       "      <td>103</td>\n",
       "      <td>103</td>\n",
       "      <td>103</td>\n",
       "      <td>103</td>\n",
       "    </tr>\n",
       "    <tr>\n",
       "      <th>23</th>\n",
       "      <td>68</td>\n",
       "      <td>68</td>\n",
       "      <td>68</td>\n",
       "      <td>68</td>\n",
       "      <td>68</td>\n",
       "    </tr>\n",
       "  </tbody>\n",
       "</table>\n",
       "</div>"
      ],
      "text/plain": [
       "      content  creationTime  nickname  referenceName  content_type\n",
       "hour                                                              \n",
       "00         35            35        35             35            35\n",
       "01         17            17        17             17            17\n",
       "02          5             5         5              5             5\n",
       "03          5             5         5              5             5\n",
       "04          5             5         5              5             5\n",
       "05          7             7         7              7             7\n",
       "06         17            17        17             17            17\n",
       "07         49            49        49             49            49\n",
       "08         83            83        83             83            83\n",
       "09        115           115       115            115           115\n",
       "10        149           149       149            149           149\n",
       "11        140           140       140            140           140\n",
       "12        108           108       108            108           108\n",
       "13        123           123       123            123           123\n",
       "14        125           125       125            125           125\n",
       "15        117           117       117            117           117\n",
       "16        121           121       121            121           121\n",
       "17        126           126       126            126           126\n",
       "18        112           112       112            112           112\n",
       "19        113           113       113            113           113\n",
       "20        132           132       132            132           132\n",
       "21        125           125       125            125           125\n",
       "22        103           103       103            103           103\n",
       "23         68            68        68             68            68"
      ]
     },
     "execution_count": 324,
     "metadata": {},
     "output_type": "execute_result"
    }
   ],
   "source": [
    "height=pinlun.groupby('hour').count()\n",
    "height"
   ]
  },
  {
   "cell_type": "code",
   "execution_count": 316,
   "metadata": {},
   "outputs": [],
   "source": [
    "import matplotlib.pyplot as plt\n",
    "%matplotlib inline"
   ]
  },
  {
   "cell_type": "code",
   "execution_count": 332,
   "metadata": {},
   "outputs": [
    {
     "data": {
      "image/png": "[encoded data removed]",
      "text/plain": [
       "<Figure size 648x288 with 1 Axes>"
      ]
     },
     "metadata": {
      "needs_background": "light"
     },
     "output_type": "display_data"
    }
   ],
   "source": [
    "fig,ax=plt.subplots(figsize=(9,4))\n",
    "plt.bar(height.index,height.content)\n",
    "#设置边框\n",
    "ax.spines['right'].set_color(None)\n",
    "ax.spines['top'].set_color(None)"
   ]
  },
  {
   "cell_type": "markdown",
   "metadata": {},
   "source": [
    "## 绘制词云图\n"
   ]
  },
  {
   "cell_type": "code",
   "execution_count": 338,
   "metadata": {},
   "outputs": [
    {
     "name": "stderr",
     "output_type": "stream",
     "text": [
      "Building prefix dict from the default dictionary ...\n",
      "Dumping model to file cache C:\\Users\\飘哥\\AppData\\Local\\Temp\\jieba.cache\n",
      "Loading model cost 0.683 seconds.\n",
      "Prefix dict has been built successfully.\n"
     ]
    },
    {
     "name": "stdout",
     "output_type": "stream",
     "text": [
      "我-爱-北京-天安-天安门-，-天安-天安门-门上-太阳-太阳升\n",
      "我-爱-北京-天安门-，-天安门-上-太阳升\n",
      "我-爱-北京-天安-天安门-，-天安-天安门-上-太阳-太阳升\n"
     ]
    }
   ],
   "source": [
    "import jieba\n",
    "\n",
    "data = '我爱北京天安门，天安门上太阳升'\n",
    "\n",
    "# cut_all = True 全模式切割\n",
    "s = jieba.cut(data,cut_all=True)\n",
    "r = '-'.join(s)\n",
    "print(r)\n",
    "\n",
    "\n",
    "# 精确模式\n",
    "s = jieba.cut(data,cut_all=False)\n",
    "r = '-'.join(s)\n",
    "print(r)\n",
    "\n",
    "# 搜索模式\n",
    "\n",
    "s = jieba.cut_for_search(data)\n",
    "r = '-'.join(s)\n",
    "print(r)"
   ]
  },
  {
   "cell_type": "code",
   "execution_count": 339,
   "metadata": {},
   "outputs": [],
   "source": [
    "### cut 返回的结果是一个生成器  \n",
    "\n",
    "### lcut   list_cut 返回结果是一个列表"
   ]
  },
  {
   "cell_type": "code",
   "execution_count": 340,
   "metadata": {},
   "outputs": [
    {
     "data": {
      "text/plain": [
       "['我', '爱', '北京', '天安门', '，', '天安门', '上', '太阳升']"
      ]
     },
     "execution_count": 340,
     "metadata": {},
     "output_type": "execute_result"
    }
   ],
   "source": [
    "s = jieba.lcut(data)\n",
    "s"
   ]
  },
  {
   "cell_type": "code",
   "execution_count": 354,
   "metadata": {},
   "outputs": [
    {
     "data": {
      "image/png": "[encoded data removed]",
      "text/plain": [
       "<PIL.PngImagePlugin.PngImageFile image mode=RGB size=400x200 at 0x28F4FE944C8>"
      ]
     },
     "metadata": {},
     "output_type": "display_data"
    }
   ],
   "source": [
    "#利用空格拼接到一起\n",
    "recomment = pinlun['content']\n",
    "text = ''\n",
    "for r in recomment:\n",
    "    if r == ' ':\n",
    "        continue\n",
    "    text += r\n",
    "data_cut = \" \".join(jieba.lcut(text))\n",
    "\n",
    "from wordcloud import WordCloud\n",
    "font = 'C:\\Windows\\Fonts\\simsun.ttc'\n",
    "w = WordCloud(font_path=font)\n",
    "w.generate(data_cut)\n",
    "\n",
    "image = w.to_file(\"评论词云图.png\")\n",
    "\n",
    "from PIL import Image\n",
    "display(Image.open(\"评论词云图.png\"))"
   ]
  },
  {
   "cell_type": "markdown",
   "metadata": {},
   "source": [
    "## 作业 "
   ]
  },
  {
   "cell_type": "markdown",
   "metadata": {},
   "source": [
    "- 网址：http://data.10jqka.com.cn/financial/yjyg/\n",
    "- 从抓取到数据可视化全流程的实现"
   ]
  },
  {
   "cell_type": "code",
   "execution_count": 2,
   "metadata": {},
   "outputs": [
    {
     "data": {
      "text/plain": [
       "'<!DOCTYPE html>\\n<html>\\n<head lang=\"en\">\\n    <meta http-equiv=\"Content-Type\" content=\"text/html; charset=gbk\" />\\n    <!–[if lte IE 8]>\\n    <meta http-equiv=\"X-UA-Compatible\" content=\"IE=EmulateIE7\" />\\n    <![endif]–>\\n    <!–[if IE 9]>\\n    <meta http-equiv=\"X-UA-Compatible\" content=\"IE=EmulateIE7;IE=9\"/>\\n    <![endif]–>\\n    <title>业绩预告_数据中心_同花顺财经</title>\\n    <meta name=\"Keywords\" content=\"业绩预告,业绩预增,中报业绩预告,年报业绩预告,业绩预减,净利润变动,两市业绩预告一览\" />\\n    <meta name=\"Description\" content=\"同花顺财经财报提供上市公司最新业绩预告、业绩预增、中报业绩预告及年报业绩预告，为投资者提供两市业绩预告一览和业绩预减、净利润变动等数据。\" />\\n            <link rel=\"stylesheet\" href=\"//s.thsi.cn/css/datacenter/financial/base.css\"/>\\r\\n    \\t\\t\\t\\t<link rel=\"stylesheet\" href=\"//s.thsi.cn/css/datacenter/financial/page-202008032148.min.css\"/>\\r\\n\\t\\t\\t    <link rel=\"stylesheet\" href=\"//s.thsi.cn/css/datacenter/iwcxg.css\"/>\\r\\n    <link rel=\"stylesheet\" href=\"//s.thsi.cn/css/datacenter/hqcss.css\"/>\\r\\n        \\t\\r\\n<style type=\"text/css\">\\r\\n\\r\\n    #footer{border-top:1px solid #777;clear:both;overflow:hidden;padding-top:10px;text-align:center;font-size:12px;line-height:24px;width:1200px;margin:10px auto;font-family:tahoma,arial;}\\r\\n    #footer p{margin:0;}\\r\\n    #footer p.c333{color:#333;}\\r\\n    #footer span{color:#999999;padding:0 10px;}\\r\\n    #footer a{line-height:24px;color:#000;text-decoration:none;}\\r\\n    #footer a:hover{color:#CC3300;text-decoration:none;}\\r\\n    #footer .smarterwiki-linkify{padding:0 14px;}\\r\\n    .logined_box{height: 68px;color: #fff;font-size: 14px;}\\r\\n    .logined_box a{display: block;height: 68px;float: left;line-height: 68px;color: #fff;  }\\r\\n    .login_box span,.logined_box span{float: left;line-height: 68px;margin: 0 5px;  }\\r\\n\\r\\n</style>\\r    <link rel=\"stylesheet\" href=\"http://s.thsi.cn/css/datacenter/financial/iwcxg_v2.css\"/>\\n</head>\\n<body>\\n\\n<script type=\"text/javascript\" src=\"//s.thsi.cn/js/chameleon/chameleon.min.1621775.js\"></script> <script type=\"text/javascript\">\\n         var thsInfo,clientCls,pageCls,adCls,rowCls,footerCls,fixCls,fixlhbCls,navCls,tipCls,prowCls,spanFrCls;\\n         try {\\n           //判断客户端版本\\n           var thsInfo = external.createObject(\\'Info\\');\\n         } catch (e) {}\\n         try {\\n             //判断远航版券商版本\\n             if (!thsInfo) {\\n                 var thsInfo = window.HevoCef && \\'IsHevoCef\\' in window.HevoCef;\\n             }\\n         } catch (e) {}\\n         function getQueryVariable(variable)\\n         {//获取url参数\\n                var query = window.location.search.substring(1);\\n                var vars = query.split(\"&\");\\n                for (var i=0;i<vars.length;i++) {\\n                        var pair = vars[i].split(\"=\");\\n                        if(pair[0] == variable){return pair[1];}\\n                }\\n                return(false);\\n         }\\n         thsInfo = thsInfo?thsInfo:getQueryVariable(\\'isclient\\');\\n         clientCls = thsInfo ? \\'<div class=\"header hide\">\\' :\\'<div class=\"header\">\\';\\n         pageCls = thsInfo ? \\'<div class=\"page-nav hide\">\\' :\\'<div class=\"page-nav\">\\';\\n         adCls = thsInfo ? \\'<div id=\"ad_box\" class=\"ad-box hide\">\\' :\\'<div id=\"ad_box\" class=\"ad-box\">\\';\\n         rowCls = thsInfo ? \\'<div class=\"clearfix hide\">\\' : \\'<div class=\"clearfix\">\\';\\n         footerCls = thsInfo ? \\'<div id=\"footer\" class=\"hide\"  style=\"margin-top: 35px;\">\\' : \\'<div id=\"footer\"  style=\"margin-top: 35px;\">\\';\\n         fixlhbCls = thsInfo ? \\'<div id=\"J_fixedbar\" class=\"fixedbar hide\">\\' : \\'<div id=\"J_fixedbar\" class=\"fixedbar\">\\';\\n         fixCls = thsInfo ? \\'<div class=\"fixedbar hide\">\\' : \\'<div class=\"fixedbar\">\\';\\n         navCls = thsInfo ? \\'<div class=\"page_nav hide\">\\' : \\'<div class=\"page_nav\">\\';\\n         tipCls = thsInfo ? \\'<p class=\"tip hide\">\\' : \\'<p class=\"tip\">\\';\\n         prowCls = thsInfo ? \\'<div class=\"page-row hide\">\\' : \\'<div class=\"page-row\">\\';\\n         spanFrCls = thsInfo ? \\'<span class=\"fr hide\" style=\"width: 315px;\">\\' : \\'<span class=\"fr\" style=\"width: 315px;\">\\';\\n          window.onload = function () {\\n            function checkQs (fn) {\\n              try {\\n                if (window.API) {\\n                  window.API.use({\\n                    method: \\'Passport.get\\',\\n                    data: \\'m_qs\\',\\n                    success: function (qsid) {\\n                      if (fn) fn(parseInt(qsid) < 800)\\n                    }\\n                  })\\n                } else {\\n                  var passport = external.createObject(\\'Passport\\');\\n                  var qsid = passport.get(\\'m_qs\\');\\n                  if (fn) fn(parseInt(qsid) < 800)\\n                }\\n              } catch (e) {\\n              }\\n            }\\n            function clientJumpToCode (stockcode) {\\n              market = stockcode.substring(0, 1);\\n              id = (market == 0 || market == 3 || market == 6) ? \"9354\" : \"12086\";\\n              try {\\n                if (window.API) {\\n                  window.API.use({\\n                    method: \\'Quote.switchPage\\',\\n                    data: {\\n                      \\'id\\': id,\\n                      \\'code\\': stockcode,\\n                      \\'period\\': \\'0\\'\\n                    }\\n                  })\\n                } else {\\n                  var a = external.createObject(\\'Quote\\');\\n                  var b = { \\'id\\': id, \\'code\\': stockcode, \\'period\\': \\'0\\' }\\n                  a.switchPage(b);\\n                }\\n              } catch (e) { }\\n            }\\n            function checkCode (url) {\\n              if (!url) return false\\n              var regs = [\\n                \\'[htps:\\\\/]+stockpage.10jqka.com.cn\\\\/([0-9]{6})[\\\\/a-z]*\\',\\n                \\'\\\\/market\\\\/rzrqgg\\\\/code\\\\/([0-9]{6})[\\\\/]*\\',\\n                \\'[htps:\\\\/]+data.10jqka.com.cn/market/longhu/code/([0-9]{6})[\\\\/]*\\',\\n                \\'[htps:\\\\/]+data.10jqka.com.cn/market/rzrqgg/code/([0-9]{6})[\\\\/]*\\'\\n              ]\\n              for (var i = 0; i < regs.length; i++) {\\n                var reg = regs[i]\\n                var thisReg = new RegExp(reg, \\'g\\')\\n                var matchRes = url.replace(thisReg, function ($0, $1, $2) { return $1 })\\n                if (matchRes && matchRes.match(/^[\\\\d]{6}$/g)) {\\n                  return matchRes\\n                }\\n              }\\n              return false\\n            }\\n            function qsClientOperate () {\\n              for (var n = 0; n < $(\\'a\\').length; n++) {\\n                var link = $(\\'a\\').eq(n).attr(\\'href\\')\\n                var code = checkCode(link)\\n                if (code) {\\n                  var jumpLink = \"hxa://hexin.exe \\'opt=13&param=\" + code + \"|\\'/\"\\n                  $(\\'a\\').eq(n).attr(\\'target\\', \\'_self\\').attr(\\'href\\', jumpLink)\\n                } else {\\n                  $(\\'a\\').eq(n).attr(\\'target\\', \\'_self\\').attr(\\'href\\', \\'javascript:void(0);\\').attr(\\'data-href\\', link)\\n                }\\n              }\\n              var qsHideEle = [\\'.m-ques-icon\\', \\'.fixedbar\\']\\n              setTimeout(function () {\\n                for (var i = 0; i < qsHideEle.length; i++) {\\n                  if ($(qsHideEle[i]).length > 0) {\\n                    $(qsHideEle[i]).hide()\\n                  }\\n                }\\n              })\\n            }\\n            checkQs(function (isQs) {\\n              if (isQs) {\\n                qsClientOperate()\\n                $(document).ajaxSuccess(function () {\\n                  setTimeout(function () {\\n                    qsClientOperate()\\n                  })\\n                })\\n              }\\n            })\\n          }\\n\\n        </script>\\n\\n<script type=\"text/javascript\">document.write(clientCls)</script>\\n    <div class=\"header-search\">\\n        <div class=\"w1200 clearfix\">\\n            <div class=\"hdlogo\">\\n                <a target=\"_blank\" class=\"site-logo\" href=\"http://www.10jqka.com.cn\"> <img width=\"142\" height=\"46\" src=\"//i.thsi.cn/images/datacenter/financial/logo-ths.png\" title=\"同花顺\" alt=\"同花顺\"></a>\\n                <h1><a target=\"_blank\" title=\"数据中心\" class=\"sub-logo\" href=\"http://data.10jqka.com.cn/\">数据中心</a></h1>\\n            </div>\\n          <div class=\"search-box\">\\n                <div class=\"search-list\">\\n                    <a href=\"###\">信息</a><span>|</span>\\n                    <a href=\"###\"  class=\"cur\">股票</a><span>|</span>\\n                    <a href=\"###\">百科</a>\\n                </div>\\n                <div class=\"search-main\">\\n                    <span style=\"display: none;\">\\n                        <input type=\"text\" value=\"搜研报/看公告/找概念\" class=\"search-input\" id=\"search-input-xx\">\\n                        <input type=\"submit\" value=\"\" class=\"search-btn\" id=\"search-btn-xx\">\\n                    </span>\\n                    <span>\\n                        <input type=\"text\" value=\"输入股票/基金代码、简称或关键字\" class=\"search-input\" id=\"search-input-gp\">\\n                        <input type=\"submit\" value=\"\" class=\"search-btn\" id=\"search-btn-gp\">\\n                    </span>\\n                    <span style=\"display: none;\">\\n                        <input type=\"text\" value=\"请输入词条名\" class=\"search-input\" id=\"search-input-bk\">\\n                        <input type=\"submit\" value=\"\" class=\"search-btn\" id=\"search-btn-bk\">\\n                    </span>\\n                </div>\\n            </div>\\n           <div class=\"login-box hide\">\\n                <a href=\"http://upass.10jqka.com.cn/login?redir=HTTP_REFERER\" target=\"_blank\">登录\\n</a><span>|</span>\\n                <a href=\"http://upass.10jqka.com.cn/register\" target=\"_blank\">注册</a>\\n            </div>\\n            <div class=\"logined_box fr\">\\n                <a href=\"http://stock.10jqka.com.cn/my/\" target=\"_blank\" id=\"J_username\"></a>\\n                <span>|</span>\\n                <a href=\"javascript:;\" id=\"header_logined_out\" target=\"_self\" class=\"homeloginout\">退出</a>\\n            </div>\\n        </div>\\n    </div>\\n   <div class=\"nav\">\\n        <div class=\"w1200 inner-nav\">\\n            <a href=\"http://data.10jqka.com.cn/kcb/index/\" nav=\"kcb\" tid=\"kcb\" >科创板</a>\\n            <a href=\"http://data.10jqka.com.cn/market/longhu/\" nav=\"lhb\" tid=\"longhu\" >龙虎榜</a>\\n            <a href=\"http://data.10jqka.com.cn/ipo/xgsgyzq/\" nav=\"xgsj\"  tid=\"xingu\" >新股数据</a>\\n            <a href=\"http://data.10jqka.com.cn/ipo/bond/\" nav=\"bond\"  tid=\"kezhuanzhai\" >可转债</a>\\n            <a href=\"http://data.10jqka.com.cn/financial/yjyg/\" nav=\"cwfx\" tid=\"caiwu\" class=\"cur\">财务分析</a>\\n            <a href=\"http://data.10jqka.com.cn/funds/ggzjl/\" nav=\"zjlx\"  tid=\"zijin\" >资金流向</a>\\n            <a href=\"http://data.10jqka.com.cn/rank/cxg/\" nav=\"jsxg\" tid=\"xuangu\" >技术选股</a>\\n            <a href=\"http://data.10jqka.com.cn/market/rzrq/\" nav=\"rzrq\" tid=\"liangrong\" >融资融券</a>\\n            <a href=\"http://data.10jqka.com.cn/market/dzjy/\" nav=\"dzjy\" tid=\"dazong\" >大宗交易</a>\\n            <a href=\"http://data.10jqka.com.cn/market/xsjj/\" nav=\"xsjj\" tid=\"xianshou\" >限售解禁</a>\\n            <a href=\"http://data.10jqka.com.cn/hgt/hgtb/\" nav=\"hgt\" tid=\"hushen\" >沪深港通</a>\\n\\n            <a href=\"http://q.10jqka.com.cn\" target=\"_blank\" tid=\"hangqing\">行情中心</a>\\n            <a href=\"http://data.10jqka.com.cn/gzqh/\" nav=\"more\" tid=\"gengduo\" >更多</a>\\n        </div>\\n        <div class=\"sub-nav\">\\n            <!-- span class=\"lhb-list\">\\n                <a href=\"http://data.10jqka.com.cn/market/longhu/\" target=\"_blank\" tid=\"lhbsy\">龙虎榜首页</a>\\n                <a href=\"http://data.10jqka.com.cn/market/longhu/yyb/\" target=\"_blank\" tid=\"rmyyb\">热门营业部</a>\\n                <a href=\"http://data.10jqka.com.cn/market/longhu/jgzy/\" target=\"_blank\" tid=\"jgxw\">机构席位</a>\\n                <a href=\"http://data.10jqka.com.cn/market/longhu/ggph/\" target=\"_blank\" tid=\"ggtj\">个股统计</a>\\n            </span-->\\n            <span class=\"xgsj-list\">\\n                <a href=\"http://data.10jqka.com.cn/ipo/xgsgyzq/\" target=\"_blank\" tid=\"xgsg\">新股申购</a>\\n                <a href=\"http://data.10jqka.com.cn/ipo/xgpt/\" target=\"_blank\" tid=\"xgrl\">新股日历</a>\\n                <a href=\"http://data.10jqka.com.cn/ipo/xgsh/\" target=\"_blank\" tid=\"xgsh\">新股上会</a>\\n                <a href=\"http://data.10jqka.com.cn/ipo/xgyp/\" target=\"_blank\" tid=\"xgyp\">新股预披露</a>\\n                <a href=\"http://data.10jqka.com.cn/ipo/xgsr/\" target=\"_blank\" tid=\"xgsr\">上市首日</a>\\n                <a href=\"http://data.10jqka.com.cn/ipo/syg/\" target=\"_blank\" tid=\"syg\">IPO受益股</a>\\n            </span>\\n            <span class=\"cwfx-list\">\\n                <a href=\"http://data.10jqka.com.cn/financial/yjyg/\" target=\"_blank\" tid=\"yjyg\">业绩预告</a>\\n                <a href=\"http://data.10jqka.com.cn/financial/yjkb/\" target=\"_blank\" tid=\"yjkb\">业绩快报</a>\\n                <a href=\"http://data.10jqka.com.cn/financial/yjgg/\" target=\"_blank\" tid=\"yjgg\">业绩公告</a>\\n                <a href=\"http://data.10jqka.com.cn/financial/yypl/\" target=\"_blank\" tid=\"yypl\">业绩预披露</a>\\n                <a href=\"http://data.10jqka.com.cn/financial/sgpx/\" target=\"_blank\" tid=\"sgpx\">高送转</a>\\n                <a href=\"http://data.10jqka.com.cn/financial/ggjy/\" target=\"_blank\" tid=\"ggcg\">高管持股</a>\\n            </span>\\n            <span class=\"zjlx-list\">\\n                <a href=\"http://data.10jqka.com.cn/funds/ggzjl/\" target=\"_blank\" tid=\"ggzj\">个股资金</a>\\n                <a href=\"http://data.10jqka.com.cn/funds/gnzjl/\" target=\"_blank\" tid=\"gnzjl\">概念资金</a>\\n                <a href=\"http://data.10jqka.com.cn/funds/hyzjl/\" target=\"_blank\" tid=\"hyzjl\">行业资金</a>\\n                <a href=\"http://data.10jqka.com.cn/funds/ddzz/\" target=\"_blank\" tid=\"ddzz\">大单追踪</a>\\n            </span>\\n            <span class=\"jsxg-list\">\\n                <a href=\"http://data.10jqka.com.cn/rank/cxg/\" target=\"_blank\" tid=\"cxg\">创新高</a>\\n                <a href=\"http://data.10jqka.com.cn/rank/cxd/\" target=\"_blank\" tid=\"cxd\">创新低</a>\\n                <a href=\"http://data.10jqka.com.cn/rank/lxsz/\" target=\"_blank\" tid=\"lxsz\">连续上涨</a>\\n                <a href=\"http://data.10jqka.com.cn/rank/lxxd/\" target=\"_blank\" tid=\"lxxd\">连续下跌</a>\\n                <a href=\"http://data.10jqka.com.cn/rank/cxfl/\" target=\"_blank\" tid=\"cxfl\">持续放量</a>\\n                <a href=\"http://data.10jqka.com.cn/rank/cxsl/\" target=\"_blank\" tid=\"cxsl\">持续缩量</a>\\n                <a href=\"http://data.10jqka.com.cn/rank/xstp/\" target=\"_blank\" tid=\"xstp\">向上突破</a>\\n                <a href=\"http://data.10jqka.com.cn/rank/xxtp/\" target=\"_blank\" tid=\"xxtp\">向下突破</a>\\n                <a href=\"http://data.10jqka.com.cn/rank/ljqs/\" target=\"_blank\" tid=\"ljqs\">量价齐升</a>\\n                <a href=\"http://data.10jqka.com.cn/rank/ljqd/\" target=\"_blank\" tid=\"ljqd\">量价齐跌</a>\\n            </span>\\n           \\n            <span class=\"hgt-list\">\\n                <a href=\"http://data.10jqka.com.cn/hgt/hgtb/\" target=\"_blank\" tid=\"hgt\">沪股通</a>\\n                <a href=\"http://data.10jqka.com.cn/hgt/ggtb/\" target=\"_blank\" tid=\"ggtb\">港股通(沪)</a>\\n                <a href=\"http://data.10jqka.com.cn/hgt/sgtb/\" target=\"_blank\" tid=\"sgtb\">深股通</a>\\n                <a href=\"http://data.10jqka.com.cn/hgt/ggtbs/\" target=\"_blank\" tid=\"ggtbs\">港股通(深)</a>\\n            </span>\\n            <span class=\"jyts-list\">\\n                <a href=\"http://data.10jqka.com.cn/tradetips/mrtbts/\" target=\"_blank\" tid=\"mrtbts\">每日特别提示</a>\\n                <a href=\"http://data.10jqka.com.cn/tradetips/tfpts/\" target=\"_blank\" tid=\"tfpts\">停复牌提示</a>\\n                <a href=\"http://data.10jqka.com.cn/tradetips/gddh/\" target=\"_blank\" tid=\"gddh\">股东大会</a>\\n                <a href=\"http://data.10jqka.com.cn/tradetips/tbcl/\" target=\"_blank\" tid=\"tbcl\">特别处理</a>\\n                <a href=\"http://data.10jqka.com.cn/market/ggsd/\" target=\"_blank\" tid=\"ggsd\">公告速递</a>\\n                \\n            </span>\\n            <span class=\"more-list\">\\n                <a href=\"http://data.10jqka.com.cn/financial/xzjp/\" target=\"_blank\" tid=\"xzjp\">险资举牌</a>\\n                <a href=\"http://data.10jqka.com.cn/gzqh/\" target=\"_blank\" tid=\"gzqh\">股指期货</a>\\n                <a href=\"http://data.10jqka.com.cn/market/zdfph/\" target=\"_blank\" tid=\"zdfph\">涨跌幅排行</a>\\n                <a href=\"http://data.10jqka.com.cn/market/ggsyl/\" target=\"_blank\" tid=\"ggsyl\">个股市盈率</a>\\n                <a class=\"js-login\" href=\"http://data.10jqka.com.cn/market/ahgbj/\" target=\"_blank\" tid=\"ahgbj\">AH股比价</a>\\n                <a href=\"http://data.10jqka.com.cn/market/abgbj/\" target=\"_blank\" tid=\"abgbj\">AB股比价</a>\\n                <a href=\"http://data.10jqka.com.cn/macro/cpi/\" target=\"_blank\" tid=\"hongguan\" >宏观数据</a>\\n                 <a href=\"http://data.10jqka.com.cn/tradetips/mrtbts/\" target=\"_blank\" tid=\"jiaoyitishi\" >交易提示</a>\\n            </span>\\n        </div>\\n    </div>\\n</div><!-- 面包屑 -->\\n<div class=\"container w1200\">\\n<script type=\"text/javascript\">document.write(pageCls)</script>\\n    <div class=\"crumbs\">\\n        <a class=\"crumbs-links\" href=\"http://www.10jqka.com.cn\" target=\"_blank\">同花顺</a>\\n        <span class=\"gt\">&gt;</span><a class=\"crumbs-links\"  href=\"http://data.10jqka.com.cn\" target=\"_blank\">数据中心</a>\\n                <span class=\"gt\">&gt;</span><span>\\n                财务分析\\n                </span>\\n                        <span class=\"gt\">&gt;</span><span class=\"cur\">\\n        业绩预告\\n        </span>        \\n\\t        </div>\\n    <div class=\"latest-concern\">\\n        <span><i class=\"icon\">HOT</i>&nbsp;热门关注：</span>\\n        &nbsp;&nbsp;<a href=\"http://data.10jqka.com.cn/financial/xzjp/#refCountId=data_55f13c7e_426\" target=\"_blank\" title=\"险资举牌\" >险资举牌</a>\\n        &nbsp;&nbsp;<a href=\"http://data.10jqka.com.cn/market/longhu/#refCountId=data_55f13c7e_426\" target=\"_blank\" title=\"龙虎榜单\">龙虎榜单</a>\\n        &nbsp;&nbsp;<a href=\"http://data.10jqka.com.cn/market/rzrq/#refCountId=data_55f13c7e_426\" target=\"_blank\" title=\"融资融券\">融资融券</a>\\n        &nbsp;&nbsp;<a href=\"http://data.10jqka.com.cn/market/dzjy/#refCountId=data_55f13c7e_426\" target=\"_blank\" title=\"大宗交易\">大宗交易</a>\\n    </div>\\n</div><div class=\"page-cont\">\\n<script type=\"text/javascript\">document.write(prowCls)</script>    \\n<div class=\"page-tab\">\\n        <a href=\"##\"  class=\"cur\">业绩预告</a>\\n        <a href=\"http://data.10jqka.com.cn/financial/yjkb/#refCountId=data_55ebdbc3_648\" target=\"_self\">业绩快报</a>\\n        <a href=\"http://data.10jqka.com.cn/financial/yjgg/#refCountId=data_55ebdbc3_648\" target=\"_self\">业绩公告</a>\\n        <a href=\"http://data.10jqka.com.cn/financial/yypl/#refCountId=data_55ebdbc3_648\" target=\"_self\">业绩预披露</a>\\n        <a href=\"http://data.10jqka.com.cn/financial/sgpx/#refCountId=data_55ebdbc3_648\" target=\"_self\">送股派息</a>\\n    \\t<a href=\"http://data.10jqka.com.cn/financial/ggjy/#refCountId=data_55eff129_840\" target=\"_self\">高管持股</a>\\n    </div>\\n    <div class=\"fr\">\\n        <a href=\"###\" onclick=\"openDiv($(\\'.djxg-pop\\'))\" class=\"djxg\"></a>\\n    </div>\\n</div>\\n<div class=\"page-main\" id=\"datacenter_change_content\">\\n<div class=\"table-tit\">\\n    <h2 class=\"icon-yjyg\">两市业绩预告一览</h2>\\n      <span class=\"page-search-box\">\\n        <input type=\"text\" class=\"search-input\" id=\"search-center\" value=\"输入股票/基金代码、简称或关键字\"/>\\n        <input type=\"submit\" class=\"search-btn\" value=\"\" id=\"search-center-submit\"/>\\n    </span>\\n    <div class=\"sel-report\">\\n        <span class=\"fl\">报表日期</span>\\n        <div class=\"text\">\\n           <s></s><span class=\"text-value\" id=\"report\" date=\"2021-06-30\">2021年中报</span>\\n        </div>\\n                <ul class=\"list\" style=\"display: none;\">\\n                        <li ><a href=\"javascript:void(0);\" date=\"2021-12-31\">2021年年报</a></li>\\n                        <li class=\"cur\"><a href=\"javascript:void(0);\" date=\"2021-06-30\">2021年中报</a></li>\\n                        <li ><a href=\"javascript:void(0);\" date=\"2021-03-31\">2021年一季报</a></li>\\n                        <li ><a href=\"javascript:void(0);\" date=\"2020-12-31\">2020年年报</a></li>\\n                        <li ><a href=\"javascript:void(0);\" date=\"2020-09-30\">2020年三季报</a></li>\\n                        <li ><a href=\"javascript:void(0);\" date=\"2020-06-30\">2020年中报</a></li>\\n                        <li ><a href=\"javascript:void(0);\" date=\"2020-03-31\">2020年一季报</a></li>\\n                        <li ><a href=\"javascript:void(0);\" date=\"2019-12-31\">2019年年报</a></li>\\n                        <li ><a href=\"javascript:void(0);\" date=\"2019-09-30\">2019年三季报</a></li>\\n                        <li ><a href=\"javascript:void(0);\" date=\"2019-06-30\">2019年中报</a></li>\\n                    </ul>\\n            </div>\\n</div>\\n<div class=\"table-tab J-ajax-board\">\\n    <a href=\"###\" class=\"cur J-board-item\" board=\"ALL\">全部</a>\\n    <a href=\"###\" class=\"J-board-item\" board=\"YJYZ\">业绩预增</a>\\n    <a href=\"###\" class=\"J-board-item\" board=\"YJYJ\">业绩预减</a>\\n</div>\\n<div class=\"page-table\" id=\"J-ajax-main\">\\n    <div class=\"page-loading\" style=\"display: none;\">\\n        <div class=\"mask\"></div>\\n        <div class=\"loading-img\"></div>\\n    </div>\\n        <table class=\"m-table J-ajax-table J-canvas-table\">\\n        <thead>\\n        <tr class=\"row2\">\\n            <th width=\"40\" >序号</th>\\n            <th width=\"78\" ><a href=\\'javascript:void(0);\\' class=\"J-ajax-a\" field=\\'stockcode\\'  colidx=\"1\"><a href=\"javascript:void(0);\" class=\"J-ajax-a\" field=\"STOCKCODE\">股票代码</a><i class=\"arr-down\"></i></th>\\n            <th width=\"78\" >股票简称</th>\\n            <th width=\"115\" ><a href=\\'javascript:void(0);\\' class=\"J-ajax-a\" field=\\'summ\\' ><a href=\"javascript:void(0);\" class=\"J-ajax-a\">业绩预告类型</a><i class=\"arr-down\"></i></th>\\n            <th width=\"350\">业绩预告摘要</th>\\n            <th width=\"97\" ><a href=\"javascript:void(0);\" class=\"J-ajax-a\" field=\\'jlrbl\\' >净利润变动幅度<br/>(%)</a><i class=\"arr-down\"></i></th>\\n            <th width=\"135\" ><a href=\"javascript:void(0);\" class=\"J-ajax-a\" field=\\'SNTQJLR\\' >上年同期净利润<br/>(元)</a><i class=\"arr-down\"></i></th>\\n            <th width=\"104\" class=\"cur\"><a href=\"javascript:void(0);\" class=\"J-ajax-a\" field=\\'enddate\\' order=\"asc\">公告日期</a><i class=\"arr-down\"></i></th>\\n        </tr>\\n        </thead>\\n        <tbody>\\n                <tr >\\n            <td>1</td>\\n            <td class=\"  linkToGghq\">\\n\\t\\t\\t\\t\\t\\t\\t\\t\\t<a href=\"http://stockpage.10jqka.com.cn/600032/finance/\" target=\"_blank\" class=\"stockCode\">600032</a>\\n\\t\\t\\t\\t\\t\\t\\t</td>\\n            <td class=\"linkToGghq\">\\n            \\t\\t\\t\\t\\t\\t<a href=\"http://stockpage.10jqka.com.cn/600032/finance/\" target=\"_blank\" code=\"hs_600032\" class=\"J_showCanvas\">浙江新能</a>\\n\\t\\t\\t\\t            </td>\\n            <td class=\" c-fall\">\\n            \\t<span>业绩预盈</span>\\n            </td>\\n            <td class=\"tl\">\\n            \\t\\t\\t\\t\\t\\t<a href=\"http://www.iwencai.com/stockpick/search?typed=0&preParams=&ts=1&f=1&qs=yjygzy_ths_data&selfsectsn=&querytype=&searchfilter=&tid=stockpick&w=600032+%E4%B8%9A%E7%BB%A9%E9%A2%84%E5%91%8A&refCountId=data_55eff2bf_980\" target=\"_blank\">净利润14588.32万元至17882.44万元,增长幅度为-15.44%至3.65%</a>\\n\\t\\t\\t\\t\\t            </td>\\n            <td class =\" c-fall\">\\n            \\t-15.44            </td>\\n            <td class=\" c-rise\">1.72亿</td>\\n            <td class=\"tc cur\">2021-05-24</td>\\n        </tr>\\n                <tr class=\"even\">\\n            <td>2</td>\\n            <td class=\"  linkToGghq\">\\n\\t\\t\\t\\t\\t\\t\\t\\t\\t<a href=\"http://stockpage.10jqka.com.cn/300993/finance/\" target=\"_blank\" class=\"stockCode\">300993</a>\\n\\t\\t\\t\\t\\t\\t\\t</td>\\n            <td class=\"linkToGghq\">\\n            \\t\\t\\t\\t\\t\\t<a href=\"http://stockpage.10jqka.com.cn/300993/finance/\" target=\"_blank\" code=\"hs_300993\" class=\"J_showCanvas\">玉马遮阳</a>\\n\\t\\t\\t\\t            </td>\\n            <td class=\" c-rise\">\\n            \\t<span>业绩预增</span>\\n            </td>\\n            <td class=\"tl\">\\n            \\t\\t\\t\\t\\t\\t<a href=\"http://www.iwencai.com/stockpick/search?typed=0&preParams=&ts=1&f=1&qs=yjygzy_ths_data&selfsectsn=&querytype=&searchfilter=&tid=stockpick&w=300993+%E4%B8%9A%E7%BB%A9%E9%A2%84%E5%91%8A&refCountId=data_55eff2bf_980\" target=\"_blank\">净利润6300.00万元至6770.00万元,增长幅度为24.63%至33.93%</a>\\n\\t\\t\\t\\t\\t            </td>\\n            <td class =\" c-rise\">\\n            \\t33.93            </td>\\n            <td class=\" c-rise\">5055.35万</td>\\n            <td class=\"tc cur\">2021-05-21</td>\\n        </tr>\\n                <tr >\\n            <td>3</td>\\n            <td class=\"  linkToGghq\">\\n\\t\\t\\t\\t\\t\\t\\t\\t\\t<a href=\"http://stockpage.10jqka.com.cn/605259/finance/\" target=\"_blank\" class=\"stockCode\">605259</a>\\n\\t\\t\\t\\t\\t\\t\\t</td>\\n            <td class=\"linkToGghq\">\\n            \\t\\t\\t\\t\\t\\t<a href=\"http://stockpage.10jqka.com.cn/605259/finance/\" target=\"_blank\" code=\"hs_605259\" class=\"J_showCanvas\">绿田机械</a>\\n\\t\\t\\t\\t            </td>\\n            <td class=\" c-rise\">\\n            \\t<span>业绩预增</span>\\n            </td>\\n            <td class=\"tl\">\\n            \\t\\t\\t\\t\\t\\t<a href=\"http://www.iwencai.com/stockpick/search?typed=0&preParams=&ts=1&f=1&qs=yjygzy_ths_data&selfsectsn=&querytype=&searchfilter=&tid=stockpick&w=605259+%E4%B8%9A%E7%BB%A9%E9%A2%84%E5%91%8A&refCountId=data_55eff2bf_980\" target=\"_blank\">净利润6200万元至7500万元,增长幅度为4.66%至26.60%</a>\\n\\t\\t\\t\\t\\t            </td>\\n            <td class =\" c-rise\">\\n            \\t26.60            </td>\\n            <td class=\" c-rise\">5924.03万</td>\\n            <td class=\"tc cur\">2021-05-21</td>\\n        </tr>\\n                <tr class=\"even\">\\n            <td>4</td>\\n            <td class=\"  linkToGghq\">\\n\\t\\t\\t\\t\\t\\t\\t\\t\\t<a href=\"http://stockpage.10jqka.com.cn/688345/finance/\" target=\"_blank\" class=\"stockCode\">688345</a>\\n\\t\\t\\t\\t\\t\\t\\t</td>\\n            <td class=\"linkToGghq\">\\n            \\t\\t\\t\\t\\t\\t<a href=\"http://stockpage.10jqka.com.cn/688345/finance/\" target=\"_blank\" code=\"hs_688345\" class=\"J_showCanvas\">博力威</a>\\n\\t\\t\\t\\t            </td>\\n            <td class=\" c-rise\">\\n            \\t<span>业绩大幅上升</span>\\n            </td>\\n            <td class=\"tl\">\\n            \\t\\t\\t\\t\\t\\t<a href=\"http://www.iwencai.com/stockpick/search?typed=0&preParams=&ts=1&f=1&qs=yjygzy_ths_data&selfsectsn=&querytype=&searchfilter=&tid=stockpick&w=688345+%E4%B8%9A%E7%BB%A9%E9%A2%84%E5%91%8A&refCountId=data_55eff2bf_980\" target=\"_blank\">净利润9700.00万元左右,增长幅度为86.80%左右</a>\\n\\t\\t\\t\\t\\t            </td>\\n            <td class =\" c-rise\">\\n            \\t86.80            </td>\\n            <td class=\" c-rise\">5192.85万</td>\\n            <td class=\"tc cur\">2021-05-21</td>\\n        </tr>\\n                <tr >\\n            <td>5</td>\\n            <td class=\"  linkToGghq\">\\n\\t\\t\\t\\t\\t\\t\\t\\t\\t<a href=\"http://stockpage.10jqka.com.cn/688131/finance/\" target=\"_blank\" class=\"stockCode\">688131</a>\\n\\t\\t\\t\\t\\t\\t\\t</td>\\n            <td class=\"linkToGghq\">\\n            \\t\\t\\t\\t\\t\\t<a href=\"http://stockpage.10jqka.com.cn/688131/finance/\" target=\"_blank\" code=\"hs_688131\" class=\"J_showCanvas\">皓元医药</a>\\n\\t\\t\\t\\t            </td>\\n            <td class=\" c-rise\">\\n            \\t<span>业绩大幅上升</span>\\n            </td>\\n            <td class=\"tl\">\\n            \\t\\t\\t\\t\\t\\t<a href=\"http://www.iwencai.com/stockpick/search?typed=0&preParams=&ts=1&f=1&qs=yjygzy_ths_data&selfsectsn=&querytype=&searchfilter=&tid=stockpick&w=688131+%E4%B8%9A%E7%BB%A9%E9%A2%84%E5%91%8A&refCountId=data_55eff2bf_980\" target=\"_blank\">净利润9000万元至11000万元,增长幅度为99.17%至143.42%</a>\\n\\t\\t\\t\\t\\t            </td>\\n            <td class =\" c-rise\">\\n            \\t143.42            </td>\\n            <td class=\" c-rise\">4518.85万</td>\\n            <td class=\"tc cur\">2021-05-20</td>\\n        </tr>\\n                <tr class=\"even\">\\n            <td>6</td>\\n            <td class=\"  linkToGghq\">\\n\\t\\t\\t\\t\\t\\t\\t\\t\\t<a href=\"http://stockpage.10jqka.com.cn/300991/finance/\" target=\"_blank\" class=\"stockCode\">300991</a>\\n\\t\\t\\t\\t\\t\\t\\t</td>\\n            <td class=\"linkToGghq\">\\n            \\t\\t\\t\\t\\t\\t<a href=\"http://stockpage.10jqka.com.cn/300991/finance/\" target=\"_blank\" code=\"hs_300991\" class=\"J_showCanvas\">创益通</a>\\n\\t\\t\\t\\t            </td>\\n            <td class=\" c-rise\">\\n            \\t<span>业绩预增</span>\\n            </td>\\n            <td class=\"tl\">\\n            \\t\\t\\t\\t\\t\\t<a href=\"http://www.iwencai.com/stockpick/search?typed=0&preParams=&ts=1&f=1&qs=yjygzy_ths_data&selfsectsn=&querytype=&searchfilter=&tid=stockpick&w=300991+%E4%B8%9A%E7%BB%A9%E9%A2%84%E5%91%8A&refCountId=data_55eff2bf_980\" target=\"_blank\">净利润4200万元至4700万元,增长幅度为31.67%至47.35%</a>\\n\\t\\t\\t\\t\\t            </td>\\n            <td class =\" c-rise\">\\n            \\t47.35            </td>\\n            <td class=\" c-rise\">3189.78万</td>\\n            <td class=\"tc cur\">2021-05-19</td>\\n        </tr>\\n                <tr >\\n            <td>7</td>\\n            <td class=\"  linkToGghq\">\\n\\t\\t\\t\\t\\t\\t\\t\\t\\t<a href=\"http://stockpage.10jqka.com.cn/301005/finance/\" target=\"_blank\" class=\"stockCode\">301005</a>\\n\\t\\t\\t\\t\\t\\t\\t</td>\\n            <td class=\"linkToGghq\">\\n            \\t\\t\\t\\t\\t\\t<a href=\"http://stockpage.10jqka.com.cn/301005/finance/\" target=\"_blank\" code=\"hs_301005\" class=\"J_showCanvas\">超捷股份</a>\\n\\t\\t\\t\\t            </td>\\n            <td class=\" c-rise\">\\n            \\t<span>业绩预增</span>\\n            </td>\\n            <td class=\"tl\">\\n            \\t\\t\\t\\t\\t\\t<a href=\"http://www.iwencai.com/stockpick/search?typed=0&preParams=&ts=1&f=1&qs=yjygzy_ths_data&selfsectsn=&querytype=&searchfilter=&tid=stockpick&w=301005+%E4%B8%9A%E7%BB%A9%E9%A2%84%E5%91%8A&refCountId=data_55eff2bf_980\" target=\"_blank\">净利润3621.24万元至3893.80万元,增长幅度为21.83%至31.00%</a>\\n\\t\\t\\t\\t\\t            </td>\\n            <td class =\" c-rise\">\\n            \\t31.00            </td>\\n            <td class=\" c-rise\">2972.37万</td>\\n            <td class=\"tc cur\">2021-05-19</td>\\n        </tr>\\n                <tr class=\"even\">\\n            <td>8</td>\\n            <td class=\"  linkToGghq\">\\n\\t\\t\\t\\t\\t\\t\\t\\t\\t<a href=\"http://stockpage.10jqka.com.cn/301006/finance/\" target=\"_blank\" class=\"stockCode\">301006</a>\\n\\t\\t\\t\\t\\t\\t\\t</td>\\n            <td class=\"linkToGghq\">\\n            \\t\\t\\t\\t\\t\\t<a href=\"http://stockpage.10jqka.com.cn/301006/finance/\" target=\"_blank\" code=\"hs_301006\" class=\"J_showCanvas\">迈拓股份</a>\\n\\t\\t\\t\\t            </td>\\n            <td class=\" c-rise\">\\n            \\t<span>业绩预增</span>\\n            </td>\\n            <td class=\"tl\">\\n            \\t\\t\\t\\t\\t\\t<a href=\"http://www.iwencai.com/stockpick/search?typed=0&preParams=&ts=1&f=1&qs=yjygzy_ths_data&selfsectsn=&querytype=&searchfilter=&tid=stockpick&w=301006+%E4%B8%9A%E7%BB%A9%E9%A2%84%E5%91%8A&refCountId=data_55eff2bf_980\" target=\"_blank\">净利润6800万元至7840万元,增长幅度为12.87%至30.13%</a>\\n\\t\\t\\t\\t\\t            </td>\\n            <td class =\" c-rise\">\\n            \\t30.13            </td>\\n            <td class=\" c-rise\">6024.81万</td>\\n            <td class=\"tc cur\">2021-05-19</td>\\n        </tr>\\n                <tr >\\n            <td>9</td>\\n            <td class=\"  linkToGghq\">\\n\\t\\t\\t\\t\\t\\t\\t\\t\\t<a href=\"http://stockpage.10jqka.com.cn/688319/finance/\" target=\"_blank\" class=\"stockCode\">688319</a>\\n\\t\\t\\t\\t\\t\\t\\t</td>\\n            <td class=\"linkToGghq\">\\n            \\t\\t\\t\\t\\t\\t<a href=\"http://stockpage.10jqka.com.cn/688319/finance/\" target=\"_blank\" code=\"hs_688319\" class=\"J_showCanvas\">欧林生物</a>\\n\\t\\t\\t\\t            </td>\\n            <td class=\" c-rise\">\\n            \\t<span>业绩大幅上升</span>\\n            </td>\\n            <td class=\"tl\">\\n            \\t\\t\\t\\t\\t\\t<a href=\"http://www.iwencai.com/stockpick/search?typed=0&preParams=&ts=1&f=1&qs=yjygzy_ths_data&selfsectsn=&querytype=&searchfilter=&tid=stockpick&w=688319+%E4%B8%9A%E7%BB%A9%E9%A2%84%E5%91%8A&refCountId=data_55eff2bf_980\" target=\"_blank\">净利润2940.26万元至3832.52万元,增长幅度为125.70%至194.19%</a>\\n\\t\\t\\t\\t\\t            </td>\\n            <td class =\" c-rise\">\\n            \\t194.19            </td>\\n            <td class=\" c-rise\">1302.73万</td>\\n            <td class=\"tc cur\">2021-05-19</td>\\n        </tr>\\n                <tr class=\"even\">\\n            <td>10</td>\\n            <td class=\"  linkToGghq\">\\n\\t\\t\\t\\t\\t\\t\\t\\t\\t<a href=\"http://stockpage.10jqka.com.cn/688625/finance/\" target=\"_blank\" class=\"stockCode\">688625</a>\\n\\t\\t\\t\\t\\t\\t\\t</td>\\n            <td class=\"linkToGghq\">\\n            \\t\\t\\t\\t\\t\\t<a href=\"http://stockpage.10jqka.com.cn/688625/finance/\" target=\"_blank\" code=\"hs_688625\" class=\"J_showCanvas\">呈和科技</a>\\n\\t\\t\\t\\t            </td>\\n            <td class=\" c-rise\">\\n            \\t<span>业绩预增</span>\\n            </td>\\n            <td class=\"tl\">\\n            \\t\\t\\t\\t\\t\\t<a href=\"http://www.iwencai.com/stockpick/search?typed=0&preParams=&ts=1&f=1&qs=yjygzy_ths_data&selfsectsn=&querytype=&searchfilter=&tid=stockpick&w=688625+%E4%B8%9A%E7%BB%A9%E9%A2%84%E5%91%8A&refCountId=data_55eff2bf_980\" target=\"_blank\">净利润7300万元至7800万元,增长幅度为35.34%至44.61%</a>\\n\\t\\t\\t\\t\\t            </td>\\n            <td class =\" c-rise\">\\n            \\t44.61            </td>\\n            <td class=\" c-rise\">5393.87万</td>\\n            <td class=\"tc cur\">2021-05-19</td>\\n        </tr>\\n                <tr >\\n            <td>11</td>\\n            <td class=\"  linkToGghq\">\\n\\t\\t\\t\\t\\t\\t\\t\\t\\t<a href=\"http://stockpage.10jqka.com.cn/301003/finance/\" target=\"_blank\" class=\"stockCode\">301003</a>\\n\\t\\t\\t\\t\\t\\t\\t</td>\\n            <td class=\"linkToGghq\">\\n            \\t\\t\\t\\t\\t\\t<a href=\"http://stockpage.10jqka.com.cn/301003/finance/\" target=\"_blank\" code=\"hs_301003\" class=\"J_showCanvas\">江苏博云</a>\\n\\t\\t\\t\\t            </td>\\n            <td class=\" c-rise\">\\n            \\t<span>业绩大幅上升</span>\\n            </td>\\n            <td class=\"tl\">\\n            \\t\\t\\t\\t\\t\\t<a href=\"http://www.iwencai.com/stockpick/search?typed=0&preParams=&ts=1&f=1&qs=yjygzy_ths_data&selfsectsn=&querytype=&searchfilter=&tid=stockpick&w=301003+%E4%B8%9A%E7%BB%A9%E9%A2%84%E5%91%8A&refCountId=data_55eff2bf_980\" target=\"_blank\">净利润7008.22万元至8012.65万元,增长幅度为57.04%至79.54%</a>\\n\\t\\t\\t\\t\\t            </td>\\n            <td class =\" c-rise\">\\n            \\t79.54            </td>\\n            <td class=\" c-rise\">4462.81万</td>\\n            <td class=\"tc cur\">2021-05-18</td>\\n        </tr>\\n                <tr class=\"even\">\\n            <td>12</td>\\n            <td class=\"  linkToGghq\">\\n\\t\\t\\t\\t\\t\\t\\t\\t\\t<a href=\"http://stockpage.10jqka.com.cn/601156/finance/\" target=\"_blank\" class=\"stockCode\">601156</a>\\n\\t\\t\\t\\t\\t\\t\\t</td>\\n            <td class=\"linkToGghq\">\\n            \\t\\t\\t\\t\\t\\t<a href=\"http://stockpage.10jqka.com.cn/601156/finance/\" target=\"_blank\" code=\"hs_601156\" class=\"J_showCanvas\">东航物流</a>\\n\\t\\t\\t\\t            </td>\\n            <td class=\" c-rise\">\\n            \\t<span>业绩预增</span>\\n            </td>\\n            <td class=\"tl\">\\n            \\t\\t\\t\\t\\t\\t<a href=\"http://www.iwencai.com/stockpick/search?typed=0&preParams=&ts=1&f=1&qs=yjygzy_ths_data&selfsectsn=&querytype=&searchfilter=&tid=stockpick&w=601156+%E4%B8%9A%E7%BB%A9%E9%A2%84%E5%91%8A&refCountId=data_55eff2bf_980\" target=\"_blank\">净利润142000万元至174000万元,增长幅度为11%至36%</a>\\n\\t\\t\\t\\t\\t            </td>\\n            <td class =\" c-rise\">\\n            \\t36.00            </td>\\n            <td class=\" c-rise\">12.82亿</td>\\n            <td class=\"tc cur\">2021-05-18</td>\\n        </tr>\\n                <tr >\\n            <td>13</td>\\n            <td class=\"  linkToGghq\">\\n\\t\\t\\t\\t\\t\\t\\t\\t\\t<a href=\"http://stockpage.10jqka.com.cn/605319/finance/\" target=\"_blank\" class=\"stockCode\">605319</a>\\n\\t\\t\\t\\t\\t\\t\\t</td>\\n            <td class=\"linkToGghq\">\\n            \\t\\t\\t\\t\\t\\t<a href=\"http://stockpage.10jqka.com.cn/605319/finance/\" target=\"_blank\" code=\"hs_605319\" class=\"J_showCanvas\">无锡振华</a>\\n\\t\\t\\t\\t            </td>\\n            <td class=\" c-rise\">\\n            \\t<span>业绩大幅上升</span>\\n            </td>\\n            <td class=\"tl\">\\n            \\t\\t\\t\\t\\t\\t<a href=\"http://www.iwencai.com/stockpick/search?typed=0&preParams=&ts=1&f=1&qs=yjygzy_ths_data&selfsectsn=&querytype=&searchfilter=&tid=stockpick&w=605319+%E4%B8%9A%E7%BB%A9%E9%A2%84%E5%91%8A&refCountId=data_55eff2bf_980\" target=\"_blank\">净利润5120万元至5620万元,增长幅度为47.79%至62.22%</a>\\n\\t\\t\\t\\t\\t            </td>\\n            <td class =\" c-rise\">\\n            \\t62.22            </td>\\n            <td class=\" c-rise\">3464.40万</td>\\n            <td class=\"tc cur\">2021-05-18</td>\\n        </tr>\\n                <tr class=\"even\">\\n            <td>14</td>\\n            <td class=\"  linkToGghq\">\\n\\t\\t\\t\\t\\t\\t\\t\\t\\t<a href=\"http://stockpage.10jqka.com.cn/001206/finance/\" target=\"_blank\" class=\"stockCode\">001206</a>\\n\\t\\t\\t\\t\\t\\t\\t</td>\\n            <td class=\"linkToGghq\">\\n            \\t\\t\\t\\t\\t\\t<a href=\"http://stockpage.10jqka.com.cn/001206/finance/\" target=\"_blank\" code=\"hs_001206\" class=\"J_showCanvas\">依依股份</a>\\n\\t\\t\\t\\t            </td>\\n            <td class=\" c-fall\">\\n            \\t<span>业绩预降</span>\\n            </td>\\n            <td class=\"tl\">\\n            \\t\\t\\t\\t\\t\\t<a href=\"http://www.iwencai.com/stockpick/search?typed=0&preParams=&ts=1&f=1&qs=yjygzy_ths_data&selfsectsn=&querytype=&searchfilter=&tid=stockpick&w=001206+%E4%B8%9A%E7%BB%A9%E9%A2%84%E5%91%8A&refCountId=data_55eff2bf_980\" target=\"_blank\">净利润7200万元至8200万元,下降幅度为35.25%至25.78%</a>\\n\\t\\t\\t\\t\\t            </td>\\n            <td class =\" c-fall\">\\n            \\t-35.25            </td>\\n            <td class=\" c-rise\">1.11亿</td>\\n            <td class=\"tc cur\">2021-05-17</td>\\n        </tr>\\n                <tr >\\n            <td>15</td>\\n            <td class=\"  linkToGghq\">\\n\\t\\t\\t\\t\\t\\t\\t\\t\\t<a href=\"http://stockpage.10jqka.com.cn/301000/finance/\" target=\"_blank\" class=\"stockCode\">301000</a>\\n\\t\\t\\t\\t\\t\\t\\t</td>\\n            <td class=\"linkToGghq\">\\n            \\t\\t\\t\\t\\t\\t<a href=\"http://stockpage.10jqka.com.cn/301000/finance/\" target=\"_blank\" code=\"hs_301000\" class=\"J_showCanvas\">肇民科技</a>\\n\\t\\t\\t\\t            </td>\\n            <td class=\" c-rise\">\\n            \\t<span>业绩预增</span>\\n            </td>\\n            <td class=\"tl\">\\n            \\t\\t\\t\\t\\t\\t<a href=\"http://www.iwencai.com/stockpick/search?typed=0&preParams=&ts=1&f=1&qs=yjygzy_ths_data&selfsectsn=&querytype=&searchfilter=&tid=stockpick&w=301000+%E4%B8%9A%E7%BB%A9%E9%A2%84%E5%91%8A&refCountId=data_55eff2bf_980\" target=\"_blank\">净利润5505.16万元至6104.53万元,增长幅度为32.92%至47.39%</a>\\n\\t\\t\\t\\t\\t            </td>\\n            <td class =\" c-rise\">\\n            \\t47.39            </td>\\n            <td class=\" c-rise\">4146.44万</td>\\n            <td class=\"tc cur\">2021-05-17</td>\\n        </tr>\\n                <tr class=\"even\">\\n            <td>16</td>\\n            <td class=\"  linkToGghq\">\\n\\t\\t\\t\\t\\t\\t\\t\\t\\t<a href=\"http://stockpage.10jqka.com.cn/301001/finance/\" target=\"_blank\" class=\"stockCode\">301001</a>\\n\\t\\t\\t\\t\\t\\t\\t</td>\\n            <td class=\"linkToGghq\">\\n            \\t\\t\\t\\t\\t\\t<a href=\"http://stockpage.10jqka.com.cn/301001/finance/\" target=\"_blank\" code=\"hs_301001\" class=\"J_showCanvas\">凯淳股份</a>\\n\\t\\t\\t\\t            </td>\\n            <td class=\" c-fall\">\\n            \\t<span>业绩预盈</span>\\n            </td>\\n            <td class=\"tl\">\\n            \\t\\t\\t\\t\\t\\t<a href=\"http://www.iwencai.com/stockpick/search?typed=0&preParams=&ts=1&f=1&qs=yjygzy_ths_data&selfsectsn=&querytype=&searchfilter=&tid=stockpick&w=301001+%E4%B8%9A%E7%BB%A9%E9%A2%84%E5%91%8A&refCountId=data_55eff2bf_980\" target=\"_blank\">净利润3400.00万元至4200.00万元,增长幅度为-12.23%至8.42%</a>\\n\\t\\t\\t\\t\\t            </td>\\n            <td class =\" c-fall\">\\n            \\t-12.23            </td>\\n            <td class=\" c-rise\">3873.87万</td>\\n            <td class=\"tc cur\">2021-05-17</td>\\n        </tr>\\n                <tr >\\n            <td>17</td>\\n            <td class=\"  linkToGghq\">\\n\\t\\t\\t\\t\\t\\t\\t\\t\\t<a href=\"http://stockpage.10jqka.com.cn/301002/finance/\" target=\"_blank\" class=\"stockCode\">301002</a>\\n\\t\\t\\t\\t\\t\\t\\t</td>\\n            <td class=\"linkToGghq\">\\n            \\t\\t\\t\\t\\t\\t<a href=\"http://stockpage.10jqka.com.cn/301002/finance/\" target=\"_blank\" code=\"hs_301002\" class=\"J_showCanvas\">崧盛股份</a>\\n\\t\\t\\t\\t            </td>\\n            <td class=\" c-rise\">\\n            \\t<span>业绩大幅上升</span>\\n            </td>\\n            <td class=\"tl\">\\n            \\t\\t\\t\\t\\t\\t<a href=\"http://www.iwencai.com/stockpick/search?typed=0&preParams=&ts=1&f=1&qs=yjygzy_ths_data&selfsectsn=&querytype=&searchfilter=&tid=stockpick&w=301002+%E4%B8%9A%E7%BB%A9%E9%A2%84%E5%91%8A&refCountId=data_55eff2bf_980\" target=\"_blank\">净利润6000.00万元至7600.00万元,增长幅度为49.35%至89.17%</a>\\n\\t\\t\\t\\t\\t            </td>\\n            <td class =\" c-rise\">\\n            \\t89.17            </td>\\n            <td class=\" c-rise\">4017.52万</td>\\n            <td class=\"tc cur\">2021-05-17</td>\\n        </tr>\\n                <tr class=\"even\">\\n            <td>18</td>\\n            <td class=\"  linkToGghq\">\\n\\t\\t\\t\\t\\t\\t\\t\\t\\t<a href=\"http://stockpage.10jqka.com.cn/300996/finance/\" target=\"_blank\" class=\"stockCode\">300996</a>\\n\\t\\t\\t\\t\\t\\t\\t</td>\\n            <td class=\"linkToGghq\">\\n            \\t\\t\\t\\t\\t\\t<a href=\"http://stockpage.10jqka.com.cn/300996/finance/\" target=\"_blank\" code=\"hs_300996\" class=\"J_showCanvas\">普联软件</a>\\n\\t\\t\\t\\t            </td>\\n            <td class=\" c-rise\">\\n            \\t<span>业绩大幅上升</span>\\n            </td>\\n            <td class=\"tl\">\\n            \\t\\t\\t\\t\\t\\t<a href=\"http://www.iwencai.com/stockpick/search?typed=0&preParams=&ts=1&f=1&qs=yjygzy_ths_data&selfsectsn=&querytype=&searchfilter=&tid=stockpick&w=300996+%E4%B8%9A%E7%BB%A9%E9%A2%84%E5%91%8A&refCountId=data_55eff2bf_980\" target=\"_blank\">净利润3000万元至3600万元,增长幅度为79.93%至115.92%</a>\\n\\t\\t\\t\\t\\t            </td>\\n            <td class =\" c-rise\">\\n            \\t115.92            </td>\\n            <td class=\" c-rise\">1667.30万</td>\\n            <td class=\"tc cur\">2021-05-14</td>\\n        </tr>\\n                <tr >\\n            <td>19</td>\\n            <td class=\"  linkToGghq\">\\n\\t\\t\\t\\t\\t\\t\\t\\t\\t<a href=\"http://stockpage.10jqka.com.cn/300997/finance/\" target=\"_blank\" class=\"stockCode\">300997</a>\\n\\t\\t\\t\\t\\t\\t\\t</td>\\n            <td class=\"linkToGghq\">\\n            \\t\\t\\t\\t\\t\\t<a href=\"http://stockpage.10jqka.com.cn/300997/finance/\" target=\"_blank\" code=\"hs_300997\" class=\"J_showCanvas\">欢乐家</a>\\n\\t\\t\\t\\t            </td>\\n            <td class=\" c-rise\">\\n            \\t<span>业绩预增</span>\\n            </td>\\n            <td class=\"tl\">\\n            \\t\\t\\t\\t\\t\\t<a href=\"http://www.iwencai.com/stockpick/search?typed=0&preParams=&ts=1&f=1&qs=yjygzy_ths_data&selfsectsn=&querytype=&searchfilter=&tid=stockpick&w=300997+%E4%B8%9A%E7%BB%A9%E9%A2%84%E5%91%8A&refCountId=data_55eff2bf_980\" target=\"_blank\">净利润8600万元至9500万元,增长幅度为1.42%至12.04%</a>\\n\\t\\t\\t\\t\\t            </td>\\n            <td class =\" c-rise\">\\n            \\t12.04            </td>\\n            <td class=\" c-rise\">8479.18万</td>\\n            <td class=\"tc cur\">2021-05-14</td>\\n        </tr>\\n                <tr class=\"even\">\\n            <td>20</td>\\n            <td class=\"  linkToGghq\">\\n\\t\\t\\t\\t\\t\\t\\t\\t\\t<a href=\"http://stockpage.10jqka.com.cn/300998/finance/\" target=\"_blank\" class=\"stockCode\">300998</a>\\n\\t\\t\\t\\t\\t\\t\\t</td>\\n            <td class=\"linkToGghq\">\\n            \\t\\t\\t\\t\\t\\t<a href=\"http://stockpage.10jqka.com.cn/300998/finance/\" target=\"_blank\" code=\"hs_300998\" class=\"J_showCanvas\">宁波方正</a>\\n\\t\\t\\t\\t            </td>\\n            <td class=\" c-fall\">\\n            \\t<span>业绩预降</span>\\n            </td>\\n            <td class=\"tl\">\\n            \\t\\t\\t\\t\\t\\t<a href=\"http://www.iwencai.com/stockpick/search?typed=0&preParams=&ts=1&f=1&qs=yjygzy_ths_data&selfsectsn=&querytype=&searchfilter=&tid=stockpick&w=300998+%E4%B8%9A%E7%BB%A9%E9%A2%84%E5%91%8A&refCountId=data_55eff2bf_980\" target=\"_blank\">净利润1647.73万元至1824.73万元,下降幅度为27.11%至19.28%</a>\\n\\t\\t\\t\\t\\t            </td>\\n            <td class =\" c-fall\">\\n            \\t-27.11            </td>\\n            <td class=\" c-rise\">2260.49万</td>\\n            <td class=\"tc cur\">2021-05-14</td>\\n        </tr>\\n                <tr >\\n            <td>21</td>\\n            <td class=\"  linkToGghq\">\\n\\t\\t\\t\\t\\t\\t\\t\\t\\t<a href=\"http://stockpage.10jqka.com.cn/688117/finance/\" target=\"_blank\" class=\"stockCode\">688117</a>\\n\\t\\t\\t\\t\\t\\t\\t</td>\\n            <td class=\"linkToGghq\">\\n            \\t\\t\\t\\t\\t\\t<a href=\"http://stockpage.10jqka.com.cn/688117/finance/\" target=\"_blank\" code=\"hs_688117\" class=\"J_showCanvas\">圣诺生物</a>\\n\\t\\t\\t\\t            </td>\\n            <td class=\" c-rise\">\\n            \\t<span>业绩预增</span>\\n            </td>\\n            <td class=\"tl\">\\n            \\t\\t\\t\\t\\t\\t<a href=\"http://www.iwencai.com/stockpick/search?typed=0&preParams=&ts=1&f=1&qs=yjygzy_ths_data&selfsectsn=&querytype=&searchfilter=&tid=stockpick&w=688117+%E4%B8%9A%E7%BB%A9%E9%A2%84%E5%91%8A&refCountId=data_55eff2bf_980\" target=\"_blank\">净利润3200万元至3600万元,增长幅度为2.20%至14.98%</a>\\n\\t\\t\\t\\t\\t            </td>\\n            <td class =\" c-rise\">\\n            \\t14.98            </td>\\n            <td class=\" c-rise\">3131.11万</td>\\n            <td class=\"tc cur\">2021-05-14</td>\\n        </tr>\\n                <tr class=\"even\">\\n            <td>22</td>\\n            <td class=\"  linkToGghq\">\\n\\t\\t\\t\\t\\t\\t\\t\\t\\t<a href=\"http://stockpage.10jqka.com.cn/601528/finance/\" target=\"_blank\" class=\"stockCode\">601528</a>\\n\\t\\t\\t\\t\\t\\t\\t</td>\\n            <td class=\"linkToGghq\">\\n            \\t\\t\\t\\t\\t\\t<a href=\"http://stockpage.10jqka.com.cn/601528/finance/\" target=\"_blank\" code=\"hs_601528\" class=\"J_showCanvas\">瑞丰银行</a>\\n\\t\\t\\t\\t            </td>\\n            <td class=\" c-rise\">\\n            \\t<span>业绩预增</span>\\n            </td>\\n            <td class=\"tl\">\\n            \\t\\t\\t\\t\\t\\t<a href=\"http://www.iwencai.com/stockpick/search?typed=0&preParams=&ts=1&f=1&qs=yjygzy_ths_data&selfsectsn=&querytype=&searchfilter=&tid=stockpick&w=601528+%E4%B8%9A%E7%BB%A9%E9%A2%84%E5%91%8A&refCountId=data_55eff2bf_980\" target=\"_blank\">净利润48400万元至50700万元,增长幅度为5%至10%</a>\\n\\t\\t\\t\\t\\t            </td>\\n            <td class =\" c-rise\">\\n            \\t10.00            </td>\\n            <td class=\" \">-</td>\\n            <td class=\"tc cur\">2021-05-12</td>\\n        </tr>\\n                <tr >\\n            <td>23</td>\\n            <td class=\"  linkToGghq\">\\n\\t\\t\\t\\t\\t\\t\\t\\t\\t<a href=\"http://stockpage.10jqka.com.cn/605488/finance/\" target=\"_blank\" class=\"stockCode\">605488</a>\\n\\t\\t\\t\\t\\t\\t\\t</td>\\n            <td class=\"linkToGghq\">\\n            \\t\\t\\t\\t\\t\\t<a href=\"http://stockpage.10jqka.com.cn/605488/finance/\" target=\"_blank\" code=\"hs_605488\" class=\"J_showCanvas\">福莱新材</a>\\n\\t\\t\\t\\t            </td>\\n            <td class=\" \">\\n            \\t<span>不确定</span>\\n            </td>\\n            <td class=\"tl\">\\n            \\t\\t\\t\\t\\t\\t<a href=\"http://www.iwencai.com/stockpick/search?typed=0&preParams=&ts=1&f=1&qs=yjygzy_ths_data&selfsectsn=&querytype=&searchfilter=&tid=stockpick&w=605488+%E4%B8%9A%E7%BB%A9%E9%A2%84%E5%91%8A&refCountId=data_55eff2bf_980\" target=\"_blank\">公司预计2021年1-6月经营业绩同比不会发生重大不利变化。</a>\\n\\t\\t\\t\\t\\t            </td>\\n            <td class =\" \">\\n            \\t-            </td>\\n            <td class=\" c-rise\">3421.76万</td>\\n            <td class=\"tc cur\">2021-05-12</td>\\n        </tr>\\n                <tr class=\"even\">\\n            <td>24</td>\\n            <td class=\"  linkToGghq\">\\n\\t\\t\\t\\t\\t\\t\\t\\t\\t<a href=\"http://stockpage.10jqka.com.cn/300988/finance/\" target=\"_blank\" class=\"stockCode\">300988</a>\\n\\t\\t\\t\\t\\t\\t\\t</td>\\n            <td class=\"linkToGghq\">\\n            \\t\\t\\t\\t\\t\\t<a href=\"http://stockpage.10jqka.com.cn/300988/finance/\" target=\"_blank\" code=\"hs_300988\" class=\"J_showCanvas\">津荣天宇</a>\\n\\t\\t\\t\\t            </td>\\n            <td class=\" c-rise\">\\n            \\t<span>业绩预增</span>\\n            </td>\\n            <td class=\"tl\">\\n            \\t\\t\\t\\t\\t\\t<a href=\"http://www.iwencai.com/stockpick/search?typed=0&preParams=&ts=1&f=1&qs=yjygzy_ths_data&selfsectsn=&querytype=&searchfilter=&tid=stockpick&w=300988+%E4%B8%9A%E7%BB%A9%E9%A2%84%E5%91%8A&refCountId=data_55eff2bf_980\" target=\"_blank\">净利润3230万元至3380万元,增长幅度为31.71%至37.82%</a>\\n\\t\\t\\t\\t\\t            </td>\\n            <td class =\" c-rise\">\\n            \\t37.82            </td>\\n            <td class=\" c-rise\">2452.42万</td>\\n            <td class=\"tc cur\">2021-05-11</td>\\n        </tr>\\n                <tr >\\n            <td>25</td>\\n            <td class=\"  linkToGghq\">\\n\\t\\t\\t\\t\\t\\t\\t\\t\\t<a href=\"http://stockpage.10jqka.com.cn/300990/finance/\" target=\"_blank\" class=\"stockCode\">300990</a>\\n\\t\\t\\t\\t\\t\\t\\t</td>\\n            <td class=\"linkToGghq\">\\n            \\t\\t\\t\\t\\t\\t<a href=\"http://stockpage.10jqka.com.cn/300990/finance/\" target=\"_blank\" code=\"hs_300990\" class=\"J_showCanvas\">同飞股份</a>\\n\\t\\t\\t\\t            </td>\\n            <td class=\" c-rise\">\\n            \\t<span>业绩预增</span>\\n            </td>\\n            <td class=\"tl\">\\n            \\t\\t\\t\\t\\t\\t<a href=\"http://www.iwencai.com/stockpick/search?typed=0&preParams=&ts=1&f=1&qs=yjygzy_ths_data&selfsectsn=&querytype=&searchfilter=&tid=stockpick&w=300990+%E4%B8%9A%E7%BB%A9%E9%A2%84%E5%91%8A&refCountId=data_55eff2bf_980\" target=\"_blank\">净利润5897.00万元至6384.06万元,增长幅度为18.63%至28.43%</a>\\n\\t\\t\\t\\t\\t            </td>\\n            <td class =\" c-rise\">\\n            \\t28.43            </td>\\n            <td class=\" c-rise\">4970.89万</td>\\n            <td class=\"tc cur\">2021-05-11</td>\\n        </tr>\\n                <tr class=\"even\">\\n            <td>26</td>\\n            <td class=\"  linkToGghq\">\\n\\t\\t\\t\\t\\t\\t\\t\\t\\t<a href=\"http://stockpage.10jqka.com.cn/605189/finance/\" target=\"_blank\" class=\"stockCode\">605189</a>\\n\\t\\t\\t\\t\\t\\t\\t</td>\\n            <td class=\"linkToGghq\">\\n            \\t\\t\\t\\t\\t\\t<a href=\"http://stockpage.10jqka.com.cn/605189/finance/\" target=\"_blank\" code=\"hs_605189\" class=\"J_showCanvas\">富春染织</a>\\n\\t\\t\\t\\t            </td>\\n            <td class=\" c-rise\">\\n            \\t<span>业绩大幅上升</span>\\n            </td>\\n            <td class=\"tl\">\\n            \\t\\t\\t\\t\\t\\t<a href=\"http://www.iwencai.com/stockpick/search?typed=0&preParams=&ts=1&f=1&qs=yjygzy_ths_data&selfsectsn=&querytype=&searchfilter=&tid=stockpick&w=605189+%E4%B8%9A%E7%BB%A9%E9%A2%84%E5%91%8A&refCountId=data_55eff2bf_980\" target=\"_blank\">净利润7680.71万元至8380.71万元,增长幅度为213.58%至242.16%</a>\\n\\t\\t\\t\\t\\t            </td>\\n            <td class =\" c-rise\">\\n            \\t242.16            </td>\\n            <td class=\" c-rise\">2449.38万</td>\\n            <td class=\"tc cur\">2021-05-11</td>\\n        </tr>\\n                <tr >\\n            <td>27</td>\\n            <td class=\"  linkToGghq\">\\n\\t\\t\\t\\t\\t\\t\\t\\t\\t<a href=\"http://stockpage.10jqka.com.cn/300987/finance/\" target=\"_blank\" class=\"stockCode\">300987</a>\\n\\t\\t\\t\\t\\t\\t\\t</td>\\n            <td class=\"linkToGghq\">\\n            \\t\\t\\t\\t\\t\\t<a href=\"http://stockpage.10jqka.com.cn/300987/finance/\" target=\"_blank\" code=\"hs_300987\" class=\"J_showCanvas\">川网传媒</a>\\n\\t\\t\\t\\t            </td>\\n            <td class=\" c-rise\">\\n            \\t<span>业绩预增</span>\\n            </td>\\n            <td class=\"tl\">\\n            \\t\\t\\t\\t\\t\\t<a href=\"http://www.iwencai.com/stockpick/search?typed=0&preParams=&ts=1&f=1&qs=yjygzy_ths_data&selfsectsn=&querytype=&searchfilter=&tid=stockpick&w=300987+%E4%B8%9A%E7%BB%A9%E9%A2%84%E5%91%8A&refCountId=data_55eff2bf_980\" target=\"_blank\">扣非后净利润1749.24万元至1831.73万元,增长幅度为5.18%至10.14%</a>\\n\\t\\t\\t\\t\\t            </td>\\n            <td class =\" \">\\n            \\t-            </td>\\n            <td class=\" c-rise\">1818.97万</td>\\n            <td class=\"tc cur\">2021-05-10</td>\\n        </tr>\\n                <tr class=\"even\">\\n            <td>28</td>\\n            <td class=\"  linkToGghq\">\\n\\t\\t\\t\\t\\t\\t\\t\\t\\t<a href=\"http://stockpage.10jqka.com.cn/605196/finance/\" target=\"_blank\" class=\"stockCode\">605196</a>\\n\\t\\t\\t\\t\\t\\t\\t</td>\\n            <td class=\"linkToGghq\">\\n            \\t\\t\\t\\t\\t\\t<a href=\"http://stockpage.10jqka.com.cn/605196/finance/\" target=\"_blank\" code=\"hs_605196\" class=\"J_showCanvas\">华通线缆</a>\\n\\t\\t\\t\\t            </td>\\n            <td class=\" c-rise\">\\n            \\t<span>业绩预盈</span>\\n            </td>\\n            <td class=\"tl\">\\n            \\t\\t\\t\\t\\t\\t<a href=\"http://www.iwencai.com/stockpick/search?typed=0&preParams=&ts=1&f=1&qs=yjygzy_ths_data&selfsectsn=&querytype=&searchfilter=&tid=stockpick&w=605196+%E4%B8%9A%E7%BB%A9%E9%A2%84%E5%91%8A&refCountId=data_55eff2bf_980\" target=\"_blank\">扣非后净利润5903.97万元至6760.45万元,增长幅度为-4.93%至8.86%</a>\\n\\t\\t\\t\\t\\t            </td>\\n            <td class =\" \">\\n            \\t-            </td>\\n            <td class=\" \">-</td>\\n            <td class=\"tc cur\">2021-05-10</td>\\n        </tr>\\n                <tr >\\n            <td>29</td>\\n            <td class=\"  linkToGghq\">\\n\\t\\t\\t\\t\\t\\t\\t\\t\\t<a href=\"http://stockpage.10jqka.com.cn/688538/finance/\" target=\"_blank\" class=\"stockCode\">688538</a>\\n\\t\\t\\t\\t\\t\\t\\t</td>\\n            <td class=\"linkToGghq\">\\n            \\t\\t\\t\\t\\t\\t<a href=\"http://stockpage.10jqka.com.cn/688538/finance/\" target=\"_blank\" code=\"hs_688538\" class=\"J_showCanvas\">和辉光电</a>\\n\\t\\t\\t\\t            </td>\\n            <td class=\" c-rise\">\\n            \\t<span>预计减亏</span>\\n            </td>\\n            <td class=\"tl\">\\n            \\t\\t\\t\\t\\t\\t<a href=\"http://www.iwencai.com/stockpick/search?typed=0&preParams=&ts=1&f=1&qs=yjygzy_ths_data&selfsectsn=&querytype=&searchfilter=&tid=stockpick&w=688538+%E4%B8%9A%E7%BB%A9%E9%A2%84%E5%91%8A&refCountId=data_55eff2bf_980\" target=\"_blank\">净利润-54500万元至-45000万元,增长幅度为0.23%至17.62%</a>\\n\\t\\t\\t\\t\\t            </td>\\n            <td class =\" c-rise\">\\n            \\t17.62            </td>\\n            <td class=\" c-fall\">-5.46亿</td>\\n            <td class=\"tc cur\">2021-05-10</td>\\n        </tr>\\n                <tr class=\"even\">\\n            <td>30</td>\\n            <td class=\"  linkToGghq\">\\n\\t\\t\\t\\t\\t\\t\\t\\t\\t<a href=\"http://stockpage.10jqka.com.cn/001203/finance/\" target=\"_blank\" class=\"stockCode\">001203</a>\\n\\t\\t\\t\\t\\t\\t\\t</td>\\n            <td class=\"linkToGghq\">\\n            \\t\\t\\t\\t\\t\\t<a href=\"http://stockpage.10jqka.com.cn/001203/finance/\" target=\"_blank\" code=\"hs_001203\" class=\"J_showCanvas\">大中矿业</a>\\n\\t\\t\\t\\t            </td>\\n            <td class=\" c-rise\">\\n            \\t<span>业绩大幅上升</span>\\n            </td>\\n            <td class=\"tl\">\\n            \\t\\t\\t\\t\\t\\t<a href=\"http://www.iwencai.com/stockpick/search?typed=0&preParams=&ts=1&f=1&qs=yjygzy_ths_data&selfsectsn=&querytype=&searchfilter=&tid=stockpick&w=001203+%E4%B8%9A%E7%BB%A9%E9%A2%84%E5%91%8A&refCountId=data_55eff2bf_980\" target=\"_blank\">净利润55000万元至65000万元,增长幅度为455.09%至556.02%</a>\\n\\t\\t\\t\\t\\t            </td>\\n            <td class =\" c-rise\">\\n            \\t556.02            </td>\\n            <td class=\" c-rise\">9928.30万</td>\\n            <td class=\"tc cur\">2021-05-07</td>\\n        </tr>\\n                <tr >\\n            <td>31</td>\\n            <td class=\"  linkToGghq\">\\n\\t\\t\\t\\t\\t\\t\\t\\t\\t<a href=\"http://stockpage.10jqka.com.cn/002840/finance/\" target=\"_blank\" class=\"stockCode\">002840</a>\\n\\t\\t\\t\\t\\t\\t\\t</td>\\n            <td class=\"linkToGghq\">\\n            \\t\\t\\t\\t\\t\\t<a href=\"http://stockpage.10jqka.com.cn/002840/finance/\" target=\"_blank\" code=\"hs_002840\" class=\"J_showCanvas\">华统股份</a>\\n\\t\\t\\t\\t            </td>\\n            <td class=\" c-rise\">\\n            \\t<span>业绩大幅上升</span>\\n            </td>\\n            <td class=\"tl\">\\n            \\t\\t\\t\\t\\t\\t<a href=\"http://www.iwencai.com/stockpick/search?typed=0&preParams=&ts=1&f=1&qs=yjygzy_ths_data&selfsectsn=&querytype=&searchfilter=&tid=stockpick&w=002840+%E4%B8%9A%E7%BB%A9%E9%A2%84%E5%91%8A&refCountId=data_55eff2bf_980\" target=\"_blank\">净利润18000万元至21000万元,增长幅度为139.34%至179.23%</a>\\n\\t\\t\\t\\t\\t            </td>\\n            <td class =\" c-rise\">\\n            \\t179.23            </td>\\n            <td class=\" c-rise\">7520.61万</td>\\n            <td class=\"tc cur\">2021-05-07</td>\\n        </tr>\\n                <tr class=\"even\">\\n            <td>32</td>\\n            <td class=\"  linkToGghq\">\\n\\t\\t\\t\\t\\t\\t\\t\\t\\t<a href=\"http://stockpage.10jqka.com.cn/601665/finance/\" target=\"_blank\" class=\"stockCode\">601665</a>\\n\\t\\t\\t\\t\\t\\t\\t</td>\\n            <td class=\"linkToGghq\">\\n            \\t\\t\\t\\t\\t\\t<a href=\"http://stockpage.10jqka.com.cn/601665/finance/\" target=\"_blank\" code=\"hs_601665\" class=\"J_showCanvas\">齐鲁银行</a>\\n\\t\\t\\t\\t            </td>\\n            <td class=\" c-rise\">\\n            \\t<span>业绩预增</span>\\n            </td>\\n            <td class=\"tl\">\\n            \\t\\t\\t\\t\\t\\t<a href=\"http://www.iwencai.com/stockpick/search?typed=0&preParams=&ts=1&f=1&qs=yjygzy_ths_data&selfsectsn=&querytype=&searchfilter=&tid=stockpick&w=601665+%E4%B8%9A%E7%BB%A9%E9%A2%84%E5%91%8A&refCountId=data_55eff2bf_980\" target=\"_blank\">净利润144000万元至149000万元,增长幅度为10%至13%</a>\\n\\t\\t\\t\\t\\t            </td>\\n            <td class =\" c-rise\">\\n            \\t13.00            </td>\\n            <td class=\" c-rise\">13.16亿</td>\\n            <td class=\"tc cur\">2021-05-07</td>\\n        </tr>\\n                <tr >\\n            <td>33</td>\\n            <td class=\"  linkToGghq\">\\n\\t\\t\\t\\t\\t\\t\\t\\t\\t<a href=\"http://stockpage.10jqka.com.cn/603836/finance/\" target=\"_blank\" class=\"stockCode\">603836</a>\\n\\t\\t\\t\\t\\t\\t\\t</td>\\n            <td class=\"linkToGghq\">\\n            \\t\\t\\t\\t\\t\\t<a href=\"http://stockpage.10jqka.com.cn/603836/finance/\" target=\"_blank\" code=\"hs_603836\" class=\"J_showCanvas\">海程邦达</a>\\n\\t\\t\\t\\t            </td>\\n            <td class=\" c-rise\">\\n            \\t<span>业绩预增</span>\\n            </td>\\n            <td class=\"tl\">\\n            \\t\\t\\t\\t\\t\\t<a href=\"http://www.iwencai.com/stockpick/search?typed=0&preParams=&ts=1&f=1&qs=yjygzy_ths_data&selfsectsn=&querytype=&searchfilter=&tid=stockpick&w=603836+%E4%B8%9A%E7%BB%A9%E9%A2%84%E5%91%8A&refCountId=data_55eff2bf_980\" target=\"_blank\">净利润10201.88万元至12468.96万元,增长幅度为6.28%至29.90%</a>\\n\\t\\t\\t\\t\\t            </td>\\n            <td class =\" c-rise\">\\n            \\t29.90            </td>\\n            <td class=\" c-rise\">9598.68万</td>\\n            <td class=\"tc cur\">2021-05-07</td>\\n        </tr>\\n                <tr class=\"even\">\\n            <td>34</td>\\n            <td class=\"  linkToGghq\">\\n\\t\\t\\t\\t\\t\\t\\t\\t\\t<a href=\"http://stockpage.10jqka.com.cn/605499/finance/\" target=\"_blank\" class=\"stockCode\">605499</a>\\n\\t\\t\\t\\t\\t\\t\\t</td>\\n            <td class=\"linkToGghq\">\\n            \\t\\t\\t\\t\\t\\t<a href=\"http://stockpage.10jqka.com.cn/605499/finance/\" target=\"_blank\" code=\"hs_605499\" class=\"J_showCanvas\">东鹏饮料</a>\\n\\t\\t\\t\\t            </td>\\n            <td class=\" c-rise\">\\n            \\t<span>业绩大幅上升</span>\\n            </td>\\n            <td class=\"tl\">\\n            \\t\\t\\t\\t\\t\\t<a href=\"http://www.iwencai.com/stockpick/search?typed=0&preParams=&ts=1&f=1&qs=yjygzy_ths_data&selfsectsn=&querytype=&searchfilter=&tid=stockpick&w=605499+%E4%B8%9A%E7%BB%A9%E9%A2%84%E5%91%8A&refCountId=data_55eff2bf_980\" target=\"_blank\">净利润57000万元至72000万元,增长幅度为29.16%至63.15%</a>\\n\\t\\t\\t\\t\\t            </td>\\n            <td class =\" c-rise\">\\n            \\t63.15            </td>\\n            <td class=\" c-rise\">4.41亿</td>\\n            <td class=\"tc cur\">2021-05-07</td>\\n        </tr>\\n                <tr >\\n            <td>35</td>\\n            <td class=\"  linkToGghq\">\\n\\t\\t\\t\\t\\t\\t\\t\\t\\t<a href=\"http://stockpage.10jqka.com.cn/300989/finance/\" target=\"_blank\" class=\"stockCode\">300989</a>\\n\\t\\t\\t\\t\\t\\t\\t</td>\\n            <td class=\"linkToGghq\">\\n            \\t\\t\\t\\t\\t\\t<a href=\"http://stockpage.10jqka.com.cn/300989/finance/\" target=\"_blank\" code=\"hs_300989\" class=\"J_showCanvas\">蕾奥规划</a>\\n\\t\\t\\t\\t            </td>\\n            <td class=\" c-rise\">\\n            \\t<span>业绩预增</span>\\n            </td>\\n            <td class=\"tl\">\\n            \\t\\t\\t\\t\\t\\t<a href=\"http://www.iwencai.com/stockpick/search?typed=0&preParams=&ts=1&f=1&qs=yjygzy_ths_data&selfsectsn=&querytype=&searchfilter=&tid=stockpick&w=300989+%E4%B8%9A%E7%BB%A9%E9%A2%84%E5%91%8A&refCountId=data_55eff2bf_980\" target=\"_blank\">净利润2800万元至3000万元,增长幅度为4.42%至11.88%</a>\\n\\t\\t\\t\\t\\t            </td>\\n            <td class =\" c-rise\">\\n            \\t11.88            </td>\\n            <td class=\" c-rise\">2681.50万</td>\\n            <td class=\"tc cur\">2021-05-06</td>\\n        </tr>\\n                <tr class=\"even\">\\n            <td>36</td>\\n            <td class=\"  linkToGghq\">\\n\\t\\t\\t\\t\\t\\t\\t\\t\\t<a href=\"http://stockpage.10jqka.com.cn/000166/finance/\" target=\"_blank\" class=\"stockCode\">000166</a>\\n\\t\\t\\t\\t\\t\\t\\t</td>\\n            <td class=\"linkToGghq\">\\n            \\t\\t\\t\\t\\t\\t<a href=\"http://stockpage.10jqka.com.cn/000166/finance/\" target=\"_blank\" code=\"hs_000166\" class=\"J_showCanvas\">申万宏源</a>\\n\\t\\t\\t\\t            </td>\\n            <td class=\" \">\\n            \\t<span>不确定</span>\\n            </td>\\n            <td class=\"tl\">\\n            \\t\\t\\t\\t\\t\\t<a href=\"http://www.iwencai.com/stockpick/search?typed=0&preParams=&ts=1&f=1&qs=yjygzy_ths_data&selfsectsn=&querytype=&searchfilter=&tid=stockpick&w=000166+%E4%B8%9A%E7%BB%A9%E9%A2%84%E5%91%8A&refCountId=data_55eff2bf_980\" target=\"_blank\">不确定</a>\\n\\t\\t\\t\\t\\t            </td>\\n            <td class =\" \">\\n            \\t-            </td>\\n            <td class=\" c-rise\">40.35亿</td>\\n            <td class=\"tc cur\">2021-04-30</td>\\n        </tr>\\n                <tr >\\n            <td>37</td>\\n            <td class=\"  linkToGghq\">\\n\\t\\t\\t\\t\\t\\t\\t\\t\\t<a href=\"http://stockpage.10jqka.com.cn/000408/finance/\" target=\"_blank\" class=\"stockCode\">000408</a>\\n\\t\\t\\t\\t\\t\\t\\t</td>\\n            <td class=\"linkToGghq\">\\n            \\t\\t\\t\\t\\t\\t<a href=\"http://stockpage.10jqka.com.cn/000408/finance/\" target=\"_blank\" code=\"hs_000408\" class=\"J_showCanvas\">*ST藏格</a>\\n\\t\\t\\t\\t            </td>\\n            <td class=\" c-rise\">\\n            \\t<span>预计扭亏</span>\\n            </td>\\n            <td class=\"tl\">\\n            \\t\\t\\t\\t\\t\\t<a href=\"http://www.iwencai.com/stockpick/search?typed=0&preParams=&ts=1&f=1&qs=yjygzy_ths_data&selfsectsn=&querytype=&searchfilter=&tid=stockpick&w=000408+%E4%B8%9A%E7%BB%A9%E9%A2%84%E5%91%8A&refCountId=data_55eff2bf_980\" target=\"_blank\">净利润30000万元至38000万元,增长幅度为311.47%至367.86%</a>\\n\\t\\t\\t\\t\\t            </td>\\n            <td class =\" c-rise\">\\n            \\t367.86            </td>\\n            <td class=\" c-rise\">1.81亿</td>\\n            <td class=\"tc cur\">2021-04-30</td>\\n        </tr>\\n                <tr class=\"even\">\\n            <td>38</td>\\n            <td class=\"  linkToGghq\">\\n\\t\\t\\t\\t\\t\\t\\t\\t\\t<a href=\"http://stockpage.10jqka.com.cn/000415/finance/\" target=\"_blank\" class=\"stockCode\">000415</a>\\n\\t\\t\\t\\t\\t\\t\\t</td>\\n            <td class=\"linkToGghq\">\\n            \\t\\t\\t\\t\\t\\t<a href=\"http://stockpage.10jqka.com.cn/000415/finance/\" target=\"_blank\" code=\"hs_000415\" class=\"J_showCanvas\">渤海租赁</a>\\n\\t\\t\\t\\t            </td>\\n            <td class=\" c-fall\">\\n            \\t<span>预计续亏</span>\\n            </td>\\n            <td class=\"tl\">\\n            \\t\\t\\t\\t\\t\\t<a href=\"http://www.iwencai.com/stockpick/search?typed=0&preParams=&ts=1&f=1&qs=yjygzy_ths_data&selfsectsn=&querytype=&searchfilter=&tid=stockpick&w=000415+%E4%B8%9A%E7%BB%A9%E9%A2%84%E5%91%8A&refCountId=data_55eff2bf_980\" target=\"_blank\">预计公司2021年1-6月累计净利润仍为亏损。</a>\\n\\t\\t\\t\\t\\t            </td>\\n            <td class =\" \">\\n            \\t-            </td>\\n            <td class=\" c-fall\">-25.14亿</td>\\n            <td class=\"tc cur\">2021-04-30</td>\\n        </tr>\\n                <tr >\\n            <td>39</td>\\n            <td class=\"  linkToGghq\">\\n\\t\\t\\t\\t\\t\\t\\t\\t\\t<a href=\"http://stockpage.10jqka.com.cn/000681/finance/\" target=\"_blank\" class=\"stockCode\">000681</a>\\n\\t\\t\\t\\t\\t\\t\\t</td>\\n            <td class=\"linkToGghq\">\\n            \\t\\t\\t\\t\\t\\t<a href=\"http://stockpage.10jqka.com.cn/000681/finance/\" target=\"_blank\" code=\"hs_000681\" class=\"J_showCanvas\">视觉中国</a>\\n\\t\\t\\t\\t            </td>\\n            <td class=\" c-rise\">\\n            \\t<span>业绩大幅上升</span>\\n            </td>\\n            <td class=\"tl\">\\n            \\t\\t\\t\\t\\t\\t<a href=\"http://www.iwencai.com/stockpick/search?typed=0&preParams=&ts=1&f=1&qs=yjygzy_ths_data&selfsectsn=&querytype=&searchfilter=&tid=stockpick&w=000681+%E4%B8%9A%E7%BB%A9%E9%A2%84%E5%91%8A&refCountId=data_55eff2bf_980\" target=\"_blank\">净利润9500万元至11000万元,增长幅度为31.30%至52.03%</a>\\n\\t\\t\\t\\t\\t            </td>\\n            <td class =\" c-rise\">\\n            \\t52.03            </td>\\n            <td class=\" c-rise\">7235.46万</td>\\n            <td class=\"tc cur\">2021-04-30</td>\\n        </tr>\\n                <tr class=\"even\">\\n            <td>40</td>\\n            <td class=\"  linkToGghq\">\\n\\t\\t\\t\\t\\t\\t\\t\\t\\t<a href=\"http://stockpage.10jqka.com.cn/002002/finance/\" target=\"_blank\" class=\"stockCode\">002002</a>\\n\\t\\t\\t\\t\\t\\t\\t</td>\\n            <td class=\"linkToGghq\">\\n            \\t\\t\\t\\t\\t\\t<a href=\"http://stockpage.10jqka.com.cn/002002/finance/\" target=\"_blank\" code=\"hs_002002\" class=\"J_showCanvas\">鸿达兴业</a>\\n\\t\\t\\t\\t            </td>\\n            <td class=\" c-rise\">\\n            \\t<span>业绩大幅上升</span>\\n            </td>\\n            <td class=\"tl\">\\n            \\t\\t\\t\\t\\t\\t<a href=\"http://www.iwencai.com/stockpick/search?typed=0&preParams=&ts=1&f=1&qs=yjygzy_ths_data&selfsectsn=&querytype=&searchfilter=&tid=stockpick&w=002002+%E4%B8%9A%E7%BB%A9%E9%A2%84%E5%91%8A&refCountId=data_55eff2bf_980\" target=\"_blank\">净利润60000万元至75000万元,增长幅度为80.74%至125.93%</a>\\n\\t\\t\\t\\t\\t            </td>\\n            <td class =\" c-rise\">\\n            \\t125.93            </td>\\n            <td class=\" c-rise\">3.32亿</td>\\n            <td class=\"tc cur\">2021-04-30</td>\\n        </tr>\\n                <tr >\\n            <td>41</td>\\n            <td class=\"  linkToGghq\">\\n\\t\\t\\t\\t\\t\\t\\t\\t\\t<a href=\"http://stockpage.10jqka.com.cn/002006/finance/\" target=\"_blank\" class=\"stockCode\">002006</a>\\n\\t\\t\\t\\t\\t\\t\\t</td>\\n            <td class=\"linkToGghq\">\\n            \\t\\t\\t\\t\\t\\t<a href=\"http://stockpage.10jqka.com.cn/002006/finance/\" target=\"_blank\" code=\"hs_002006\" class=\"J_showCanvas\">精功科技</a>\\n\\t\\t\\t\\t            </td>\\n            <td class=\" c-rise\">\\n            \\t<span>业绩大幅上升</span>\\n            </td>\\n            <td class=\"tl\">\\n            \\t\\t\\t\\t\\t\\t<a href=\"http://www.iwencai.com/stockpick/search?typed=0&preParams=&ts=1&f=1&qs=yjygzy_ths_data&selfsectsn=&querytype=&searchfilter=&tid=stockpick&w=002006+%E4%B8%9A%E7%BB%A9%E9%A2%84%E5%91%8A&refCountId=data_55eff2bf_980\" target=\"_blank\">净利润3500万元至5000万元,增长幅度为371.06%至572.94%</a>\\n\\t\\t\\t\\t\\t            </td>\\n            <td class =\" c-rise\">\\n            \\t572.94            </td>\\n            <td class=\" c-rise\">743.01万</td>\\n            <td class=\"tc cur\">2021-04-30</td>\\n        </tr>\\n                <tr class=\"even\">\\n            <td>42</td>\\n            <td class=\"  linkToGghq\">\\n\\t\\t\\t\\t\\t\\t\\t\\t\\t<a href=\"http://stockpage.10jqka.com.cn/002021/finance/\" target=\"_blank\" class=\"stockCode\">002021</a>\\n\\t\\t\\t\\t\\t\\t\\t</td>\\n            <td class=\"linkToGghq\">\\n            \\t\\t\\t\\t\\t\\t<a href=\"http://stockpage.10jqka.com.cn/002021/finance/\" target=\"_blank\" code=\"hs_002021\" class=\"J_showCanvas\">ST中捷</a>\\n\\t\\t\\t\\t            </td>\\n            <td class=\" c-rise\">\\n            \\t<span>预计扭亏</span>\\n            </td>\\n            <td class=\"tl\">\\n            \\t\\t\\t\\t\\t\\t<a href=\"http://www.iwencai.com/stockpick/search?typed=0&preParams=&ts=1&f=1&qs=yjygzy_ths_data&selfsectsn=&querytype=&searchfilter=&tid=stockpick&w=002021+%E4%B8%9A%E7%BB%A9%E9%A2%84%E5%91%8A&refCountId=data_55eff2bf_980\" target=\"_blank\">净利润1000万元至1500万元,增长幅度为175.33%至213.00%</a>\\n\\t\\t\\t\\t\\t            </td>\\n            <td class =\" c-rise\">\\n            \\t213.00            </td>\\n            <td class=\" c-fall\">-1327.48万</td>\\n            <td class=\"tc cur\">2021-04-30</td>\\n        </tr>\\n                <tr >\\n            <td>43</td>\\n            <td class=\"  linkToGghq\">\\n\\t\\t\\t\\t\\t\\t\\t\\t\\t<a href=\"http://stockpage.10jqka.com.cn/002044/finance/\" target=\"_blank\" class=\"stockCode\">002044</a>\\n\\t\\t\\t\\t\\t\\t\\t</td>\\n            <td class=\"linkToGghq\">\\n            \\t\\t\\t\\t\\t\\t<a href=\"http://stockpage.10jqka.com.cn/002044/finance/\" target=\"_blank\" code=\"hs_002044\" class=\"J_showCanvas\">美年健康</a>\\n\\t\\t\\t\\t            </td>\\n            <td class=\" c-rise\">\\n            \\t<span>预计减亏</span>\\n            </td>\\n            <td class=\"tl\">\\n            \\t\\t\\t\\t\\t\\t<a href=\"http://www.iwencai.com/stockpick/search?typed=0&preParams=&ts=1&f=1&qs=yjygzy_ths_data&selfsectsn=&querytype=&searchfilter=&tid=stockpick&w=002044+%E4%B8%9A%E7%BB%A9%E9%A2%84%E5%91%8A&refCountId=data_55eff2bf_980\" target=\"_blank\">净利润-40000万元至-30000万元,增长幅度为48.87%至61.66%</a>\\n\\t\\t\\t\\t\\t            </td>\\n            <td class =\" c-rise\">\\n            \\t61.66            </td>\\n            <td class=\" c-fall\">-7.82亿</td>\\n            <td class=\"tc cur\">2021-04-30</td>\\n        </tr>\\n                <tr class=\"even\">\\n            <td>44</td>\\n            <td class=\"  linkToGghq\">\\n\\t\\t\\t\\t\\t\\t\\t\\t\\t<a href=\"http://stockpage.10jqka.com.cn/002049/finance/\" target=\"_blank\" class=\"stockCode\">002049</a>\\n\\t\\t\\t\\t\\t\\t\\t</td>\\n            <td class=\"linkToGghq\">\\n            \\t\\t\\t\\t\\t\\t<a href=\"http://stockpage.10jqka.com.cn/002049/finance/\" target=\"_blank\" code=\"hs_002049\" class=\"J_showCanvas\">紫光国微</a>\\n\\t\\t\\t\\t            </td>\\n            <td class=\" c-rise\">\\n            \\t<span>业绩大幅上升</span>\\n            </td>\\n            <td class=\"tl\">\\n            \\t\\t\\t\\t\\t\\t<a href=\"http://www.iwencai.com/stockpick/search?typed=0&preParams=&ts=1&f=1&qs=yjygzy_ths_data&selfsectsn=&querytype=&searchfilter=&tid=stockpick&w=002049+%E4%B8%9A%E7%BB%A9%E9%A2%84%E5%91%8A&refCountId=data_55eff2bf_980\" target=\"_blank\">净利润60289.03万元至80385.38万元,增长幅度为50.00%至100.00%</a>\\n\\t\\t\\t\\t\\t            </td>\\n            <td class =\" c-rise\">\\n            \\t100.00            </td>\\n            <td class=\" c-rise\">4.02亿</td>\\n            <td class=\"tc cur\">2021-04-30</td>\\n        </tr>\\n                <tr >\\n            <td>45</td>\\n            <td class=\"  linkToGghq\">\\n\\t\\t\\t\\t\\t\\t\\t\\t\\t<a href=\"http://stockpage.10jqka.com.cn/002053/finance/\" target=\"_blank\" class=\"stockCode\">002053</a>\\n\\t\\t\\t\\t\\t\\t\\t</td>\\n            <td class=\"linkToGghq\">\\n            \\t\\t\\t\\t\\t\\t<a href=\"http://stockpage.10jqka.com.cn/002053/finance/\" target=\"_blank\" code=\"hs_002053\" class=\"J_showCanvas\">云南能投</a>\\n\\t\\t\\t\\t            </td>\\n            <td class=\" c-fall\">\\n            \\t<span>业绩预降</span>\\n            </td>\\n            <td class=\"tl\">\\n            \\t\\t\\t\\t\\t\\t<a href=\"http://www.iwencai.com/stockpick/search?typed=0&preParams=&ts=1&f=1&qs=yjygzy_ths_data&selfsectsn=&querytype=&searchfilter=&tid=stockpick&w=002053+%E4%B8%9A%E7%BB%A9%E9%A2%84%E5%91%8A&refCountId=data_55eff2bf_980\" target=\"_blank\">净利润13343.31万元至15450.15万元,下降幅度为28.59%至17.31%</a>\\n\\t\\t\\t\\t\\t            </td>\\n            <td class =\" c-fall\">\\n            \\t-28.59            </td>\\n            <td class=\" c-rise\">1.87亿</td>\\n            <td class=\"tc cur\">2021-04-30</td>\\n        </tr>\\n                <tr class=\"even\">\\n            <td>46</td>\\n            <td class=\"  linkToGghq\">\\n\\t\\t\\t\\t\\t\\t\\t\\t\\t<a href=\"http://stockpage.10jqka.com.cn/002086/finance/\" target=\"_blank\" class=\"stockCode\">002086</a>\\n\\t\\t\\t\\t\\t\\t\\t</td>\\n            <td class=\"linkToGghq\">\\n            \\t\\t\\t\\t\\t\\t<a href=\"http://stockpage.10jqka.com.cn/002086/finance/\" target=\"_blank\" code=\"hs_002086\" class=\"J_showCanvas\">*ST东洋</a>\\n\\t\\t\\t\\t            </td>\\n            <td class=\" c-fall\">\\n            \\t<span>业绩预亏</span>\\n            </td>\\n            <td class=\"tl\">\\n            \\t\\t\\t\\t\\t\\t<a href=\"http://www.iwencai.com/stockpick/search?typed=0&preParams=&ts=1&f=1&qs=yjygzy_ths_data&selfsectsn=&querytype=&searchfilter=&tid=stockpick&w=002086+%E4%B8%9A%E7%BB%A9%E9%A2%84%E5%91%8A&refCountId=data_55eff2bf_980\" target=\"_blank\">净利润-2800万元至-1900万元,下降幅度为234.55%至191.3%</a>\\n\\t\\t\\t\\t\\t            </td>\\n            <td class =\" c-fall\">\\n            \\t-234.55            </td>\\n            <td class=\" c-rise\">2081.01万</td>\\n            <td class=\"tc cur\">2021-04-30</td>\\n        </tr>\\n                <tr >\\n            <td>47</td>\\n            <td class=\"  linkToGghq\">\\n\\t\\t\\t\\t\\t\\t\\t\\t\\t<a href=\"http://stockpage.10jqka.com.cn/002087/finance/\" target=\"_blank\" class=\"stockCode\">002087</a>\\n\\t\\t\\t\\t\\t\\t\\t</td>\\n            <td class=\"linkToGghq\">\\n            \\t\\t\\t\\t\\t\\t<a href=\"http://stockpage.10jqka.com.cn/002087/finance/\" target=\"_blank\" code=\"hs_002087\" class=\"J_showCanvas\">新野纺织</a>\\n\\t\\t\\t\\t            </td>\\n            <td class=\" c-fall\">\\n            \\t<span>业绩预降</span>\\n            </td>\\n            <td class=\"tl\">\\n            \\t\\t\\t\\t\\t\\t<a href=\"http://www.iwencai.com/stockpick/search?typed=0&preParams=&ts=1&f=1&qs=yjygzy_ths_data&selfsectsn=&querytype=&searchfilter=&tid=stockpick&w=002087+%E4%B8%9A%E7%BB%A9%E9%A2%84%E5%91%8A&refCountId=data_55eff2bf_980\" target=\"_blank\">净利润5737.96万元至8033.14万元,下降幅度为50%至30%</a>\\n\\t\\t\\t\\t\\t            </td>\\n            <td class =\" c-fall\">\\n            \\t-50.00            </td>\\n            <td class=\" c-rise\">1.15亿</td>\\n            <td class=\"tc cur\">2021-04-30</td>\\n        </tr>\\n                <tr class=\"even\">\\n            <td>48</td>\\n            <td class=\"  linkToGghq\">\\n\\t\\t\\t\\t\\t\\t\\t\\t\\t<a href=\"http://stockpage.10jqka.com.cn/002103/finance/\" target=\"_blank\" class=\"stockCode\">002103</a>\\n\\t\\t\\t\\t\\t\\t\\t</td>\\n            <td class=\"linkToGghq\">\\n            \\t\\t\\t\\t\\t\\t<a href=\"http://stockpage.10jqka.com.cn/002103/finance/\" target=\"_blank\" code=\"hs_002103\" class=\"J_showCanvas\">广博股份</a>\\n\\t\\t\\t\\t            </td>\\n            <td class=\" c-rise\">\\n            \\t<span>预计扭亏</span>\\n            </td>\\n            <td class=\"tl\">\\n            \\t\\t\\t\\t\\t\\t<a href=\"http://www.iwencai.com/stockpick/search?typed=0&preParams=&ts=1&f=1&qs=yjygzy_ths_data&selfsectsn=&querytype=&searchfilter=&tid=stockpick&w=002103+%E4%B8%9A%E7%BB%A9%E9%A2%84%E5%91%8A&refCountId=data_55eff2bf_980\" target=\"_blank\">净利润1000万元至1500万元,增长幅度为174.53%至211.79%</a>\\n\\t\\t\\t\\t\\t            </td>\\n            <td class =\" c-rise\">\\n            \\t211.79            </td>\\n            <td class=\" c-fall\">-1341.81万</td>\\n            <td class=\"tc cur\">2021-04-30</td>\\n        </tr>\\n                <tr >\\n            <td>49</td>\\n            <td class=\"  linkToGghq\">\\n\\t\\t\\t\\t\\t\\t\\t\\t\\t<a href=\"http://stockpage.10jqka.com.cn/002104/finance/\" target=\"_blank\" class=\"stockCode\">002104</a>\\n\\t\\t\\t\\t\\t\\t\\t</td>\\n            <td class=\"linkToGghq\">\\n            \\t\\t\\t\\t\\t\\t<a href=\"http://stockpage.10jqka.com.cn/002104/finance/\" target=\"_blank\" code=\"hs_002104\" class=\"J_showCanvas\">恒宝股份</a>\\n\\t\\t\\t\\t            </td>\\n            <td class=\" c-fall\">\\n            \\t<span>业绩预亏</span>\\n            </td>\\n            <td class=\"tl\">\\n            \\t\\t\\t\\t\\t\\t<a href=\"http://www.iwencai.com/stockpick/search?typed=0&preParams=&ts=1&f=1&qs=yjygzy_ths_data&selfsectsn=&querytype=&searchfilter=&tid=stockpick&w=002104+%E4%B8%9A%E7%BB%A9%E9%A2%84%E5%91%8A&refCountId=data_55eff2bf_980\" target=\"_blank\">净利润-500万元至-250万元,下降幅度为120.11%至110.06%</a>\\n\\t\\t\\t\\t\\t            </td>\\n            <td class =\" c-fall\">\\n            \\t-120.11            </td>\\n            <td class=\" c-rise\">2485.83万</td>\\n            <td class=\"tc cur\">2021-04-30</td>\\n        </tr>\\n                <tr class=\"even\">\\n            <td>50</td>\\n            <td class=\"  linkToGghq\">\\n\\t\\t\\t\\t\\t\\t\\t\\t\\t<a href=\"http://stockpage.10jqka.com.cn/002118/finance/\" target=\"_blank\" class=\"stockCode\">002118</a>\\n\\t\\t\\t\\t\\t\\t\\t</td>\\n            <td class=\"linkToGghq\">\\n            \\t\\t\\t\\t\\t\\t<a href=\"http://stockpage.10jqka.com.cn/002118/finance/\" target=\"_blank\" code=\"hs_002118\" class=\"J_showCanvas\">紫鑫药业</a>\\n\\t\\t\\t\\t            </td>\\n            <td class=\" c-rise\">\\n            \\t<span>预计减亏</span>\\n            </td>\\n            <td class=\"tl\">\\n            \\t\\t\\t\\t\\t\\t<a href=\"http://www.iwencai.com/stockpick/search?typed=0&preParams=&ts=1&f=1&qs=yjygzy_ths_data&selfsectsn=&querytype=&searchfilter=&tid=stockpick&w=002118+%E4%B8%9A%E7%BB%A9%E9%A2%84%E5%91%8A&refCountId=data_55eff2bf_980\" target=\"_blank\">净利润-19000万元至-14000万元,增长幅度为11.15%至34.53%</a>\\n\\t\\t\\t\\t\\t            </td>\\n            <td class =\" c-rise\">\\n            \\t34.53            </td>\\n            <td class=\" c-fall\">-2.14亿</td>\\n            <td class=\"tc cur\">2021-04-30</td>\\n        </tr>\\n                </tbody>\\n</table>\\n     <div class=\"m-page J-ajax-page\">\\n       &nbsp;<a class=\"cur\" href=\"javascript:void(0)\">1</a>&nbsp;&nbsp;<a class=\"changePage\" page=\"2\" href=\"javascript:void(0);\">2</a>&nbsp;&nbsp;<a class=\"changePage\" page=\"3\" href=\"javascript:void(0);\">3</a>&nbsp;&nbsp;<a class=\"changePage\" page=\"4\" href=\"javascript:void(0);\">4</a>&nbsp;&nbsp;<a class=\"changePage\" page=\"5\" href=\"javascript:void(0);\">5</a>&nbsp;&nbsp;<a class=\"changePage\" page=\"2\" href=\"javascript:void(0);\">下一页</a><a class=\"changePage\" page=\"10\" href=\"javascript:void(0);\">尾页</a><span class=\"page_info\">1/10</span>\\n     </div>\\n</div>\\n</div>\\n</div>\\n</div>\\n<script type=\"text/javascript\">document.write(footerCls)</script>    \\n<p>\\n        <a href=\"http://news.10jqka.com.cn/tzz/\" rel=\"nofollow\">投资者关系</a><span class=\"ff\">|</span>\\n        <a href=\"http://news.10jqka.com.cn/c/20100105/61833421.shtml\" rel=\"nofollow\">关于同花顺</a><span>|</span>\\n        <a href=\"http://download.10jqka.com.cn/\">股票软件</a><span>|</span>\\n        <a href=\"http://www.10jqka.com.cn/ia/pass_buck.php\" rel=\"nofollow\">法律声明</a><span>|</span>\\n        <a href=\"http://www.10jqka.com.cn/hexin_license.htm\" rel=\"nofollow\">运营许可</a><span>|</span>\\n        <a href=\"http://www.10jqka.com.cn/modules.php?name=what&amp;page=cooperate\" rel=\"nofollow\">内容合作</a><span>|</span>\\n        <a href=\"http://www.10jqka.com.cn/hexin_contact.htm\" rel=\"nofollow\">联系我们</a><span>|</span>\\n        <a href=\"http://news.10jqka.com.cn/list/link.shtml\" rel=\"nofollow\">友情链接</a><span>|</span>\\n        <!--<a href=\"http://news.10jqka.com.cn/msg/\" rel=\"nofollow\">网友意见箱</a><span>|</span>-->\\n        <a href=\"http://job.10jqka.com.cn/\" rel=\"nofollow\">招聘英才</a>\\n    </p>\\n\\t<p class=\"c333\">免责声明:本信息由同花顺金融研究中心提供，仅供参考，同花顺金融研究中心力求但不保证数据的完全准确，如有错漏请以中国证监会指定上市公司信息披露媒体为准，</p>\\n\\t<p class=\"c333\">同花顺金融研究中心不对因该资料全部或部分内容而引致的盈亏承担任何责任。用户个人对服务的使用承担风险。同花顺对此不作任何类型的担保。</p>\\n    <p class=\"c333\">Copyright Zhejiang Hithink Flush Information Network Co., Ltd. All rights reserved.</p>\\n    <p class=\"c333\"> 浙江核新同花顺网络信息股份有限公司版权所有</p>\\n</div>\\n<script type=\"text/javascript\">document.write(fixCls)</script>    \\n<div class=\"feedback\">\\n        <a href=\"###\" title=\"反馈\"></a>\\n        <div class=\"feedback-box\" style=\"display: none;\">\\n            <div class=\"hd\">\\n                <a href=\"###\" class=\"close\"></a>\\n                <h2 class=\"icon-iwc\">意见反馈</h2>\\n            </div>\\n            <div class=\"bd clearfix\">\\n                <p class=\"intro\">您有什么问题想要告诉我们？</p>\\n                <textarea class=\"txt\">如果您想对我们的产品提出意见或建议，请在这里填写，您的建议是同花顺数据进步的动力!</textarea>\\n                <p class=\"intro\">留下您的联系方式，以便我们向您反馈结果</p>\\n                <input type=\"text\" class=\"tel\" value=\"QQ/邮箱\"/>\\n                <p class=\"btnbox\"><input type=\"submit\" value=\"发表\" class=\"btn\"/></p>\\n            </div>\\n        </div>\\n    </div>\\n    <a href=\"###\" title=\"收藏\" class=\"collect\"></a>\\n    <a href=\"#\" title=\"置顶\" class=\"gotop\"></a>\\n</div>\\n<div class=\"page-mask\" style=\"display: none;\"></div>\\n<script>\\n\\t\\n\\tvar _hmt = _hmt || [];\\n\\t(function() {\\n\\t  var hm = document.createElement(\"script\");\\n\\t  hm.src = \"//hm.baidu.com/hm.js?60bad21af9c824a4a0530d5dbf4357ca\";\\n\\t  var s = document.getElementsByTagName(\"script\")[0]; \\n\\t  s.parentNode.insertBefore(hm, s);\\n\\t})();\\n\\t\\n\\tvar _hmt = _hmt || [];\\n\\t(function() {\\n\\t  var hm = document.createElement(\"script\");\\n\\t  hm.src = \"//hm.baidu.com/hm.js?78c58f01938e4d85eaf619eae71b4ed1\";\\n\\t  var s = document.getElementsByTagName(\"script\")[0]; \\n\\t  s.parentNode.insertBefore(hm, s);\\n\\t})();\\n\\t\\n\\tvar _hmt = _hmt || [];\\n\\t(function() {\\n\\t  var hm = document.createElement(\"script\");\\n\\t  hm.src = \"//hm.baidu.com/hm.js?f79b64788a4e377c608617fba4c736e2\";\\n\\t  var s = document.getElementsByTagName(\"script\")[0]; \\n\\t  s.parentNode.insertBefore(hm, s);\\n\\t})();\\n\\t\\n</script><!-- 变量用于ajax -->\\n\\t\\t<input type=\"hidden\" id=\"request\" value=\\'{\"yjyg\":\"\"}\\'>\\r\\n\\t\\t<input type=\"hidden\" id=\"baseUrl\" value=\\'ajax/yjyg\\'>\\r\\n\\t\\t<input type=\"hidden\" id=\"requestQuery\" value=\\'\\'><input type=\"hidden\" id=\"tjid\" value=\"yjyg\"/>\\n<input type=\"hidden\" id=\"cate_id\" value=\"40\"/>\\n<input type=\"hidden\" id=\"username\" value=\"业绩预告\"/>\\n\\n\\t<script type=\"text/javascript\" src=\"http://s.thsi.cn/cb?js/;jquery-1.8.3.min.js;/js/navigation/;jquery.bgiframe.min.js;jquery.ui.position.min.js;autocomplete-2.0.2.min.js;default-202008032137.min.js\" charset=\"utf-8\"></script>\\r\\n<script type=\"text/javascript\" charset=\"utf-8\" src=\"//s.thsi.cn/cb?/js/ta.min.20150914.js;/js/basic/f10-utils/1.4.1/thsc-f10-utils.js\"></script>\\r\\n<script src=\"//s.thsi.cn/cb?/js/autocomplete_iwencai.js\" type=\"text/javascript\"></script>\\r\\n<!-- PC客户端库 -->\\r\\n<script src=\"//s.thsi.cn/js/common/cefapi/1.5.5/cefApi.min.js\"></script>\\r\\n<script type=\"text/javascript\" src=\"//s.thsi.cn/js/datacenter/iwcxg.js\"></script>\\r\\n<!-- 轮播图 -->\\r\\n<script src=\"//s.thsi.cn/js/datacenter/financial/jquery.SuperSlide.2.1.1.js\"></script>\\r\\n<!-- 判断是否登录 -->\\r\\n<script type=\"text/javascript\" src=\"//s.thsi.cn/cb?js/home/;ths_core.min.js\"></script>\\r\\n<script src=\"//s.thsi.cn/js/datacenter/financial/judgeLoginCommon.js\"></script>\\r\\n<script>\\r\\n\\r\\n$(function(){\\r\\n    var slideopt = {\\r\\n        mainCell: \\'.slideList\\',\\r\\n        effect: \\'left\\',\\r\\n        autoPlay: true,\\r\\n        trigger: \\'mouseover\\',\\r\\n        easing: \\'swing\\',\\r\\n        delayTime: 2000,\\r\\n        interTime: 5000,\\r\\n        mouseOverStop: true,\\r\\n        pnLoop: false\\r\\n    };\\r\\n    $(\\'.slideBox1\\').slide(slideopt);\\r\\n    $(\\'.slideBox2\\').slide(slideopt);\\r\\n    $(\\'.slideBox .prev,.slideBox .next\\').live(\\'click\\',function(){\\r\\n        //点击统计代码\\r\\n        TA.log({id:\\'db_56ea713b_534\\'});\\r\\n    });\\r\\n});\\r\\n    \\r\\n</script>\\r\\n<script type=\"text/javascript\" src=\"//s.thsi.cn/cb?js/home/;ths_core.min.js;ths_quote.min.js;ths_index_v3.3.min.js\"></script>\\r\\n<script type=\"text/javascript\" src=\"//s.thsi.cn/js/home/v6/weblogin_v3.20170609.js\"></script>\\r\\n<!-- <script type=\"text/javascript\" src=\"//s.thsi.cn/js/datacenter/funds/main_v2-3.js\"></script> -->\\r\\n<!-- <script src=\"//basic.10jqka.com.cn/fe_components/l2_show/l2_show.js\"></script> -->\\r\\n<script src=\"//s.thsi.cn/js/webprivate/fe_components/l2_show/l2_show.js\"></script>\\r\\n<!-- <script src=\"/newJs/main_v2-4.js\"></script> -->\\r\\n<script src=\"//s.thsi.cn/website/datacenter/newJs/main_v2-4.js\"></script>\\r\\n<script type=\"text/javascript\" src=\"//s.thsi.cn/js/datacenter/dc-sidebar.js\"></script>\\r\\n<script type=\"text/javascript\" src=\"//s.thsi.cn/cb?js/ucenter/subMenu_v4.js\"></script>\\r\\n<script type=\"text/javascript\" src=\"//s.thsi.cn/js/datacenter/iwcxg.js\"></script>\\r\\n<script type=\"text/javascript\" src=\"//s.thsi.cn/js/datacenter/header-search.js\"></script>\\r\\n<script type=\"text/javascript\">\\r\\n\\r\\n    //TA.log({id:statId,fid:\\'cwfx,dbdatacenter\\'});\\r\\n\\r\\nvar statId = \\'db123yjyg\\';\\r\\nvar fidId = \\'data_cwfx\\';\\r\\n\\r\\nif (typeof(fidId)!=\"undefined\" && fidId!=null) {\\r\\n\\tTA.log({id:statId,fid:\\'info_gather,dbdatacenter,\\'+fidId});\\r\\n} else {\\r\\n\\tTA.log({id:statId,fid:\\'info_gather,dbdatacenter\\'});\\r\\n}\\r\\n\\r\\n</script>\\r\\n<!--[if IE]><script type=\"text/javascript\" src=\"//s.thsi.cn/cb?js/excanvas.min.js\"></script><![endif]-->\\r\\n<!--下面两个-->\\n<script type=\"text/javascript\" src=\"https://s.thsi.cn/cb?webprivate/client/js/clientJump_v3.js&20191105\" charset=\"utf-8\"></script>\\n<div id=\"new_stockInfo_con\" class=\"stockCanvas_con new_stockInfo_con stockInfo_constockCanvas_con\" style=\"width:614px;display:none\">\\r\\n    <div class=\"canvas_tab\">\\r\\n        <ul>\\r\\n            <li style=\"margin-right:6px;\"><span id=\\'hx_canvas_stock_name\\' class=\"can-span\" style=\"display:inline-block;\"></span></li>\\r\\n            <li style=\"margin-right:6px;\" class=\"active\"><a href=\"javascript:;\" class=\\'draw-type\\' id=\"changefsView\" style=\"_width:30px;\">分时</a></li>\\r\\n            <li><a href=\"javascript:;\" class=\"draw-type klView\" data-type=\\'0\\' style=\"border-right: medium none; _width:30px;\">日线</a></li>\\r\\n            <li><a href=\"javascript:;\" class=\"draw-type klView\" data-type=\\'1\\' style=\"_width:30px;\">周线</a></li>\\r\\n            <li><a href=\"javascript:;\" class=\"draw-type klView\" data-type=\\'2\\' style=\"border-left: medium none; _width:30px;\">月线</a></li>\\r\\n            <li data-role=\"fuquan-status\" class=\\'fuquan-status\\' style=\"margin-left:4px;display:none;\">\\r\\n                <a href=\"javascript:;\" data-fuquan=\"1\" style=\"_width:30px;\">前复权<span class=\"canvas-list-arrow\">arrow</span></a>\\r\\n                <div class=\\'khover\\' style=\\'display:none;\\' >\\r\\n                    <a data-type=\"1\" href=\"javascript:;\">前复权</a>\\r\\n                    <a data-type=\"2\" href=\"javascript:;\">后复权</a>\\r\\n                    <a data-type=\"0\" href=\"javascript:;\">不复权</a>\\r\\n                </div>\\r\\n            </li>\\r\\n        </ul>\\r\\n    </div>\\r\\n    <div class=\"canvas-btn-box\" style=\"display:none;\">\\r\\n        <ul>\\r\\n            <li><a href=\"javascript:;\" id=\"preEvent\" class=\"canvas-get-pre\"></a></li>\\r\\n            <li><a href=\"javascript:;\" id=\"nextEvent\" class=\"canvas-get-next\" ></a></li>\\r\\n            <li><a href=\"javascript:;\" id=\"zoomInEvent\" class=\"canvas-zoom-in\"></a></li>\\r\\n            <li><a href=\"javascript:;\" id=\"zoomOutEvent\" class=\"canvas-zoom-out\"></a></li>\\r\\n        </ul>\\r\\n    </div>\\r\\n    <div class=\"canvas_target_fun\">\\r\\n        <ul>\\r\\n            <li class=\"active\"><a href=\"javascript:;\" data-type=\"MACD\" >MACD</a></li>\\r\\n            <li><a href=\"javascript:;\" data-type=\"KDJ\" >KDJ</a></li>\\r\\n            <li><a href=\"javascript:;\" data-type=\"RSI\" >RSI</a></li>\\r\\n            <li><a href=\"javascript:;\" data-type=\"BOLL\" >BOLL</a></li>\\r\\n            <li><a href=\"javascript:;\" data-type=\"W&R\" >W&R</a></li>\\r\\n            <li><a href=\"javascript:;\" data-type=\"ASI\" >ASI</a></li>\\r\\n            <li><a href=\"javascript:;\" data-type=\"BIAS\" >BIAS</a></li>\\r\\n            <li><a href=\"javascript:;\" data-type=\"VR\" >VR</a></li>\\r\\n        </ul>\\r\\n    </div>\\r\\n    <div id=\"canvasPanel\" class=\"canvas-panel\" style=\"width: 613px; height:400px; position: relative; display:none;\">\\r\\n        <div class=\"hx-powered-logo unRemovePanel\">Powered by 10jqka</div>\\r\\n        <div class=\"opacity-stock-name\" style=\"display:none;\"><span id=\\'canvasStockInfo\\'></span><span id=\\'suspensionId\\' style=\\'display:none;\\'>停牌</span></div>\\r\\n        <canvas id=\\'tcanvas\\' width=\"613\" height=\"400\"></canvas>\\r\\n    </div>\\r\\n    <div class=\"canvas-panel-mask\"></div>\\r\\n</div>\\r\\n<div id=\"stockInfo_trangle\" class=\"stockInfo_trangle stockinfo_trangle_left\" style=\"display: none;\">\\r\\n    <div class=\"trangle_inner\"></div>\\r\\n</div>\\r\\n\\r\\n<!--webHQ顶部资源文件-->\\r\\n<link href=\"//s.thsi.cn/js/webHQ/1.1.5/main.min.css\" rel=\"stylesheet\">\\r\\n<script src=\"//s.thsi.cn/js/webHQ/resources/excanvas.min.js\"></script>\\r\\n<script src=\"//s.thsi.cn/js/datacenter/require.min.js\"></script>\\r\\n<!--webHQ底部资源文件-->\\r\\n<script src=\"//s.thsi.cn/js/datacenter/dataProvider.js\"></script>\\r\\n<!--webHQ页面操作-->\\r\\n<script src=\"//s.thsi.cn/js/datacenter/hqopt_v1.min.js\"></script></body>\\n<!-- 轮播图 -->\\n</html>\\n'"
      ]
     },
     "execution_count": 2,
     "metadata": {},
     "output_type": "execute_result"
    }
   ],
   "source": [
    "import requests\n",
    "result=requests.get('http://data.10jqka.com.cn/financial/yjyg/')\n",
    "result.text"
   ]
  },
  {
   "cell_type": "code",
   "execution_count": 377,
   "metadata": {},
   "outputs": [
    {
     "data": {
      "text/plain": [
       "'     <div class=\"page-loading\" style=\"display: none;\">\\n        <div class=\"mask\"></div>\\n        <div class=\"loading-img\"></div>\\n    </div>\\n     <table class=\"m-table J-ajax-table J-canvas-table\">\\n        <thead>\\n        <tr class=\"row2\">\\n            <th width=\"40\" >序号</th>\\n            <th width=\"78\" ><a href=\\'javascript:void(0);\\' class=\"J-ajax-a\" field=\\'stockcode\\'  colidx=\"1\"><a href=\"javascript:void(0);\" class=\"J-ajax-a\" field=\"STOCKCODE\">股票代码</a><i class=\"arr-down\"></i></th>\\n            <th width=\"78\" >股票简称</th>\\n            <th width=\"115\" ><a href=\\'javascript:void(0);\\' class=\"J-ajax-a\" field=\\'summ\\' ><a href=\"javascript:void(0);\" class=\"J-ajax-a\">业绩预告类型</a><i class=\"arr-down\"></i></th>\\n            <th width=\"350\">业绩预告摘要</th>\\n            <th width=\"97\" ><a href=\"javascript:void(0);\" class=\"J-ajax-a\" field=\\'jlrbl\\' >净利润变动幅度<br/>(%)</a><i class=\"arr-down\"></i></th>\\n            <th width=\"135\" ><a href=\"javascript:void(0);\" class=\"J-ajax-a\" field=\\'SNTQJLR\\' >上年同期净利润<br/>(元)</a><i class=\"arr-down\"></i></th>\\n            <th width=\"104\" class=\"cur\"><a href=\"javascript:void(0);\" class=\"J-ajax-a\" field=\\'enddate\\' order=\"asc\">公告日期</a><i class=\"arr-down\"></i></th>\\n        </tr>\\n        </thead>\\n        <tbody>\\n                <tr >\\n            <td>1</td>\\n            <td class=\" linkToGghq\">\\n\\t\\t\\t\\t\\t\\t\\t\\t\\t<a href=\"http://stockpage.10jqka.com.cn/001206/finance/\" target=\"_blank\" class=\"stockCode\">001206</a>\\n\\t\\t\\t\\t\\t\\t\\t</td>\\n            <td class=\"linkToGghq\">\\n            \\t\\t\\t\\t\\t\\t<a href=\"http://stockpage.10jqka.com.cn/001206/finance/\" target=\"_blank\" code=\"hs_001206\" class=\"J_showCanvas\">依依股份</a>\\n\\t\\t\\t\\t            </td>\\n            <td class=\" c-fall\">\\n            \\t<span>业绩预降</span>\\n            </td>\\n            <td class=\"tl\">\\n            \\t\\t\\t\\t\\t\\t<a href=\"http://www.iwencai.com/stockpick/search?typed=0&preParams=&ts=1&f=1&qs=yjygzy_ths_data&selfsectsn=&querytype=&searchfilter=&tid=stockpick&w=001206+%E4%B8%9A%E7%BB%A9%E9%A2%84%E5%91%8A&refCountId=data_55eff2bf_980\" target=\"_blank\">净利润7200万元至8200万元,下降幅度为35.25%至25.78%</a>\\n\\t\\t\\t\\t\\t            </td>\\n            <td class =\" c-fall\">\\n            \\t-35.25            </td>\\n            <td class=\" c-rise\">1.11亿</td>\\n            <td class=\"tc cur\">2021-05-17</td>\\n        </tr>\\n                <tr class=\"even\">\\n            <td>2</td>\\n            <td class=\" linkToGghq\">\\n\\t\\t\\t\\t\\t\\t\\t\\t\\t<a href=\"http://stockpage.10jqka.com.cn/301000/finance/\" target=\"_blank\" class=\"stockCode\">301000</a>\\n\\t\\t\\t\\t\\t\\t\\t</td>\\n            <td class=\"linkToGghq\">\\n            \\t\\t\\t\\t\\t\\t<a href=\"http://stockpage.10jqka.com.cn/301000/finance/\" target=\"_blank\" code=\"hs_301000\" class=\"J_showCanvas\">肇民科技</a>\\n\\t\\t\\t\\t            </td>\\n            <td class=\" c-rise\">\\n            \\t<span>业绩预增</span>\\n            </td>\\n            <td class=\"tl\">\\n            \\t\\t\\t\\t\\t\\t<a href=\"http://www.iwencai.com/stockpick/search?typed=0&preParams=&ts=1&f=1&qs=yjygzy_ths_data&selfsectsn=&querytype=&searchfilter=&tid=stockpick&w=301000+%E4%B8%9A%E7%BB%A9%E9%A2%84%E5%91%8A&refCountId=data_55eff2bf_980\" target=\"_blank\">净利润5505.16万元至6104.53万元,增长幅度为32.92%至47.39%</a>\\n\\t\\t\\t\\t\\t            </td>\\n            <td class =\" c-rise\">\\n            \\t47.39            </td>\\n            <td class=\" c-rise\">4146.44万</td>\\n            <td class=\"tc cur\">2021-05-17</td>\\n        </tr>\\n                <tr >\\n            <td>3</td>\\n            <td class=\" linkToGghq\">\\n\\t\\t\\t\\t\\t\\t\\t\\t\\t<a href=\"http://stockpage.10jqka.com.cn/301001/finance/\" target=\"_blank\" class=\"stockCode\">301001</a>\\n\\t\\t\\t\\t\\t\\t\\t</td>\\n            <td class=\"linkToGghq\">\\n            \\t\\t\\t\\t\\t\\t<a href=\"http://stockpage.10jqka.com.cn/301001/finance/\" target=\"_blank\" code=\"hs_301001\" class=\"J_showCanvas\">凯淳股份</a>\\n\\t\\t\\t\\t            </td>\\n            <td class=\" c-fall\">\\n            \\t<span>业绩预盈</span>\\n            </td>\\n            <td class=\"tl\">\\n            \\t\\t\\t\\t\\t\\t<a href=\"http://www.iwencai.com/stockpick/search?typed=0&preParams=&ts=1&f=1&qs=yjygzy_ths_data&selfsectsn=&querytype=&searchfilter=&tid=stockpick&w=301001+%E4%B8%9A%E7%BB%A9%E9%A2%84%E5%91%8A&refCountId=data_55eff2bf_980\" target=\"_blank\">净利润3400.00万元至4200.00万元,增长幅度为-12.23%至8.42%</a>\\n\\t\\t\\t\\t\\t            </td>\\n            <td class =\" c-fall\">\\n            \\t-12.23            </td>\\n            <td class=\" c-rise\">3873.87万</td>\\n            <td class=\"tc cur\">2021-05-17</td>\\n        </tr>\\n                <tr class=\"even\">\\n            <td>4</td>\\n            <td class=\" linkToGghq\">\\n\\t\\t\\t\\t\\t\\t\\t\\t\\t<a href=\"http://stockpage.10jqka.com.cn/301002/finance/\" target=\"_blank\" class=\"stockCode\">301002</a>\\n\\t\\t\\t\\t\\t\\t\\t</td>\\n            <td class=\"linkToGghq\">\\n            \\t\\t\\t\\t\\t\\t<a href=\"http://stockpage.10jqka.com.cn/301002/finance/\" target=\"_blank\" code=\"hs_301002\" class=\"J_showCanvas\">崧盛股份</a>\\n\\t\\t\\t\\t            </td>\\n            <td class=\" c-rise\">\\n            \\t<span>业绩大幅上升</span>\\n            </td>\\n            <td class=\"tl\">\\n            \\t\\t\\t\\t\\t\\t<a href=\"http://www.iwencai.com/stockpick/search?typed=0&preParams=&ts=1&f=1&qs=yjygzy_ths_data&selfsectsn=&querytype=&searchfilter=&tid=stockpick&w=301002+%E4%B8%9A%E7%BB%A9%E9%A2%84%E5%91%8A&refCountId=data_55eff2bf_980\" target=\"_blank\">净利润6000.00万元至7600.00万元,增长幅度为49.35%至89.17%</a>\\n\\t\\t\\t\\t\\t            </td>\\n            <td class =\" c-rise\">\\n            \\t89.17            </td>\\n            <td class=\" c-rise\">4017.52万</td>\\n            <td class=\"tc cur\">2021-05-17</td>\\n        </tr>\\n                <tr >\\n            <td>5</td>\\n            <td class=\" linkToGghq\">\\n\\t\\t\\t\\t\\t\\t\\t\\t\\t<a href=\"http://stockpage.10jqka.com.cn/300996/finance/\" target=\"_blank\" class=\"stockCode\">300996</a>\\n\\t\\t\\t\\t\\t\\t\\t</td>\\n            <td class=\"linkToGghq\">\\n            \\t\\t\\t\\t\\t\\t<a href=\"http://stockpage.10jqka.com.cn/300996/finance/\" target=\"_blank\" code=\"hs_300996\" class=\"J_showCanvas\">普联软件</a>\\n\\t\\t\\t\\t            </td>\\n            <td class=\" c-rise\">\\n            \\t<span>业绩大幅上升</span>\\n            </td>\\n            <td class=\"tl\">\\n            \\t\\t\\t\\t\\t\\t<a href=\"http://www.iwencai.com/stockpick/search?typed=0&preParams=&ts=1&f=1&qs=yjygzy_ths_data&selfsectsn=&querytype=&searchfilter=&tid=stockpick&w=300996+%E4%B8%9A%E7%BB%A9%E9%A2%84%E5%91%8A&refCountId=data_55eff2bf_980\" target=\"_blank\">净利润3000万元至3600万元,增长幅度为79.93%至115.92%</a>\\n\\t\\t\\t\\t\\t            </td>\\n            <td class =\" c-rise\">\\n            \\t115.92            </td>\\n            <td class=\" c-rise\">1667.30万</td>\\n            <td class=\"tc cur\">2021-05-14</td>\\n        </tr>\\n                <tr class=\"even\">\\n            <td>6</td>\\n            <td class=\" linkToGghq\">\\n\\t\\t\\t\\t\\t\\t\\t\\t\\t<a href=\"http://stockpage.10jqka.com.cn/300997/finance/\" target=\"_blank\" class=\"stockCode\">300997</a>\\n\\t\\t\\t\\t\\t\\t\\t</td>\\n            <td class=\"linkToGghq\">\\n            \\t\\t\\t\\t\\t\\t<a href=\"http://stockpage.10jqka.com.cn/300997/finance/\" target=\"_blank\" code=\"hs_300997\" class=\"J_showCanvas\">欢乐家</a>\\n\\t\\t\\t\\t            </td>\\n            <td class=\" c-rise\">\\n            \\t<span>业绩预增</span>\\n            </td>\\n            <td class=\"tl\">\\n            \\t\\t\\t\\t\\t\\t<a href=\"http://www.iwencai.com/stockpick/search?typed=0&preParams=&ts=1&f=1&qs=yjygzy_ths_data&selfsectsn=&querytype=&searchfilter=&tid=stockpick&w=300997+%E4%B8%9A%E7%BB%A9%E9%A2%84%E5%91%8A&refCountId=data_55eff2bf_980\" target=\"_blank\">净利润8600万元至9500万元,增长幅度为1.42%至12.04%</a>\\n\\t\\t\\t\\t\\t            </td>\\n            <td class =\" c-rise\">\\n            \\t12.04            </td>\\n            <td class=\" c-rise\">8479.18万</td>\\n            <td class=\"tc cur\">2021-05-14</td>\\n        </tr>\\n                <tr >\\n            <td>7</td>\\n            <td class=\" linkToGghq\">\\n\\t\\t\\t\\t\\t\\t\\t\\t\\t<a href=\"http://stockpage.10jqka.com.cn/300998/finance/\" target=\"_blank\" class=\"stockCode\">300998</a>\\n\\t\\t\\t\\t\\t\\t\\t</td>\\n            <td class=\"linkToGghq\">\\n            \\t\\t\\t\\t\\t\\t<a href=\"http://stockpage.10jqka.com.cn/300998/finance/\" target=\"_blank\" code=\"hs_300998\" class=\"J_showCanvas\">宁波方正</a>\\n\\t\\t\\t\\t            </td>\\n            <td class=\" c-fall\">\\n            \\t<span>业绩预降</span>\\n            </td>\\n            <td class=\"tl\">\\n            \\t\\t\\t\\t\\t\\t<a href=\"http://www.iwencai.com/stockpick/search?typed=0&preParams=&ts=1&f=1&qs=yjygzy_ths_data&selfsectsn=&querytype=&searchfilter=&tid=stockpick&w=300998+%E4%B8%9A%E7%BB%A9%E9%A2%84%E5%91%8A&refCountId=data_55eff2bf_980\" target=\"_blank\">净利润1647.73万元至1824.73万元,下降幅度为27.11%至19.28%</a>\\n\\t\\t\\t\\t\\t            </td>\\n            <td class =\" c-fall\">\\n            \\t-27.11            </td>\\n            <td class=\" c-rise\">2260.49万</td>\\n            <td class=\"tc cur\">2021-05-14</td>\\n        </tr>\\n                <tr class=\"even\">\\n            <td>8</td>\\n            <td class=\" linkToGghq\">\\n\\t\\t\\t\\t\\t\\t\\t\\t\\t<a href=\"http://stockpage.10jqka.com.cn/688117/finance/\" target=\"_blank\" class=\"stockCode\">688117</a>\\n\\t\\t\\t\\t\\t\\t\\t</td>\\n            <td class=\"linkToGghq\">\\n            \\t\\t\\t\\t\\t\\t<a href=\"http://stockpage.10jqka.com.cn/688117/finance/\" target=\"_blank\" code=\"hs_688117\" class=\"J_showCanvas\">圣诺生物</a>\\n\\t\\t\\t\\t            </td>\\n            <td class=\" c-rise\">\\n            \\t<span>业绩预增</span>\\n            </td>\\n            <td class=\"tl\">\\n            \\t\\t\\t\\t\\t\\t<a href=\"http://www.iwencai.com/stockpick/search?typed=0&preParams=&ts=1&f=1&qs=yjygzy_ths_data&selfsectsn=&querytype=&searchfilter=&tid=stockpick&w=688117+%E4%B8%9A%E7%BB%A9%E9%A2%84%E5%91%8A&refCountId=data_55eff2bf_980\" target=\"_blank\">净利润3200万元至3600万元,增长幅度为2.20%至14.98%</a>\\n\\t\\t\\t\\t\\t            </td>\\n            <td class =\" c-rise\">\\n            \\t14.98            </td>\\n            <td class=\" c-rise\">3131.11万</td>\\n            <td class=\"tc cur\">2021-05-14</td>\\n        </tr>\\n                <tr >\\n            <td>9</td>\\n            <td class=\" linkToGghq\">\\n\\t\\t\\t\\t\\t\\t\\t\\t\\t<a href=\"http://stockpage.10jqka.com.cn/601528/finance/\" target=\"_blank\" class=\"stockCode\">601528</a>\\n\\t\\t\\t\\t\\t\\t\\t</td>\\n            <td class=\"linkToGghq\">\\n            \\t\\t\\t\\t\\t\\t<a href=\"http://stockpage.10jqka.com.cn/601528/finance/\" target=\"_blank\" code=\"hs_601528\" class=\"J_showCanvas\">瑞丰银行</a>\\n\\t\\t\\t\\t            </td>\\n            <td class=\" c-rise\">\\n            \\t<span>业绩预增</span>\\n            </td>\\n            <td class=\"tl\">\\n            \\t\\t\\t\\t\\t\\t<a href=\"http://www.iwencai.com/stockpick/search?typed=0&preParams=&ts=1&f=1&qs=yjygzy_ths_data&selfsectsn=&querytype=&searchfilter=&tid=stockpick&w=601528+%E4%B8%9A%E7%BB%A9%E9%A2%84%E5%91%8A&refCountId=data_55eff2bf_980\" target=\"_blank\">净利润48400万元至50700万元,增长幅度为5%至10%</a>\\n\\t\\t\\t\\t\\t            </td>\\n            <td class =\" c-rise\">\\n            \\t10.00            </td>\\n            <td class=\" \">-</td>\\n            <td class=\"tc cur\">2021-05-12</td>\\n        </tr>\\n                <tr class=\"even\">\\n            <td>10</td>\\n            <td class=\" linkToGghq\">\\n\\t\\t\\t\\t\\t\\t\\t\\t\\t<a href=\"http://stockpage.10jqka.com.cn/605488/finance/\" target=\"_blank\" class=\"stockCode\">605488</a>\\n\\t\\t\\t\\t\\t\\t\\t</td>\\n            <td class=\"linkToGghq\">\\n            \\t\\t\\t\\t\\t\\t<a href=\"http://stockpage.10jqka.com.cn/605488/finance/\" target=\"_blank\" code=\"hs_605488\" class=\"J_showCanvas\">福莱新材</a>\\n\\t\\t\\t\\t            </td>\\n            <td class=\" \">\\n            \\t<span>不确定</span>\\n            </td>\\n            <td class=\"tl\">\\n            \\t\\t\\t\\t\\t\\t<a href=\"http://www.iwencai.com/stockpick/search?typed=0&preParams=&ts=1&f=1&qs=yjygzy_ths_data&selfsectsn=&querytype=&searchfilter=&tid=stockpick&w=605488+%E4%B8%9A%E7%BB%A9%E9%A2%84%E5%91%8A&refCountId=data_55eff2bf_980\" target=\"_blank\">公司预计2021年1-6月经营业绩同比不会发生重大不利变化。</a>\\n\\t\\t\\t\\t\\t            </td>\\n            <td class =\" \">\\n            \\t-            </td>\\n            <td class=\" c-rise\">3421.76万</td>\\n            <td class=\"tc cur\">2021-05-12</td>\\n        </tr>\\n                <tr >\\n            <td>11</td>\\n            <td class=\" linkToGghq\">\\n\\t\\t\\t\\t\\t\\t\\t\\t\\t<a href=\"http://stockpage.10jqka.com.cn/300988/finance/\" target=\"_blank\" class=\"stockCode\">300988</a>\\n\\t\\t\\t\\t\\t\\t\\t</td>\\n            <td class=\"linkToGghq\">\\n            \\t\\t\\t\\t\\t\\t<a href=\"http://stockpage.10jqka.com.cn/300988/finance/\" target=\"_blank\" code=\"hs_300988\" class=\"J_showCanvas\">津荣天宇</a>\\n\\t\\t\\t\\t            </td>\\n            <td class=\" c-rise\">\\n            \\t<span>业绩预增</span>\\n            </td>\\n            <td class=\"tl\">\\n            \\t\\t\\t\\t\\t\\t<a href=\"http://www.iwencai.com/stockpick/search?typed=0&preParams=&ts=1&f=1&qs=yjygzy_ths_data&selfsectsn=&querytype=&searchfilter=&tid=stockpick&w=300988+%E4%B8%9A%E7%BB%A9%E9%A2%84%E5%91%8A&refCountId=data_55eff2bf_980\" target=\"_blank\">净利润3230万元至3380万元,增长幅度为31.71%至37.82%</a>\\n\\t\\t\\t\\t\\t            </td>\\n            <td class =\" c-rise\">\\n            \\t37.82            </td>\\n            <td class=\" c-rise\">2452.42万</td>\\n            <td class=\"tc cur\">2021-05-11</td>\\n        </tr>\\n                <tr class=\"even\">\\n            <td>12</td>\\n            <td class=\" linkToGghq\">\\n\\t\\t\\t\\t\\t\\t\\t\\t\\t<a href=\"http://stockpage.10jqka.com.cn/300990/finance/\" target=\"_blank\" class=\"stockCode\">300990</a>\\n\\t\\t\\t\\t\\t\\t\\t</td>\\n            <td class=\"linkToGghq\">\\n            \\t\\t\\t\\t\\t\\t<a href=\"http://stockpage.10jqka.com.cn/300990/finance/\" target=\"_blank\" code=\"hs_300990\" class=\"J_showCanvas\">同飞股份</a>\\n\\t\\t\\t\\t            </td>\\n            <td class=\" c-rise\">\\n            \\t<span>业绩预增</span>\\n            </td>\\n            <td class=\"tl\">\\n            \\t\\t\\t\\t\\t\\t<a href=\"http://www.iwencai.com/stockpick/search?typed=0&preParams=&ts=1&f=1&qs=yjygzy_ths_data&selfsectsn=&querytype=&searchfilter=&tid=stockpick&w=300990+%E4%B8%9A%E7%BB%A9%E9%A2%84%E5%91%8A&refCountId=data_55eff2bf_980\" target=\"_blank\">净利润5897.00万元至6384.06万元,增长幅度为18.63%至28.43%</a>\\n\\t\\t\\t\\t\\t            </td>\\n            <td class =\" c-rise\">\\n            \\t28.43            </td>\\n            <td class=\" c-rise\">4970.89万</td>\\n            <td class=\"tc cur\">2021-05-11</td>\\n        </tr>\\n                <tr >\\n            <td>13</td>\\n            <td class=\" linkToGghq\">\\n\\t\\t\\t\\t\\t\\t\\t\\t\\t<a href=\"http://stockpage.10jqka.com.cn/605189/finance/\" target=\"_blank\" class=\"stockCode\">605189</a>\\n\\t\\t\\t\\t\\t\\t\\t</td>\\n            <td class=\"linkToGghq\">\\n            \\t\\t\\t\\t\\t\\t<a href=\"http://stockpage.10jqka.com.cn/605189/finance/\" target=\"_blank\" code=\"hs_605189\" class=\"J_showCanvas\">富春染织</a>\\n\\t\\t\\t\\t            </td>\\n            <td class=\" c-rise\">\\n            \\t<span>业绩大幅上升</span>\\n            </td>\\n            <td class=\"tl\">\\n            \\t\\t\\t\\t\\t\\t<a href=\"http://www.iwencai.com/stockpick/search?typed=0&preParams=&ts=1&f=1&qs=yjygzy_ths_data&selfsectsn=&querytype=&searchfilter=&tid=stockpick&w=605189+%E4%B8%9A%E7%BB%A9%E9%A2%84%E5%91%8A&refCountId=data_55eff2bf_980\" target=\"_blank\">净利润7680.71万元至8380.71万元,增长幅度为213.58%至242.16%</a>\\n\\t\\t\\t\\t\\t            </td>\\n            <td class =\" c-rise\">\\n            \\t242.16            </td>\\n            <td class=\" c-rise\">2449.38万</td>\\n            <td class=\"tc cur\">2021-05-11</td>\\n        </tr>\\n                <tr class=\"even\">\\n            <td>14</td>\\n            <td class=\" linkToGghq\">\\n\\t\\t\\t\\t\\t\\t\\t\\t\\t<a href=\"http://stockpage.10jqka.com.cn/300987/finance/\" target=\"_blank\" class=\"stockCode\">300987</a>\\n\\t\\t\\t\\t\\t\\t\\t</td>\\n            <td class=\"linkToGghq\">\\n            \\t\\t\\t\\t\\t\\t<a href=\"http://stockpage.10jqka.com.cn/300987/finance/\" target=\"_blank\" code=\"hs_300987\" class=\"J_showCanvas\">川网传媒</a>\\n\\t\\t\\t\\t            </td>\\n            <td class=\" c-rise\">\\n            \\t<span>业绩预增</span>\\n            </td>\\n            <td class=\"tl\">\\n            \\t\\t\\t\\t\\t\\t<a href=\"http://www.iwencai.com/stockpick/search?typed=0&preParams=&ts=1&f=1&qs=yjygzy_ths_data&selfsectsn=&querytype=&searchfilter=&tid=stockpick&w=300987+%E4%B8%9A%E7%BB%A9%E9%A2%84%E5%91%8A&refCountId=data_55eff2bf_980\" target=\"_blank\">扣非后净利润1749.24万元至1831.73万元,增长幅度为5.18%至10.14%</a>\\n\\t\\t\\t\\t\\t            </td>\\n            <td class =\" \">\\n            \\t-            </td>\\n            <td class=\" c-rise\">1818.97万</td>\\n            <td class=\"tc cur\">2021-05-10</td>\\n        </tr>\\n                <tr >\\n            <td>15</td>\\n            <td class=\" linkToGghq\">\\n\\t\\t\\t\\t\\t\\t\\t\\t\\t<a href=\"http://stockpage.10jqka.com.cn/605196/finance/\" target=\"_blank\" class=\"stockCode\">605196</a>\\n\\t\\t\\t\\t\\t\\t\\t</td>\\n            <td class=\"linkToGghq\">\\n            \\t\\t\\t\\t\\t\\t<a href=\"http://stockpage.10jqka.com.cn/605196/finance/\" target=\"_blank\" code=\"hs_605196\" class=\"J_showCanvas\">华通线缆</a>\\n\\t\\t\\t\\t            </td>\\n            <td class=\" c-rise\">\\n            \\t<span>业绩预盈</span>\\n            </td>\\n            <td class=\"tl\">\\n            \\t\\t\\t\\t\\t\\t<a href=\"http://www.iwencai.com/stockpick/search?typed=0&preParams=&ts=1&f=1&qs=yjygzy_ths_data&selfsectsn=&querytype=&searchfilter=&tid=stockpick&w=605196+%E4%B8%9A%E7%BB%A9%E9%A2%84%E5%91%8A&refCountId=data_55eff2bf_980\" target=\"_blank\">扣非后净利润5903.97万元至6760.45万元,增长幅度为-4.93%至8.86%</a>\\n\\t\\t\\t\\t\\t            </td>\\n            <td class =\" \">\\n            \\t-            </td>\\n            <td class=\" \">-</td>\\n            <td class=\"tc cur\">2021-05-10</td>\\n        </tr>\\n                <tr class=\"even\">\\n            <td>16</td>\\n            <td class=\" linkToGghq\">\\n\\t\\t\\t\\t\\t\\t\\t\\t\\t<a href=\"http://stockpage.10jqka.com.cn/688538/finance/\" target=\"_blank\" class=\"stockCode\">688538</a>\\n\\t\\t\\t\\t\\t\\t\\t</td>\\n            <td class=\"linkToGghq\">\\n            \\t\\t\\t\\t\\t\\t<a href=\"http://stockpage.10jqka.com.cn/688538/finance/\" target=\"_blank\" code=\"hs_688538\" class=\"J_showCanvas\">和辉光电</a>\\n\\t\\t\\t\\t            </td>\\n            <td class=\" c-rise\">\\n            \\t<span>预计减亏</span>\\n            </td>\\n            <td class=\"tl\">\\n            \\t\\t\\t\\t\\t\\t<a href=\"http://www.iwencai.com/stockpick/search?typed=0&preParams=&ts=1&f=1&qs=yjygzy_ths_data&selfsectsn=&querytype=&searchfilter=&tid=stockpick&w=688538+%E4%B8%9A%E7%BB%A9%E9%A2%84%E5%91%8A&refCountId=data_55eff2bf_980\" target=\"_blank\">净利润-54500万元至-45000万元,增长幅度为0.23%至17.62%</a>\\n\\t\\t\\t\\t\\t            </td>\\n            <td class =\" c-rise\">\\n            \\t17.62            </td>\\n            <td class=\" c-fall\">-5.46亿</td>\\n            <td class=\"tc cur\">2021-05-10</td>\\n        </tr>\\n                <tr >\\n            <td>17</td>\\n            <td class=\" linkToGghq\">\\n\\t\\t\\t\\t\\t\\t\\t\\t\\t<a href=\"http://stockpage.10jqka.com.cn/001203/finance/\" target=\"_blank\" class=\"stockCode\">001203</a>\\n\\t\\t\\t\\t\\t\\t\\t</td>\\n            <td class=\"linkToGghq\">\\n            \\t\\t\\t\\t\\t\\t<a href=\"http://stockpage.10jqka.com.cn/001203/finance/\" target=\"_blank\" code=\"hs_001203\" class=\"J_showCanvas\">大中矿业</a>\\n\\t\\t\\t\\t            </td>\\n            <td class=\" c-rise\">\\n            \\t<span>业绩大幅上升</span>\\n            </td>\\n            <td class=\"tl\">\\n            \\t\\t\\t\\t\\t\\t<a href=\"http://www.iwencai.com/stockpick/search?typed=0&preParams=&ts=1&f=1&qs=yjygzy_ths_data&selfsectsn=&querytype=&searchfilter=&tid=stockpick&w=001203+%E4%B8%9A%E7%BB%A9%E9%A2%84%E5%91%8A&refCountId=data_55eff2bf_980\" target=\"_blank\">净利润55000万元至65000万元,增长幅度为455.09%至556.02%</a>\\n\\t\\t\\t\\t\\t            </td>\\n            <td class =\" c-rise\">\\n            \\t556.02            </td>\\n            <td class=\" c-rise\">9928.30万</td>\\n            <td class=\"tc cur\">2021-05-07</td>\\n        </tr>\\n                <tr class=\"even\">\\n            <td>18</td>\\n            <td class=\" linkToGghq\">\\n\\t\\t\\t\\t\\t\\t\\t\\t\\t<a href=\"http://stockpage.10jqka.com.cn/002840/finance/\" target=\"_blank\" class=\"stockCode\">002840</a>\\n\\t\\t\\t\\t\\t\\t\\t</td>\\n            <td class=\"linkToGghq\">\\n            \\t\\t\\t\\t\\t\\t<a href=\"http://stockpage.10jqka.com.cn/002840/finance/\" target=\"_blank\" code=\"hs_002840\" class=\"J_showCanvas\">华统股份</a>\\n\\t\\t\\t\\t            </td>\\n            <td class=\" c-rise\">\\n            \\t<span>业绩大幅上升</span>\\n            </td>\\n            <td class=\"tl\">\\n            \\t\\t\\t\\t\\t\\t<a href=\"http://www.iwencai.com/stockpick/search?typed=0&preParams=&ts=1&f=1&qs=yjygzy_ths_data&selfsectsn=&querytype=&searchfilter=&tid=stockpick&w=002840+%E4%B8%9A%E7%BB%A9%E9%A2%84%E5%91%8A&refCountId=data_55eff2bf_980\" target=\"_blank\">净利润18000万元至21000万元,增长幅度为139.34%至179.23%</a>\\n\\t\\t\\t\\t\\t            </td>\\n            <td class =\" c-rise\">\\n            \\t179.23            </td>\\n            <td class=\" c-rise\">7520.61万</td>\\n            <td class=\"tc cur\">2021-05-07</td>\\n        </tr>\\n                <tr >\\n            <td>19</td>\\n            <td class=\" linkToGghq\">\\n\\t\\t\\t\\t\\t\\t\\t\\t\\t<a href=\"http://stockpage.10jqka.com.cn/601665/finance/\" target=\"_blank\" class=\"stockCode\">601665</a>\\n\\t\\t\\t\\t\\t\\t\\t</td>\\n            <td class=\"linkToGghq\">\\n            \\t\\t\\t\\t\\t\\t<a href=\"http://stockpage.10jqka.com.cn/601665/finance/\" target=\"_blank\" code=\"hs_601665\" class=\"J_showCanvas\">齐鲁银行</a>\\n\\t\\t\\t\\t            </td>\\n            <td class=\" c-rise\">\\n            \\t<span>业绩预增</span>\\n            </td>\\n            <td class=\"tl\">\\n            \\t\\t\\t\\t\\t\\t<a href=\"http://www.iwencai.com/stockpick/search?typed=0&preParams=&ts=1&f=1&qs=yjygzy_ths_data&selfsectsn=&querytype=&searchfilter=&tid=stockpick&w=601665+%E4%B8%9A%E7%BB%A9%E9%A2%84%E5%91%8A&refCountId=data_55eff2bf_980\" target=\"_blank\">净利润144000万元至149000万元,增长幅度为10%至13%</a>\\n\\t\\t\\t\\t\\t            </td>\\n            <td class =\" c-rise\">\\n            \\t13.00            </td>\\n            <td class=\" c-rise\">13.16亿</td>\\n            <td class=\"tc cur\">2021-05-07</td>\\n        </tr>\\n                <tr class=\"even\">\\n            <td>20</td>\\n            <td class=\" linkToGghq\">\\n\\t\\t\\t\\t\\t\\t\\t\\t\\t<a href=\"http://stockpage.10jqka.com.cn/603836/finance/\" target=\"_blank\" class=\"stockCode\">603836</a>\\n\\t\\t\\t\\t\\t\\t\\t</td>\\n            <td class=\"linkToGghq\">\\n            \\t\\t\\t\\t\\t\\t<a href=\"http://stockpage.10jqka.com.cn/603836/finance/\" target=\"_blank\" code=\"hs_603836\" class=\"J_showCanvas\">海程邦达</a>\\n\\t\\t\\t\\t            </td>\\n            <td class=\" c-rise\">\\n            \\t<span>业绩预增</span>\\n            </td>\\n            <td class=\"tl\">\\n            \\t\\t\\t\\t\\t\\t<a href=\"http://www.iwencai.com/stockpick/search?typed=0&preParams=&ts=1&f=1&qs=yjygzy_ths_data&selfsectsn=&querytype=&searchfilter=&tid=stockpick&w=603836+%E4%B8%9A%E7%BB%A9%E9%A2%84%E5%91%8A&refCountId=data_55eff2bf_980\" target=\"_blank\">净利润10201.88万元至12468.96万元,增长幅度为6.28%至29.90%</a>\\n\\t\\t\\t\\t\\t            </td>\\n            <td class =\" c-rise\">\\n            \\t29.90            </td>\\n            <td class=\" c-rise\">9598.68万</td>\\n            <td class=\"tc cur\">2021-05-07</td>\\n        </tr>\\n                <tr >\\n            <td>21</td>\\n            <td class=\" linkToGghq\">\\n\\t\\t\\t\\t\\t\\t\\t\\t\\t<a href=\"http://stockpage.10jqka.com.cn/605499/finance/\" target=\"_blank\" class=\"stockCode\">605499</a>\\n\\t\\t\\t\\t\\t\\t\\t</td>\\n            <td class=\"linkToGghq\">\\n            \\t\\t\\t\\t\\t\\t<a href=\"http://stockpage.10jqka.com.cn/605499/finance/\" target=\"_blank\" code=\"hs_605499\" class=\"J_showCanvas\">东鹏饮料</a>\\n\\t\\t\\t\\t            </td>\\n            <td class=\" c-rise\">\\n            \\t<span>业绩大幅上升</span>\\n            </td>\\n            <td class=\"tl\">\\n            \\t\\t\\t\\t\\t\\t<a href=\"http://www.iwencai.com/stockpick/search?typed=0&preParams=&ts=1&f=1&qs=yjygzy_ths_data&selfsectsn=&querytype=&searchfilter=&tid=stockpick&w=605499+%E4%B8%9A%E7%BB%A9%E9%A2%84%E5%91%8A&refCountId=data_55eff2bf_980\" target=\"_blank\">净利润57000万元至72000万元,增长幅度为29.16%至63.15%</a>\\n\\t\\t\\t\\t\\t            </td>\\n            <td class =\" c-rise\">\\n            \\t63.15            </td>\\n            <td class=\" c-rise\">4.41亿</td>\\n            <td class=\"tc cur\">2021-05-07</td>\\n        </tr>\\n                <tr class=\"even\">\\n            <td>22</td>\\n            <td class=\" linkToGghq\">\\n\\t\\t\\t\\t\\t\\t\\t\\t\\t<a href=\"http://stockpage.10jqka.com.cn/300989/finance/\" target=\"_blank\" class=\"stockCode\">300989</a>\\n\\t\\t\\t\\t\\t\\t\\t</td>\\n            <td class=\"linkToGghq\">\\n            \\t\\t\\t\\t\\t\\t<a href=\"http://stockpage.10jqka.com.cn/300989/finance/\" target=\"_blank\" code=\"hs_300989\" class=\"J_showCanvas\">蕾奥规划</a>\\n\\t\\t\\t\\t            </td>\\n            <td class=\" c-rise\">\\n            \\t<span>业绩预增</span>\\n            </td>\\n            <td class=\"tl\">\\n            \\t\\t\\t\\t\\t\\t<a href=\"http://www.iwencai.com/stockpick/search?typed=0&preParams=&ts=1&f=1&qs=yjygzy_ths_data&selfsectsn=&querytype=&searchfilter=&tid=stockpick&w=300989+%E4%B8%9A%E7%BB%A9%E9%A2%84%E5%91%8A&refCountId=data_55eff2bf_980\" target=\"_blank\">净利润2800万元至3000万元,增长幅度为4.42%至11.88%</a>\\n\\t\\t\\t\\t\\t            </td>\\n            <td class =\" c-rise\">\\n            \\t11.88            </td>\\n            <td class=\" c-rise\">2681.50万</td>\\n            <td class=\"tc cur\">2021-05-06</td>\\n        </tr>\\n                <tr >\\n            <td>23</td>\\n            <td class=\" linkToGghq\">\\n\\t\\t\\t\\t\\t\\t\\t\\t\\t<a href=\"http://stockpage.10jqka.com.cn/000166/finance/\" target=\"_blank\" class=\"stockCode\">000166</a>\\n\\t\\t\\t\\t\\t\\t\\t</td>\\n            <td class=\"linkToGghq\">\\n            \\t\\t\\t\\t\\t\\t<a href=\"http://stockpage.10jqka.com.cn/000166/finance/\" target=\"_blank\" code=\"hs_000166\" class=\"J_showCanvas\">申万宏源</a>\\n\\t\\t\\t\\t            </td>\\n            <td class=\" \">\\n            \\t<span>不确定</span>\\n            </td>\\n            <td class=\"tl\">\\n            \\t\\t\\t\\t\\t\\t<a href=\"http://www.iwencai.com/stockpick/search?typed=0&preParams=&ts=1&f=1&qs=yjygzy_ths_data&selfsectsn=&querytype=&searchfilter=&tid=stockpick&w=000166+%E4%B8%9A%E7%BB%A9%E9%A2%84%E5%91%8A&refCountId=data_55eff2bf_980\" target=\"_blank\">不确定</a>\\n\\t\\t\\t\\t\\t            </td>\\n            <td class =\" \">\\n            \\t-            </td>\\n            <td class=\" c-rise\">40.35亿</td>\\n            <td class=\"tc cur\">2021-04-30</td>\\n        </tr>\\n                <tr class=\"even\">\\n            <td>24</td>\\n            <td class=\" linkToGghq\">\\n\\t\\t\\t\\t\\t\\t\\t\\t\\t<a href=\"http://stockpage.10jqka.com.cn/000408/finance/\" target=\"_blank\" class=\"stockCode\">000408</a>\\n\\t\\t\\t\\t\\t\\t\\t</td>\\n            <td class=\"linkToGghq\">\\n            \\t\\t\\t\\t\\t\\t<a href=\"http://stockpage.10jqka.com.cn/000408/finance/\" target=\"_blank\" code=\"hs_000408\" class=\"J_showCanvas\">*ST藏格</a>\\n\\t\\t\\t\\t            </td>\\n            <td class=\" c-rise\">\\n            \\t<span>预计扭亏</span>\\n            </td>\\n            <td class=\"tl\">\\n            \\t\\t\\t\\t\\t\\t<a href=\"http://www.iwencai.com/stockpick/search?typed=0&preParams=&ts=1&f=1&qs=yjygzy_ths_data&selfsectsn=&querytype=&searchfilter=&tid=stockpick&w=000408+%E4%B8%9A%E7%BB%A9%E9%A2%84%E5%91%8A&refCountId=data_55eff2bf_980\" target=\"_blank\">净利润30000万元至38000万元,增长幅度为311.47%至367.86%</a>\\n\\t\\t\\t\\t\\t            </td>\\n            <td class =\" c-rise\">\\n            \\t367.86            </td>\\n            <td class=\" c-rise\">1.81亿</td>\\n            <td class=\"tc cur\">2021-04-30</td>\\n        </tr>\\n                <tr >\\n            <td>25</td>\\n            <td class=\" linkToGghq\">\\n\\t\\t\\t\\t\\t\\t\\t\\t\\t<a href=\"http://stockpage.10jqka.com.cn/000415/finance/\" target=\"_blank\" class=\"stockCode\">000415</a>\\n\\t\\t\\t\\t\\t\\t\\t</td>\\n            <td class=\"linkToGghq\">\\n            \\t\\t\\t\\t\\t\\t<a href=\"http://stockpage.10jqka.com.cn/000415/finance/\" target=\"_blank\" code=\"hs_000415\" class=\"J_showCanvas\">渤海租赁</a>\\n\\t\\t\\t\\t            </td>\\n            <td class=\" c-fall\">\\n            \\t<span>预计续亏</span>\\n            </td>\\n            <td class=\"tl\">\\n            \\t\\t\\t\\t\\t\\t<a href=\"http://www.iwencai.com/stockpick/search?typed=0&preParams=&ts=1&f=1&qs=yjygzy_ths_data&selfsectsn=&querytype=&searchfilter=&tid=stockpick&w=000415+%E4%B8%9A%E7%BB%A9%E9%A2%84%E5%91%8A&refCountId=data_55eff2bf_980\" target=\"_blank\">预计公司2021年1-6月累计净利润仍为亏损。</a>\\n\\t\\t\\t\\t\\t            </td>\\n            <td class =\" \">\\n            \\t-            </td>\\n            <td class=\" c-fall\">-25.14亿</td>\\n            <td class=\"tc cur\">2021-04-30</td>\\n        </tr>\\n                <tr class=\"even\">\\n            <td>26</td>\\n            <td class=\" linkToGghq\">\\n\\t\\t\\t\\t\\t\\t\\t\\t\\t<a href=\"http://stockpage.10jqka.com.cn/000681/finance/\" target=\"_blank\" class=\"stockCode\">000681</a>\\n\\t\\t\\t\\t\\t\\t\\t</td>\\n            <td class=\"linkToGghq\">\\n            \\t\\t\\t\\t\\t\\t<a href=\"http://stockpage.10jqka.com.cn/000681/finance/\" target=\"_blank\" code=\"hs_000681\" class=\"J_showCanvas\">视觉中国</a>\\n\\t\\t\\t\\t            </td>\\n            <td class=\" c-rise\">\\n            \\t<span>业绩大幅上升</span>\\n            </td>\\n            <td class=\"tl\">\\n            \\t\\t\\t\\t\\t\\t<a href=\"http://www.iwencai.com/stockpick/search?typed=0&preParams=&ts=1&f=1&qs=yjygzy_ths_data&selfsectsn=&querytype=&searchfilter=&tid=stockpick&w=000681+%E4%B8%9A%E7%BB%A9%E9%A2%84%E5%91%8A&refCountId=data_55eff2bf_980\" target=\"_blank\">净利润9500万元至11000万元,增长幅度为31.30%至52.03%</a>\\n\\t\\t\\t\\t\\t            </td>\\n            <td class =\" c-rise\">\\n            \\t52.03            </td>\\n            <td class=\" c-rise\">7235.46万</td>\\n            <td class=\"tc cur\">2021-04-30</td>\\n        </tr>\\n                <tr >\\n            <td>27</td>\\n            <td class=\" linkToGghq\">\\n\\t\\t\\t\\t\\t\\t\\t\\t\\t<a href=\"http://stockpage.10jqka.com.cn/002002/finance/\" target=\"_blank\" class=\"stockCode\">002002</a>\\n\\t\\t\\t\\t\\t\\t\\t</td>\\n            <td class=\"linkToGghq\">\\n            \\t\\t\\t\\t\\t\\t<a href=\"http://stockpage.10jqka.com.cn/002002/finance/\" target=\"_blank\" code=\"hs_002002\" class=\"J_showCanvas\">鸿达兴业</a>\\n\\t\\t\\t\\t            </td>\\n            <td class=\" c-rise\">\\n            \\t<span>业绩大幅上升</span>\\n            </td>\\n            <td class=\"tl\">\\n            \\t\\t\\t\\t\\t\\t<a href=\"http://www.iwencai.com/stockpick/search?typed=0&preParams=&ts=1&f=1&qs=yjygzy_ths_data&selfsectsn=&querytype=&searchfilter=&tid=stockpick&w=002002+%E4%B8%9A%E7%BB%A9%E9%A2%84%E5%91%8A&refCountId=data_55eff2bf_980\" target=\"_blank\">净利润60000万元至75000万元,增长幅度为80.74%至125.93%</a>\\n\\t\\t\\t\\t\\t            </td>\\n            <td class =\" c-rise\">\\n            \\t125.93            </td>\\n            <td class=\" c-rise\">3.32亿</td>\\n            <td class=\"tc cur\">2021-04-30</td>\\n        </tr>\\n                <tr class=\"even\">\\n            <td>28</td>\\n            <td class=\" linkToGghq\">\\n\\t\\t\\t\\t\\t\\t\\t\\t\\t<a href=\"http://stockpage.10jqka.com.cn/002006/finance/\" target=\"_blank\" class=\"stockCode\">002006</a>\\n\\t\\t\\t\\t\\t\\t\\t</td>\\n            <td class=\"linkToGghq\">\\n            \\t\\t\\t\\t\\t\\t<a href=\"http://stockpage.10jqka.com.cn/002006/finance/\" target=\"_blank\" code=\"hs_002006\" class=\"J_showCanvas\">精功科技</a>\\n\\t\\t\\t\\t            </td>\\n            <td class=\" c-rise\">\\n            \\t<span>业绩大幅上升</span>\\n            </td>\\n            <td class=\"tl\">\\n            \\t\\t\\t\\t\\t\\t<a href=\"http://www.iwencai.com/stockpick/search?typed=0&preParams=&ts=1&f=1&qs=yjygzy_ths_data&selfsectsn=&querytype=&searchfilter=&tid=stockpick&w=002006+%E4%B8%9A%E7%BB%A9%E9%A2%84%E5%91%8A&refCountId=data_55eff2bf_980\" target=\"_blank\">净利润3500万元至5000万元,增长幅度为371.06%至572.94%</a>\\n\\t\\t\\t\\t\\t            </td>\\n            <td class =\" c-rise\">\\n            \\t572.94            </td>\\n            <td class=\" c-rise\">743.01万</td>\\n            <td class=\"tc cur\">2021-04-30</td>\\n        </tr>\\n                <tr >\\n            <td>29</td>\\n            <td class=\" linkToGghq\">\\n\\t\\t\\t\\t\\t\\t\\t\\t\\t<a href=\"http://stockpage.10jqka.com.cn/002021/finance/\" target=\"_blank\" class=\"stockCode\">002021</a>\\n\\t\\t\\t\\t\\t\\t\\t</td>\\n            <td class=\"linkToGghq\">\\n            \\t\\t\\t\\t\\t\\t<a href=\"http://stockpage.10jqka.com.cn/002021/finance/\" target=\"_blank\" code=\"hs_002021\" class=\"J_showCanvas\">ST中捷</a>\\n\\t\\t\\t\\t            </td>\\n            <td class=\" c-rise\">\\n            \\t<span>预计扭亏</span>\\n            </td>\\n            <td class=\"tl\">\\n            \\t\\t\\t\\t\\t\\t<a href=\"http://www.iwencai.com/stockpick/search?typed=0&preParams=&ts=1&f=1&qs=yjygzy_ths_data&selfsectsn=&querytype=&searchfilter=&tid=stockpick&w=002021+%E4%B8%9A%E7%BB%A9%E9%A2%84%E5%91%8A&refCountId=data_55eff2bf_980\" target=\"_blank\">净利润1000万元至1500万元,增长幅度为175.33%至213.00%</a>\\n\\t\\t\\t\\t\\t            </td>\\n            <td class =\" c-rise\">\\n            \\t213.00            </td>\\n            <td class=\" c-fall\">-1327.48万</td>\\n            <td class=\"tc cur\">2021-04-30</td>\\n        </tr>\\n                <tr class=\"even\">\\n            <td>30</td>\\n            <td class=\" linkToGghq\">\\n\\t\\t\\t\\t\\t\\t\\t\\t\\t<a href=\"http://stockpage.10jqka.com.cn/002044/finance/\" target=\"_blank\" class=\"stockCode\">002044</a>\\n\\t\\t\\t\\t\\t\\t\\t</td>\\n            <td class=\"linkToGghq\">\\n            \\t\\t\\t\\t\\t\\t<a href=\"http://stockpage.10jqka.com.cn/002044/finance/\" target=\"_blank\" code=\"hs_002044\" class=\"J_showCanvas\">美年健康</a>\\n\\t\\t\\t\\t            </td>\\n            <td class=\" c-rise\">\\n            \\t<span>预计减亏</span>\\n            </td>\\n            <td class=\"tl\">\\n            \\t\\t\\t\\t\\t\\t<a href=\"http://www.iwencai.com/stockpick/search?typed=0&preParams=&ts=1&f=1&qs=yjygzy_ths_data&selfsectsn=&querytype=&searchfilter=&tid=stockpick&w=002044+%E4%B8%9A%E7%BB%A9%E9%A2%84%E5%91%8A&refCountId=data_55eff2bf_980\" target=\"_blank\">净利润-40000万元至-30000万元,增长幅度为48.87%至61.66%</a>\\n\\t\\t\\t\\t\\t            </td>\\n            <td class =\" c-rise\">\\n            \\t61.66            </td>\\n            <td class=\" c-fall\">-7.82亿</td>\\n            <td class=\"tc cur\">2021-04-30</td>\\n        </tr>\\n                <tr >\\n            <td>31</td>\\n            <td class=\" linkToGghq\">\\n\\t\\t\\t\\t\\t\\t\\t\\t\\t<a href=\"http://stockpage.10jqka.com.cn/002049/finance/\" target=\"_blank\" class=\"stockCode\">002049</a>\\n\\t\\t\\t\\t\\t\\t\\t</td>\\n            <td class=\"linkToGghq\">\\n            \\t\\t\\t\\t\\t\\t<a href=\"http://stockpage.10jqka.com.cn/002049/finance/\" target=\"_blank\" code=\"hs_002049\" class=\"J_showCanvas\">紫光国微</a>\\n\\t\\t\\t\\t            </td>\\n            <td class=\" c-rise\">\\n            \\t<span>业绩大幅上升</span>\\n            </td>\\n            <td class=\"tl\">\\n            \\t\\t\\t\\t\\t\\t<a href=\"http://www.iwencai.com/stockpick/search?typed=0&preParams=&ts=1&f=1&qs=yjygzy_ths_data&selfsectsn=&querytype=&searchfilter=&tid=stockpick&w=002049+%E4%B8%9A%E7%BB%A9%E9%A2%84%E5%91%8A&refCountId=data_55eff2bf_980\" target=\"_blank\">净利润60289.03万元至80385.38万元,增长幅度为50.00%至100.00%</a>\\n\\t\\t\\t\\t\\t            </td>\\n            <td class =\" c-rise\">\\n            \\t100.00            </td>\\n            <td class=\" c-rise\">4.02亿</td>\\n            <td class=\"tc cur\">2021-04-30</td>\\n        </tr>\\n                <tr class=\"even\">\\n            <td>32</td>\\n            <td class=\" linkToGghq\">\\n\\t\\t\\t\\t\\t\\t\\t\\t\\t<a href=\"http://stockpage.10jqka.com.cn/002053/finance/\" target=\"_blank\" class=\"stockCode\">002053</a>\\n\\t\\t\\t\\t\\t\\t\\t</td>\\n            <td class=\"linkToGghq\">\\n            \\t\\t\\t\\t\\t\\t<a href=\"http://stockpage.10jqka.com.cn/002053/finance/\" target=\"_blank\" code=\"hs_002053\" class=\"J_showCanvas\">云南能投</a>\\n\\t\\t\\t\\t            </td>\\n            <td class=\" c-fall\">\\n            \\t<span>业绩预降</span>\\n            </td>\\n            <td class=\"tl\">\\n            \\t\\t\\t\\t\\t\\t<a href=\"http://www.iwencai.com/stockpick/search?typed=0&preParams=&ts=1&f=1&qs=yjygzy_ths_data&selfsectsn=&querytype=&searchfilter=&tid=stockpick&w=002053+%E4%B8%9A%E7%BB%A9%E9%A2%84%E5%91%8A&refCountId=data_55eff2bf_980\" target=\"_blank\">净利润13343.31万元至15450.15万元,下降幅度为28.59%至17.31%</a>\\n\\t\\t\\t\\t\\t            </td>\\n            <td class =\" c-fall\">\\n            \\t-28.59            </td>\\n            <td class=\" c-rise\">1.87亿</td>\\n            <td class=\"tc cur\">2021-04-30</td>\\n        </tr>\\n                <tr >\\n            <td>33</td>\\n            <td class=\" linkToGghq\">\\n\\t\\t\\t\\t\\t\\t\\t\\t\\t<a href=\"http://stockpage.10jqka.com.cn/002086/finance/\" target=\"_blank\" class=\"stockCode\">002086</a>\\n\\t\\t\\t\\t\\t\\t\\t</td>\\n            <td class=\"linkToGghq\">\\n            \\t\\t\\t\\t\\t\\t<a href=\"http://stockpage.10jqka.com.cn/002086/finance/\" target=\"_blank\" code=\"hs_002086\" class=\"J_showCanvas\">*ST东洋</a>\\n\\t\\t\\t\\t            </td>\\n            <td class=\" c-fall\">\\n            \\t<span>业绩预亏</span>\\n            </td>\\n            <td class=\"tl\">\\n            \\t\\t\\t\\t\\t\\t<a href=\"http://www.iwencai.com/stockpick/search?typed=0&preParams=&ts=1&f=1&qs=yjygzy_ths_data&selfsectsn=&querytype=&searchfilter=&tid=stockpick&w=002086+%E4%B8%9A%E7%BB%A9%E9%A2%84%E5%91%8A&refCountId=data_55eff2bf_980\" target=\"_blank\">净利润-2800万元至-1900万元,下降幅度为234.55%至191.3%</a>\\n\\t\\t\\t\\t\\t            </td>\\n            <td class =\" c-fall\">\\n            \\t-234.55            </td>\\n            <td class=\" c-rise\">2081.01万</td>\\n            <td class=\"tc cur\">2021-04-30</td>\\n        </tr>\\n                <tr class=\"even\">\\n            <td>34</td>\\n            <td class=\" linkToGghq\">\\n\\t\\t\\t\\t\\t\\t\\t\\t\\t<a href=\"http://stockpage.10jqka.com.cn/002087/finance/\" target=\"_blank\" class=\"stockCode\">002087</a>\\n\\t\\t\\t\\t\\t\\t\\t</td>\\n            <td class=\"linkToGghq\">\\n            \\t\\t\\t\\t\\t\\t<a href=\"http://stockpage.10jqka.com.cn/002087/finance/\" target=\"_blank\" code=\"hs_002087\" class=\"J_showCanvas\">新野纺织</a>\\n\\t\\t\\t\\t            </td>\\n            <td class=\" c-fall\">\\n            \\t<span>业绩预降</span>\\n            </td>\\n            <td class=\"tl\">\\n            \\t\\t\\t\\t\\t\\t<a href=\"http://www.iwencai.com/stockpick/search?typed=0&preParams=&ts=1&f=1&qs=yjygzy_ths_data&selfsectsn=&querytype=&searchfilter=&tid=stockpick&w=002087+%E4%B8%9A%E7%BB%A9%E9%A2%84%E5%91%8A&refCountId=data_55eff2bf_980\" target=\"_blank\">净利润5737.96万元至8033.14万元,下降幅度为50%至30%</a>\\n\\t\\t\\t\\t\\t            </td>\\n            <td class =\" c-fall\">\\n            \\t-50.00            </td>\\n            <td class=\" c-rise\">1.15亿</td>\\n            <td class=\"tc cur\">2021-04-30</td>\\n        </tr>\\n                <tr >\\n            <td>35</td>\\n            <td class=\" linkToGghq\">\\n\\t\\t\\t\\t\\t\\t\\t\\t\\t<a href=\"http://stockpage.10jqka.com.cn/002103/finance/\" target=\"_blank\" class=\"stockCode\">002103</a>\\n\\t\\t\\t\\t\\t\\t\\t</td>\\n            <td class=\"linkToGghq\">\\n            \\t\\t\\t\\t\\t\\t<a href=\"http://stockpage.10jqka.com.cn/002103/finance/\" target=\"_blank\" code=\"hs_002103\" class=\"J_showCanvas\">广博股份</a>\\n\\t\\t\\t\\t            </td>\\n            <td class=\" c-rise\">\\n            \\t<span>预计扭亏</span>\\n            </td>\\n            <td class=\"tl\">\\n            \\t\\t\\t\\t\\t\\t<a href=\"http://www.iwencai.com/stockpick/search?typed=0&preParams=&ts=1&f=1&qs=yjygzy_ths_data&selfsectsn=&querytype=&searchfilter=&tid=stockpick&w=002103+%E4%B8%9A%E7%BB%A9%E9%A2%84%E5%91%8A&refCountId=data_55eff2bf_980\" target=\"_blank\">净利润1000万元至1500万元,增长幅度为174.53%至211.79%</a>\\n\\t\\t\\t\\t\\t            </td>\\n            <td class =\" c-rise\">\\n            \\t211.79            </td>\\n            <td class=\" c-fall\">-1341.81万</td>\\n            <td class=\"tc cur\">2021-04-30</td>\\n        </tr>\\n                <tr class=\"even\">\\n            <td>36</td>\\n            <td class=\" linkToGghq\">\\n\\t\\t\\t\\t\\t\\t\\t\\t\\t<a href=\"http://stockpage.10jqka.com.cn/002104/finance/\" target=\"_blank\" class=\"stockCode\">002104</a>\\n\\t\\t\\t\\t\\t\\t\\t</td>\\n            <td class=\"linkToGghq\">\\n            \\t\\t\\t\\t\\t\\t<a href=\"http://stockpage.10jqka.com.cn/002104/finance/\" target=\"_blank\" code=\"hs_002104\" class=\"J_showCanvas\">恒宝股份</a>\\n\\t\\t\\t\\t            </td>\\n            <td class=\" c-fall\">\\n            \\t<span>业绩预亏</span>\\n            </td>\\n            <td class=\"tl\">\\n            \\t\\t\\t\\t\\t\\t<a href=\"http://www.iwencai.com/stockpick/search?typed=0&preParams=&ts=1&f=1&qs=yjygzy_ths_data&selfsectsn=&querytype=&searchfilter=&tid=stockpick&w=002104+%E4%B8%9A%E7%BB%A9%E9%A2%84%E5%91%8A&refCountId=data_55eff2bf_980\" target=\"_blank\">净利润-500万元至-250万元,下降幅度为120.11%至110.06%</a>\\n\\t\\t\\t\\t\\t            </td>\\n            <td class =\" c-fall\">\\n            \\t-120.11            </td>\\n            <td class=\" c-rise\">2485.83万</td>\\n            <td class=\"tc cur\">2021-04-30</td>\\n        </tr>\\n                <tr >\\n            <td>37</td>\\n            <td class=\" linkToGghq\">\\n\\t\\t\\t\\t\\t\\t\\t\\t\\t<a href=\"http://stockpage.10jqka.com.cn/002118/finance/\" target=\"_blank\" class=\"stockCode\">002118</a>\\n\\t\\t\\t\\t\\t\\t\\t</td>\\n            <td class=\"linkToGghq\">\\n            \\t\\t\\t\\t\\t\\t<a href=\"http://stockpage.10jqka.com.cn/002118/finance/\" target=\"_blank\" code=\"hs_002118\" class=\"J_showCanvas\">紫鑫药业</a>\\n\\t\\t\\t\\t            </td>\\n            <td class=\" c-rise\">\\n            \\t<span>预计减亏</span>\\n            </td>\\n            <td class=\"tl\">\\n            \\t\\t\\t\\t\\t\\t<a href=\"http://www.iwencai.com/stockpick/search?typed=0&preParams=&ts=1&f=1&qs=yjygzy_ths_data&selfsectsn=&querytype=&searchfilter=&tid=stockpick&w=002118+%E4%B8%9A%E7%BB%A9%E9%A2%84%E5%91%8A&refCountId=data_55eff2bf_980\" target=\"_blank\">净利润-19000万元至-14000万元,增长幅度为11.15%至34.53%</a>\\n\\t\\t\\t\\t\\t            </td>\\n            <td class =\" c-rise\">\\n            \\t34.53            </td>\\n            <td class=\" c-fall\">-2.14亿</td>\\n            <td class=\"tc cur\">2021-04-30</td>\\n        </tr>\\n                <tr class=\"even\">\\n            <td>38</td>\\n            <td class=\" linkToGghq\">\\n\\t\\t\\t\\t\\t\\t\\t\\t\\t<a href=\"http://stockpage.10jqka.com.cn/002149/finance/\" target=\"_blank\" class=\"stockCode\">002149</a>\\n\\t\\t\\t\\t\\t\\t\\t</td>\\n            <td class=\"linkToGghq\">\\n            \\t\\t\\t\\t\\t\\t<a href=\"http://stockpage.10jqka.com.cn/002149/finance/\" target=\"_blank\" code=\"hs_002149\" class=\"J_showCanvas\">西部材料</a>\\n\\t\\t\\t\\t            </td>\\n            <td class=\" c-rise\">\\n            \\t<span>业绩大幅上升</span>\\n            </td>\\n            <td class=\"tl\">\\n            \\t\\t\\t\\t\\t\\t<a href=\"http://www.iwencai.com/stockpick/search?typed=0&preParams=&ts=1&f=1&qs=yjygzy_ths_data&selfsectsn=&querytype=&searchfilter=&tid=stockpick&w=002149+%E4%B8%9A%E7%BB%A9%E9%A2%84%E5%91%8A&refCountId=data_55eff2bf_980\" target=\"_blank\">净利润6500万元至7500万元,增长幅度为340.22%至407.94%</a>\\n\\t\\t\\t\\t\\t            </td>\\n            <td class =\" c-rise\">\\n            \\t407.94            </td>\\n            <td class=\" c-rise\">1476.55万</td>\\n            <td class=\"tc cur\">2021-04-30</td>\\n        </tr>\\n                <tr >\\n            <td>39</td>\\n            <td class=\" linkToGghq\">\\n\\t\\t\\t\\t\\t\\t\\t\\t\\t<a href=\"http://stockpage.10jqka.com.cn/002179/finance/\" target=\"_blank\" class=\"stockCode\">002179</a>\\n\\t\\t\\t\\t\\t\\t\\t</td>\\n            <td class=\"linkToGghq\">\\n            \\t\\t\\t\\t\\t\\t<a href=\"http://stockpage.10jqka.com.cn/002179/finance/\" target=\"_blank\" code=\"hs_002179\" class=\"J_showCanvas\">中航光电</a>\\n\\t\\t\\t\\t            </td>\\n            <td class=\" c-rise\">\\n            \\t<span>业绩大幅上升</span>\\n            </td>\\n            <td class=\"tl\">\\n            \\t\\t\\t\\t\\t\\t<a href=\"http://www.iwencai.com/stockpick/search?typed=0&preParams=&ts=1&f=1&qs=yjygzy_ths_data&selfsectsn=&querytype=&searchfilter=&tid=stockpick&w=002179+%E4%B8%9A%E7%BB%A9%E9%A2%84%E5%91%8A&refCountId=data_55eff2bf_980\" target=\"_blank\">净利润92819.06万元至112708.86万元,增长幅度为40.00%至70.00%</a>\\n\\t\\t\\t\\t\\t            </td>\\n            <td class =\" c-rise\">\\n            \\t70.00            </td>\\n            <td class=\" c-rise\">6.63亿</td>\\n            <td class=\"tc cur\">2021-04-30</td>\\n        </tr>\\n                <tr class=\"even\">\\n            <td>40</td>\\n            <td class=\" linkToGghq\">\\n\\t\\t\\t\\t\\t\\t\\t\\t\\t<a href=\"http://stockpage.10jqka.com.cn/002184/finance/\" target=\"_blank\" class=\"stockCode\">002184</a>\\n\\t\\t\\t\\t\\t\\t\\t</td>\\n            <td class=\"linkToGghq\">\\n            \\t\\t\\t\\t\\t\\t<a href=\"http://stockpage.10jqka.com.cn/002184/finance/\" target=\"_blank\" code=\"hs_002184\" class=\"J_showCanvas\">海得控制</a>\\n\\t\\t\\t\\t            </td>\\n            <td class=\" c-rise\">\\n            \\t<span>业绩大幅上升</span>\\n            </td>\\n            <td class=\"tl\">\\n            \\t\\t\\t\\t\\t\\t<a href=\"http://www.iwencai.com/stockpick/search?typed=0&preParams=&ts=1&f=1&qs=yjygzy_ths_data&selfsectsn=&querytype=&searchfilter=&tid=stockpick&w=002184+%E4%B8%9A%E7%BB%A9%E9%A2%84%E5%91%8A&refCountId=data_55eff2bf_980\" target=\"_blank\">净利润5000万元至6000万元,增长幅度为32.25%至58.70%</a>\\n\\t\\t\\t\\t\\t            </td>\\n            <td class =\" c-rise\">\\n            \\t58.70            </td>\\n            <td class=\" c-rise\">3780.69万</td>\\n            <td class=\"tc cur\">2021-04-30</td>\\n        </tr>\\n                <tr >\\n            <td>41</td>\\n            <td class=\" linkToGghq\">\\n\\t\\t\\t\\t\\t\\t\\t\\t\\t<a href=\"http://stockpage.10jqka.com.cn/002191/finance/\" target=\"_blank\" class=\"stockCode\">002191</a>\\n\\t\\t\\t\\t\\t\\t\\t</td>\\n            <td class=\"linkToGghq\">\\n            \\t\\t\\t\\t\\t\\t<a href=\"http://stockpage.10jqka.com.cn/002191/finance/\" target=\"_blank\" code=\"hs_002191\" class=\"J_showCanvas\">劲嘉股份</a>\\n\\t\\t\\t\\t            </td>\\n            <td class=\" c-rise\">\\n            \\t<span>业绩预增</span>\\n            </td>\\n            <td class=\"tl\">\\n            \\t\\t\\t\\t\\t\\t<a href=\"http://www.iwencai.com/stockpick/search?typed=0&preParams=&ts=1&f=1&qs=yjygzy_ths_data&selfsectsn=&querytype=&searchfilter=&tid=stockpick&w=002191+%E4%B8%9A%E7%BB%A9%E9%A2%84%E5%91%8A&refCountId=data_55eff2bf_980\" target=\"_blank\">净利润45689.30万元至53996.45万元,增长幅度为10%至30%</a>\\n\\t\\t\\t\\t\\t            </td>\\n            <td class =\" c-rise\">\\n            \\t30.00            </td>\\n            <td class=\" c-rise\">4.15亿</td>\\n            <td class=\"tc cur\">2021-04-30</td>\\n        </tr>\\n                <tr class=\"even\">\\n            <td>42</td>\\n            <td class=\" linkToGghq\">\\n\\t\\t\\t\\t\\t\\t\\t\\t\\t<a href=\"http://stockpage.10jqka.com.cn/002255/finance/\" target=\"_blank\" class=\"stockCode\">002255</a>\\n\\t\\t\\t\\t\\t\\t\\t</td>\\n            <td class=\"linkToGghq\">\\n            \\t\\t\\t\\t\\t\\t<a href=\"http://stockpage.10jqka.com.cn/002255/finance/\" target=\"_blank\" code=\"hs_002255\" class=\"J_showCanvas\">*ST海陆</a>\\n\\t\\t\\t\\t            </td>\\n            <td class=\" c-fall\">\\n            \\t<span>业绩大幅下降</span>\\n            </td>\\n            <td class=\"tl\">\\n            \\t\\t\\t\\t\\t\\t<a href=\"http://www.iwencai.com/stockpick/search?typed=0&preParams=&ts=1&f=1&qs=yjygzy_ths_data&selfsectsn=&querytype=&searchfilter=&tid=stockpick&w=002255+%E4%B8%9A%E7%BB%A9%E9%A2%84%E5%91%8A&refCountId=data_55eff2bf_980\" target=\"_blank\">净利润13000万元至17000万元,下降幅度为76.7%至69.53%</a>\\n\\t\\t\\t\\t\\t            </td>\\n            <td class =\" c-fall\">\\n            \\t-76.70            </td>\\n            <td class=\" c-rise\">5.58亿</td>\\n            <td class=\"tc cur\">2021-04-30</td>\\n        </tr>\\n                <tr >\\n            <td>43</td>\\n            <td class=\" linkToGghq\">\\n\\t\\t\\t\\t\\t\\t\\t\\t\\t<a href=\"http://stockpage.10jqka.com.cn/002260/finance/\" target=\"_blank\" class=\"stockCode\">002260</a>\\n\\t\\t\\t\\t\\t\\t\\t</td>\\n            <td class=\"linkToGghq\">\\n            \\t\\t\\t\\t\\t\\t<a href=\"http://stockpage.10jqka.com.cn/002260/finance/\" target=\"_blank\" code=\"hs_002260\" class=\"J_showCanvas\">*ST德奥</a>\\n\\t\\t\\t\\t            </td>\\n            <td class=\" c-fall\">\\n            \\t<span>业绩预亏</span>\\n            </td>\\n            <td class=\"tl\">\\n            \\t\\t\\t\\t\\t\\t<a href=\"http://www.iwencai.com/stockpick/search?typed=0&preParams=&ts=1&f=1&qs=yjygzy_ths_data&selfsectsn=&querytype=&searchfilter=&tid=stockpick&w=002260+%E4%B8%9A%E7%BB%A9%E9%A2%84%E5%91%8A&refCountId=data_55eff2bf_980\" target=\"_blank\">净利润-2000万元至-1100万元,下降幅度为186%至147%</a>\\n\\t\\t\\t\\t\\t            </td>\\n            <td class =\" c-fall\">\\n            \\t-186.00            </td>\\n            <td class=\" c-rise\">2306.63万</td>\\n            <td class=\"tc cur\">2021-04-30</td>\\n        </tr>\\n                <tr class=\"even\">\\n            <td>44</td>\\n            <td class=\" linkToGghq\">\\n\\t\\t\\t\\t\\t\\t\\t\\t\\t<a href=\"http://stockpage.10jqka.com.cn/002269/finance/\" target=\"_blank\" class=\"stockCode\">002269</a>\\n\\t\\t\\t\\t\\t\\t\\t</td>\\n            <td class=\"linkToGghq\">\\n            \\t\\t\\t\\t\\t\\t<a href=\"http://stockpage.10jqka.com.cn/002269/finance/\" target=\"_blank\" code=\"hs_002269\" class=\"J_showCanvas\">美邦服饰</a>\\n\\t\\t\\t\\t            </td>\\n            <td class=\" c-rise\">\\n            \\t<span>预计减亏</span>\\n            </td>\\n            <td class=\"tl\">\\n            \\t\\t\\t\\t\\t\\t<a href=\"http://www.iwencai.com/stockpick/search?typed=0&preParams=&ts=1&f=1&qs=yjygzy_ths_data&selfsectsn=&querytype=&searchfilter=&tid=stockpick&w=002269+%E4%B8%9A%E7%BB%A9%E9%A2%84%E5%91%8A&refCountId=data_55eff2bf_980\" target=\"_blank\">净利润-5000万元至0万元,增长幅度为89.54%至100.00%</a>\\n\\t\\t\\t\\t\\t            </td>\\n            <td class =\" c-rise\">\\n            \\t100.00            </td>\\n            <td class=\" c-fall\">-4.78亿</td>\\n            <td class=\"tc cur\">2021-04-30</td>\\n        </tr>\\n                <tr >\\n            <td>45</td>\\n            <td class=\" linkToGghq\">\\n\\t\\t\\t\\t\\t\\t\\t\\t\\t<a href=\"http://stockpage.10jqka.com.cn/002308/finance/\" target=\"_blank\" class=\"stockCode\">002308</a>\\n\\t\\t\\t\\t\\t\\t\\t</td>\\n            <td class=\"linkToGghq\">\\n            \\t\\t\\t\\t\\t\\t<a href=\"http://stockpage.10jqka.com.cn/002308/finance/\" target=\"_blank\" code=\"hs_002308\" class=\"J_showCanvas\">威创股份</a>\\n\\t\\t\\t\\t            </td>\\n            <td class=\" c-fall\">\\n            \\t<span>业绩大幅下降</span>\\n            </td>\\n            <td class=\"tl\">\\n            \\t\\t\\t\\t\\t\\t<a href=\"http://www.iwencai.com/stockpick/search?typed=0&preParams=&ts=1&f=1&qs=yjygzy_ths_data&selfsectsn=&querytype=&searchfilter=&tid=stockpick&w=002308+%E4%B8%9A%E7%BB%A9%E9%A2%84%E5%91%8A&refCountId=data_55eff2bf_980\" target=\"_blank\">净利润500万元至750万元,下降幅度为98.21%至97.32%</a>\\n\\t\\t\\t\\t\\t            </td>\\n            <td class =\" c-fall\">\\n            \\t-98.21            </td>\\n            <td class=\" c-rise\">2.80亿</td>\\n            <td class=\"tc cur\">2021-04-30</td>\\n        </tr>\\n                <tr class=\"even\">\\n            <td>46</td>\\n            <td class=\" linkToGghq\">\\n\\t\\t\\t\\t\\t\\t\\t\\t\\t<a href=\"http://stockpage.10jqka.com.cn/002315/finance/\" target=\"_blank\" class=\"stockCode\">002315</a>\\n\\t\\t\\t\\t\\t\\t\\t</td>\\n            <td class=\"linkToGghq\">\\n            \\t\\t\\t\\t\\t\\t<a href=\"http://stockpage.10jqka.com.cn/002315/finance/\" target=\"_blank\" code=\"hs_002315\" class=\"J_showCanvas\">焦点科技</a>\\n\\t\\t\\t\\t            </td>\\n            <td class=\" c-rise\">\\n            \\t<span>业绩大幅上升</span>\\n            </td>\\n            <td class=\"tl\">\\n            \\t\\t\\t\\t\\t\\t<a href=\"http://www.iwencai.com/stockpick/search?typed=0&preParams=&ts=1&f=1&qs=yjygzy_ths_data&selfsectsn=&querytype=&searchfilter=&tid=stockpick&w=002315+%E4%B8%9A%E7%BB%A9%E9%A2%84%E5%91%8A&refCountId=data_55eff2bf_980\" target=\"_blank\">净利润9000万元至12500万元,增长幅度为88.72%至162.12%</a>\\n\\t\\t\\t\\t\\t            </td>\\n            <td class =\" c-rise\">\\n            \\t162.12            </td>\\n            <td class=\" c-rise\">4768.87万</td>\\n            <td class=\"tc cur\">2021-04-30</td>\\n        </tr>\\n                <tr >\\n            <td>47</td>\\n            <td class=\" linkToGghq\">\\n\\t\\t\\t\\t\\t\\t\\t\\t\\t<a href=\"http://stockpage.10jqka.com.cn/002345/finance/\" target=\"_blank\" class=\"stockCode\">002345</a>\\n\\t\\t\\t\\t\\t\\t\\t</td>\\n            <td class=\"linkToGghq\">\\n            \\t\\t\\t\\t\\t\\t<a href=\"http://stockpage.10jqka.com.cn/002345/finance/\" target=\"_blank\" code=\"hs_002345\" class=\"J_showCanvas\">潮宏基</a>\\n\\t\\t\\t\\t            </td>\\n            <td class=\" c-rise\">\\n            \\t<span>业绩大幅上升</span>\\n            </td>\\n            <td class=\"tl\">\\n            \\t\\t\\t\\t\\t\\t<a href=\"http://www.iwencai.com/stockpick/search?typed=0&preParams=&ts=1&f=1&qs=yjygzy_ths_data&selfsectsn=&querytype=&searchfilter=&tid=stockpick&w=002345+%E4%B8%9A%E7%BB%A9%E9%A2%84%E5%91%8A&refCountId=data_55eff2bf_980\" target=\"_blank\">净利润15000万元至18000万元,增长幅度为1017.44%至1240.92%</a>\\n\\t\\t\\t\\t\\t            </td>\\n            <td class =\" c-rise\">\\n            \\t1240.92            </td>\\n            <td class=\" c-rise\">1342.36万</td>\\n            <td class=\"tc cur\">2021-04-30</td>\\n        </tr>\\n                <tr class=\"even\">\\n            <td>48</td>\\n            <td class=\" linkToGghq\">\\n\\t\\t\\t\\t\\t\\t\\t\\t\\t<a href=\"http://stockpage.10jqka.com.cn/002390/finance/\" target=\"_blank\" class=\"stockCode\">002390</a>\\n\\t\\t\\t\\t\\t\\t\\t</td>\\n            <td class=\"linkToGghq\">\\n            \\t\\t\\t\\t\\t\\t<a href=\"http://stockpage.10jqka.com.cn/002390/finance/\" target=\"_blank\" code=\"hs_002390\" class=\"J_showCanvas\">信邦制药</a>\\n\\t\\t\\t\\t            </td>\\n            <td class=\" c-rise\">\\n            \\t<span>业绩大幅上升</span>\\n            </td>\\n            <td class=\"tl\">\\n            \\t\\t\\t\\t\\t\\t<a href=\"http://www.iwencai.com/stockpick/search?typed=0&preParams=&ts=1&f=1&qs=yjygzy_ths_data&selfsectsn=&querytype=&searchfilter=&tid=stockpick&w=002390+%E4%B8%9A%E7%BB%A9%E9%A2%84%E5%91%8A&refCountId=data_55eff2bf_980\" target=\"_blank\">净利润13942万元至15730万元,增长幅度为290.00%至340.02%</a>\\n\\t\\t\\t\\t\\t            </td>\\n            <td class =\" c-rise\">\\n            \\t340.02            </td>\\n            <td class=\" c-rise\">3574.86万</td>\\n            <td class=\"tc cur\">2021-04-30</td>\\n        </tr>\\n                <tr >\\n            <td>49</td>\\n            <td class=\" linkToGghq\">\\n\\t\\t\\t\\t\\t\\t\\t\\t\\t<a href=\"http://stockpage.10jqka.com.cn/002496/finance/\" target=\"_blank\" class=\"stockCode\">002496</a>\\n\\t\\t\\t\\t\\t\\t\\t</td>\\n            <td class=\"linkToGghq\">\\n            \\t\\t\\t\\t\\t\\t<a href=\"http://stockpage.10jqka.com.cn/002496/finance/\" target=\"_blank\" code=\"hs_002496\" class=\"J_showCanvas\">*ST辉丰</a>\\n\\t\\t\\t\\t            </td>\\n            <td class=\" c-rise\">\\n            \\t<span>预计扭亏</span>\\n            </td>\\n            <td class=\"tl\">\\n            \\t\\t\\t\\t\\t\\t<a href=\"http://www.iwencai.com/stockpick/search?typed=0&preParams=&ts=1&f=1&qs=yjygzy_ths_data&selfsectsn=&querytype=&searchfilter=&tid=stockpick&w=002496+%E4%B8%9A%E7%BB%A9%E9%A2%84%E5%91%8A&refCountId=data_55eff2bf_980\" target=\"_blank\">净利润60000万元至70000万元,增长幅度为1341.17%至1548.04%</a>\\n\\t\\t\\t\\t\\t            </td>\\n            <td class =\" c-rise\">\\n            \\t1548.04            </td>\\n            <td class=\" c-fall\">-4834.13万</td>\\n            <td class=\"tc cur\">2021-04-30</td>\\n        </tr>\\n                <tr class=\"even\">\\n            <td>50</td>\\n            <td class=\" linkToGghq\">\\n\\t\\t\\t\\t\\t\\t\\t\\t\\t<a href=\"http://stockpage.10jqka.com.cn/002501/finance/\" target=\"_blank\" class=\"stockCode\">002501</a>\\n\\t\\t\\t\\t\\t\\t\\t</td>\\n            <td class=\"linkToGghq\">\\n            \\t\\t\\t\\t\\t\\t<a href=\"http://stockpage.10jqka.com.cn/002501/finance/\" target=\"_blank\" code=\"hs_002501\" class=\"J_showCanvas\">*ST利源</a>\\n\\t\\t\\t\\t            </td>\\n            <td class=\" c-rise\">\\n            \\t<span>预计减亏</span>\\n            </td>\\n            <td class=\"tl\">\\n            \\t\\t\\t\\t\\t\\t<a href=\"http://www.iwencai.com/stockpick/search?typed=0&preParams=&ts=1&f=1&qs=yjygzy_ths_data&selfsectsn=&querytype=&searchfilter=&tid=stockpick&w=002501+%E4%B8%9A%E7%BB%A9%E9%A2%84%E5%91%8A&refCountId=data_55eff2bf_980\" target=\"_blank\">净利润-14000万元至-8000万元,增长幅度为74.97%至85.70%</a>\\n\\t\\t\\t\\t\\t            </td>\\n            <td class =\" c-rise\">\\n            \\t85.70            </td>\\n            <td class=\" c-fall\">-5.59亿</td>\\n            <td class=\"tc cur\">2021-04-30</td>\\n        </tr>\\n                </tbody>\\n</table>\\n     <div class=\"m-page J-ajax-page\">\\n       &nbsp;<a class=\"cur\" href=\"javascript:void(0)\">1</a>&nbsp;&nbsp;<a class=\"changePage\" page=\"2\" href=\"javascript:void(0);\">2</a>&nbsp;&nbsp;<a class=\"changePage\" page=\"3\" href=\"javascript:void(0);\">3</a>&nbsp;&nbsp;<a class=\"changePage\" page=\"4\" href=\"javascript:void(0);\">4</a>&nbsp;&nbsp;<a class=\"changePage\" page=\"5\" href=\"javascript:void(0);\">5</a>&nbsp;&nbsp;<a class=\"changePage\" page=\"2\" href=\"javascript:void(0);\">下一页</a><a class=\"changePage\" page=\"10\" href=\"javascript:void(0);\">尾页</a><span class=\"page_info\">1/10</span>\\n     </div>     <div class=\"page-loading\" style=\"display: none;\">\\n        <div class=\"mask\"></div>\\n        <div class=\"loading-img\"></div>\\n    </div>\\n     <table class=\"m-table J-ajax-table J-canvas-table\">\\n        <thead>\\n        <tr class=\"row2\">\\n            <th width=\"40\" >序号</th>\\n            <th width=\"78\" ><a href=\\'javascript:void(0);\\' class=\"J-ajax-a\" field=\\'stockcode\\'  colidx=\"1\"><a href=\"javascript:void(0);\" class=\"J-ajax-a\" field=\"STOCKCODE\">股票代码</a><i class=\"arr-down\"></i></th>\\n            <th width=\"78\" >股票简称</th>\\n            <th width=\"115\" ><a href=\\'javascript:void(0);\\' class=\"J-ajax-a\" field=\\'summ\\' ><a href=\"javascript:void(0);\" class=\"J-ajax-a\">业绩预告类型</a><i class=\"arr-down\"></i></th>\\n            <th width=\"350\">业绩预告摘要</th>\\n            <th width=\"97\" ><a href=\"javascript:void(0);\" class=\"J-ajax-a\" field=\\'jlrbl\\' >净利润变动幅度<br/>(%)</a><i class=\"arr-down\"></i></th>\\n            <th width=\"135\" ><a href=\"javascript:void(0);\" class=\"J-ajax-a\" field=\\'SNTQJLR\\' >上年同期净利润<br/>(元)</a><i class=\"arr-down\"></i></th>\\n            <th width=\"104\" class=\"cur\"><a href=\"javascript:void(0);\" class=\"J-ajax-a\" field=\\'enddate\\' order=\"asc\">公告日期</a><i class=\"arr-down\"></i></th>\\n        </tr>\\n        </thead>\\n        <tbody>\\n                <tr >\\n            <td>51</td>\\n            <td class=\" linkToGghq\">\\n\\t\\t\\t\\t\\t\\t\\t\\t\\t<a href=\"http://stockpage.10jqka.com.cn/002512/finance/\" target=\"_blank\" class=\"stockCode\">002512</a>\\n\\t\\t\\t\\t\\t\\t\\t</td>\\n            <td class=\"linkToGghq\">\\n            \\t\\t\\t\\t\\t\\t<a href=\"http://stockpage.10jqka.com.cn/002512/finance/\" target=\"_blank\" code=\"hs_002512\" class=\"J_showCanvas\">达华智能</a>\\n\\t\\t\\t\\t            </td>\\n            <td class=\" c-fall\">\\n            \\t<span>业绩预亏</span>\\n            </td>\\n            <td class=\"tl\">\\n            \\t\\t\\t\\t\\t\\t<a href=\"http://www.iwencai.com/stockpick/search?typed=0&preParams=&ts=1&f=1&qs=yjygzy_ths_data&selfsectsn=&querytype=&searchfilter=&tid=stockpick&w=002512+%E4%B8%9A%E7%BB%A9%E9%A2%84%E5%91%8A&refCountId=data_55eff2bf_980\" target=\"_blank\">净利润-18000万元至-12000万元</a>\\n\\t\\t\\t\\t\\t            </td>\\n            <td class =\" c-fall\">\\n            \\t-1015.41            </td>\\n            <td class=\" c-rise\">1966.34万</td>\\n            <td class=\"tc cur\">2021-04-30</td>\\n        </tr>\\n                <tr class=\"even\">\\n            <td>52</td>\\n            <td class=\" linkToGghq\">\\n\\t\\t\\t\\t\\t\\t\\t\\t\\t<a href=\"http://stockpage.10jqka.com.cn/002524/finance/\" target=\"_blank\" class=\"stockCode\">002524</a>\\n\\t\\t\\t\\t\\t\\t\\t</td>\\n            <td class=\"linkToGghq\">\\n            \\t\\t\\t\\t\\t\\t<a href=\"http://stockpage.10jqka.com.cn/002524/finance/\" target=\"_blank\" code=\"hs_002524\" class=\"J_showCanvas\">光正眼科</a>\\n\\t\\t\\t\\t            </td>\\n            <td class=\" c-rise\">\\n            \\t<span>预计扭亏</span>\\n            </td>\\n            <td class=\"tl\">\\n            \\t\\t\\t\\t\\t\\t<a href=\"http://www.iwencai.com/stockpick/search?typed=0&preParams=&ts=1&f=1&qs=yjygzy_ths_data&selfsectsn=&querytype=&searchfilter=&tid=stockpick&w=002524+%E4%B8%9A%E7%BB%A9%E9%A2%84%E5%91%8A&refCountId=data_55eff2bf_980\" target=\"_blank\">净利润6000万元至8000万元,增长幅度为804.80%至1039.73%</a>\\n\\t\\t\\t\\t\\t            </td>\\n            <td class =\" c-rise\">\\n            \\t1039.73            </td>\\n            <td class=\" c-fall\">-851.31万</td>\\n            <td class=\"tc cur\">2021-04-30</td>\\n        </tr>\\n                <tr >\\n            <td>53</td>\\n            <td class=\" linkToGghq\">\\n\\t\\t\\t\\t\\t\\t\\t\\t\\t<a href=\"http://stockpage.10jqka.com.cn/002563/finance/\" target=\"_blank\" class=\"stockCode\">002563</a>\\n\\t\\t\\t\\t\\t\\t\\t</td>\\n            <td class=\"linkToGghq\">\\n            \\t\\t\\t\\t\\t\\t<a href=\"http://stockpage.10jqka.com.cn/002563/finance/\" target=\"_blank\" code=\"hs_002563\" class=\"J_showCanvas\">森马服饰</a>\\n\\t\\t\\t\\t            </td>\\n            <td class=\" c-rise\">\\n            \\t<span>业绩大幅上升</span>\\n            </td>\\n            <td class=\"tl\">\\n            \\t\\t\\t\\t\\t\\t<a href=\"http://www.iwencai.com/stockpick/search?typed=0&preParams=&ts=1&f=1&qs=yjygzy_ths_data&selfsectsn=&querytype=&searchfilter=&tid=stockpick&w=002563+%E4%B8%9A%E7%BB%A9%E9%A2%84%E5%91%8A&refCountId=data_55eff2bf_980\" target=\"_blank\">净利润58000万元至72000万元,增长幅度为2585.65%至3233.90%</a>\\n\\t\\t\\t\\t\\t            </td>\\n            <td class =\" c-rise\">\\n            \\t3233.90            </td>\\n            <td class=\" c-rise\">2159.63万</td>\\n            <td class=\"tc cur\">2021-04-30</td>\\n        </tr>\\n                <tr class=\"even\">\\n            <td>54</td>\\n            <td class=\" linkToGghq\">\\n\\t\\t\\t\\t\\t\\t\\t\\t\\t<a href=\"http://stockpage.10jqka.com.cn/002571/finance/\" target=\"_blank\" class=\"stockCode\">002571</a>\\n\\t\\t\\t\\t\\t\\t\\t</td>\\n            <td class=\"linkToGghq\">\\n            \\t\\t\\t\\t\\t\\t<a href=\"http://stockpage.10jqka.com.cn/002571/finance/\" target=\"_blank\" code=\"hs_002571\" class=\"J_showCanvas\">德力股份</a>\\n\\t\\t\\t\\t            </td>\\n            <td class=\" c-rise\">\\n            \\t<span>预计扭亏</span>\\n            </td>\\n            <td class=\"tl\">\\n            \\t\\t\\t\\t\\t\\t<a href=\"http://www.iwencai.com/stockpick/search?typed=0&preParams=&ts=1&f=1&qs=yjygzy_ths_data&selfsectsn=&querytype=&searchfilter=&tid=stockpick&w=002571+%E4%B8%9A%E7%BB%A9%E9%A2%84%E5%91%8A&refCountId=data_55eff2bf_980\" target=\"_blank\">净利润1400万元至1900万元,增长幅度为451.09%至576.48%</a>\\n\\t\\t\\t\\t\\t            </td>\\n            <td class =\" c-rise\">\\n            \\t576.48            </td>\\n            <td class=\" c-fall\">-398.76万</td>\\n            <td class=\"tc cur\">2021-04-30</td>\\n        </tr>\\n                <tr >\\n            <td>55</td>\\n            <td class=\" linkToGghq\">\\n\\t\\t\\t\\t\\t\\t\\t\\t\\t<a href=\"http://stockpage.10jqka.com.cn/002576/finance/\" target=\"_blank\" class=\"stockCode\">002576</a>\\n\\t\\t\\t\\t\\t\\t\\t</td>\\n            <td class=\"linkToGghq\">\\n            \\t\\t\\t\\t\\t\\t<a href=\"http://stockpage.10jqka.com.cn/002576/finance/\" target=\"_blank\" code=\"hs_002576\" class=\"J_showCanvas\">通达动力</a>\\n\\t\\t\\t\\t            </td>\\n            <td class=\" c-rise\">\\n            \\t<span>业绩大幅上升</span>\\n            </td>\\n            <td class=\"tl\">\\n            \\t\\t\\t\\t\\t\\t<a href=\"http://www.iwencai.com/stockpick/search?typed=0&preParams=&ts=1&f=1&qs=yjygzy_ths_data&selfsectsn=&querytype=&searchfilter=&tid=stockpick&w=002576+%E4%B8%9A%E7%BB%A9%E9%A2%84%E5%91%8A&refCountId=data_55eff2bf_980\" target=\"_blank\">净利润5013.7万元至6742.57万元,增长幅度为45.0%至95.0%</a>\\n\\t\\t\\t\\t\\t            </td>\\n            <td class =\" c-rise\">\\n            \\t95.00            </td>\\n            <td class=\" c-rise\">3457.73万</td>\\n            <td class=\"tc cur\">2021-04-30</td>\\n        </tr>\\n                <tr class=\"even\">\\n            <td>56</td>\\n            <td class=\" linkToGghq\">\\n\\t\\t\\t\\t\\t\\t\\t\\t\\t<a href=\"http://stockpage.10jqka.com.cn/002592/finance/\" target=\"_blank\" class=\"stockCode\">002592</a>\\n\\t\\t\\t\\t\\t\\t\\t</td>\\n            <td class=\"linkToGghq\">\\n            \\t\\t\\t\\t\\t\\t<a href=\"http://stockpage.10jqka.com.cn/002592/finance/\" target=\"_blank\" code=\"hs_002592\" class=\"J_showCanvas\">ST八菱</a>\\n\\t\\t\\t\\t            </td>\\n            <td class=\" c-rise\">\\n            \\t<span>预计扭亏</span>\\n            </td>\\n            <td class=\"tl\">\\n            \\t\\t\\t\\t\\t\\t<a href=\"http://www.iwencai.com/stockpick/search?typed=0&preParams=&ts=1&f=1&qs=yjygzy_ths_data&selfsectsn=&querytype=&searchfilter=&tid=stockpick&w=002592+%E4%B8%9A%E7%BB%A9%E9%A2%84%E5%91%8A&refCountId=data_55eff2bf_980\" target=\"_blank\">净利润17800万元至22000万元,增长幅度为3149.88%至3869.51%</a>\\n\\t\\t\\t\\t\\t            </td>\\n            <td class =\" c-rise\">\\n            \\t3869.51            </td>\\n            <td class=\" c-fall\">-583.63万</td>\\n            <td class=\"tc cur\">2021-04-30</td>\\n        </tr>\\n                <tr >\\n            <td>57</td>\\n            <td class=\" linkToGghq\">\\n\\t\\t\\t\\t\\t\\t\\t\\t\\t<a href=\"http://stockpage.10jqka.com.cn/002638/finance/\" target=\"_blank\" class=\"stockCode\">002638</a>\\n\\t\\t\\t\\t\\t\\t\\t</td>\\n            <td class=\"linkToGghq\">\\n            \\t\\t\\t\\t\\t\\t<a href=\"http://stockpage.10jqka.com.cn/002638/finance/\" target=\"_blank\" code=\"hs_002638\" class=\"J_showCanvas\">*ST勤上</a>\\n\\t\\t\\t\\t            </td>\\n            <td class=\" c-rise\">\\n            \\t<span>预计减亏</span>\\n            </td>\\n            <td class=\"tl\">\\n            \\t\\t\\t\\t\\t\\t<a href=\"http://www.iwencai.com/stockpick/search?typed=0&preParams=&ts=1&f=1&qs=yjygzy_ths_data&selfsectsn=&querytype=&searchfilter=&tid=stockpick&w=002638+%E4%B8%9A%E7%BB%A9%E9%A2%84%E5%91%8A&refCountId=data_55eff2bf_980\" target=\"_blank\">净利润-1200万元至-800万元,增长幅度为21.00%至47.33%</a>\\n\\t\\t\\t\\t\\t            </td>\\n            <td class =\" c-rise\">\\n            \\t47.33            </td>\\n            <td class=\" c-fall\">-1519.03万</td>\\n            <td class=\"tc cur\">2021-04-30</td>\\n        </tr>\\n                <tr class=\"even\">\\n            <td>58</td>\\n            <td class=\" linkToGghq\">\\n\\t\\t\\t\\t\\t\\t\\t\\t\\t<a href=\"http://stockpage.10jqka.com.cn/002656/finance/\" target=\"_blank\" class=\"stockCode\">002656</a>\\n\\t\\t\\t\\t\\t\\t\\t</td>\\n            <td class=\"linkToGghq\">\\n            \\t\\t\\t\\t\\t\\t<a href=\"http://stockpage.10jqka.com.cn/002656/finance/\" target=\"_blank\" code=\"hs_002656\" class=\"J_showCanvas\">ST摩登</a>\\n\\t\\t\\t\\t            </td>\\n            <td class=\" c-fall\">\\n            \\t<span>业绩预亏</span>\\n            </td>\\n            <td class=\"tl\">\\n            \\t\\t\\t\\t\\t\\t<a href=\"http://www.iwencai.com/stockpick/search?typed=0&preParams=&ts=1&f=1&qs=yjygzy_ths_data&selfsectsn=&querytype=&searchfilter=&tid=stockpick&w=002656+%E4%B8%9A%E7%BB%A9%E9%A2%84%E5%91%8A&refCountId=data_55eff2bf_980\" target=\"_blank\">净利润-3000万元至-2000万元,下降幅度为184.71%至156.48%</a>\\n\\t\\t\\t\\t\\t            </td>\\n            <td class =\" c-fall\">\\n            \\t-184.71            </td>\\n            <td class=\" c-rise\">3541.38万</td>\\n            <td class=\"tc cur\">2021-04-30</td>\\n        </tr>\\n                <tr >\\n            <td>59</td>\\n            <td class=\" linkToGghq\">\\n\\t\\t\\t\\t\\t\\t\\t\\t\\t<a href=\"http://stockpage.10jqka.com.cn/002658/finance/\" target=\"_blank\" class=\"stockCode\">002658</a>\\n\\t\\t\\t\\t\\t\\t\\t</td>\\n            <td class=\"linkToGghq\">\\n            \\t\\t\\t\\t\\t\\t<a href=\"http://stockpage.10jqka.com.cn/002658/finance/\" target=\"_blank\" code=\"hs_002658\" class=\"J_showCanvas\">雪迪龙</a>\\n\\t\\t\\t\\t            </td>\\n            <td class=\" c-rise\">\\n            \\t<span>业绩大幅上升</span>\\n            </td>\\n            <td class=\"tl\">\\n            \\t\\t\\t\\t\\t\\t<a href=\"http://www.iwencai.com/stockpick/search?typed=0&preParams=&ts=1&f=1&qs=yjygzy_ths_data&selfsectsn=&querytype=&searchfilter=&tid=stockpick&w=002658+%E4%B8%9A%E7%BB%A9%E9%A2%84%E5%91%8A&refCountId=data_55eff2bf_980\" target=\"_blank\">净利润6500万元至8000万元,增长幅度为600.02%至761.56%</a>\\n\\t\\t\\t\\t\\t            </td>\\n            <td class =\" c-rise\">\\n            \\t761.56            </td>\\n            <td class=\" c-rise\">928.55万</td>\\n            <td class=\"tc cur\">2021-04-30</td>\\n        </tr>\\n                <tr class=\"even\">\\n            <td>60</td>\\n            <td class=\" linkToGghq\">\\n\\t\\t\\t\\t\\t\\t\\t\\t\\t<a href=\"http://stockpage.10jqka.com.cn/002700/finance/\" target=\"_blank\" class=\"stockCode\">002700</a>\\n\\t\\t\\t\\t\\t\\t\\t</td>\\n            <td class=\"linkToGghq\">\\n            \\t\\t\\t\\t\\t\\t<a href=\"http://stockpage.10jqka.com.cn/002700/finance/\" target=\"_blank\" code=\"hs_002700\" class=\"J_showCanvas\">ST浩源</a>\\n\\t\\t\\t\\t            </td>\\n            <td class=\" c-rise\">\\n            \\t<span>业绩大幅上升</span>\\n            </td>\\n            <td class=\"tl\">\\n            \\t\\t\\t\\t\\t\\t<a href=\"http://www.iwencai.com/stockpick/search?typed=0&preParams=&ts=1&f=1&qs=yjygzy_ths_data&selfsectsn=&querytype=&searchfilter=&tid=stockpick&w=002700+%E4%B8%9A%E7%BB%A9%E9%A2%84%E5%91%8A&refCountId=data_55eff2bf_980\" target=\"_blank\">净利润3646.89万元至5383.51万元,增长幅度为5%至55%</a>\\n\\t\\t\\t\\t\\t            </td>\\n            <td class =\" c-rise\">\\n            \\t55.00            </td>\\n            <td class=\" c-rise\">3473.23万</td>\\n            <td class=\"tc cur\">2021-04-30</td>\\n        </tr>\\n                <tr >\\n            <td>61</td>\\n            <td class=\" linkToGghq\">\\n\\t\\t\\t\\t\\t\\t\\t\\t\\t<a href=\"http://stockpage.10jqka.com.cn/002708/finance/\" target=\"_blank\" class=\"stockCode\">002708</a>\\n\\t\\t\\t\\t\\t\\t\\t</td>\\n            <td class=\"linkToGghq\">\\n            \\t\\t\\t\\t\\t\\t<a href=\"http://stockpage.10jqka.com.cn/002708/finance/\" target=\"_blank\" code=\"hs_002708\" class=\"J_showCanvas\">光洋股份</a>\\n\\t\\t\\t\\t            </td>\\n            <td class=\" c-rise\">\\n            \\t<span>业绩大幅上升</span>\\n            </td>\\n            <td class=\"tl\">\\n            \\t\\t\\t\\t\\t\\t<a href=\"http://www.iwencai.com/stockpick/search?typed=0&preParams=&ts=1&f=1&qs=yjygzy_ths_data&selfsectsn=&querytype=&searchfilter=&tid=stockpick&w=002708+%E4%B8%9A%E7%BB%A9%E9%A2%84%E5%91%8A&refCountId=data_55eff2bf_980\" target=\"_blank\">净利润3000万元至4000万元,增长幅度为347.25%至496.34%</a>\\n\\t\\t\\t\\t\\t            </td>\\n            <td class =\" c-rise\">\\n            \\t496.34            </td>\\n            <td class=\" c-rise\">670.76万</td>\\n            <td class=\"tc cur\">2021-04-30</td>\\n        </tr>\\n                <tr class=\"even\">\\n            <td>62</td>\\n            <td class=\" linkToGghq\">\\n\\t\\t\\t\\t\\t\\t\\t\\t\\t<a href=\"http://stockpage.10jqka.com.cn/002711/finance/\" target=\"_blank\" class=\"stockCode\">002711</a>\\n\\t\\t\\t\\t\\t\\t\\t</td>\\n            <td class=\"linkToGghq\">\\n            \\t\\t\\t\\t\\t\\t<a href=\"http://stockpage.10jqka.com.cn/002711/finance/\" target=\"_blank\" code=\"hs_002711\" class=\"J_showCanvas\">*ST欧浦</a>\\n\\t\\t\\t\\t            </td>\\n            <td class=\" c-rise\">\\n            \\t<span>预计扭亏</span>\\n            </td>\\n            <td class=\"tl\">\\n            \\t\\t\\t\\t\\t\\t<a href=\"http://www.iwencai.com/stockpick/search?typed=0&preParams=&ts=1&f=1&qs=yjygzy_ths_data&selfsectsn=&querytype=&searchfilter=&tid=stockpick&w=002711+%E4%B8%9A%E7%BB%A9%E9%A2%84%E5%91%8A&refCountId=data_55eff2bf_980\" target=\"_blank\">净利润680万元至980万元,增长幅度为130.82%至144.41%</a>\\n\\t\\t\\t\\t\\t            </td>\\n            <td class =\" c-rise\">\\n            \\t144.41            </td>\\n            <td class=\" c-fall\">-2206.56万</td>\\n            <td class=\"tc cur\">2021-04-30</td>\\n        </tr>\\n                <tr >\\n            <td>63</td>\\n            <td class=\" linkToGghq\">\\n\\t\\t\\t\\t\\t\\t\\t\\t\\t<a href=\"http://stockpage.10jqka.com.cn/002722/finance/\" target=\"_blank\" class=\"stockCode\">002722</a>\\n\\t\\t\\t\\t\\t\\t\\t</td>\\n            <td class=\"linkToGghq\">\\n            \\t\\t\\t\\t\\t\\t<a href=\"http://stockpage.10jqka.com.cn/002722/finance/\" target=\"_blank\" code=\"hs_002722\" class=\"J_showCanvas\">金轮股份</a>\\n\\t\\t\\t\\t            </td>\\n            <td class=\" c-rise\">\\n            \\t<span>业绩大幅上升</span>\\n            </td>\\n            <td class=\"tl\">\\n            \\t\\t\\t\\t\\t\\t<a href=\"http://www.iwencai.com/stockpick/search?typed=0&preParams=&ts=1&f=1&qs=yjygzy_ths_data&selfsectsn=&querytype=&searchfilter=&tid=stockpick&w=002722+%E4%B8%9A%E7%BB%A9%E9%A2%84%E5%91%8A&refCountId=data_55eff2bf_980\" target=\"_blank\">净利润6455.46万元至8154.26万元,增长幅度为90.0%至140.0%</a>\\n\\t\\t\\t\\t\\t            </td>\\n            <td class =\" c-rise\">\\n            \\t140.00            </td>\\n            <td class=\" c-rise\">3397.61万</td>\\n            <td class=\"tc cur\">2021-04-30</td>\\n        </tr>\\n                <tr class=\"even\">\\n            <td>64</td>\\n            <td class=\" linkToGghq\">\\n\\t\\t\\t\\t\\t\\t\\t\\t\\t<a href=\"http://stockpage.10jqka.com.cn/002762/finance/\" target=\"_blank\" class=\"stockCode\">002762</a>\\n\\t\\t\\t\\t\\t\\t\\t</td>\\n            <td class=\"linkToGghq\">\\n            \\t\\t\\t\\t\\t\\t<a href=\"http://stockpage.10jqka.com.cn/002762/finance/\" target=\"_blank\" code=\"hs_002762\" class=\"J_showCanvas\">金发拉比</a>\\n\\t\\t\\t\\t            </td>\\n            <td class=\" c-rise\">\\n            \\t<span>业绩大幅上升</span>\\n            </td>\\n            <td class=\"tl\">\\n            \\t\\t\\t\\t\\t\\t<a href=\"http://www.iwencai.com/stockpick/search?typed=0&preParams=&ts=1&f=1&qs=yjygzy_ths_data&selfsectsn=&querytype=&searchfilter=&tid=stockpick&w=002762+%E4%B8%9A%E7%BB%A9%E9%A2%84%E5%91%8A&refCountId=data_55eff2bf_980\" target=\"_blank\">净利润1800万元至2700万元,增长幅度为71.77%至157.66%</a>\\n\\t\\t\\t\\t\\t            </td>\\n            <td class =\" c-rise\">\\n            \\t157.66            </td>\\n            <td class=\" c-rise\">1047.90万</td>\\n            <td class=\"tc cur\">2021-04-30</td>\\n        </tr>\\n                <tr >\\n            <td>65</td>\\n            <td class=\" linkToGghq\">\\n\\t\\t\\t\\t\\t\\t\\t\\t\\t<a href=\"http://stockpage.10jqka.com.cn/002766/finance/\" target=\"_blank\" class=\"stockCode\">002766</a>\\n\\t\\t\\t\\t\\t\\t\\t</td>\\n            <td class=\"linkToGghq\">\\n            \\t\\t\\t\\t\\t\\t<a href=\"http://stockpage.10jqka.com.cn/002766/finance/\" target=\"_blank\" code=\"hs_002766\" class=\"J_showCanvas\">*ST索菱</a>\\n\\t\\t\\t\\t            </td>\\n            <td class=\" c-fall\">\\n            \\t<span>预计增亏</span>\\n            </td>\\n            <td class=\"tl\">\\n            \\t\\t\\t\\t\\t\\t<a href=\"http://www.iwencai.com/stockpick/search?typed=0&preParams=&ts=1&f=1&qs=yjygzy_ths_data&selfsectsn=&querytype=&searchfilter=&tid=stockpick&w=002766+%E4%B8%9A%E7%BB%A9%E9%A2%84%E5%91%8A&refCountId=data_55eff2bf_980\" target=\"_blank\">净利润-18000万元至-14000万元,下降幅度为178.3%至116.46%</a>\\n\\t\\t\\t\\t\\t            </td>\\n            <td class =\" c-fall\">\\n            \\t-178.30            </td>\\n            <td class=\" c-fall\">-6467.83万</td>\\n            <td class=\"tc cur\">2021-04-30</td>\\n        </tr>\\n                <tr class=\"even\">\\n            <td>66</td>\\n            <td class=\" linkToGghq\">\\n\\t\\t\\t\\t\\t\\t\\t\\t\\t<a href=\"http://stockpage.10jqka.com.cn/002813/finance/\" target=\"_blank\" class=\"stockCode\">002813</a>\\n\\t\\t\\t\\t\\t\\t\\t</td>\\n            <td class=\"linkToGghq\">\\n            \\t\\t\\t\\t\\t\\t<a href=\"http://stockpage.10jqka.com.cn/002813/finance/\" target=\"_blank\" code=\"hs_002813\" class=\"J_showCanvas\">路畅科技</a>\\n\\t\\t\\t\\t            </td>\\n            <td class=\" c-rise\">\\n            \\t<span>预计扭亏</span>\\n            </td>\\n            <td class=\"tl\">\\n            \\t\\t\\t\\t\\t\\t<a href=\"http://www.iwencai.com/stockpick/search?typed=0&preParams=&ts=1&f=1&qs=yjygzy_ths_data&selfsectsn=&querytype=&searchfilter=&tid=stockpick&w=002813+%E4%B8%9A%E7%BB%A9%E9%A2%84%E5%91%8A&refCountId=data_55eff2bf_980\" target=\"_blank\">净利润300万元至450万元,增长幅度为108.91%至113.37%</a>\\n\\t\\t\\t\\t\\t            </td>\\n            <td class =\" c-rise\">\\n            \\t113.37            </td>\\n            <td class=\" c-fall\">-3365.28万</td>\\n            <td class=\"tc cur\">2021-04-30</td>\\n        </tr>\\n                <tr >\\n            <td>67</td>\\n            <td class=\" linkToGghq\">\\n\\t\\t\\t\\t\\t\\t\\t\\t\\t<a href=\"http://stockpage.10jqka.com.cn/002820/finance/\" target=\"_blank\" class=\"stockCode\">002820</a>\\n\\t\\t\\t\\t\\t\\t\\t</td>\\n            <td class=\"linkToGghq\">\\n            \\t\\t\\t\\t\\t\\t<a href=\"http://stockpage.10jqka.com.cn/002820/finance/\" target=\"_blank\" code=\"hs_002820\" class=\"J_showCanvas\">桂发祥</a>\\n\\t\\t\\t\\t            </td>\\n            <td class=\" c-rise\">\\n            \\t<span>预计扭亏</span>\\n            </td>\\n            <td class=\"tl\">\\n            \\t\\t\\t\\t\\t\\t<a href=\"http://www.iwencai.com/stockpick/search?typed=0&preParams=&ts=1&f=1&qs=yjygzy_ths_data&selfsectsn=&querytype=&searchfilter=&tid=stockpick&w=002820+%E4%B8%9A%E7%BB%A9%E9%A2%84%E5%91%8A&refCountId=data_55eff2bf_980\" target=\"_blank\">净利润1500万元至2200万元,增长幅度为403.63%至545.32%</a>\\n\\t\\t\\t\\t\\t            </td>\\n            <td class =\" c-rise\">\\n            \\t545.32            </td>\\n            <td class=\" c-fall\">-494.03万</td>\\n            <td class=\"tc cur\">2021-04-30</td>\\n        </tr>\\n                <tr class=\"even\">\\n            <td>68</td>\\n            <td class=\" linkToGghq\">\\n\\t\\t\\t\\t\\t\\t\\t\\t\\t<a href=\"http://stockpage.10jqka.com.cn/002862/finance/\" target=\"_blank\" class=\"stockCode\">002862</a>\\n\\t\\t\\t\\t\\t\\t\\t</td>\\n            <td class=\"linkToGghq\">\\n            \\t\\t\\t\\t\\t\\t<a href=\"http://stockpage.10jqka.com.cn/002862/finance/\" target=\"_blank\" code=\"hs_002862\" class=\"J_showCanvas\">实丰文化</a>\\n\\t\\t\\t\\t            </td>\\n            <td class=\" c-rise\">\\n            \\t<span>预计扭亏</span>\\n            </td>\\n            <td class=\"tl\">\\n            \\t\\t\\t\\t\\t\\t<a href=\"http://www.iwencai.com/stockpick/search?typed=0&preParams=&ts=1&f=1&qs=yjygzy_ths_data&selfsectsn=&querytype=&searchfilter=&tid=stockpick&w=002862+%E4%B8%9A%E7%BB%A9%E9%A2%84%E5%91%8A&refCountId=data_55eff2bf_980\" target=\"_blank\">净利润500万元至700万元,增长幅度为131.62%至144.27%</a>\\n\\t\\t\\t\\t\\t            </td>\\n            <td class =\" c-rise\">\\n            \\t144.27            </td>\\n            <td class=\" c-fall\">-1581.13万</td>\\n            <td class=\"tc cur\">2021-04-30</td>\\n        </tr>\\n                <tr >\\n            <td>69</td>\\n            <td class=\" linkToGghq\">\\n\\t\\t\\t\\t\\t\\t\\t\\t\\t<a href=\"http://stockpage.10jqka.com.cn/300159/finance/\" target=\"_blank\" class=\"stockCode\">300159</a>\\n\\t\\t\\t\\t\\t\\t\\t</td>\\n            <td class=\"linkToGghq\">\\n            \\t\\t\\t\\t\\t\\t<a href=\"http://stockpage.10jqka.com.cn/300159/finance/\" target=\"_blank\" code=\"hs_300159\" class=\"J_showCanvas\">新研股份</a>\\n\\t\\t\\t\\t            </td>\\n            <td class=\" c-fall\">\\n            \\t<span>预计续亏</span>\\n            </td>\\n            <td class=\"tl\">\\n            \\t\\t\\t\\t\\t\\t<a href=\"http://www.iwencai.com/stockpick/search?typed=0&preParams=&ts=1&f=1&qs=yjygzy_ths_data&selfsectsn=&querytype=&searchfilter=&tid=stockpick&w=300159+%E4%B8%9A%E7%BB%A9%E9%A2%84%E5%91%8A&refCountId=data_55eff2bf_980\" target=\"_blank\">预测年初至下一报告期期末的累计净利润可能为亏损。</a>\\n\\t\\t\\t\\t\\t            </td>\\n            <td class =\" \">\\n            \\t-            </td>\\n            <td class=\" c-fall\">-1188.58万</td>\\n            <td class=\"tc cur\">2021-04-30</td>\\n        </tr>\\n                <tr class=\"even\">\\n            <td>70</td>\\n            <td class=\" linkToGghq\">\\n\\t\\t\\t\\t\\t\\t\\t\\t\\t<a href=\"http://stockpage.10jqka.com.cn/300362/finance/\" target=\"_blank\" class=\"stockCode\">300362</a>\\n\\t\\t\\t\\t\\t\\t\\t</td>\\n            <td class=\"linkToGghq\">\\n            \\t\\t\\t\\t\\t\\t<a href=\"http://stockpage.10jqka.com.cn/300362/finance/\" target=\"_blank\" code=\"hs_300362\" class=\"J_showCanvas\">天翔环境</a>\\n\\t\\t\\t\\t            </td>\\n            <td class=\" c-rise\">\\n            \\t<span>预计扭亏</span>\\n            </td>\\n            <td class=\"tl\">\\n            \\t\\t\\t\\t\\t\\t<a href=\"http://www.iwencai.com/stockpick/search?typed=0&preParams=&ts=1&f=1&qs=yjygzy_ths_data&selfsectsn=&querytype=&searchfilter=&tid=stockpick&w=300362+%E4%B8%9A%E7%BB%A9%E9%A2%84%E5%91%8A&refCountId=data_55eff2bf_980\" target=\"_blank\">公司预计2021年上半年较去年期净利润可能扭亏为盈。</a>\\n\\t\\t\\t\\t\\t            </td>\\n            <td class =\" \">\\n            \\t-            </td>\\n            <td class=\" c-fall\">-4334.11万</td>\\n            <td class=\"tc cur\">2021-04-30</td>\\n        </tr>\\n                <tr >\\n            <td>71</td>\\n            <td class=\" linkToGghq\">\\n\\t\\t\\t\\t\\t\\t\\t\\t\\t<a href=\"http://stockpage.10jqka.com.cn/300367/finance/\" target=\"_blank\" class=\"stockCode\">300367</a>\\n\\t\\t\\t\\t\\t\\t\\t</td>\\n            <td class=\"linkToGghq\">\\n            \\t\\t\\t\\t\\t\\t<a href=\"http://stockpage.10jqka.com.cn/300367/finance/\" target=\"_blank\" code=\"hs_300367\" class=\"J_showCanvas\">ST网力</a>\\n\\t\\t\\t\\t            </td>\\n            <td class=\" c-fall\">\\n            \\t<span>预计续亏</span>\\n            </td>\\n            <td class=\"tl\">\\n            \\t\\t\\t\\t\\t\\t<a href=\"http://www.iwencai.com/stockpick/search?typed=0&preParams=&ts=1&f=1&qs=yjygzy_ths_data&selfsectsn=&querytype=&searchfilter=&tid=stockpick&w=300367+%E4%B8%9A%E7%BB%A9%E9%A2%84%E5%91%8A&refCountId=data_55eff2bf_980\" target=\"_blank\">预计年初至下一报告期期末的累计净利润可能为亏损。</a>\\n\\t\\t\\t\\t\\t            </td>\\n            <td class =\" \">\\n            \\t-            </td>\\n            <td class=\" c-fall\">-2.74亿</td>\\n            <td class=\"tc cur\">2021-04-30</td>\\n        </tr>\\n                <tr class=\"even\">\\n            <td>72</td>\\n            <td class=\" linkToGghq\">\\n\\t\\t\\t\\t\\t\\t\\t\\t\\t<a href=\"http://stockpage.10jqka.com.cn/300503/finance/\" target=\"_blank\" class=\"stockCode\">300503</a>\\n\\t\\t\\t\\t\\t\\t\\t</td>\\n            <td class=\"linkToGghq\">\\n            \\t\\t\\t\\t\\t\\t<a href=\"http://stockpage.10jqka.com.cn/300503/finance/\" target=\"_blank\" code=\"hs_300503\" class=\"J_showCanvas\">昊志机电</a>\\n\\t\\t\\t\\t            </td>\\n            <td class=\" c-rise\">\\n            \\t<span>业绩大幅上升</span>\\n            </td>\\n            <td class=\"tl\">\\n            \\t\\t\\t\\t\\t\\t<a href=\"http://www.iwencai.com/stockpick/search?typed=0&preParams=&ts=1&f=1&qs=yjygzy_ths_data&selfsectsn=&querytype=&searchfilter=&tid=stockpick&w=300503+%E4%B8%9A%E7%BB%A9%E9%A2%84%E5%91%8A&refCountId=data_55eff2bf_980\" target=\"_blank\">公司预计年初至下一报告期期末的累计净利润相比上年同期有较大幅度增加。</a>\\n\\t\\t\\t\\t\\t            </td>\\n            <td class =\" \">\\n            \\t-            </td>\\n            <td class=\" c-rise\">6534.73万</td>\\n            <td class=\"tc cur\">2021-04-30</td>\\n        </tr>\\n                <tr >\\n            <td>73</td>\\n            <td class=\" linkToGghq\">\\n\\t\\t\\t\\t\\t\\t\\t\\t\\t<a href=\"http://stockpage.10jqka.com.cn/600029/finance/\" target=\"_blank\" class=\"stockCode\">600029</a>\\n\\t\\t\\t\\t\\t\\t\\t</td>\\n            <td class=\"linkToGghq\">\\n            \\t\\t\\t\\t\\t\\t<a href=\"http://stockpage.10jqka.com.cn/600029/finance/\" target=\"_blank\" code=\"hs_600029\" class=\"J_showCanvas\">南方航空</a>\\n\\t\\t\\t\\t            </td>\\n            <td class=\" \">\\n            \\t<span>不确定</span>\\n            </td>\\n            <td class=\"tl\">\\n            \\t\\t\\t\\t\\t\\t<a href=\"http://www.iwencai.com/stockpick/search?typed=0&preParams=&ts=1&f=1&qs=yjygzy_ths_data&selfsectsn=&querytype=&searchfilter=&tid=stockpick&w=600029+%E4%B8%9A%E7%BB%A9%E9%A2%84%E5%91%8A&refCountId=data_55eff2bf_980\" target=\"_blank\">预计本集团2021年上半年的经营业绩仍将受到不利影响并存在较大不确定性。</a>\\n\\t\\t\\t\\t\\t            </td>\\n            <td class =\" \">\\n            \\t-            </td>\\n            <td class=\" c-fall\">-81.74亿</td>\\n            <td class=\"tc cur\">2021-04-30</td>\\n        </tr>\\n                <tr class=\"even\">\\n            <td>74</td>\\n            <td class=\" linkToGghq\">\\n\\t\\t\\t\\t\\t\\t\\t\\t\\t<a href=\"http://stockpage.10jqka.com.cn/600033/finance/\" target=\"_blank\" class=\"stockCode\">600033</a>\\n\\t\\t\\t\\t\\t\\t\\t</td>\\n            <td class=\"linkToGghq\">\\n            \\t\\t\\t\\t\\t\\t<a href=\"http://stockpage.10jqka.com.cn/600033/finance/\" target=\"_blank\" code=\"hs_600033\" class=\"J_showCanvas\">福建高速</a>\\n\\t\\t\\t\\t            </td>\\n            <td class=\" c-rise\">\\n            \\t<span>业绩大幅上升</span>\\n            </td>\\n            <td class=\"tl\">\\n            \\t\\t\\t\\t\\t\\t<a href=\"http://www.iwencai.com/stockpick/search?typed=0&preParams=&ts=1&f=1&qs=yjygzy_ths_data&selfsectsn=&querytype=&searchfilter=&tid=stockpick&w=600033+%E4%B8%9A%E7%BB%A9%E9%A2%84%E5%91%8A&refCountId=data_55eff2bf_980\" target=\"_blank\">预计公司年初至下一报告期期末经营业绩同比将显著增长。</a>\\n\\t\\t\\t\\t\\t            </td>\\n            <td class =\" \">\\n            \\t-            </td>\\n            <td class=\" c-rise\">1040.66万</td>\\n            <td class=\"tc cur\">2021-04-30</td>\\n        </tr>\\n                <tr >\\n            <td>75</td>\\n            <td class=\" linkToGghq\">\\n\\t\\t\\t\\t\\t\\t\\t\\t\\t<a href=\"http://stockpage.10jqka.com.cn/600054/finance/\" target=\"_blank\" class=\"stockCode\">600054</a>\\n\\t\\t\\t\\t\\t\\t\\t</td>\\n            <td class=\"linkToGghq\">\\n            \\t\\t\\t\\t\\t\\t<a href=\"http://stockpage.10jqka.com.cn/600054/finance/\" target=\"_blank\" code=\"hs_600054\" class=\"J_showCanvas\">黄山旅游</a>\\n\\t\\t\\t\\t            </td>\\n            <td class=\" c-rise\">\\n            \\t<span>预计扭亏</span>\\n            </td>\\n            <td class=\"tl\">\\n            \\t\\t\\t\\t\\t\\t<a href=\"http://www.iwencai.com/stockpick/search?typed=0&preParams=&ts=1&f=1&qs=yjygzy_ths_data&selfsectsn=&querytype=&searchfilter=&tid=stockpick&w=600054+%E4%B8%9A%E7%BB%A9%E9%A2%84%E5%91%8A&refCountId=data_55eff2bf_980\" target=\"_blank\">公司预计2021年半年度业绩较去年同期扭亏为盈</a>\\n\\t\\t\\t\\t\\t            </td>\\n            <td class =\" \">\\n            \\t-            </td>\\n            <td class=\" c-fall\">-8842.42万</td>\\n            <td class=\"tc cur\">2021-04-30</td>\\n        </tr>\\n                <tr class=\"even\">\\n            <td>76</td>\\n            <td class=\" linkToGghq\">\\n\\t\\t\\t\\t\\t\\t\\t\\t\\t<a href=\"http://stockpage.10jqka.com.cn/600074/finance/\" target=\"_blank\" class=\"stockCode\">600074</a>\\n\\t\\t\\t\\t\\t\\t\\t</td>\\n            <td class=\"linkToGghq\">\\n            \\t\\t\\t\\t\\t\\t<a href=\"http://stockpage.10jqka.com.cn/600074/finance/\" target=\"_blank\" code=\"hs_600074\" class=\"J_showCanvas\">退市保千</a>\\n\\t\\t\\t\\t            </td>\\n            <td class=\" c-fall\">\\n            \\t<span>预计续亏</span>\\n            </td>\\n            <td class=\"tl\">\\n            \\t\\t\\t\\t\\t\\t<a href=\"http://www.iwencai.com/stockpick/search?typed=0&preParams=&ts=1&f=1&qs=yjygzy_ths_data&selfsectsn=&querytype=&searchfilter=&tid=stockpick&w=600074+%E4%B8%9A%E7%BB%A9%E9%A2%84%E5%91%8A&refCountId=data_55eff2bf_980\" target=\"_blank\">公司2021年上半年净利润可能继续亏损。</a>\\n\\t\\t\\t\\t\\t            </td>\\n            <td class =\" \">\\n            \\t-            </td>\\n            <td class=\" \">-</td>\\n            <td class=\"tc cur\">2021-04-30</td>\\n        </tr>\\n                <tr >\\n            <td>77</td>\\n            <td class=\" linkToGghq\">\\n\\t\\t\\t\\t\\t\\t\\t\\t\\t<a href=\"http://stockpage.10jqka.com.cn/600115/finance/\" target=\"_blank\" class=\"stockCode\">600115</a>\\n\\t\\t\\t\\t\\t\\t\\t</td>\\n            <td class=\"linkToGghq\">\\n            \\t\\t\\t\\t\\t\\t<a href=\"http://stockpage.10jqka.com.cn/600115/finance/\" target=\"_blank\" code=\"hs_600115\" class=\"J_showCanvas\">东方航空</a>\\n\\t\\t\\t\\t            </td>\\n            <td class=\" \">\\n            \\t<span>不确定</span>\\n            </td>\\n            <td class=\"tl\">\\n            \\t\\t\\t\\t\\t\\t<a href=\"http://www.iwencai.com/stockpick/search?typed=0&preParams=&ts=1&f=1&qs=yjygzy_ths_data&selfsectsn=&querytype=&searchfilter=&tid=stockpick&w=600115+%E4%B8%9A%E7%BB%A9%E9%A2%84%E5%91%8A&refCountId=data_55eff2bf_980\" target=\"_blank\">不确定</a>\\n\\t\\t\\t\\t\\t            </td>\\n            <td class =\" \">\\n            \\t-            </td>\\n            <td class=\" c-fall\">-85.42亿</td>\\n            <td class=\"tc cur\">2021-04-30</td>\\n        </tr>\\n                <tr class=\"even\">\\n            <td>78</td>\\n            <td class=\" linkToGghq\">\\n\\t\\t\\t\\t\\t\\t\\t\\t\\t<a href=\"http://stockpage.10jqka.com.cn/600121/finance/\" target=\"_blank\" class=\"stockCode\">600121</a>\\n\\t\\t\\t\\t\\t\\t\\t</td>\\n            <td class=\"linkToGghq\">\\n            \\t\\t\\t\\t\\t\\t<a href=\"http://stockpage.10jqka.com.cn/600121/finance/\" target=\"_blank\" code=\"hs_600121\" class=\"J_showCanvas\">郑州煤电</a>\\n\\t\\t\\t\\t            </td>\\n            <td class=\" \">\\n            \\t<span>不确定</span>\\n            </td>\\n            <td class=\"tl\">\\n            \\t\\t\\t\\t\\t\\t<a href=\"http://www.iwencai.com/stockpick/search?typed=0&preParams=&ts=1&f=1&qs=yjygzy_ths_data&selfsectsn=&querytype=&searchfilter=&tid=stockpick&w=600121+%E4%B8%9A%E7%BB%A9%E9%A2%84%E5%91%8A&refCountId=data_55eff2bf_980\" target=\"_blank\">预测年初至下一报告期期末的累计净利润与上年同期相比亦将有较大幅度变动。</a>\\n\\t\\t\\t\\t\\t            </td>\\n            <td class =\" \">\\n            \\t-            </td>\\n            <td class=\" c-fall\">-3.11亿</td>\\n            <td class=\"tc cur\">2021-04-30</td>\\n        </tr>\\n                <tr >\\n            <td>79</td>\\n            <td class=\" linkToGghq\">\\n\\t\\t\\t\\t\\t\\t\\t\\t\\t<a href=\"http://stockpage.10jqka.com.cn/600135/finance/\" target=\"_blank\" class=\"stockCode\">600135</a>\\n\\t\\t\\t\\t\\t\\t\\t</td>\\n            <td class=\"linkToGghq\">\\n            \\t\\t\\t\\t\\t\\t<a href=\"http://stockpage.10jqka.com.cn/600135/finance/\" target=\"_blank\" code=\"hs_600135\" class=\"J_showCanvas\">乐凯胶片</a>\\n\\t\\t\\t\\t            </td>\\n            <td class=\" c-rise\">\\n            \\t<span>业绩大幅上升</span>\\n            </td>\\n            <td class=\"tl\">\\n            \\t\\t\\t\\t\\t\\t<a href=\"http://www.iwencai.com/stockpick/search?typed=0&preParams=&ts=1&f=1&qs=yjygzy_ths_data&selfsectsn=&querytype=&searchfilter=&tid=stockpick&w=600135+%E4%B8%9A%E7%BB%A9%E9%A2%84%E5%91%8A&refCountId=data_55eff2bf_980\" target=\"_blank\">增长幅度为60%至80%</a>\\n\\t\\t\\t\\t\\t            </td>\\n            <td class =\" c-rise\">\\n            \\t80.00            </td>\\n            <td class=\" c-rise\">2789.77万</td>\\n            <td class=\"tc cur\">2021-04-30</td>\\n        </tr>\\n                <tr class=\"even\">\\n            <td>80</td>\\n            <td class=\" linkToGghq\">\\n\\t\\t\\t\\t\\t\\t\\t\\t\\t<a href=\"http://stockpage.10jqka.com.cn/600138/finance/\" target=\"_blank\" class=\"stockCode\">600138</a>\\n\\t\\t\\t\\t\\t\\t\\t</td>\\n            <td class=\"linkToGghq\">\\n            \\t\\t\\t\\t\\t\\t<a href=\"http://stockpage.10jqka.com.cn/600138/finance/\" target=\"_blank\" code=\"hs_600138\" class=\"J_showCanvas\">中青旅</a>\\n\\t\\t\\t\\t            </td>\\n            <td class=\" \">\\n            \\t<span>不确定</span>\\n            </td>\\n            <td class=\"tl\">\\n            \\t\\t\\t\\t\\t\\t<a href=\"http://www.iwencai.com/stockpick/search?typed=0&preParams=&ts=1&f=1&qs=yjygzy_ths_data&selfsectsn=&querytype=&searchfilter=&tid=stockpick&w=600138+%E4%B8%9A%E7%BB%A9%E9%A2%84%E5%91%8A&refCountId=data_55eff2bf_980\" target=\"_blank\">不确定</a>\\n\\t\\t\\t\\t\\t            </td>\\n            <td class =\" \">\\n            \\t-            </td>\\n            <td class=\" c-fall\">-1.57亿</td>\\n            <td class=\"tc cur\">2021-04-30</td>\\n        </tr>\\n                <tr >\\n            <td>81</td>\\n            <td class=\" linkToGghq\">\\n\\t\\t\\t\\t\\t\\t\\t\\t\\t<a href=\"http://stockpage.10jqka.com.cn/600139/finance/\" target=\"_blank\" class=\"stockCode\">600139</a>\\n\\t\\t\\t\\t\\t\\t\\t</td>\\n            <td class=\"linkToGghq\">\\n            \\t\\t\\t\\t\\t\\t<a href=\"http://stockpage.10jqka.com.cn/600139/finance/\" target=\"_blank\" code=\"hs_600139\" class=\"J_showCanvas\">西部资源</a>\\n\\t\\t\\t\\t            </td>\\n            <td class=\" c-fall\">\\n            \\t<span>预计续亏</span>\\n            </td>\\n            <td class=\"tl\">\\n            \\t\\t\\t\\t\\t\\t<a href=\"http://www.iwencai.com/stockpick/search?typed=0&preParams=&ts=1&f=1&qs=yjygzy_ths_data&selfsectsn=&querytype=&searchfilter=&tid=stockpick&w=600139+%E4%B8%9A%E7%BB%A9%E9%A2%84%E5%91%8A&refCountId=data_55eff2bf_980\" target=\"_blank\">下一报告期公司累计净利润出现亏损。</a>\\n\\t\\t\\t\\t\\t            </td>\\n            <td class =\" \">\\n            \\t-            </td>\\n            <td class=\" c-fall\">-815.66万</td>\\n            <td class=\"tc cur\">2021-04-30</td>\\n        </tr>\\n                <tr class=\"even\">\\n            <td>82</td>\\n            <td class=\" linkToGghq\">\\n\\t\\t\\t\\t\\t\\t\\t\\t\\t<a href=\"http://stockpage.10jqka.com.cn/600258/finance/\" target=\"_blank\" class=\"stockCode\">600258</a>\\n\\t\\t\\t\\t\\t\\t\\t</td>\\n            <td class=\"linkToGghq\">\\n            \\t\\t\\t\\t\\t\\t<a href=\"http://stockpage.10jqka.com.cn/600258/finance/\" target=\"_blank\" code=\"hs_600258\" class=\"J_showCanvas\">首旅酒店</a>\\n\\t\\t\\t\\t            </td>\\n            <td class=\" \">\\n            \\t<span>不确定</span>\\n            </td>\\n            <td class=\"tl\">\\n            \\t\\t\\t\\t\\t\\t<a href=\"http://www.iwencai.com/stockpick/search?typed=0&preParams=&ts=1&f=1&qs=yjygzy_ths_data&selfsectsn=&querytype=&searchfilter=&tid=stockpick&w=600258+%E4%B8%9A%E7%BB%A9%E9%A2%84%E5%91%8A&refCountId=data_55eff2bf_980\" target=\"_blank\">预计下一业绩报告期公司的经营状况将大幅度好于去年同期水平。</a>\\n\\t\\t\\t\\t\\t            </td>\\n            <td class =\" \">\\n            \\t-            </td>\\n            <td class=\" c-fall\">-6.95亿</td>\\n            <td class=\"tc cur\">2021-04-30</td>\\n        </tr>\\n                <tr >\\n            <td>83</td>\\n            <td class=\" linkToGghq\">\\n\\t\\t\\t\\t\\t\\t\\t\\t\\t<a href=\"http://stockpage.10jqka.com.cn/600275/finance/\" target=\"_blank\" class=\"stockCode\">600275</a>\\n\\t\\t\\t\\t\\t\\t\\t</td>\\n            <td class=\"linkToGghq\">\\n            \\t\\t\\t\\t\\t\\t<a href=\"http://stockpage.10jqka.com.cn/600275/finance/\" target=\"_blank\" code=\"hs_600275\" class=\"J_showCanvas\">ST昌鱼</a>\\n\\t\\t\\t\\t            </td>\\n            <td class=\" c-fall\">\\n            \\t<span>预计续亏</span>\\n            </td>\\n            <td class=\"tl\">\\n            \\t\\t\\t\\t\\t\\t<a href=\"http://www.iwencai.com/stockpick/search?typed=0&preParams=&ts=1&f=1&qs=yjygzy_ths_data&selfsectsn=&querytype=&searchfilter=&tid=stockpick&w=600275+%E4%B8%9A%E7%BB%A9%E9%A2%84%E5%91%8A&refCountId=data_55eff2bf_980\" target=\"_blank\">预计公司至下一报告期末的累计净利润很可能为亏损。</a>\\n\\t\\t\\t\\t\\t            </td>\\n            <td class =\" \">\\n            \\t-            </td>\\n            <td class=\" c-fall\">-1468.33万</td>\\n            <td class=\"tc cur\">2021-04-30</td>\\n        </tr>\\n                <tr class=\"even\">\\n            <td>84</td>\\n            <td class=\" linkToGghq\">\\n\\t\\t\\t\\t\\t\\t\\t\\t\\t<a href=\"http://stockpage.10jqka.com.cn/600282/finance/\" target=\"_blank\" class=\"stockCode\">600282</a>\\n\\t\\t\\t\\t\\t\\t\\t</td>\\n            <td class=\"linkToGghq\">\\n            \\t\\t\\t\\t\\t\\t<a href=\"http://stockpage.10jqka.com.cn/600282/finance/\" target=\"_blank\" code=\"hs_600282\" class=\"J_showCanvas\">南钢股份</a>\\n\\t\\t\\t\\t            </td>\\n            <td class=\" c-rise\">\\n            \\t<span>业绩大幅上升</span>\\n            </td>\\n            <td class=\"tl\">\\n            \\t\\t\\t\\t\\t\\t<a href=\"http://www.iwencai.com/stockpick/search?typed=0&preParams=&ts=1&f=1&qs=yjygzy_ths_data&selfsectsn=&querytype=&searchfilter=&tid=stockpick&w=600282+%E4%B8%9A%E7%BB%A9%E9%A2%84%E5%91%8A&refCountId=data_55eff2bf_980\" target=\"_blank\">增长幅度为50%以上</a>\\n\\t\\t\\t\\t\\t            </td>\\n            <td class =\" c-rise\">\\n            \\t50.00            </td>\\n            <td class=\" c-rise\">11.16亿</td>\\n            <td class=\"tc cur\">2021-04-30</td>\\n        </tr>\\n                <tr >\\n            <td>85</td>\\n            <td class=\" linkToGghq\">\\n\\t\\t\\t\\t\\t\\t\\t\\t\\t<a href=\"http://stockpage.10jqka.com.cn/600306/finance/\" target=\"_blank\" class=\"stockCode\">600306</a>\\n\\t\\t\\t\\t\\t\\t\\t</td>\\n            <td class=\"linkToGghq\">\\n            \\t\\t\\t\\t\\t\\t<a href=\"http://stockpage.10jqka.com.cn/600306/finance/\" target=\"_blank\" code=\"hs_600306\" class=\"J_showCanvas\">*ST商城</a>\\n\\t\\t\\t\\t            </td>\\n            <td class=\" c-fall\">\\n            \\t<span>预计续亏</span>\\n            </td>\\n            <td class=\"tl\">\\n            \\t\\t\\t\\t\\t\\t<a href=\"http://www.iwencai.com/stockpick/search?typed=0&preParams=&ts=1&f=1&qs=yjygzy_ths_data&selfsectsn=&querytype=&searchfilter=&tid=stockpick&w=600306+%E4%B8%9A%E7%BB%A9%E9%A2%84%E5%91%8A&refCountId=data_55eff2bf_980\" target=\"_blank\">年初至下一报告期期末累计净利润可能为负。</a>\\n\\t\\t\\t\\t\\t            </td>\\n            <td class =\" \">\\n            \\t-            </td>\\n            <td class=\" c-fall\">-6570.35万</td>\\n            <td class=\"tc cur\">2021-04-30</td>\\n        </tr>\\n                <tr class=\"even\">\\n            <td>86</td>\\n            <td class=\" linkToGghq\">\\n\\t\\t\\t\\t\\t\\t\\t\\t\\t<a href=\"http://stockpage.10jqka.com.cn/600368/finance/\" target=\"_blank\" class=\"stockCode\">600368</a>\\n\\t\\t\\t\\t\\t\\t\\t</td>\\n            <td class=\"linkToGghq\">\\n            \\t\\t\\t\\t\\t\\t<a href=\"http://stockpage.10jqka.com.cn/600368/finance/\" target=\"_blank\" code=\"hs_600368\" class=\"J_showCanvas\">五洲交通</a>\\n\\t\\t\\t\\t            </td>\\n            <td class=\" c-rise\">\\n            \\t<span>业绩大幅上升</span>\\n            </td>\\n            <td class=\"tl\">\\n            \\t\\t\\t\\t\\t\\t<a href=\"http://www.iwencai.com/stockpick/search?typed=0&preParams=&ts=1&f=1&qs=yjygzy_ths_data&selfsectsn=&querytype=&searchfilter=&tid=stockpick&w=600368+%E4%B8%9A%E7%BB%A9%E9%A2%84%E5%91%8A&refCountId=data_55eff2bf_980\" target=\"_blank\">预测年初至下一报告期期末的累计净利润与上年同期相比可能发生较大幅度上升。</a>\\n\\t\\t\\t\\t\\t            </td>\\n            <td class =\" \">\\n            \\t-            </td>\\n            <td class=\" c-rise\">3555.24万</td>\\n            <td class=\"tc cur\">2021-04-30</td>\\n        </tr>\\n                <tr >\\n            <td>87</td>\\n            <td class=\" linkToGghq\">\\n\\t\\t\\t\\t\\t\\t\\t\\t\\t<a href=\"http://stockpage.10jqka.com.cn/600391/finance/\" target=\"_blank\" class=\"stockCode\">600391</a>\\n\\t\\t\\t\\t\\t\\t\\t</td>\\n            <td class=\"linkToGghq\">\\n            \\t\\t\\t\\t\\t\\t<a href=\"http://stockpage.10jqka.com.cn/600391/finance/\" target=\"_blank\" code=\"hs_600391\" class=\"J_showCanvas\">航发科技</a>\\n\\t\\t\\t\\t            </td>\\n            <td class=\" c-rise\">\\n            \\t<span>预计减亏</span>\\n            </td>\\n            <td class=\"tl\">\\n            \\t\\t\\t\\t\\t\\t<a href=\"http://www.iwencai.com/stockpick/search?typed=0&preParams=&ts=1&f=1&qs=yjygzy_ths_data&selfsectsn=&querytype=&searchfilter=&tid=stockpick&w=600391+%E4%B8%9A%E7%BB%A9%E9%A2%84%E5%91%8A&refCountId=data_55eff2bf_980\" target=\"_blank\">预计年初至下一报告期末的累计净利润同比减亏</a>\\n\\t\\t\\t\\t\\t            </td>\\n            <td class =\" \">\\n            \\t-            </td>\\n            <td class=\" c-fall\">-6674.88万</td>\\n            <td class=\"tc cur\">2021-04-30</td>\\n        </tr>\\n                <tr class=\"even\">\\n            <td>88</td>\\n            <td class=\" linkToGghq\">\\n\\t\\t\\t\\t\\t\\t\\t\\t\\t<a href=\"http://stockpage.10jqka.com.cn/600408/finance/\" target=\"_blank\" class=\"stockCode\">600408</a>\\n\\t\\t\\t\\t\\t\\t\\t</td>\\n            <td class=\"linkToGghq\">\\n            \\t\\t\\t\\t\\t\\t<a href=\"http://stockpage.10jqka.com.cn/600408/finance/\" target=\"_blank\" code=\"hs_600408\" class=\"J_showCanvas\">ST安泰</a>\\n\\t\\t\\t\\t            </td>\\n            <td class=\" c-rise\">\\n            \\t<span>业绩大幅上升</span>\\n            </td>\\n            <td class=\"tl\">\\n            \\t\\t\\t\\t\\t\\t<a href=\"http://www.iwencai.com/stockpick/search?typed=0&preParams=&ts=1&f=1&qs=yjygzy_ths_data&selfsectsn=&querytype=&searchfilter=&tid=stockpick&w=600408+%E4%B8%9A%E7%BB%A9%E9%A2%84%E5%91%8A&refCountId=data_55eff2bf_980\" target=\"_blank\">预测2021年上半年的累计净利润同比将大幅增长</a>\\n\\t\\t\\t\\t\\t            </td>\\n            <td class =\" \">\\n            \\t-            </td>\\n            <td class=\" c-rise\">699.32万</td>\\n            <td class=\"tc cur\">2021-04-30</td>\\n        </tr>\\n                <tr >\\n            <td>89</td>\\n            <td class=\" linkToGghq\">\\n\\t\\t\\t\\t\\t\\t\\t\\t\\t<a href=\"http://stockpage.10jqka.com.cn/600485/finance/\" target=\"_blank\" class=\"stockCode\">600485</a>\\n\\t\\t\\t\\t\\t\\t\\t</td>\\n            <td class=\"linkToGghq\">\\n            \\t\\t\\t\\t\\t\\t<a href=\"http://stockpage.10jqka.com.cn/600485/finance/\" target=\"_blank\" code=\"hs_600485\" class=\"J_showCanvas\">*ST信威</a>\\n\\t\\t\\t\\t            </td>\\n            <td class=\" c-fall\">\\n            \\t<span>预计续亏</span>\\n            </td>\\n            <td class=\"tl\">\\n            \\t\\t\\t\\t\\t\\t<a href=\"http://www.iwencai.com/stockpick/search?typed=0&preParams=&ts=1&f=1&qs=yjygzy_ths_data&selfsectsn=&querytype=&searchfilter=&tid=stockpick&w=600485+%E4%B8%9A%E7%BB%A9%E9%A2%84%E5%91%8A&refCountId=data_55eff2bf_980\" target=\"_blank\">公司年初至下一报告期末的累计净利润为亏损。</a>\\n\\t\\t\\t\\t\\t            </td>\\n            <td class =\" \">\\n            \\t-            </td>\\n            <td class=\" c-fall\">-10.74亿</td>\\n            <td class=\"tc cur\">2021-04-30</td>\\n        </tr>\\n                <tr class=\"even\">\\n            <td>90</td>\\n            <td class=\" linkToGghq\">\\n\\t\\t\\t\\t\\t\\t\\t\\t\\t<a href=\"http://stockpage.10jqka.com.cn/600498/finance/\" target=\"_blank\" class=\"stockCode\">600498</a>\\n\\t\\t\\t\\t\\t\\t\\t</td>\\n            <td class=\"linkToGghq\">\\n            \\t\\t\\t\\t\\t\\t<a href=\"http://stockpage.10jqka.com.cn/600498/finance/\" target=\"_blank\" code=\"hs_600498\" class=\"J_showCanvas\">烽火通信</a>\\n\\t\\t\\t\\t            </td>\\n            <td class=\" c-rise\">\\n            \\t<span>业绩大幅上升</span>\\n            </td>\\n            <td class=\"tl\">\\n            \\t\\t\\t\\t\\t\\t<a href=\"http://www.iwencai.com/stockpick/search?typed=0&preParams=&ts=1&f=1&qs=yjygzy_ths_data&selfsectsn=&querytype=&searchfilter=&tid=stockpick&w=600498+%E4%B8%9A%E7%BB%A9%E9%A2%84%E5%91%8A&refCountId=data_55eff2bf_980\" target=\"_blank\">预计至下一报告期期末的累计净利润较去年同期会大幅增长。</a>\\n\\t\\t\\t\\t\\t            </td>\\n            <td class =\" \">\\n            \\t-            </td>\\n            <td class=\" c-rise\">5575.36万</td>\\n            <td class=\"tc cur\">2021-04-30</td>\\n        </tr>\\n                <tr >\\n            <td>91</td>\\n            <td class=\" linkToGghq\">\\n\\t\\t\\t\\t\\t\\t\\t\\t\\t<a href=\"http://stockpage.10jqka.com.cn/600536/finance/\" target=\"_blank\" class=\"stockCode\">600536</a>\\n\\t\\t\\t\\t\\t\\t\\t</td>\\n            <td class=\"linkToGghq\">\\n            \\t\\t\\t\\t\\t\\t<a href=\"http://stockpage.10jqka.com.cn/600536/finance/\" target=\"_blank\" code=\"hs_600536\" class=\"J_showCanvas\">中国软件</a>\\n\\t\\t\\t\\t            </td>\\n            <td class=\" c-fall\">\\n            \\t<span>预计续亏</span>\\n            </td>\\n            <td class=\"tl\">\\n            \\t\\t\\t\\t\\t\\t<a href=\"http://www.iwencai.com/stockpick/search?typed=0&preParams=&ts=1&f=1&qs=yjygzy_ths_data&selfsectsn=&querytype=&searchfilter=&tid=stockpick&w=600536+%E4%B8%9A%E7%BB%A9%E9%A2%84%E5%91%8A&refCountId=data_55eff2bf_980\" target=\"_blank\">年初至下一报告期，公司预测归属于上市公司股东的累计净利润可能仍为亏损。</a>\\n\\t\\t\\t\\t\\t            </td>\\n            <td class =\" \">\\n            \\t-            </td>\\n            <td class=\" c-fall\">-4.10亿</td>\\n            <td class=\"tc cur\">2021-04-30</td>\\n        </tr>\\n                <tr class=\"even\">\\n            <td>92</td>\\n            <td class=\" linkToGghq\">\\n\\t\\t\\t\\t\\t\\t\\t\\t\\t<a href=\"http://stockpage.10jqka.com.cn/600547/finance/\" target=\"_blank\" class=\"stockCode\">600547</a>\\n\\t\\t\\t\\t\\t\\t\\t</td>\\n            <td class=\"linkToGghq\">\\n            \\t\\t\\t\\t\\t\\t<a href=\"http://stockpage.10jqka.com.cn/600547/finance/\" target=\"_blank\" code=\"hs_600547\" class=\"J_showCanvas\">山东黄金</a>\\n\\t\\t\\t\\t            </td>\\n            <td class=\" \">\\n            \\t<span>不确定</span>\\n            </td>\\n            <td class=\"tl\">\\n            \\t\\t\\t\\t\\t\\t<a href=\"http://www.iwencai.com/stockpick/search?typed=0&preParams=&ts=1&f=1&qs=yjygzy_ths_data&selfsectsn=&querytype=&searchfilter=&tid=stockpick&w=600547+%E4%B8%9A%E7%BB%A9%E9%A2%84%E5%91%8A&refCountId=data_55eff2bf_980\" target=\"_blank\">预计公司2021年6月份累计实现归属于上市公司股东的净利润与上年同期相比发生较大变动。</a>\\n\\t\\t\\t\\t\\t            </td>\\n            <td class =\" \">\\n            \\t-            </td>\\n            <td class=\" c-rise\">11.53亿</td>\\n            <td class=\"tc cur\">2021-04-30</td>\\n        </tr>\\n                <tr >\\n            <td>93</td>\\n            <td class=\" linkToGghq\">\\n\\t\\t\\t\\t\\t\\t\\t\\t\\t<a href=\"http://stockpage.10jqka.com.cn/600587/finance/\" target=\"_blank\" class=\"stockCode\">600587</a>\\n\\t\\t\\t\\t\\t\\t\\t</td>\\n            <td class=\"linkToGghq\">\\n            \\t\\t\\t\\t\\t\\t<a href=\"http://stockpage.10jqka.com.cn/600587/finance/\" target=\"_blank\" code=\"hs_600587\" class=\"J_showCanvas\">新华医疗</a>\\n\\t\\t\\t\\t            </td>\\n            <td class=\" \">\\n            \\t<span>不确定</span>\\n            </td>\\n            <td class=\"tl\">\\n            \\t\\t\\t\\t\\t\\t<a href=\"http://www.iwencai.com/stockpick/search?typed=0&preParams=&ts=1&f=1&qs=yjygzy_ths_data&selfsectsn=&querytype=&searchfilter=&tid=stockpick&w=600587+%E4%B8%9A%E7%BB%A9%E9%A2%84%E5%91%8A&refCountId=data_55eff2bf_980\" target=\"_blank\">不确定</a>\\n\\t\\t\\t\\t\\t            </td>\\n            <td class =\" \">\\n            \\t-            </td>\\n            <td class=\" c-rise\">1.29亿</td>\\n            <td class=\"tc cur\">2021-04-30</td>\\n        </tr>\\n                <tr class=\"even\">\\n            <td>94</td>\\n            <td class=\" linkToGghq\">\\n\\t\\t\\t\\t\\t\\t\\t\\t\\t<a href=\"http://stockpage.10jqka.com.cn/600604/finance/\" target=\"_blank\" class=\"stockCode\">600604</a>\\n\\t\\t\\t\\t\\t\\t\\t</td>\\n            <td class=\"linkToGghq\">\\n            \\t\\t\\t\\t\\t\\t<a href=\"http://stockpage.10jqka.com.cn/600604/finance/\" target=\"_blank\" code=\"hs_600604\" class=\"J_showCanvas\">市北高新</a>\\n\\t\\t\\t\\t            </td>\\n            <td class=\" c-fall\">\\n            \\t<span>业绩大幅下降</span>\\n            </td>\\n            <td class=\"tl\">\\n            \\t\\t\\t\\t\\t\\t<a href=\"http://www.iwencai.com/stockpick/search?typed=0&preParams=&ts=1&f=1&qs=yjygzy_ths_data&selfsectsn=&querytype=&searchfilter=&tid=stockpick&w=600604+%E4%B8%9A%E7%BB%A9%E9%A2%84%E5%91%8A&refCountId=data_55eff2bf_980\" target=\"_blank\">预计上半年经营业绩与上年同期相比仍将大幅下降。</a>\\n\\t\\t\\t\\t\\t            </td>\\n            <td class =\" \">\\n            \\t-            </td>\\n            <td class=\" c-rise\">9553.03万</td>\\n            <td class=\"tc cur\">2021-04-30</td>\\n        </tr>\\n                <tr >\\n            <td>95</td>\\n            <td class=\" linkToGghq\">\\n\\t\\t\\t\\t\\t\\t\\t\\t\\t<a href=\"http://stockpage.10jqka.com.cn/600634/finance/\" target=\"_blank\" class=\"stockCode\">600634</a>\\n\\t\\t\\t\\t\\t\\t\\t</td>\\n            <td class=\"linkToGghq\">\\n            \\t\\t\\t\\t\\t\\t<a href=\"http://stockpage.10jqka.com.cn/600634/finance/\" target=\"_blank\" code=\"hs_600634\" class=\"J_showCanvas\">*ST富控</a>\\n\\t\\t\\t\\t            </td>\\n            <td class=\" c-fall\">\\n            \\t<span>预计续亏</span>\\n            </td>\\n            <td class=\"tl\">\\n            \\t\\t\\t\\t\\t\\t<a href=\"http://www.iwencai.com/stockpick/search?typed=0&preParams=&ts=1&f=1&qs=yjygzy_ths_data&selfsectsn=&querytype=&searchfilter=&tid=stockpick&w=600634+%E4%B8%9A%E7%BB%A9%E9%A2%84%E5%91%8A&refCountId=data_55eff2bf_980\" target=\"_blank\">公司预测年初至下一报告期期末的累计净利润可能为亏损。</a>\\n\\t\\t\\t\\t\\t            </td>\\n            <td class =\" \">\\n            \\t-            </td>\\n            <td class=\" c-fall\">-15.79亿</td>\\n            <td class=\"tc cur\">2021-04-30</td>\\n        </tr>\\n                <tr class=\"even\">\\n            <td>96</td>\\n            <td class=\" linkToGghq\">\\n\\t\\t\\t\\t\\t\\t\\t\\t\\t<a href=\"http://stockpage.10jqka.com.cn/600671/finance/\" target=\"_blank\" class=\"stockCode\">600671</a>\\n\\t\\t\\t\\t\\t\\t\\t</td>\\n            <td class=\"linkToGghq\">\\n            \\t\\t\\t\\t\\t\\t<a href=\"http://stockpage.10jqka.com.cn/600671/finance/\" target=\"_blank\" code=\"hs_600671\" class=\"J_showCanvas\">*ST目药</a>\\n\\t\\t\\t\\t            </td>\\n            <td class=\" c-fall\">\\n            \\t<span>预计续亏</span>\\n            </td>\\n            <td class=\"tl\">\\n            \\t\\t\\t\\t\\t\\t<a href=\"http://www.iwencai.com/stockpick/search?typed=0&preParams=&ts=1&f=1&qs=yjygzy_ths_data&selfsectsn=&querytype=&searchfilter=&tid=stockpick&w=600671+%E4%B8%9A%E7%BB%A9%E9%A2%84%E5%91%8A&refCountId=data_55eff2bf_980\" target=\"_blank\">年初至下一报告期末的累计净利润可能为亏损。</a>\\n\\t\\t\\t\\t\\t            </td>\\n            <td class =\" \">\\n            \\t-            </td>\\n            <td class=\" c-fall\">-240.07万</td>\\n            <td class=\"tc cur\">2021-04-30</td>\\n        </tr>\\n                <tr >\\n            <td>97</td>\\n            <td class=\" linkToGghq\">\\n\\t\\t\\t\\t\\t\\t\\t\\t\\t<a href=\"http://stockpage.10jqka.com.cn/600678/finance/\" target=\"_blank\" class=\"stockCode\">600678</a>\\n\\t\\t\\t\\t\\t\\t\\t</td>\\n            <td class=\"linkToGghq\">\\n            \\t\\t\\t\\t\\t\\t<a href=\"http://stockpage.10jqka.com.cn/600678/finance/\" target=\"_blank\" code=\"hs_600678\" class=\"J_showCanvas\">四川金顶</a>\\n\\t\\t\\t\\t            </td>\\n            <td class=\" c-rise\">\\n            \\t<span>业绩预增</span>\\n            </td>\\n            <td class=\"tl\">\\n            \\t\\t\\t\\t\\t\\t<a href=\"http://www.iwencai.com/stockpick/search?typed=0&preParams=&ts=1&f=1&qs=yjygzy_ths_data&selfsectsn=&querytype=&searchfilter=&tid=stockpick&w=600678+%E4%B8%9A%E7%BB%A9%E9%A2%84%E5%91%8A&refCountId=data_55eff2bf_980\" target=\"_blank\">公司预计年初至下一报告期末的累计净利润与上年同期相比实现增长</a>\\n\\t\\t\\t\\t\\t            </td>\\n            <td class =\" \">\\n            \\t-            </td>\\n            <td class=\" c-rise\">2697.65万</td>\\n            <td class=\"tc cur\">2021-04-30</td>\\n        </tr>\\n                <tr class=\"even\">\\n            <td>98</td>\\n            <td class=\" linkToGghq\">\\n\\t\\t\\t\\t\\t\\t\\t\\t\\t<a href=\"http://stockpage.10jqka.com.cn/600690/finance/\" target=\"_blank\" class=\"stockCode\">600690</a>\\n\\t\\t\\t\\t\\t\\t\\t</td>\\n            <td class=\"linkToGghq\">\\n            \\t\\t\\t\\t\\t\\t<a href=\"http://stockpage.10jqka.com.cn/600690/finance/\" target=\"_blank\" code=\"hs_600690\" class=\"J_showCanvas\">海尔智家</a>\\n\\t\\t\\t\\t            </td>\\n            <td class=\" \">\\n            \\t<span>不确定</span>\\n            </td>\\n            <td class=\"tl\">\\n            \\t\\t\\t\\t\\t\\t<a href=\"http://www.iwencai.com/stockpick/search?typed=0&preParams=&ts=1&f=1&qs=yjygzy_ths_data&selfsectsn=&querytype=&searchfilter=&tid=stockpick&w=600690+%E4%B8%9A%E7%BB%A9%E9%A2%84%E5%91%8A&refCountId=data_55eff2bf_980\" target=\"_blank\">不确定</a>\\n\\t\\t\\t\\t\\t            </td>\\n            <td class =\" \">\\n            \\t-            </td>\\n            <td class=\" c-rise\">27.81亿</td>\\n            <td class=\"tc cur\">2021-04-30</td>\\n        </tr>\\n                <tr >\\n            <td>99</td>\\n            <td class=\" linkToGghq\">\\n\\t\\t\\t\\t\\t\\t\\t\\t\\t<a href=\"http://stockpage.10jqka.com.cn/600727/finance/\" target=\"_blank\" class=\"stockCode\">600727</a>\\n\\t\\t\\t\\t\\t\\t\\t</td>\\n            <td class=\"linkToGghq\">\\n            \\t\\t\\t\\t\\t\\t<a href=\"http://stockpage.10jqka.com.cn/600727/finance/\" target=\"_blank\" code=\"hs_600727\" class=\"J_showCanvas\">鲁北化工</a>\\n\\t\\t\\t\\t            </td>\\n            <td class=\" c-rise\">\\n            \\t<span>业绩大幅上升</span>\\n            </td>\\n            <td class=\"tl\">\\n            \\t\\t\\t\\t\\t\\t<a href=\"http://www.iwencai.com/stockpick/search?typed=0&preParams=&ts=1&f=1&qs=yjygzy_ths_data&selfsectsn=&querytype=&searchfilter=&tid=stockpick&w=600727+%E4%B8%9A%E7%BB%A9%E9%A2%84%E5%91%8A&refCountId=data_55eff2bf_980\" target=\"_blank\">预测年初至下一报告期期末的累计净利润与上年同期相比可能发生大幅度上升</a>\\n\\t\\t\\t\\t\\t            </td>\\n            <td class =\" \">\\n            \\t-            </td>\\n            <td class=\" c-rise\">7110.91万</td>\\n            <td class=\"tc cur\">2021-04-30</td>\\n        </tr>\\n                <tr class=\"even\">\\n            <td>100</td>\\n            <td class=\" linkToGghq\">\\n\\t\\t\\t\\t\\t\\t\\t\\t\\t<a href=\"http://stockpage.10jqka.com.cn/600733/finance/\" target=\"_blank\" class=\"stockCode\">600733</a>\\n\\t\\t\\t\\t\\t\\t\\t</td>\\n            <td class=\"linkToGghq\">\\n            \\t\\t\\t\\t\\t\\t<a href=\"http://stockpage.10jqka.com.cn/600733/finance/\" target=\"_blank\" code=\"hs_600733\" class=\"J_showCanvas\">北汽蓝谷</a>\\n\\t\\t\\t\\t            </td>\\n            <td class=\" c-fall\">\\n            \\t<span>预计续亏</span>\\n            </td>\\n            <td class=\"tl\">\\n            \\t\\t\\t\\t\\t\\t<a href=\"http://www.iwencai.com/stockpick/search?typed=0&preParams=&ts=1&f=1&qs=yjygzy_ths_data&selfsectsn=&querytype=&searchfilter=&tid=stockpick&w=600733+%E4%B8%9A%E7%BB%A9%E9%A2%84%E5%91%8A&refCountId=data_55eff2bf_980\" target=\"_blank\">预计年初至下一报告期期末公司累计净利润将亏损。</a>\\n\\t\\t\\t\\t\\t            </td>\\n            <td class =\" \">\\n            \\t-            </td>\\n            <td class=\" c-fall\">-18.63亿</td>\\n            <td class=\"tc cur\">2021-04-30</td>\\n        </tr>\\n                </tbody>\\n</table>\\n     <div class=\"m-page J-ajax-page\">\\n       &nbsp;<a class=\"changePage\" page=\"1\" href=\"javascript:void(0);\">首页</a>&nbsp;<a class=\"changePage\" page=\"1\" href=\"javascript:void(0);\">上一页</a>&nbsp;&nbsp;<a class=\"changePage\" page=\"1\" href=\"javascript:void(0);\">1</a>&nbsp;&nbsp;<a class=\"cur\" href=\"javascript:void(0)\">2</a>&nbsp;&nbsp;<a class=\"changePage\" page=\"3\" href=\"javascript:void(0);\">3</a>&nbsp;&nbsp;<a class=\"changePage\" page=\"4\" href=\"javascript:void(0);\">4</a>&nbsp;&nbsp;<a class=\"changePage\" page=\"5\" href=\"javascript:void(0);\">5</a>&nbsp;&nbsp;<a class=\"changePage\" page=\"3\" href=\"javascript:void(0);\">下一页</a><a class=\"changePage\" page=\"10\" href=\"javascript:void(0);\">尾页</a><span class=\"page_info\">2/10</span>\\n     </div>     <div class=\"page-loading\" style=\"display: none;\">\\n        <div class=\"mask\"></div>\\n        <div class=\"loading-img\"></div>\\n    </div>\\n     <table class=\"m-table J-ajax-table J-canvas-table\">\\n        <thead>\\n        <tr class=\"row2\">\\n            <th width=\"40\" >序号</th>\\n            <th width=\"78\" ><a href=\\'javascript:void(0);\\' class=\"J-ajax-a\" field=\\'stockcode\\'  colidx=\"1\"><a href=\"javascript:void(0);\" class=\"J-ajax-a\" field=\"STOCKCODE\">股票代码</a><i class=\"arr-down\"></i></th>\\n            <th width=\"78\" >股票简称</th>\\n            <th width=\"115\" ><a href=\\'javascript:void(0);\\' class=\"J-ajax-a\" field=\\'summ\\' ><a href=\"javascript:void(0);\" class=\"J-ajax-a\">业绩预告类型</a><i class=\"arr-down\"></i></th>\\n            <th width=\"350\">业绩预告摘要</th>\\n            <th width=\"97\" ><a href=\"javascript:void(0);\" class=\"J-ajax-a\" field=\\'jlrbl\\' >净利润变动幅度<br/>(%)</a><i class=\"arr-down\"></i></th>\\n            <th width=\"135\" ><a href=\"javascript:void(0);\" class=\"J-ajax-a\" field=\\'SNTQJLR\\' >上年同期净利润<br/>(元)</a><i class=\"arr-down\"></i></th>\\n            <th width=\"104\" class=\"cur\"><a href=\"javascript:void(0);\" class=\"J-ajax-a\" field=\\'enddate\\' order=\"asc\">公告日期</a><i class=\"arr-down\"></i></th>\\n        </tr>\\n        </thead>\\n        <tbody>\\n                <tr >\\n            <td>101</td>\\n            <td class=\" linkToGghq\">\\n\\t\\t\\t\\t\\t\\t\\t\\t\\t<a href=\"http://stockpage.10jqka.com.cn/600754/finance/\" target=\"_blank\" class=\"stockCode\">600754</a>\\n\\t\\t\\t\\t\\t\\t\\t</td>\\n            <td class=\"linkToGghq\">\\n            \\t\\t\\t\\t\\t\\t<a href=\"http://stockpage.10jqka.com.cn/600754/finance/\" target=\"_blank\" code=\"hs_600754\" class=\"J_showCanvas\">锦江酒店</a>\\n\\t\\t\\t\\t            </td>\\n            <td class=\" \">\\n            \\t<span>不确定</span>\\n            </td>\\n            <td class=\"tl\">\\n            \\t\\t\\t\\t\\t\\t<a href=\"http://www.iwencai.com/stockpick/search?typed=0&preParams=&ts=1&f=1&qs=yjygzy_ths_data&selfsectsn=&querytype=&searchfilter=&tid=stockpick&w=600754+%E4%B8%9A%E7%BB%A9%E9%A2%84%E5%91%8A&refCountId=data_55eff2bf_980\" target=\"_blank\">公司预测年初至下一报告期期末的累计净利润与上年同期相比仍存在发生较大幅度变动的可能性。</a>\\n\\t\\t\\t\\t\\t            </td>\\n            <td class =\" \">\\n            \\t-            </td>\\n            <td class=\" c-rise\">2.85亿</td>\\n            <td class=\"tc cur\">2021-04-30</td>\\n        </tr>\\n                <tr class=\"even\">\\n            <td>102</td>\\n            <td class=\" linkToGghq\">\\n\\t\\t\\t\\t\\t\\t\\t\\t\\t<a href=\"http://stockpage.10jqka.com.cn/600759/finance/\" target=\"_blank\" class=\"stockCode\">600759</a>\\n\\t\\t\\t\\t\\t\\t\\t</td>\\n            <td class=\"linkToGghq\">\\n            \\t\\t\\t\\t\\t\\t<a href=\"http://stockpage.10jqka.com.cn/600759/finance/\" target=\"_blank\" code=\"hs_600759\" class=\"J_showCanvas\">洲际油气</a>\\n\\t\\t\\t\\t            </td>\\n            <td class=\" \">\\n            \\t<span>不确定</span>\\n            </td>\\n            <td class=\"tl\">\\n            \\t\\t\\t\\t\\t\\t<a href=\"http://www.iwencai.com/stockpick/search?typed=0&preParams=&ts=1&f=1&qs=yjygzy_ths_data&selfsectsn=&querytype=&searchfilter=&tid=stockpick&w=600759+%E4%B8%9A%E7%BB%A9%E9%A2%84%E5%91%8A&refCountId=data_55eff2bf_980\" target=\"_blank\">2021年上半年公司盈利能力将得到大幅提升。</a>\\n\\t\\t\\t\\t\\t            </td>\\n            <td class =\" \">\\n            \\t-            </td>\\n            <td class=\" c-fall\">-1.62亿</td>\\n            <td class=\"tc cur\">2021-04-30</td>\\n        </tr>\\n                <tr >\\n            <td>103</td>\\n            <td class=\" linkToGghq\">\\n\\t\\t\\t\\t\\t\\t\\t\\t\\t<a href=\"http://stockpage.10jqka.com.cn/600777/finance/\" target=\"_blank\" class=\"stockCode\">600777</a>\\n\\t\\t\\t\\t\\t\\t\\t</td>\\n            <td class=\"linkToGghq\">\\n            \\t\\t\\t\\t\\t\\t<a href=\"http://stockpage.10jqka.com.cn/600777/finance/\" target=\"_blank\" code=\"hs_600777\" class=\"J_showCanvas\">新潮能源</a>\\n\\t\\t\\t\\t            </td>\\n            <td class=\" c-rise\">\\n            \\t<span>业绩大幅上升</span>\\n            </td>\\n            <td class=\"tl\">\\n            \\t\\t\\t\\t\\t\\t<a href=\"http://www.iwencai.com/stockpick/search?typed=0&preParams=&ts=1&f=1&qs=yjygzy_ths_data&selfsectsn=&querytype=&searchfilter=&tid=stockpick&w=600777+%E4%B8%9A%E7%BB%A9%E9%A2%84%E5%91%8A&refCountId=data_55eff2bf_980\" target=\"_blank\">增长幅度为50%以上</a>\\n\\t\\t\\t\\t\\t            </td>\\n            <td class =\" c-rise\">\\n            \\t50.00            </td>\\n            <td class=\" c-rise\">1.01亿</td>\\n            <td class=\"tc cur\">2021-04-30</td>\\n        </tr>\\n                <tr class=\"even\">\\n            <td>104</td>\\n            <td class=\" linkToGghq\">\\n\\t\\t\\t\\t\\t\\t\\t\\t\\t<a href=\"http://stockpage.10jqka.com.cn/600778/finance/\" target=\"_blank\" class=\"stockCode\">600778</a>\\n\\t\\t\\t\\t\\t\\t\\t</td>\\n            <td class=\"linkToGghq\">\\n            \\t\\t\\t\\t\\t\\t<a href=\"http://stockpage.10jqka.com.cn/600778/finance/\" target=\"_blank\" code=\"hs_600778\" class=\"J_showCanvas\">友好集团</a>\\n\\t\\t\\t\\t            </td>\\n            <td class=\" c-rise\">\\n            \\t<span>预计扭亏</span>\\n            </td>\\n            <td class=\"tl\">\\n            \\t\\t\\t\\t\\t\\t<a href=\"http://www.iwencai.com/stockpick/search?typed=0&preParams=&ts=1&f=1&qs=yjygzy_ths_data&selfsectsn=&querytype=&searchfilter=&tid=stockpick&w=600778+%E4%B8%9A%E7%BB%A9%E9%A2%84%E5%91%8A&refCountId=data_55eff2bf_980\" target=\"_blank\">预计公司2021年1-6月的累计净利润较上年同期将实现扭亏为盈。</a>\\n\\t\\t\\t\\t\\t            </td>\\n            <td class =\" \">\\n            \\t-            </td>\\n            <td class=\" c-fall\">-6176.48万</td>\\n            <td class=\"tc cur\">2021-04-30</td>\\n        </tr>\\n                <tr >\\n            <td>105</td>\\n            <td class=\" linkToGghq\">\\n\\t\\t\\t\\t\\t\\t\\t\\t\\t<a href=\"http://stockpage.10jqka.com.cn/600816/finance/\" target=\"_blank\" class=\"stockCode\">600816</a>\\n\\t\\t\\t\\t\\t\\t\\t</td>\\n            <td class=\"linkToGghq\">\\n            \\t\\t\\t\\t\\t\\t<a href=\"http://stockpage.10jqka.com.cn/600816/finance/\" target=\"_blank\" code=\"hs_600816\" class=\"J_showCanvas\">*ST安信</a>\\n\\t\\t\\t\\t            </td>\\n            <td class=\" \">\\n            \\t<span>不确定</span>\\n            </td>\\n            <td class=\"tl\">\\n            \\t\\t\\t\\t\\t\\t<a href=\"http://www.iwencai.com/stockpick/search?typed=0&preParams=&ts=1&f=1&qs=yjygzy_ths_data&selfsectsn=&querytype=&searchfilter=&tid=stockpick&w=600816+%E4%B8%9A%E7%BB%A9%E9%A2%84%E5%91%8A&refCountId=data_55eff2bf_980\" target=\"_blank\">不确定</a>\\n\\t\\t\\t\\t\\t            </td>\\n            <td class =\" \">\\n            \\t-            </td>\\n            <td class=\" c-fall\">-28.56亿</td>\\n            <td class=\"tc cur\">2021-04-30</td>\\n        </tr>\\n                <tr class=\"even\">\\n            <td>106</td>\\n            <td class=\" linkToGghq\">\\n\\t\\t\\t\\t\\t\\t\\t\\t\\t<a href=\"http://stockpage.10jqka.com.cn/600859/finance/\" target=\"_blank\" class=\"stockCode\">600859</a>\\n\\t\\t\\t\\t\\t\\t\\t</td>\\n            <td class=\"linkToGghq\">\\n            \\t\\t\\t\\t\\t\\t<a href=\"http://stockpage.10jqka.com.cn/600859/finance/\" target=\"_blank\" code=\"hs_600859\" class=\"J_showCanvas\">王府井</a>\\n\\t\\t\\t\\t            </td>\\n            <td class=\" c-rise\">\\n            \\t<span>业绩大幅上升</span>\\n            </td>\\n            <td class=\"tl\">\\n            \\t\\t\\t\\t\\t\\t<a href=\"http://www.iwencai.com/stockpick/search?typed=0&preParams=&ts=1&f=1&qs=yjygzy_ths_data&selfsectsn=&querytype=&searchfilter=&tid=stockpick&w=600859+%E4%B8%9A%E7%BB%A9%E9%A2%84%E5%91%8A&refCountId=data_55eff2bf_980\" target=\"_blank\">预计公司半年度业绩较上年同期大幅增长</a>\\n\\t\\t\\t\\t\\t            </td>\\n            <td class =\" \">\\n            \\t-            </td>\\n            <td class=\" c-rise\">470.09万</td>\\n            <td class=\"tc cur\">2021-04-30</td>\\n        </tr>\\n                <tr >\\n            <td>107</td>\\n            <td class=\" linkToGghq\">\\n\\t\\t\\t\\t\\t\\t\\t\\t\\t<a href=\"http://stockpage.10jqka.com.cn/600890/finance/\" target=\"_blank\" class=\"stockCode\">600890</a>\\n\\t\\t\\t\\t\\t\\t\\t</td>\\n            <td class=\"linkToGghq\">\\n            \\t\\t\\t\\t\\t\\t<a href=\"http://stockpage.10jqka.com.cn/600890/finance/\" target=\"_blank\" code=\"hs_600890\" class=\"J_showCanvas\">*ST中房</a>\\n\\t\\t\\t\\t            </td>\\n            <td class=\" c-fall\">\\n            \\t<span>预计续亏</span>\\n            </td>\\n            <td class=\"tl\">\\n            \\t\\t\\t\\t\\t\\t<a href=\"http://www.iwencai.com/stockpick/search?typed=0&preParams=&ts=1&f=1&qs=yjygzy_ths_data&selfsectsn=&querytype=&searchfilter=&tid=stockpick&w=600890+%E4%B8%9A%E7%BB%A9%E9%A2%84%E5%91%8A&refCountId=data_55eff2bf_980\" target=\"_blank\">预计年初至下一报告期期末的累计净利润可能为亏损</a>\\n\\t\\t\\t\\t\\t            </td>\\n            <td class =\" \">\\n            \\t-            </td>\\n            <td class=\" c-fall\">-2837.66万</td>\\n            <td class=\"tc cur\">2021-04-30</td>\\n        </tr>\\n                <tr class=\"even\">\\n            <td>108</td>\\n            <td class=\" linkToGghq\">\\n\\t\\t\\t\\t\\t\\t\\t\\t\\t<a href=\"http://stockpage.10jqka.com.cn/600897/finance/\" target=\"_blank\" class=\"stockCode\">600897</a>\\n\\t\\t\\t\\t\\t\\t\\t</td>\\n            <td class=\"linkToGghq\">\\n            \\t\\t\\t\\t\\t\\t<a href=\"http://stockpage.10jqka.com.cn/600897/finance/\" target=\"_blank\" code=\"hs_600897\" class=\"J_showCanvas\">厦门空港</a>\\n\\t\\t\\t\\t            </td>\\n            <td class=\" \">\\n            \\t<span>不确定</span>\\n            </td>\\n            <td class=\"tl\">\\n            \\t\\t\\t\\t\\t\\t<a href=\"http://www.iwencai.com/stockpick/search?typed=0&preParams=&ts=1&f=1&qs=yjygzy_ths_data&selfsectsn=&querytype=&searchfilter=&tid=stockpick&w=600897+%E4%B8%9A%E7%BB%A9%E9%A2%84%E5%91%8A&refCountId=data_55eff2bf_980\" target=\"_blank\">不确定</a>\\n\\t\\t\\t\\t\\t            </td>\\n            <td class =\" \">\\n            \\t-            </td>\\n            <td class=\" c-rise\">1422.13万</td>\\n            <td class=\"tc cur\">2021-04-30</td>\\n        </tr>\\n                <tr >\\n            <td>109</td>\\n            <td class=\" linkToGghq\">\\n\\t\\t\\t\\t\\t\\t\\t\\t\\t<a href=\"http://stockpage.10jqka.com.cn/600909/finance/\" target=\"_blank\" class=\"stockCode\">600909</a>\\n\\t\\t\\t\\t\\t\\t\\t</td>\\n            <td class=\"linkToGghq\">\\n            \\t\\t\\t\\t\\t\\t<a href=\"http://stockpage.10jqka.com.cn/600909/finance/\" target=\"_blank\" code=\"hs_600909\" class=\"J_showCanvas\">华安证券</a>\\n\\t\\t\\t\\t            </td>\\n            <td class=\" \">\\n            \\t<span>不确定</span>\\n            </td>\\n            <td class=\"tl\">\\n            \\t\\t\\t\\t\\t\\t<a href=\"http://www.iwencai.com/stockpick/search?typed=0&preParams=&ts=1&f=1&qs=yjygzy_ths_data&selfsectsn=&querytype=&searchfilter=&tid=stockpick&w=600909+%E4%B8%9A%E7%BB%A9%E9%A2%84%E5%91%8A&refCountId=data_55eff2bf_980\" target=\"_blank\">公司目前无法对2021年1-6月的经营业绩进行准确估计。</a>\\n\\t\\t\\t\\t\\t            </td>\\n            <td class =\" \">\\n            \\t-            </td>\\n            <td class=\" c-rise\">6.39亿</td>\\n            <td class=\"tc cur\">2021-04-30</td>\\n        </tr>\\n                <tr class=\"even\">\\n            <td>110</td>\\n            <td class=\" linkToGghq\">\\n\\t\\t\\t\\t\\t\\t\\t\\t\\t<a href=\"http://stockpage.10jqka.com.cn/600966/finance/\" target=\"_blank\" class=\"stockCode\">600966</a>\\n\\t\\t\\t\\t\\t\\t\\t</td>\\n            <td class=\"linkToGghq\">\\n            \\t\\t\\t\\t\\t\\t<a href=\"http://stockpage.10jqka.com.cn/600966/finance/\" target=\"_blank\" code=\"hs_600966\" class=\"J_showCanvas\">博汇纸业</a>\\n\\t\\t\\t\\t            </td>\\n            <td class=\" c-rise\">\\n            \\t<span>业绩大幅上升</span>\\n            </td>\\n            <td class=\"tl\">\\n            \\t\\t\\t\\t\\t\\t<a href=\"http://www.iwencai.com/stockpick/search?typed=0&preParams=&ts=1&f=1&qs=yjygzy_ths_data&selfsectsn=&querytype=&searchfilter=&tid=stockpick&w=600966+%E4%B8%9A%E7%BB%A9%E9%A2%84%E5%91%8A&refCountId=data_55eff2bf_980\" target=\"_blank\">预测年初至下一报告期期末的累计净利润较上年同期有较大幅度提升。</a>\\n\\t\\t\\t\\t\\t            </td>\\n            <td class =\" \">\\n            \\t-            </td>\\n            <td class=\" c-rise\">2.67亿</td>\\n            <td class=\"tc cur\">2021-04-30</td>\\n        </tr>\\n                <tr >\\n            <td>111</td>\\n            <td class=\" linkToGghq\">\\n\\t\\t\\t\\t\\t\\t\\t\\t\\t<a href=\"http://stockpage.10jqka.com.cn/600975/finance/\" target=\"_blank\" class=\"stockCode\">600975</a>\\n\\t\\t\\t\\t\\t\\t\\t</td>\\n            <td class=\"linkToGghq\">\\n            \\t\\t\\t\\t\\t\\t<a href=\"http://stockpage.10jqka.com.cn/600975/finance/\" target=\"_blank\" code=\"hs_600975\" class=\"J_showCanvas\">新五丰</a>\\n\\t\\t\\t\\t            </td>\\n            <td class=\" c-fall\">\\n            \\t<span>业绩大幅下降</span>\\n            </td>\\n            <td class=\"tl\">\\n            \\t\\t\\t\\t\\t\\t<a href=\"http://www.iwencai.com/stockpick/search?typed=0&preParams=&ts=1&f=1&qs=yjygzy_ths_data&selfsectsn=&querytype=&searchfilter=&tid=stockpick&w=600975+%E4%B8%9A%E7%BB%A9%E9%A2%84%E5%91%8A&refCountId=data_55eff2bf_980\" target=\"_blank\">净利润6000万元至9000万元</a>\\n\\t\\t\\t\\t\\t            </td>\\n            <td class =\" c-fall\">\\n            \\t-59.82            </td>\\n            <td class=\" c-rise\">1.49亿</td>\\n            <td class=\"tc cur\">2021-04-30</td>\\n        </tr>\\n                <tr class=\"even\">\\n            <td>112</td>\\n            <td class=\" linkToGghq\">\\n\\t\\t\\t\\t\\t\\t\\t\\t\\t<a href=\"http://stockpage.10jqka.com.cn/600984/finance/\" target=\"_blank\" class=\"stockCode\">600984</a>\\n\\t\\t\\t\\t\\t\\t\\t</td>\\n            <td class=\"linkToGghq\">\\n            \\t\\t\\t\\t\\t\\t<a href=\"http://stockpage.10jqka.com.cn/600984/finance/\" target=\"_blank\" code=\"hs_600984\" class=\"J_showCanvas\">建设机械</a>\\n\\t\\t\\t\\t            </td>\\n            <td class=\" c-rise\">\\n            \\t<span>业绩预盈</span>\\n            </td>\\n            <td class=\"tl\">\\n            \\t\\t\\t\\t\\t\\t<a href=\"http://www.iwencai.com/stockpick/search?typed=0&preParams=&ts=1&f=1&qs=yjygzy_ths_data&selfsectsn=&querytype=&searchfilter=&tid=stockpick&w=600984+%E4%B8%9A%E7%BB%A9%E9%A2%84%E5%91%8A&refCountId=data_55eff2bf_980\" target=\"_blank\">公司预计年初至下一报告期期末的累计净利润为盈利。</a>\\n\\t\\t\\t\\t\\t            </td>\\n            <td class =\" \">\\n            \\t-            </td>\\n            <td class=\" c-rise\">1.61亿</td>\\n            <td class=\"tc cur\">2021-04-30</td>\\n        </tr>\\n                <tr >\\n            <td>113</td>\\n            <td class=\" linkToGghq\">\\n\\t\\t\\t\\t\\t\\t\\t\\t\\t<a href=\"http://stockpage.10jqka.com.cn/601005/finance/\" target=\"_blank\" class=\"stockCode\">601005</a>\\n\\t\\t\\t\\t\\t\\t\\t</td>\\n            <td class=\"linkToGghq\">\\n            \\t\\t\\t\\t\\t\\t<a href=\"http://stockpage.10jqka.com.cn/601005/finance/\" target=\"_blank\" code=\"hs_601005\" class=\"J_showCanvas\">重庆钢铁</a>\\n\\t\\t\\t\\t            </td>\\n            <td class=\" c-rise\">\\n            \\t<span>业绩大幅上升</span>\\n            </td>\\n            <td class=\"tl\">\\n            \\t\\t\\t\\t\\t\\t<a href=\"http://www.iwencai.com/stockpick/search?typed=0&preParams=&ts=1&f=1&qs=yjygzy_ths_data&selfsectsn=&querytype=&searchfilter=&tid=stockpick&w=601005+%E4%B8%9A%E7%BB%A9%E9%A2%84%E5%91%8A&refCountId=data_55eff2bf_980\" target=\"_blank\">预计下一报告期期末的累计净利润与上年同期相比将大幅增长。</a>\\n\\t\\t\\t\\t\\t            </td>\\n            <td class =\" \">\\n            \\t-            </td>\\n            <td class=\" c-rise\">1.21亿</td>\\n            <td class=\"tc cur\">2021-04-30</td>\\n        </tr>\\n                <tr class=\"even\">\\n            <td>114</td>\\n            <td class=\" linkToGghq\">\\n\\t\\t\\t\\t\\t\\t\\t\\t\\t<a href=\"http://stockpage.10jqka.com.cn/601028/finance/\" target=\"_blank\" class=\"stockCode\">601028</a>\\n\\t\\t\\t\\t\\t\\t\\t</td>\\n            <td class=\"linkToGghq\">\\n            \\t\\t\\t\\t\\t\\t<a href=\"http://stockpage.10jqka.com.cn/601028/finance/\" target=\"_blank\" code=\"hs_601028\" class=\"J_showCanvas\">玉龙股份</a>\\n\\t\\t\\t\\t            </td>\\n            <td class=\" c-rise\">\\n            \\t<span>业绩大幅上升</span>\\n            </td>\\n            <td class=\"tl\">\\n            \\t\\t\\t\\t\\t\\t<a href=\"http://www.iwencai.com/stockpick/search?typed=0&preParams=&ts=1&f=1&qs=yjygzy_ths_data&selfsectsn=&querytype=&searchfilter=&tid=stockpick&w=601028+%E4%B8%9A%E7%BB%A9%E9%A2%84%E5%91%8A&refCountId=data_55eff2bf_980\" target=\"_blank\">公司预测年初至下一报告期期末的累计净利润与上年同期相比可能发生重大增加</a>\\n\\t\\t\\t\\t\\t            </td>\\n            <td class =\" \">\\n            \\t-            </td>\\n            <td class=\" c-rise\">5713.76万</td>\\n            <td class=\"tc cur\">2021-04-30</td>\\n        </tr>\\n                <tr >\\n            <td>115</td>\\n            <td class=\" linkToGghq\">\\n\\t\\t\\t\\t\\t\\t\\t\\t\\t<a href=\"http://stockpage.10jqka.com.cn/601099/finance/\" target=\"_blank\" class=\"stockCode\">601099</a>\\n\\t\\t\\t\\t\\t\\t\\t</td>\\n            <td class=\"linkToGghq\">\\n            \\t\\t\\t\\t\\t\\t<a href=\"http://stockpage.10jqka.com.cn/601099/finance/\" target=\"_blank\" code=\"hs_601099\" class=\"J_showCanvas\">太平洋</a>\\n\\t\\t\\t\\t            </td>\\n            <td class=\" \">\\n            \\t<span>不确定</span>\\n            </td>\\n            <td class=\"tl\">\\n            \\t\\t\\t\\t\\t\\t<a href=\"http://www.iwencai.com/stockpick/search?typed=0&preParams=&ts=1&f=1&qs=yjygzy_ths_data&selfsectsn=&querytype=&searchfilter=&tid=stockpick&w=601099+%E4%B8%9A%E7%BB%A9%E9%A2%84%E5%91%8A&refCountId=data_55eff2bf_980\" target=\"_blank\">不确定</a>\\n\\t\\t\\t\\t\\t            </td>\\n            <td class =\" \">\\n            \\t-            </td>\\n            <td class=\" c-rise\">5292.86万</td>\\n            <td class=\"tc cur\">2021-04-30</td>\\n        </tr>\\n                <tr class=\"even\">\\n            <td>116</td>\\n            <td class=\" linkToGghq\">\\n\\t\\t\\t\\t\\t\\t\\t\\t\\t<a href=\"http://stockpage.10jqka.com.cn/601107/finance/\" target=\"_blank\" class=\"stockCode\">601107</a>\\n\\t\\t\\t\\t\\t\\t\\t</td>\\n            <td class=\"linkToGghq\">\\n            \\t\\t\\t\\t\\t\\t<a href=\"http://stockpage.10jqka.com.cn/601107/finance/\" target=\"_blank\" code=\"hs_601107\" class=\"J_showCanvas\">四川成渝</a>\\n\\t\\t\\t\\t            </td>\\n            <td class=\" \">\\n            \\t<span>不确定</span>\\n            </td>\\n            <td class=\"tl\">\\n            \\t\\t\\t\\t\\t\\t<a href=\"http://www.iwencai.com/stockpick/search?typed=0&preParams=&ts=1&f=1&qs=yjygzy_ths_data&selfsectsn=&querytype=&searchfilter=&tid=stockpick&w=601107+%E4%B8%9A%E7%BB%A9%E9%A2%84%E5%91%8A&refCountId=data_55eff2bf_980\" target=\"_blank\">预计年初至下一报告期期末的累计净利润与上年同期相比发生较大幅度上升。</a>\\n\\t\\t\\t\\t\\t            </td>\\n            <td class =\" \">\\n            \\t-            </td>\\n            <td class=\" c-fall\">-1.66亿</td>\\n            <td class=\"tc cur\">2021-04-30</td>\\n        </tr>\\n                <tr >\\n            <td>117</td>\\n            <td class=\" linkToGghq\">\\n\\t\\t\\t\\t\\t\\t\\t\\t\\t<a href=\"http://stockpage.10jqka.com.cn/601111/finance/\" target=\"_blank\" class=\"stockCode\">601111</a>\\n\\t\\t\\t\\t\\t\\t\\t</td>\\n            <td class=\"linkToGghq\">\\n            \\t\\t\\t\\t\\t\\t<a href=\"http://stockpage.10jqka.com.cn/601111/finance/\" target=\"_blank\" code=\"hs_601111\" class=\"J_showCanvas\">中国国航</a>\\n\\t\\t\\t\\t            </td>\\n            <td class=\" \">\\n            \\t<span>不确定</span>\\n            </td>\\n            <td class=\"tl\">\\n            \\t\\t\\t\\t\\t\\t<a href=\"http://www.iwencai.com/stockpick/search?typed=0&preParams=&ts=1&f=1&qs=yjygzy_ths_data&selfsectsn=&querytype=&searchfilter=&tid=stockpick&w=601111+%E4%B8%9A%E7%BB%A9%E9%A2%84%E5%91%8A&refCountId=data_55eff2bf_980\" target=\"_blank\">不确定</a>\\n\\t\\t\\t\\t\\t            </td>\\n            <td class =\" \">\\n            \\t-            </td>\\n            <td class=\" c-fall\">-94.41亿</td>\\n            <td class=\"tc cur\">2021-04-30</td>\\n        </tr>\\n                <tr class=\"even\">\\n            <td>118</td>\\n            <td class=\" linkToGghq\">\\n\\t\\t\\t\\t\\t\\t\\t\\t\\t<a href=\"http://stockpage.10jqka.com.cn/601208/finance/\" target=\"_blank\" class=\"stockCode\">601208</a>\\n\\t\\t\\t\\t\\t\\t\\t</td>\\n            <td class=\"linkToGghq\">\\n            \\t\\t\\t\\t\\t\\t<a href=\"http://stockpage.10jqka.com.cn/601208/finance/\" target=\"_blank\" code=\"hs_601208\" class=\"J_showCanvas\">东材科技</a>\\n\\t\\t\\t\\t            </td>\\n            <td class=\" c-rise\">\\n            \\t<span>业绩大幅上升</span>\\n            </td>\\n            <td class=\"tl\">\\n            \\t\\t\\t\\t\\t\\t<a href=\"http://www.iwencai.com/stockpick/search?typed=0&preParams=&ts=1&f=1&qs=yjygzy_ths_data&selfsectsn=&querytype=&searchfilter=&tid=stockpick&w=601208+%E4%B8%9A%E7%BB%A9%E9%A2%84%E5%91%8A&refCountId=data_55eff2bf_980\" target=\"_blank\">增长幅度为135.56%至156.31%</a>\\n\\t\\t\\t\\t\\t            </td>\\n            <td class =\" c-rise\">\\n            \\t156.31            </td>\\n            <td class=\" c-rise\">2.27亿</td>\\n            <td class=\"tc cur\">2021-04-30</td>\\n        </tr>\\n                <tr >\\n            <td>119</td>\\n            <td class=\" linkToGghq\">\\n\\t\\t\\t\\t\\t\\t\\t\\t\\t<a href=\"http://stockpage.10jqka.com.cn/601558/finance/\" target=\"_blank\" class=\"stockCode\">601558</a>\\n\\t\\t\\t\\t\\t\\t\\t</td>\\n            <td class=\"linkToGghq\">\\n            \\t\\t\\t\\t\\t\\t<a href=\"http://stockpage.10jqka.com.cn/601558/finance/\" target=\"_blank\" code=\"hs_601558\" class=\"J_showCanvas\">退市锐电</a>\\n\\t\\t\\t\\t            </td>\\n            <td class=\" \">\\n            \\t<span>不确定</span>\\n            </td>\\n            <td class=\"tl\">\\n            \\t\\t\\t\\t\\t\\t<a href=\"http://www.iwencai.com/stockpick/search?typed=0&preParams=&ts=1&f=1&qs=yjygzy_ths_data&selfsectsn=&querytype=&searchfilter=&tid=stockpick&w=601558+%E4%B8%9A%E7%BB%A9%E9%A2%84%E5%91%8A&refCountId=data_55eff2bf_980\" target=\"_blank\">公司无法预测年初至下一报告期期末的累计净利润情况。</a>\\n\\t\\t\\t\\t\\t            </td>\\n            <td class =\" \">\\n            \\t-            </td>\\n            <td class=\" c-fall\">-2981.09万</td>\\n            <td class=\"tc cur\">2021-04-30</td>\\n        </tr>\\n                <tr class=\"even\">\\n            <td>120</td>\\n            <td class=\" linkToGghq\">\\n\\t\\t\\t\\t\\t\\t\\t\\t\\t<a href=\"http://stockpage.10jqka.com.cn/601636/finance/\" target=\"_blank\" class=\"stockCode\">601636</a>\\n\\t\\t\\t\\t\\t\\t\\t</td>\\n            <td class=\"linkToGghq\">\\n            \\t\\t\\t\\t\\t\\t<a href=\"http://stockpage.10jqka.com.cn/601636/finance/\" target=\"_blank\" code=\"hs_601636\" class=\"J_showCanvas\">旗滨集团</a>\\n\\t\\t\\t\\t            </td>\\n            <td class=\" c-rise\">\\n            \\t<span>业绩大幅上升</span>\\n            </td>\\n            <td class=\"tl\">\\n            \\t\\t\\t\\t\\t\\t<a href=\"http://www.iwencai.com/stockpick/search?typed=0&preParams=&ts=1&f=1&qs=yjygzy_ths_data&selfsectsn=&querytype=&searchfilter=&tid=stockpick&w=601636+%E4%B8%9A%E7%BB%A9%E9%A2%84%E5%91%8A&refCountId=data_55eff2bf_980\" target=\"_blank\">公司预计2021年半年度的累计净利润相比2020年同期有较大幅度的增长。</a>\\n\\t\\t\\t\\t\\t            </td>\\n            <td class =\" \">\\n            \\t-            </td>\\n            <td class=\" c-rise\">5.06亿</td>\\n            <td class=\"tc cur\">2021-04-30</td>\\n        </tr>\\n                <tr >\\n            <td>121</td>\\n            <td class=\" linkToGghq\">\\n\\t\\t\\t\\t\\t\\t\\t\\t\\t<a href=\"http://stockpage.10jqka.com.cn/601778/finance/\" target=\"_blank\" class=\"stockCode\">601778</a>\\n\\t\\t\\t\\t\\t\\t\\t</td>\\n            <td class=\"linkToGghq\">\\n            \\t\\t\\t\\t\\t\\t<a href=\"http://stockpage.10jqka.com.cn/601778/finance/\" target=\"_blank\" code=\"hs_601778\" class=\"J_showCanvas\">晶科科技</a>\\n\\t\\t\\t\\t            </td>\\n            <td class=\" \">\\n            \\t<span>不确定</span>\\n            </td>\\n            <td class=\"tl\">\\n            \\t\\t\\t\\t\\t\\t<a href=\"http://www.iwencai.com/stockpick/search?typed=0&preParams=&ts=1&f=1&qs=yjygzy_ths_data&selfsectsn=&querytype=&searchfilter=&tid=stockpick&w=601778+%E4%B8%9A%E7%BB%A9%E9%A2%84%E5%91%8A&refCountId=data_55eff2bf_980\" target=\"_blank\">年初至下一报告期末的累计净利润与上年同期相比发生重大变动。</a>\\n\\t\\t\\t\\t\\t            </td>\\n            <td class =\" \">\\n            \\t-            </td>\\n            <td class=\" c-rise\">2.19亿</td>\\n            <td class=\"tc cur\">2021-04-30</td>\\n        </tr>\\n                <tr class=\"even\">\\n            <td>122</td>\\n            <td class=\" linkToGghq\">\\n\\t\\t\\t\\t\\t\\t\\t\\t\\t<a href=\"http://stockpage.10jqka.com.cn/601918/finance/\" target=\"_blank\" class=\"stockCode\">601918</a>\\n\\t\\t\\t\\t\\t\\t\\t</td>\\n            <td class=\"linkToGghq\">\\n            \\t\\t\\t\\t\\t\\t<a href=\"http://stockpage.10jqka.com.cn/601918/finance/\" target=\"_blank\" code=\"hs_601918\" class=\"J_showCanvas\">新集能源</a>\\n\\t\\t\\t\\t            </td>\\n            <td class=\" c-rise\">\\n            \\t<span>业绩大幅上升</span>\\n            </td>\\n            <td class=\"tl\">\\n            \\t\\t\\t\\t\\t\\t<a href=\"http://www.iwencai.com/stockpick/search?typed=0&preParams=&ts=1&f=1&qs=yjygzy_ths_data&selfsectsn=&querytype=&searchfilter=&tid=stockpick&w=601918+%E4%B8%9A%E7%BB%A9%E9%A2%84%E5%91%8A&refCountId=data_55eff2bf_980\" target=\"_blank\">预计年初至下一报告期期末的累计净利润与上年同期比将有较大幅度增长。</a>\\n\\t\\t\\t\\t\\t            </td>\\n            <td class =\" \">\\n            \\t-            </td>\\n            <td class=\" c-rise\">9436.74万</td>\\n            <td class=\"tc cur\">2021-04-30</td>\\n        </tr>\\n                <tr >\\n            <td>123</td>\\n            <td class=\" linkToGghq\">\\n\\t\\t\\t\\t\\t\\t\\t\\t\\t<a href=\"http://stockpage.10jqka.com.cn/601919/finance/\" target=\"_blank\" class=\"stockCode\">601919</a>\\n\\t\\t\\t\\t\\t\\t\\t</td>\\n            <td class=\"linkToGghq\">\\n            \\t\\t\\t\\t\\t\\t<a href=\"http://stockpage.10jqka.com.cn/601919/finance/\" target=\"_blank\" code=\"hs_601919\" class=\"J_showCanvas\">中远海控</a>\\n\\t\\t\\t\\t            </td>\\n            <td class=\" c-rise\">\\n            \\t<span>业绩大幅上升</span>\\n            </td>\\n            <td class=\"tl\">\\n            \\t\\t\\t\\t\\t\\t<a href=\"http://www.iwencai.com/stockpick/search?typed=0&preParams=&ts=1&f=1&qs=yjygzy_ths_data&selfsectsn=&querytype=&searchfilter=&tid=stockpick&w=601919+%E4%B8%9A%E7%BB%A9%E9%A2%84%E5%91%8A&refCountId=data_55eff2bf_980\" target=\"_blank\">预计2021年上半年的累计净利润与上年同期相比实现大幅度增长。</a>\\n\\t\\t\\t\\t\\t            </td>\\n            <td class =\" \">\\n            \\t-            </td>\\n            <td class=\" c-rise\">11.37亿</td>\\n            <td class=\"tc cur\">2021-04-30</td>\\n        </tr>\\n                <tr class=\"even\">\\n            <td>124</td>\\n            <td class=\" linkToGghq\">\\n\\t\\t\\t\\t\\t\\t\\t\\t\\t<a href=\"http://stockpage.10jqka.com.cn/601933/finance/\" target=\"_blank\" class=\"stockCode\">601933</a>\\n\\t\\t\\t\\t\\t\\t\\t</td>\\n            <td class=\"linkToGghq\">\\n            \\t\\t\\t\\t\\t\\t<a href=\"http://stockpage.10jqka.com.cn/601933/finance/\" target=\"_blank\" code=\"hs_601933\" class=\"J_showCanvas\">永辉超市</a>\\n\\t\\t\\t\\t            </td>\\n            <td class=\" c-fall\">\\n            \\t<span>业绩预亏</span>\\n            </td>\\n            <td class=\"tl\">\\n            \\t\\t\\t\\t\\t\\t<a href=\"http://www.iwencai.com/stockpick/search?typed=0&preParams=&ts=1&f=1&qs=yjygzy_ths_data&selfsectsn=&querytype=&searchfilter=&tid=stockpick&w=601933+%E4%B8%9A%E7%BB%A9%E9%A2%84%E5%91%8A&refCountId=data_55eff2bf_980\" target=\"_blank\">2021年上半年公司归母净利润可能出现亏损。</a>\\n\\t\\t\\t\\t\\t            </td>\\n            <td class =\" \">\\n            \\t-            </td>\\n            <td class=\" c-rise\">18.54亿</td>\\n            <td class=\"tc cur\">2021-04-30</td>\\n        </tr>\\n                <tr >\\n            <td>125</td>\\n            <td class=\" linkToGghq\">\\n\\t\\t\\t\\t\\t\\t\\t\\t\\t<a href=\"http://stockpage.10jqka.com.cn/603010/finance/\" target=\"_blank\" class=\"stockCode\">603010</a>\\n\\t\\t\\t\\t\\t\\t\\t</td>\\n            <td class=\"linkToGghq\">\\n            \\t\\t\\t\\t\\t\\t<a href=\"http://stockpage.10jqka.com.cn/603010/finance/\" target=\"_blank\" code=\"hs_603010\" class=\"J_showCanvas\">万盛股份</a>\\n\\t\\t\\t\\t            </td>\\n            <td class=\" c-rise\">\\n            \\t<span>业绩大幅上升</span>\\n            </td>\\n            <td class=\"tl\">\\n            \\t\\t\\t\\t\\t\\t<a href=\"http://www.iwencai.com/stockpick/search?typed=0&preParams=&ts=1&f=1&qs=yjygzy_ths_data&selfsectsn=&querytype=&searchfilter=&tid=stockpick&w=603010+%E4%B8%9A%E7%BB%A9%E9%A2%84%E5%91%8A&refCountId=data_55eff2bf_980\" target=\"_blank\">增长幅度为295%至335%</a>\\n\\t\\t\\t\\t\\t            </td>\\n            <td class =\" c-rise\">\\n            \\t335.00            </td>\\n            <td class=\" c-rise\">1.07亿</td>\\n            <td class=\"tc cur\">2021-04-30</td>\\n        </tr>\\n                <tr class=\"even\">\\n            <td>126</td>\\n            <td class=\" linkToGghq\">\\n\\t\\t\\t\\t\\t\\t\\t\\t\\t<a href=\"http://stockpage.10jqka.com.cn/603123/finance/\" target=\"_blank\" class=\"stockCode\">603123</a>\\n\\t\\t\\t\\t\\t\\t\\t</td>\\n            <td class=\"linkToGghq\">\\n            \\t\\t\\t\\t\\t\\t<a href=\"http://stockpage.10jqka.com.cn/603123/finance/\" target=\"_blank\" code=\"hs_603123\" class=\"J_showCanvas\">翠微股份</a>\\n\\t\\t\\t\\t            </td>\\n            <td class=\" \">\\n            \\t<span>不确定</span>\\n            </td>\\n            <td class=\"tl\">\\n            \\t\\t\\t\\t\\t\\t<a href=\"http://www.iwencai.com/stockpick/search?typed=0&preParams=&ts=1&f=1&qs=yjygzy_ths_data&selfsectsn=&querytype=&searchfilter=&tid=stockpick&w=603123+%E4%B8%9A%E7%BB%A9%E9%A2%84%E5%91%8A&refCountId=data_55eff2bf_980\" target=\"_blank\">预计上半年公司的归母净利润与上年同期相比仍会有所增长。</a>\\n\\t\\t\\t\\t\\t            </td>\\n            <td class =\" \">\\n            \\t-            </td>\\n            <td class=\" c-fall\">-3306.19万</td>\\n            <td class=\"tc cur\">2021-04-30</td>\\n        </tr>\\n                <tr >\\n            <td>127</td>\\n            <td class=\" linkToGghq\">\\n\\t\\t\\t\\t\\t\\t\\t\\t\\t<a href=\"http://stockpage.10jqka.com.cn/603711/finance/\" target=\"_blank\" class=\"stockCode\">603711</a>\\n\\t\\t\\t\\t\\t\\t\\t</td>\\n            <td class=\"linkToGghq\">\\n            \\t\\t\\t\\t\\t\\t<a href=\"http://stockpage.10jqka.com.cn/603711/finance/\" target=\"_blank\" code=\"hs_603711\" class=\"J_showCanvas\">香飘飘</a>\\n\\t\\t\\t\\t            </td>\\n            <td class=\" c-fall\">\\n            \\t<span>预计续亏</span>\\n            </td>\\n            <td class=\"tl\">\\n            \\t\\t\\t\\t\\t\\t<a href=\"http://www.iwencai.com/stockpick/search?typed=0&preParams=&ts=1&f=1&qs=yjygzy_ths_data&selfsectsn=&querytype=&searchfilter=&tid=stockpick&w=603711+%E4%B8%9A%E7%BB%A9%E9%A2%84%E5%91%8A&refCountId=data_55eff2bf_980\" target=\"_blank\">公司预计今年上半年会有一定程度的亏损。</a>\\n\\t\\t\\t\\t\\t            </td>\\n            <td class =\" \">\\n            \\t-            </td>\\n            <td class=\" c-fall\">-6388.24万</td>\\n            <td class=\"tc cur\">2021-04-30</td>\\n        </tr>\\n                <tr class=\"even\">\\n            <td>128</td>\\n            <td class=\" linkToGghq\">\\n\\t\\t\\t\\t\\t\\t\\t\\t\\t<a href=\"http://stockpage.10jqka.com.cn/603861/finance/\" target=\"_blank\" class=\"stockCode\">603861</a>\\n\\t\\t\\t\\t\\t\\t\\t</td>\\n            <td class=\"linkToGghq\">\\n            \\t\\t\\t\\t\\t\\t<a href=\"http://stockpage.10jqka.com.cn/603861/finance/\" target=\"_blank\" code=\"hs_603861\" class=\"J_showCanvas\">白云电器</a>\\n\\t\\t\\t\\t            </td>\\n            <td class=\" c-fall\">\\n            \\t<span>预计续亏</span>\\n            </td>\\n            <td class=\"tl\">\\n            \\t\\t\\t\\t\\t\\t<a href=\"http://www.iwencai.com/stockpick/search?typed=0&preParams=&ts=1&f=1&qs=yjygzy_ths_data&selfsectsn=&querytype=&searchfilter=&tid=stockpick&w=603861+%E4%B8%9A%E7%BB%A9%E9%A2%84%E5%91%8A&refCountId=data_55eff2bf_980\" target=\"_blank\">预测公司年初至下一报告期末累计净利润可能出现亏损。</a>\\n\\t\\t\\t\\t\\t            </td>\\n            <td class =\" \">\\n            \\t-            </td>\\n            <td class=\" c-fall\">-9366.62万</td>\\n            <td class=\"tc cur\">2021-04-30</td>\\n        </tr>\\n                <tr >\\n            <td>129</td>\\n            <td class=\" linkToGghq\">\\n\\t\\t\\t\\t\\t\\t\\t\\t\\t<a href=\"http://stockpage.10jqka.com.cn/603922/finance/\" target=\"_blank\" class=\"stockCode\">603922</a>\\n\\t\\t\\t\\t\\t\\t\\t</td>\\n            <td class=\"linkToGghq\">\\n            \\t\\t\\t\\t\\t\\t<a href=\"http://stockpage.10jqka.com.cn/603922/finance/\" target=\"_blank\" code=\"hs_603922\" class=\"J_showCanvas\">金鸿顺</a>\\n\\t\\t\\t\\t            </td>\\n            <td class=\" \">\\n            \\t<span>不确定</span>\\n            </td>\\n            <td class=\"tl\">\\n            \\t\\t\\t\\t\\t\\t<a href=\"http://www.iwencai.com/stockpick/search?typed=0&preParams=&ts=1&f=1&qs=yjygzy_ths_data&selfsectsn=&querytype=&searchfilter=&tid=stockpick&w=603922+%E4%B8%9A%E7%BB%A9%E9%A2%84%E5%91%8A&refCountId=data_55eff2bf_980\" target=\"_blank\">公司累计净利润较上年同期有较大幅度的增长。</a>\\n\\t\\t\\t\\t\\t            </td>\\n            <td class =\" \">\\n            \\t-            </td>\\n            <td class=\" c-fall\">-1874.12万</td>\\n            <td class=\"tc cur\">2021-04-30</td>\\n        </tr>\\n                <tr class=\"even\">\\n            <td>130</td>\\n            <td class=\" linkToGghq\">\\n\\t\\t\\t\\t\\t\\t\\t\\t\\t<a href=\"http://stockpage.10jqka.com.cn/603996/finance/\" target=\"_blank\" class=\"stockCode\">603996</a>\\n\\t\\t\\t\\t\\t\\t\\t</td>\\n            <td class=\"linkToGghq\">\\n            \\t\\t\\t\\t\\t\\t<a href=\"http://stockpage.10jqka.com.cn/603996/finance/\" target=\"_blank\" code=\"hs_603996\" class=\"J_showCanvas\">*ST中新</a>\\n\\t\\t\\t\\t            </td>\\n            <td class=\" c-fall\">\\n            \\t<span>预计续亏</span>\\n            </td>\\n            <td class=\"tl\">\\n            \\t\\t\\t\\t\\t\\t<a href=\"http://www.iwencai.com/stockpick/search?typed=0&preParams=&ts=1&f=1&qs=yjygzy_ths_data&selfsectsn=&querytype=&searchfilter=&tid=stockpick&w=603996+%E4%B8%9A%E7%BB%A9%E9%A2%84%E5%91%8A&refCountId=data_55eff2bf_980\" target=\"_blank\">2021年1-6月累计归属上市公司的净利润预计将出现亏损。</a>\\n\\t\\t\\t\\t\\t            </td>\\n            <td class =\" \">\\n            \\t-            </td>\\n            <td class=\" c-fall\">-2.60亿</td>\\n            <td class=\"tc cur\">2021-04-30</td>\\n        </tr>\\n                <tr >\\n            <td>131</td>\\n            <td class=\" linkToGghq\">\\n\\t\\t\\t\\t\\t\\t\\t\\t\\t<a href=\"http://stockpage.10jqka.com.cn/605080/finance/\" target=\"_blank\" class=\"stockCode\">605080</a>\\n\\t\\t\\t\\t\\t\\t\\t</td>\\n            <td class=\"linkToGghq\">\\n            \\t\\t\\t\\t\\t\\t<a href=\"http://stockpage.10jqka.com.cn/605080/finance/\" target=\"_blank\" code=\"hs_605080\" class=\"J_showCanvas\">浙大自然</a>\\n\\t\\t\\t\\t            </td>\\n            <td class=\" \">\\n            \\t<span>不确定</span>\\n            </td>\\n            <td class=\"tl\">\\n            \\t\\t\\t\\t\\t\\t<a href=\"http://www.iwencai.com/stockpick/search?typed=0&preParams=&ts=1&f=1&qs=yjygzy_ths_data&selfsectsn=&querytype=&searchfilter=&tid=stockpick&w=605080+%E4%B8%9A%E7%BB%A9%E9%A2%84%E5%91%8A&refCountId=data_55eff2bf_980\" target=\"_blank\">公司预计2021年1-6月经营业绩同比不会发生重大不利变化。</a>\\n\\t\\t\\t\\t\\t            </td>\\n            <td class =\" \">\\n            \\t-            </td>\\n            <td class=\" c-rise\">9492.46万</td>\\n            <td class=\"tc cur\">2021-04-30</td>\\n        </tr>\\n                <tr class=\"even\">\\n            <td>132</td>\\n            <td class=\" linkToGghq\">\\n\\t\\t\\t\\t\\t\\t\\t\\t\\t<a href=\"http://stockpage.10jqka.com.cn/605305/finance/\" target=\"_blank\" class=\"stockCode\">605305</a>\\n\\t\\t\\t\\t\\t\\t\\t</td>\\n            <td class=\"linkToGghq\">\\n            \\t\\t\\t\\t\\t\\t<a href=\"http://stockpage.10jqka.com.cn/605305/finance/\" target=\"_blank\" code=\"hs_605305\" class=\"J_showCanvas\">中际联合</a>\\n\\t\\t\\t\\t            </td>\\n            <td class=\" c-rise\">\\n            \\t<span>业绩预增</span>\\n            </td>\\n            <td class=\"tl\">\\n            \\t\\t\\t\\t\\t\\t<a href=\"http://www.iwencai.com/stockpick/search?typed=0&preParams=&ts=1&f=1&qs=yjygzy_ths_data&selfsectsn=&querytype=&searchfilter=&tid=stockpick&w=605305+%E4%B8%9A%E7%BB%A9%E9%A2%84%E5%91%8A&refCountId=data_55eff2bf_980\" target=\"_blank\">净利润10600.00万元至12000.00万元,增长幅度为10.28%至24.85%</a>\\n\\t\\t\\t\\t\\t            </td>\\n            <td class =\" c-rise\">\\n            \\t24.85            </td>\\n            <td class=\" c-rise\">9611.80万</td>\\n            <td class=\"tc cur\">2021-04-30</td>\\n        </tr>\\n                <tr >\\n            <td>133</td>\\n            <td class=\" linkToGghq\">\\n\\t\\t\\t\\t\\t\\t\\t\\t\\t<a href=\"http://stockpage.10jqka.com.cn/688070/finance/\" target=\"_blank\" class=\"stockCode\">688070</a>\\n\\t\\t\\t\\t\\t\\t\\t</td>\\n            <td class=\"linkToGghq\">\\n            \\t\\t\\t\\t\\t\\t<a href=\"http://stockpage.10jqka.com.cn/688070/finance/\" target=\"_blank\" code=\"hs_688070\" class=\"J_showCanvas\">纵横股份</a>\\n\\t\\t\\t\\t            </td>\\n            <td class=\" c-fall\">\\n            \\t<span>业绩预亏</span>\\n            </td>\\n            <td class=\"tl\">\\n            \\t\\t\\t\\t\\t\\t<a href=\"http://www.iwencai.com/stockpick/search?typed=0&preParams=&ts=1&f=1&qs=yjygzy_ths_data&selfsectsn=&querytype=&searchfilter=&tid=stockpick&w=688070+%E4%B8%9A%E7%BB%A9%E9%A2%84%E5%91%8A&refCountId=data_55eff2bf_980\" target=\"_blank\">预计年初至下一报告期期末的累计净利润可能为亏损。</a>\\n\\t\\t\\t\\t\\t            </td>\\n            <td class =\" \">\\n            \\t-            </td>\\n            <td class=\" c-rise\">918.58万</td>\\n            <td class=\"tc cur\">2021-04-30</td>\\n        </tr>\\n                <tr class=\"even\">\\n            <td>134</td>\\n            <td class=\" linkToGghq\">\\n\\t\\t\\t\\t\\t\\t\\t\\t\\t<a href=\"http://stockpage.10jqka.com.cn/688165/finance/\" target=\"_blank\" class=\"stockCode\">688165</a>\\n\\t\\t\\t\\t\\t\\t\\t</td>\\n            <td class=\"linkToGghq\">\\n            \\t\\t\\t\\t\\t\\t<a href=\"http://stockpage.10jqka.com.cn/688165/finance/\" target=\"_blank\" code=\"hs_688165\" class=\"J_showCanvas\">埃夫特</a>\\n\\t\\t\\t\\t            </td>\\n            <td class=\" c-rise\">\\n            \\t<span>预计减亏</span>\\n            </td>\\n            <td class=\"tl\">\\n            \\t\\t\\t\\t\\t\\t<a href=\"http://www.iwencai.com/stockpick/search?typed=0&preParams=&ts=1&f=1&qs=yjygzy_ths_data&selfsectsn=&querytype=&searchfilter=&tid=stockpick&w=688165+%E4%B8%9A%E7%BB%A9%E9%A2%84%E5%91%8A&refCountId=data_55eff2bf_980\" target=\"_blank\">预计本年度1月1日至6月30日累计净利润可能仍为亏损状态,但预计亏损额较去年同期将减少。</a>\\n\\t\\t\\t\\t\\t            </td>\\n            <td class =\" \">\\n            \\t-            </td>\\n            <td class=\" c-fall\">-6335.15万</td>\\n            <td class=\"tc cur\">2021-04-30</td>\\n        </tr>\\n                <tr >\\n            <td>135</td>\\n            <td class=\" linkToGghq\">\\n\\t\\t\\t\\t\\t\\t\\t\\t\\t<a href=\"http://stockpage.10jqka.com.cn/688183/finance/\" target=\"_blank\" class=\"stockCode\">688183</a>\\n\\t\\t\\t\\t\\t\\t\\t</td>\\n            <td class=\"linkToGghq\">\\n            \\t\\t\\t\\t\\t\\t<a href=\"http://stockpage.10jqka.com.cn/688183/finance/\" target=\"_blank\" code=\"hs_688183\" class=\"J_showCanvas\">生益电子</a>\\n\\t\\t\\t\\t            </td>\\n            <td class=\" c-fall\">\\n            \\t<span>业绩预降</span>\\n            </td>\\n            <td class=\"tl\">\\n            \\t\\t\\t\\t\\t\\t<a href=\"http://www.iwencai.com/stockpick/search?typed=0&preParams=&ts=1&f=1&qs=yjygzy_ths_data&selfsectsn=&querytype=&searchfilter=&tid=stockpick&w=688183+%E4%B8%9A%E7%BB%A9%E9%A2%84%E5%91%8A&refCountId=data_55eff2bf_980\" target=\"_blank\">公司年初至下一报告期期末（即2021年1-6月）的经营结果与上年同期相比存在一定程度下降的可能性</a>\\n\\t\\t\\t\\t\\t            </td>\\n            <td class =\" \">\\n            \\t-            </td>\\n            <td class=\" c-rise\">2.97亿</td>\\n            <td class=\"tc cur\">2021-04-30</td>\\n        </tr>\\n                <tr class=\"even\">\\n            <td>136</td>\\n            <td class=\" linkToGghq\">\\n\\t\\t\\t\\t\\t\\t\\t\\t\\t<a href=\"http://stockpage.10jqka.com.cn/688185/finance/\" target=\"_blank\" class=\"stockCode\">688185</a>\\n\\t\\t\\t\\t\\t\\t\\t</td>\\n            <td class=\"linkToGghq\">\\n            \\t\\t\\t\\t\\t\\t<a href=\"http://stockpage.10jqka.com.cn/688185/finance/\" target=\"_blank\" code=\"hs_688185\" class=\"J_showCanvas\">康希诺</a>\\n\\t\\t\\t\\t            </td>\\n            <td class=\" c-rise\">\\n            \\t<span>预计扭亏</span>\\n            </td>\\n            <td class=\"tl\">\\n            \\t\\t\\t\\t\\t\\t<a href=\"http://www.iwencai.com/stockpick/search?typed=0&preParams=&ts=1&f=1&qs=yjygzy_ths_data&selfsectsn=&querytype=&searchfilter=&tid=stockpick&w=688185+%E4%B8%9A%E7%BB%A9%E9%A2%84%E5%91%8A&refCountId=data_55eff2bf_980\" target=\"_blank\">预计年初至下一报告期期末的累计净利润为正。</a>\\n\\t\\t\\t\\t\\t            </td>\\n            <td class =\" \">\\n            \\t-            </td>\\n            <td class=\" c-fall\">-1.02亿</td>\\n            <td class=\"tc cur\">2021-04-30</td>\\n        </tr>\\n                <tr >\\n            <td>137</td>\\n            <td class=\" linkToGghq\">\\n\\t\\t\\t\\t\\t\\t\\t\\t\\t<a href=\"http://stockpage.10jqka.com.cn/688333/finance/\" target=\"_blank\" class=\"stockCode\">688333</a>\\n\\t\\t\\t\\t\\t\\t\\t</td>\\n            <td class=\"linkToGghq\">\\n            \\t\\t\\t\\t\\t\\t<a href=\"http://stockpage.10jqka.com.cn/688333/finance/\" target=\"_blank\" code=\"hs_688333\" class=\"J_showCanvas\">铂力特</a>\\n\\t\\t\\t\\t            </td>\\n            <td class=\" \">\\n            \\t<span>不确定</span>\\n            </td>\\n            <td class=\"tl\">\\n            \\t\\t\\t\\t\\t\\t<a href=\"http://www.iwencai.com/stockpick/search?typed=0&preParams=&ts=1&f=1&qs=yjygzy_ths_data&selfsectsn=&querytype=&searchfilter=&tid=stockpick&w=688333+%E4%B8%9A%E7%BB%A9%E9%A2%84%E5%91%8A&refCountId=data_55eff2bf_980\" target=\"_blank\">不确定</a>\\n\\t\\t\\t\\t\\t            </td>\\n            <td class =\" \">\\n            \\t-            </td>\\n            <td class=\" c-fall\">-928.63万</td>\\n            <td class=\"tc cur\">2021-04-30</td>\\n        </tr>\\n                <tr class=\"even\">\\n            <td>138</td>\\n            <td class=\" linkToGghq\">\\n\\t\\t\\t\\t\\t\\t\\t\\t\\t<a href=\"http://stockpage.10jqka.com.cn/688339/finance/\" target=\"_blank\" class=\"stockCode\">688339</a>\\n\\t\\t\\t\\t\\t\\t\\t</td>\\n            <td class=\"linkToGghq\">\\n            \\t\\t\\t\\t\\t\\t<a href=\"http://stockpage.10jqka.com.cn/688339/finance/\" target=\"_blank\" code=\"hs_688339\" class=\"J_showCanvas\">亿华通</a>\\n\\t\\t\\t\\t            </td>\\n            <td class=\" c-fall\">\\n            \\t<span>预计续亏</span>\\n            </td>\\n            <td class=\"tl\">\\n            \\t\\t\\t\\t\\t\\t<a href=\"http://www.iwencai.com/stockpick/search?typed=0&preParams=&ts=1&f=1&qs=yjygzy_ths_data&selfsectsn=&querytype=&searchfilter=&tid=stockpick&w=688339+%E4%B8%9A%E7%BB%A9%E9%A2%84%E5%91%8A&refCountId=data_55eff2bf_980\" target=\"_blank\">预计2021年上半年仍将亏损</a>\\n\\t\\t\\t\\t\\t            </td>\\n            <td class =\" \">\\n            \\t-            </td>\\n            <td class=\" c-fall\">-6350.77万</td>\\n            <td class=\"tc cur\">2021-04-30</td>\\n        </tr>\\n                <tr >\\n            <td>139</td>\\n            <td class=\" linkToGghq\">\\n\\t\\t\\t\\t\\t\\t\\t\\t\\t<a href=\"http://stockpage.10jqka.com.cn/688567/finance/\" target=\"_blank\" class=\"stockCode\">688567</a>\\n\\t\\t\\t\\t\\t\\t\\t</td>\\n            <td class=\"linkToGghq\">\\n            \\t\\t\\t\\t\\t\\t<a href=\"http://stockpage.10jqka.com.cn/688567/finance/\" target=\"_blank\" code=\"hs_688567\" class=\"J_showCanvas\">孚能科技</a>\\n\\t\\t\\t\\t            </td>\\n            <td class=\" c-fall\">\\n            \\t<span>预计续亏</span>\\n            </td>\\n            <td class=\"tl\">\\n            \\t\\t\\t\\t\\t\\t<a href=\"http://www.iwencai.com/stockpick/search?typed=0&preParams=&ts=1&f=1&qs=yjygzy_ths_data&selfsectsn=&querytype=&searchfilter=&tid=stockpick&w=688567+%E4%B8%9A%E7%BB%A9%E9%A2%84%E5%91%8A&refCountId=data_55eff2bf_980\" target=\"_blank\">公司预测年初至下一报告期期末的累计净利润可能为亏损。</a>\\n\\t\\t\\t\\t\\t            </td>\\n            <td class =\" \">\\n            \\t-            </td>\\n            <td class=\" c-fall\">-1.75亿</td>\\n            <td class=\"tc cur\">2021-04-30</td>\\n        </tr>\\n                <tr class=\"even\">\\n            <td>140</td>\\n            <td class=\" linkToGghq\">\\n\\t\\t\\t\\t\\t\\t\\t\\t\\t<a href=\"http://stockpage.10jqka.com.cn/689009/finance/\" target=\"_blank\" class=\"stockCode\">689009</a>\\n\\t\\t\\t\\t\\t\\t\\t</td>\\n            <td class=\"linkToGghq\">\\n            \\t\\t\\t\\t\\t\\t<a href=\"http://stockpage.10jqka.com.cn/689009/finance/\" target=\"_blank\" code=\"hs_689009\" class=\"J_showCanvas\">九号公司</a>\\n\\t\\t\\t\\t            </td>\\n            <td class=\" c-rise\">\\n            \\t<span>预计扭亏</span>\\n            </td>\\n            <td class=\"tl\">\\n            \\t\\t\\t\\t\\t\\t<a href=\"http://www.iwencai.com/stockpick/search?typed=0&preParams=&ts=1&f=1&qs=yjygzy_ths_data&selfsectsn=&querytype=&searchfilter=&tid=stockpick&w=689009+%E4%B8%9A%E7%BB%A9%E9%A2%84%E5%91%8A&refCountId=data_55eff2bf_980\" target=\"_blank\">预测年初至下一报告期期末的累计净利润与上年同期相比可能实现扭亏为盈</a>\\n\\t\\t\\t\\t\\t            </td>\\n            <td class =\" \">\\n            \\t-            </td>\\n            <td class=\" c-fall\">-8429.60万</td>\\n            <td class=\"tc cur\">2021-04-30</td>\\n        </tr>\\n                <tr >\\n            <td>141</td>\\n            <td class=\" linkToGghq\">\\n\\t\\t\\t\\t\\t\\t\\t\\t\\t<a href=\"http://stockpage.10jqka.com.cn/000029/finance/\" target=\"_blank\" class=\"stockCode\">000029</a>\\n\\t\\t\\t\\t\\t\\t\\t</td>\\n            <td class=\"linkToGghq\">\\n            \\t\\t\\t\\t\\t\\t<a href=\"http://stockpage.10jqka.com.cn/000029/finance/\" target=\"_blank\" code=\"hs_000029\" class=\"J_showCanvas\">深深房A</a>\\n\\t\\t\\t\\t            </td>\\n            <td class=\" c-rise\">\\n            \\t<span>业绩大幅上升</span>\\n            </td>\\n            <td class=\"tl\">\\n            \\t\\t\\t\\t\\t\\t<a href=\"http://www.iwencai.com/stockpick/search?typed=0&preParams=&ts=1&f=1&qs=yjygzy_ths_data&selfsectsn=&querytype=&searchfilter=&tid=stockpick&w=000029+%E4%B8%9A%E7%BB%A9%E9%A2%84%E5%91%8A&refCountId=data_55eff2bf_980\" target=\"_blank\">净利润12000万元至15000万元,增长幅度为23.36%至54.20%</a>\\n\\t\\t\\t\\t\\t            </td>\\n            <td class =\" c-rise\">\\n            \\t54.20            </td>\\n            <td class=\" c-rise\">9727.50万</td>\\n            <td class=\"tc cur\">2021-04-29</td>\\n        </tr>\\n                <tr class=\"even\">\\n            <td>142</td>\\n            <td class=\" linkToGghq\">\\n\\t\\t\\t\\t\\t\\t\\t\\t\\t<a href=\"http://stockpage.10jqka.com.cn/000545/finance/\" target=\"_blank\" class=\"stockCode\">000545</a>\\n\\t\\t\\t\\t\\t\\t\\t</td>\\n            <td class=\"linkToGghq\">\\n            \\t\\t\\t\\t\\t\\t<a href=\"http://stockpage.10jqka.com.cn/000545/finance/\" target=\"_blank\" code=\"hs_000545\" class=\"J_showCanvas\">金浦钛业</a>\\n\\t\\t\\t\\t            </td>\\n            <td class=\" c-rise\">\\n            \\t<span>预计扭亏</span>\\n            </td>\\n            <td class=\"tl\">\\n            \\t\\t\\t\\t\\t\\t<a href=\"http://www.iwencai.com/stockpick/search?typed=0&preParams=&ts=1&f=1&qs=yjygzy_ths_data&selfsectsn=&querytype=&searchfilter=&tid=stockpick&w=000545+%E4%B8%9A%E7%BB%A9%E9%A2%84%E5%91%8A&refCountId=data_55eff2bf_980\" target=\"_blank\">净利润8660.29万元至9091.15万元,增长幅度为1105.00%至1155.00%</a>\\n\\t\\t\\t\\t\\t            </td>\\n            <td class =\" c-rise\">\\n            \\t1155.00            </td>\\n            <td class=\" c-fall\">-861.72万</td>\\n            <td class=\"tc cur\">2021-04-29</td>\\n        </tr>\\n                <tr >\\n            <td>143</td>\\n            <td class=\" linkToGghq\">\\n\\t\\t\\t\\t\\t\\t\\t\\t\\t<a href=\"http://stockpage.10jqka.com.cn/000710/finance/\" target=\"_blank\" class=\"stockCode\">000710</a>\\n\\t\\t\\t\\t\\t\\t\\t</td>\\n            <td class=\"linkToGghq\">\\n            \\t\\t\\t\\t\\t\\t<a href=\"http://stockpage.10jqka.com.cn/000710/finance/\" target=\"_blank\" code=\"hs_000710\" class=\"J_showCanvas\">贝瑞基因</a>\\n\\t\\t\\t\\t            </td>\\n            <td class=\" c-fall\">\\n            \\t<span>业绩大幅下降</span>\\n            </td>\\n            <td class=\"tl\">\\n            \\t\\t\\t\\t\\t\\t<a href=\"http://www.iwencai.com/stockpick/search?typed=0&preParams=&ts=1&f=1&qs=yjygzy_ths_data&selfsectsn=&querytype=&searchfilter=&tid=stockpick&w=000710+%E4%B8%9A%E7%BB%A9%E9%A2%84%E5%91%8A&refCountId=data_55eff2bf_980\" target=\"_blank\">净利润4000万元至6000万元,下降幅度为66%至49%</a>\\n\\t\\t\\t\\t\\t            </td>\\n            <td class =\" c-fall\">\\n            \\t-66.00            </td>\\n            <td class=\" c-rise\">1.17亿</td>\\n            <td class=\"tc cur\">2021-04-29</td>\\n        </tr>\\n                <tr class=\"even\">\\n            <td>144</td>\\n            <td class=\" linkToGghq\">\\n\\t\\t\\t\\t\\t\\t\\t\\t\\t<a href=\"http://stockpage.10jqka.com.cn/000757/finance/\" target=\"_blank\" class=\"stockCode\">000757</a>\\n\\t\\t\\t\\t\\t\\t\\t</td>\\n            <td class=\"linkToGghq\">\\n            \\t\\t\\t\\t\\t\\t<a href=\"http://stockpage.10jqka.com.cn/000757/finance/\" target=\"_blank\" code=\"hs_000757\" class=\"J_showCanvas\">浩物股份</a>\\n\\t\\t\\t\\t            </td>\\n            <td class=\" c-rise\">\\n            \\t<span>预计扭亏</span>\\n            </td>\\n            <td class=\"tl\">\\n            \\t\\t\\t\\t\\t\\t<a href=\"http://www.iwencai.com/stockpick/search?typed=0&preParams=&ts=1&f=1&qs=yjygzy_ths_data&selfsectsn=&querytype=&searchfilter=&tid=stockpick&w=000757+%E4%B8%9A%E7%BB%A9%E9%A2%84%E5%91%8A&refCountId=data_55eff2bf_980\" target=\"_blank\">净利润2900万元至3900万元,增长幅度为236.94%至284.17%</a>\\n\\t\\t\\t\\t\\t            </td>\\n            <td class =\" c-rise\">\\n            \\t284.17            </td>\\n            <td class=\" c-fall\">-2117.66万</td>\\n            <td class=\"tc cur\">2021-04-29</td>\\n        </tr>\\n                <tr >\\n            <td>145</td>\\n            <td class=\" linkToGghq\">\\n\\t\\t\\t\\t\\t\\t\\t\\t\\t<a href=\"http://stockpage.10jqka.com.cn/000905/finance/\" target=\"_blank\" class=\"stockCode\">000905</a>\\n\\t\\t\\t\\t\\t\\t\\t</td>\\n            <td class=\"linkToGghq\">\\n            \\t\\t\\t\\t\\t\\t<a href=\"http://stockpage.10jqka.com.cn/000905/finance/\" target=\"_blank\" code=\"hs_000905\" class=\"J_showCanvas\">厦门港务</a>\\n\\t\\t\\t\\t            </td>\\n            <td class=\" c-rise\">\\n            \\t<span>业绩大幅上升</span>\\n            </td>\\n            <td class=\"tl\">\\n            \\t\\t\\t\\t\\t\\t<a href=\"http://www.iwencai.com/stockpick/search?typed=0&preParams=&ts=1&f=1&qs=yjygzy_ths_data&selfsectsn=&querytype=&searchfilter=&tid=stockpick&w=000905+%E4%B8%9A%E7%BB%A9%E9%A2%84%E5%91%8A&refCountId=data_55eff2bf_980\" target=\"_blank\">净利润8671.01万元至11079.63万元,增长幅度为80.0%至130.00%</a>\\n\\t\\t\\t\\t\\t            </td>\\n            <td class =\" c-rise\">\\n            \\t130.00            </td>\\n            <td class=\" c-rise\">4817.23万</td>\\n            <td class=\"tc cur\">2021-04-29</td>\\n        </tr>\\n                <tr class=\"even\">\\n            <td>146</td>\\n            <td class=\" linkToGghq\">\\n\\t\\t\\t\\t\\t\\t\\t\\t\\t<a href=\"http://stockpage.10jqka.com.cn/000980/finance/\" target=\"_blank\" class=\"stockCode\">000980</a>\\n\\t\\t\\t\\t\\t\\t\\t</td>\\n            <td class=\"linkToGghq\">\\n            \\t\\t\\t\\t\\t\\t<a href=\"http://stockpage.10jqka.com.cn/000980/finance/\" target=\"_blank\" code=\"hs_000980\" class=\"J_showCanvas\">*ST众泰</a>\\n\\t\\t\\t\\t            </td>\\n            <td class=\" c-rise\">\\n            \\t<span>预计减亏</span>\\n            </td>\\n            <td class=\"tl\">\\n            \\t\\t\\t\\t\\t\\t<a href=\"http://www.iwencai.com/stockpick/search?typed=0&preParams=&ts=1&f=1&qs=yjygzy_ths_data&selfsectsn=&querytype=&searchfilter=&tid=stockpick&w=000980+%E4%B8%9A%E7%BB%A9%E9%A2%84%E5%91%8A&refCountId=data_55eff2bf_980\" target=\"_blank\">净利润-75000万元至-50000万元,增长幅度为27.47%至51.65%</a>\\n\\t\\t\\t\\t\\t            </td>\\n            <td class =\" c-rise\">\\n            \\t51.65            </td>\\n            <td class=\" c-fall\">-10.34亿</td>\\n            <td class=\"tc cur\">2021-04-29</td>\\n        </tr>\\n                <tr >\\n            <td>147</td>\\n            <td class=\" linkToGghq\">\\n\\t\\t\\t\\t\\t\\t\\t\\t\\t<a href=\"http://stockpage.10jqka.com.cn/002030/finance/\" target=\"_blank\" class=\"stockCode\">002030</a>\\n\\t\\t\\t\\t\\t\\t\\t</td>\\n            <td class=\"linkToGghq\">\\n            \\t\\t\\t\\t\\t\\t<a href=\"http://stockpage.10jqka.com.cn/002030/finance/\" target=\"_blank\" code=\"hs_002030\" class=\"J_showCanvas\">达安基因</a>\\n\\t\\t\\t\\t            </td>\\n            <td class=\" c-rise\">\\n            \\t<span>业绩大幅上升</span>\\n            </td>\\n            <td class=\"tl\">\\n            \\t\\t\\t\\t\\t\\t<a href=\"http://www.iwencai.com/stockpick/search?typed=0&preParams=&ts=1&f=1&qs=yjygzy_ths_data&selfsectsn=&querytype=&searchfilter=&tid=stockpick&w=002030+%E4%B8%9A%E7%BB%A9%E9%A2%84%E5%91%8A&refCountId=data_55eff2bf_980\" target=\"_blank\">净利润135000万元至165000万元,增长幅度为73.41%至111.95%</a>\\n\\t\\t\\t\\t\\t            </td>\\n            <td class =\" c-rise\">\\n            \\t111.95            </td>\\n            <td class=\" c-rise\">7.78亿</td>\\n            <td class=\"tc cur\">2021-04-29</td>\\n        </tr>\\n                <tr class=\"even\">\\n            <td>148</td>\\n            <td class=\" linkToGghq\">\\n\\t\\t\\t\\t\\t\\t\\t\\t\\t<a href=\"http://stockpage.10jqka.com.cn/002034/finance/\" target=\"_blank\" class=\"stockCode\">002034</a>\\n\\t\\t\\t\\t\\t\\t\\t</td>\\n            <td class=\"linkToGghq\">\\n            \\t\\t\\t\\t\\t\\t<a href=\"http://stockpage.10jqka.com.cn/002034/finance/\" target=\"_blank\" code=\"hs_002034\" class=\"J_showCanvas\">旺能环境</a>\\n\\t\\t\\t\\t            </td>\\n            <td class=\" c-rise\">\\n            \\t<span>业绩预增</span>\\n            </td>\\n            <td class=\"tl\">\\n            \\t\\t\\t\\t\\t\\t<a href=\"http://www.iwencai.com/stockpick/search?typed=0&preParams=&ts=1&f=1&qs=yjygzy_ths_data&selfsectsn=&querytype=&searchfilter=&tid=stockpick&w=002034+%E4%B8%9A%E7%BB%A9%E9%A2%84%E5%91%8A&refCountId=data_55eff2bf_980\" target=\"_blank\">净利润30000万元至32000万元,增长幅度为30.77%至39.49%</a>\\n\\t\\t\\t\\t\\t            </td>\\n            <td class =\" c-rise\">\\n            \\t39.49            </td>\\n            <td class=\" c-rise\">2.29亿</td>\\n            <td class=\"tc cur\">2021-04-29</td>\\n        </tr>\\n                <tr >\\n            <td>149</td>\\n            <td class=\" linkToGghq\">\\n\\t\\t\\t\\t\\t\\t\\t\\t\\t<a href=\"http://stockpage.10jqka.com.cn/002055/finance/\" target=\"_blank\" class=\"stockCode\">002055</a>\\n\\t\\t\\t\\t\\t\\t\\t</td>\\n            <td class=\"linkToGghq\">\\n            \\t\\t\\t\\t\\t\\t<a href=\"http://stockpage.10jqka.com.cn/002055/finance/\" target=\"_blank\" code=\"hs_002055\" class=\"J_showCanvas\">得润电子</a>\\n\\t\\t\\t\\t            </td>\\n            <td class=\" c-fall\">\\n            \\t<span>业绩大幅下降</span>\\n            </td>\\n            <td class=\"tl\">\\n            \\t\\t\\t\\t\\t\\t<a href=\"http://www.iwencai.com/stockpick/search?typed=0&preParams=&ts=1&f=1&qs=yjygzy_ths_data&selfsectsn=&querytype=&searchfilter=&tid=stockpick&w=002055+%E4%B8%9A%E7%BB%A9%E9%A2%84%E5%91%8A&refCountId=data_55eff2bf_980\" target=\"_blank\">净利润2500万元至3750万元,下降幅度为85.4%至78.1%</a>\\n\\t\\t\\t\\t\\t            </td>\\n            <td class =\" c-fall\">\\n            \\t-85.40            </td>\\n            <td class=\" c-rise\">1.71亿</td>\\n            <td class=\"tc cur\">2021-04-29</td>\\n        </tr>\\n                <tr class=\"even\">\\n            <td>150</td>\\n            <td class=\" linkToGghq\">\\n\\t\\t\\t\\t\\t\\t\\t\\t\\t<a href=\"http://stockpage.10jqka.com.cn/002079/finance/\" target=\"_blank\" class=\"stockCode\">002079</a>\\n\\t\\t\\t\\t\\t\\t\\t</td>\\n            <td class=\"linkToGghq\">\\n            \\t\\t\\t\\t\\t\\t<a href=\"http://stockpage.10jqka.com.cn/002079/finance/\" target=\"_blank\" code=\"hs_002079\" class=\"J_showCanvas\">苏州固锝</a>\\n\\t\\t\\t\\t            </td>\\n            <td class=\" c-rise\">\\n            \\t<span>业绩大幅上升</span>\\n            </td>\\n            <td class=\"tl\">\\n            \\t\\t\\t\\t\\t\\t<a href=\"http://www.iwencai.com/stockpick/search?typed=0&preParams=&ts=1&f=1&qs=yjygzy_ths_data&selfsectsn=&querytype=&searchfilter=&tid=stockpick&w=002079+%E4%B8%9A%E7%BB%A9%E9%A2%84%E5%91%8A&refCountId=data_55eff2bf_980\" target=\"_blank\">净利润9311.2万元至12104.56万元,增长幅度为100%至160%</a>\\n\\t\\t\\t\\t\\t            </td>\\n            <td class =\" c-rise\">\\n            \\t160.00            </td>\\n            <td class=\" c-rise\">4655.60万</td>\\n            <td class=\"tc cur\">2021-04-29</td>\\n        </tr>\\n                </tbody>\\n</table>\\n     <div class=\"m-page J-ajax-page\">\\n       &nbsp;<a class=\"changePage\" page=\"1\" href=\"javascript:void(0);\">首页</a>&nbsp;<a class=\"changePage\" page=\"2\" href=\"javascript:void(0);\">上一页</a>&nbsp;&nbsp;<a class=\"changePage\" page=\"1\" href=\"javascript:void(0);\">1</a>&nbsp;&nbsp;<a class=\"changePage\" page=\"2\" href=\"javascript:void(0);\">2</a>&nbsp;&nbsp;<a class=\"cur\" href=\"javascript:void(0)\">3</a>&nbsp;&nbsp;<a class=\"changePage\" page=\"4\" href=\"javascript:void(0);\">4</a>&nbsp;&nbsp;<a class=\"changePage\" page=\"5\" href=\"javascript:void(0);\">5</a>&nbsp;&nbsp;<a class=\"changePage\" page=\"4\" href=\"javascript:void(0);\">下一页</a><a class=\"changePage\" page=\"10\" href=\"javascript:void(0);\">尾页</a><span class=\"page_info\">3/10</span>\\n     </div><html><body>\\n    <script type=\"text/javascript\" src=\"//s.thsi.cn/js/chameleon/chameleon.min.1621241.js\"></script> <script src=\"//s.thsi.cn/js/chameleon/chameleon.min.1621241.js\" type=\"text/javascript\"></script>\\n    <script language=\"javascript\" type=\"text/javascript\">\\n    window.location.href=\"//data.10jqka.com.cn/ajax/yjyg/date/2021-06-30/board/ALL/field/enddate/order/desc/page/4/ajax/1/free/1/\";\\n    </script>\\n    </body></html>\\n<html><body>\\n    <script type=\"text/javascript\" src=\"//s.thsi.cn/js/chameleon/chameleon.min.1621241.js\"></script> <script src=\"//s.thsi.cn/js/chameleon/chameleon.min.1621241.js\" type=\"text/javascript\"></script>\\n    <script language=\"javascript\" type=\"text/javascript\">\\n    window.location.href=\"//data.10jqka.com.cn/ajax/yjyg/date/2021-06-30/board/ALL/field/enddate/order/desc/page/5/ajax/1/free/1/\";\\n    </script>\\n    </body></html>\\n'"
      ]
     },
     "execution_count": 377,
     "metadata": {},
     "output_type": "execute_result"
    }
   ],
   "source": [
    "#加上header访问时候伪装成浏览器\n",
    "headers={'Accept': 'text/html, */*; q=0.01',\n",
    "    'hexin-v': 'AyDSJRy2VMFyKujFbcWMdsww8SXxKQTzpg1Y95ox7DvOlc4TQjnUg_YdKIXp',\n",
    "    'Referer': 'http://data.10jqka.com.cn/financial/yjyg/',\n",
    "    'User-Agent': 'Mozilla/5.0 (Windows NT 10.0; Win64; x64) AppleWebKit/537.36 (KHTML, like Gecko) Chrome/90.0.4430.93 Safari/537.36',\n",
    "    'X-Requested-With': 'XMLHttpRequest'\n",
    "        }\n",
    "#page后的是翻页参数\n",
    "url='http://data.10jqka.com.cn/ajax/yjyg/date/2021-06-30/board/ALL/field/enddate/order/desc/page/{}/ajax/1/free/1/'\n",
    "#初始化一个空的字符串变量\n",
    "result=''\n",
    "\n",
    "for i in range(1,6):\n",
    "    result+=requests.get(url.format(i),headers=headers).text  #获取到的是网页源代码，加上headers是识别我们的请求\n",
    "result"
   ]
  },
  {
   "cell_type": "code",
   "execution_count": 380,
   "metadata": {},
   "outputs": [
    {
     "data": {
      "text/plain": [
       "['1',\n",
       " '2',\n",
       " '3',\n",
       " '4',\n",
       " '5',\n",
       " '6',\n",
       " '7',\n",
       " '8',\n",
       " '9',\n",
       " '10',\n",
       " '11',\n",
       " '12',\n",
       " '13',\n",
       " '14',\n",
       " '15',\n",
       " '16',\n",
       " '17',\n",
       " '18',\n",
       " '19',\n",
       " '20',\n",
       " '21',\n",
       " '22',\n",
       " '23',\n",
       " '24',\n",
       " '25',\n",
       " '26',\n",
       " '27',\n",
       " '28',\n",
       " '29',\n",
       " '30',\n",
       " '31',\n",
       " '32',\n",
       " '33',\n",
       " '34',\n",
       " '35',\n",
       " '36',\n",
       " '37',\n",
       " '38',\n",
       " '39',\n",
       " '40',\n",
       " '41',\n",
       " '42',\n",
       " '43',\n",
       " '44',\n",
       " '45',\n",
       " '46',\n",
       " '47',\n",
       " '48',\n",
       " '49',\n",
       " '50',\n",
       " '51',\n",
       " '52',\n",
       " '53',\n",
       " '54',\n",
       " '55',\n",
       " '56',\n",
       " '57',\n",
       " '58',\n",
       " '59',\n",
       " '60',\n",
       " '61',\n",
       " '62',\n",
       " '63',\n",
       " '64',\n",
       " '65',\n",
       " '66',\n",
       " '67',\n",
       " '68',\n",
       " '69',\n",
       " '70',\n",
       " '71',\n",
       " '72',\n",
       " '73',\n",
       " '74',\n",
       " '75',\n",
       " '76',\n",
       " '77',\n",
       " '78',\n",
       " '79',\n",
       " '80',\n",
       " '81',\n",
       " '82',\n",
       " '83',\n",
       " '84',\n",
       " '85',\n",
       " '86',\n",
       " '87',\n",
       " '88',\n",
       " '89',\n",
       " '90',\n",
       " '91',\n",
       " '92',\n",
       " '93',\n",
       " '94',\n",
       " '95',\n",
       " '96',\n",
       " '97',\n",
       " '98',\n",
       " '99',\n",
       " '100',\n",
       " '101',\n",
       " '102',\n",
       " '103',\n",
       " '104',\n",
       " '105',\n",
       " '106',\n",
       " '107',\n",
       " '108',\n",
       " '109',\n",
       " '110',\n",
       " '111',\n",
       " '112',\n",
       " '113',\n",
       " '114',\n",
       " '115',\n",
       " '116',\n",
       " '117',\n",
       " '118',\n",
       " '119',\n",
       " '120',\n",
       " '121',\n",
       " '122',\n",
       " '123',\n",
       " '124',\n",
       " '125',\n",
       " '126',\n",
       " '127',\n",
       " '128',\n",
       " '129',\n",
       " '130',\n",
       " '131',\n",
       " '132',\n",
       " '133',\n",
       " '134',\n",
       " '135',\n",
       " '136',\n",
       " '137',\n",
       " '138',\n",
       " '139',\n",
       " '140',\n",
       " '141',\n",
       " '142',\n",
       " '143',\n",
       " '144',\n",
       " '145',\n",
       " '146',\n",
       " '147',\n",
       " '148',\n",
       " '149',\n",
       " '150']"
      ]
     },
     "execution_count": 380,
     "metadata": {},
     "output_type": "execute_result"
    }
   ],
   "source": [
    "#获取序号\n",
    "index = re.findall('<td>(.*)</td>',result)\n",
    "index"
   ]
  },
  {
   "cell_type": "code",
   "execution_count": 384,
   "metadata": {
    "scrolled": true
   },
   "outputs": [
    {
     "data": {
      "text/plain": [
       "['001206',\n",
       " '301000',\n",
       " '301001',\n",
       " '301002',\n",
       " '300996',\n",
       " '300997',\n",
       " '300998',\n",
       " '688117',\n",
       " '601528',\n",
       " '605488',\n",
       " '300988',\n",
       " '300990',\n",
       " '605189',\n",
       " '300987',\n",
       " '605196',\n",
       " '688538',\n",
       " '001203',\n",
       " '002840',\n",
       " '601665',\n",
       " '603836',\n",
       " '605499',\n",
       " '300989',\n",
       " '000166',\n",
       " '000408',\n",
       " '000415',\n",
       " '000681',\n",
       " '002002',\n",
       " '002006',\n",
       " '002021',\n",
       " '002044',\n",
       " '002049',\n",
       " '002053',\n",
       " '002086',\n",
       " '002087',\n",
       " '002103',\n",
       " '002104',\n",
       " '002118',\n",
       " '002149',\n",
       " '002179',\n",
       " '002184',\n",
       " '002191',\n",
       " '002255',\n",
       " '002260',\n",
       " '002269',\n",
       " '002308',\n",
       " '002315',\n",
       " '002345',\n",
       " '002390',\n",
       " '002496',\n",
       " '002501',\n",
       " '002512',\n",
       " '002524',\n",
       " '002563',\n",
       " '002571',\n",
       " '002576',\n",
       " '002592',\n",
       " '002638',\n",
       " '002656',\n",
       " '002658',\n",
       " '002700',\n",
       " '002708',\n",
       " '002711',\n",
       " '002722',\n",
       " '002762',\n",
       " '002766',\n",
       " '002813',\n",
       " '002820',\n",
       " '002862',\n",
       " '300159',\n",
       " '300362',\n",
       " '300367',\n",
       " '300503',\n",
       " '600029',\n",
       " '600033',\n",
       " '600054',\n",
       " '600074',\n",
       " '600115',\n",
       " '600121',\n",
       " '600135',\n",
       " '600138',\n",
       " '600139',\n",
       " '600258',\n",
       " '600275',\n",
       " '600282',\n",
       " '600306',\n",
       " '600368',\n",
       " '600391',\n",
       " '600408',\n",
       " '600485',\n",
       " '600498',\n",
       " '600536',\n",
       " '600547',\n",
       " '600587',\n",
       " '600604',\n",
       " '600634',\n",
       " '600671',\n",
       " '600678',\n",
       " '600690',\n",
       " '600727',\n",
       " '600733',\n",
       " '600754',\n",
       " '600759',\n",
       " '600777',\n",
       " '600778',\n",
       " '600816',\n",
       " '600859',\n",
       " '600890',\n",
       " '600897',\n",
       " '600909',\n",
       " '600966',\n",
       " '600975',\n",
       " '600984',\n",
       " '601005',\n",
       " '601028',\n",
       " '601099',\n",
       " '601107',\n",
       " '601111',\n",
       " '601208',\n",
       " '601558',\n",
       " '601636',\n",
       " '601778',\n",
       " '601918',\n",
       " '601919',\n",
       " '601933',\n",
       " '603010',\n",
       " '603123',\n",
       " '603711',\n",
       " '603861',\n",
       " '603922',\n",
       " '603996',\n",
       " '605080',\n",
       " '605305',\n",
       " '688070',\n",
       " '688165',\n",
       " '688183',\n",
       " '688185',\n",
       " '688333',\n",
       " '688339',\n",
       " '688567',\n",
       " '689009',\n",
       " '000029',\n",
       " '000545',\n",
       " '000710',\n",
       " '000757',\n",
       " '000905',\n",
       " '000980',\n",
       " '002030',\n",
       " '002034',\n",
       " '002055',\n",
       " '002079']"
      ]
     },
     "execution_count": 384,
     "metadata": {},
     "output_type": "execute_result"
    }
   ],
   "source": [
    "#获取股票代码\n",
    "stock_code = re.findall('stockCode\">(.*)</a>',result)\n",
    "stock_code"
   ]
  },
  {
   "cell_type": "code",
   "execution_count": 383,
   "metadata": {},
   "outputs": [
    {
     "data": {
      "text/plain": [
       "['依依股份',\n",
       " '肇民科技',\n",
       " '凯淳股份',\n",
       " '崧盛股份',\n",
       " '普联软件',\n",
       " '欢乐家',\n",
       " '宁波方正',\n",
       " '圣诺生物',\n",
       " '瑞丰银行',\n",
       " '福莱新材',\n",
       " '津荣天宇',\n",
       " '同飞股份',\n",
       " '富春染织',\n",
       " '川网传媒',\n",
       " '华通线缆',\n",
       " '和辉光电',\n",
       " '大中矿业',\n",
       " '华统股份',\n",
       " '齐鲁银行',\n",
       " '海程邦达',\n",
       " '东鹏饮料',\n",
       " '蕾奥规划',\n",
       " '申万宏源',\n",
       " '*ST藏格',\n",
       " '渤海租赁',\n",
       " '视觉中国',\n",
       " '鸿达兴业',\n",
       " '精功科技',\n",
       " 'ST中捷',\n",
       " '美年健康',\n",
       " '紫光国微',\n",
       " '云南能投',\n",
       " '*ST东洋',\n",
       " '新野纺织',\n",
       " '广博股份',\n",
       " '恒宝股份',\n",
       " '紫鑫药业',\n",
       " '西部材料',\n",
       " '中航光电',\n",
       " '海得控制',\n",
       " '劲嘉股份',\n",
       " '*ST海陆',\n",
       " '*ST德奥',\n",
       " '美邦服饰',\n",
       " '威创股份',\n",
       " '焦点科技',\n",
       " '潮宏基',\n",
       " '信邦制药',\n",
       " '*ST辉丰',\n",
       " '*ST利源',\n",
       " '达华智能',\n",
       " '光正眼科',\n",
       " '森马服饰',\n",
       " '德力股份',\n",
       " '通达动力',\n",
       " 'ST八菱',\n",
       " '*ST勤上',\n",
       " 'ST摩登',\n",
       " '雪迪龙',\n",
       " 'ST浩源',\n",
       " '光洋股份',\n",
       " '*ST欧浦',\n",
       " '金轮股份',\n",
       " '金发拉比',\n",
       " '*ST索菱',\n",
       " '路畅科技',\n",
       " '桂发祥',\n",
       " '实丰文化',\n",
       " '新研股份',\n",
       " '天翔环境',\n",
       " 'ST网力',\n",
       " '昊志机电',\n",
       " '南方航空',\n",
       " '福建高速',\n",
       " '黄山旅游',\n",
       " '退市保千',\n",
       " '东方航空',\n",
       " '郑州煤电',\n",
       " '乐凯胶片',\n",
       " '中青旅',\n",
       " '西部资源',\n",
       " '首旅酒店',\n",
       " 'ST昌鱼',\n",
       " '南钢股份',\n",
       " '*ST商城',\n",
       " '五洲交通',\n",
       " '航发科技',\n",
       " 'ST安泰',\n",
       " '*ST信威',\n",
       " '烽火通信',\n",
       " '中国软件',\n",
       " '山东黄金',\n",
       " '新华医疗',\n",
       " '市北高新',\n",
       " '*ST富控',\n",
       " '*ST目药',\n",
       " '四川金顶',\n",
       " '海尔智家',\n",
       " '鲁北化工',\n",
       " '北汽蓝谷',\n",
       " '锦江酒店',\n",
       " '洲际油气',\n",
       " '新潮能源',\n",
       " '友好集团',\n",
       " '*ST安信',\n",
       " '王府井',\n",
       " '*ST中房',\n",
       " '厦门空港',\n",
       " '华安证券',\n",
       " '博汇纸业',\n",
       " '新五丰',\n",
       " '建设机械',\n",
       " '重庆钢铁',\n",
       " '玉龙股份',\n",
       " '太平洋',\n",
       " '四川成渝',\n",
       " '中国国航',\n",
       " '东材科技',\n",
       " '退市锐电',\n",
       " '旗滨集团',\n",
       " '晶科科技',\n",
       " '新集能源',\n",
       " '中远海控',\n",
       " '永辉超市',\n",
       " '万盛股份',\n",
       " '翠微股份',\n",
       " '香飘飘',\n",
       " '白云电器',\n",
       " '金鸿顺',\n",
       " '*ST中新',\n",
       " '浙大自然',\n",
       " '中际联合',\n",
       " '纵横股份',\n",
       " '埃夫特',\n",
       " '生益电子',\n",
       " '康希诺',\n",
       " '铂力特',\n",
       " '亿华通',\n",
       " '孚能科技',\n",
       " '九号公司',\n",
       " '深深房A',\n",
       " '金浦钛业',\n",
       " '贝瑞基因',\n",
       " '浩物股份',\n",
       " '厦门港务',\n",
       " '*ST众泰',\n",
       " '达安基因',\n",
       " '旺能环境',\n",
       " '得润电子',\n",
       " '苏州固锝']"
      ]
     },
     "execution_count": 383,
     "metadata": {},
     "output_type": "execute_result"
    }
   ],
   "source": [
    "stock_name = re.findall('class=\"J_showCanvas\">(.*)</a>',result)\n",
    "stock_name"
   ]
  },
  {
   "cell_type": "code",
   "execution_count": 385,
   "metadata": {},
   "outputs": [
    {
     "data": {
      "text/plain": [
       "['业绩预降',\n",
       " '业绩预增',\n",
       " '业绩预盈',\n",
       " '业绩大幅上升',\n",
       " '业绩大幅上升',\n",
       " '业绩预增',\n",
       " '业绩预降',\n",
       " '业绩预增',\n",
       " '业绩预增',\n",
       " '不确定',\n",
       " '业绩预增',\n",
       " '业绩预增',\n",
       " '业绩大幅上升',\n",
       " '业绩预增',\n",
       " '业绩预盈',\n",
       " '预计减亏',\n",
       " '业绩大幅上升',\n",
       " '业绩大幅上升',\n",
       " '业绩预增',\n",
       " '业绩预增',\n",
       " '业绩大幅上升',\n",
       " '业绩预增',\n",
       " '不确定',\n",
       " '预计扭亏',\n",
       " '预计续亏',\n",
       " '业绩大幅上升',\n",
       " '业绩大幅上升',\n",
       " '业绩大幅上升',\n",
       " '预计扭亏',\n",
       " '预计减亏',\n",
       " '业绩大幅上升',\n",
       " '业绩预降',\n",
       " '业绩预亏',\n",
       " '业绩预降',\n",
       " '预计扭亏',\n",
       " '业绩预亏',\n",
       " '预计减亏',\n",
       " '业绩大幅上升',\n",
       " '业绩大幅上升',\n",
       " '业绩大幅上升',\n",
       " '业绩预增',\n",
       " '业绩大幅下降',\n",
       " '业绩预亏',\n",
       " '预计减亏',\n",
       " '业绩大幅下降',\n",
       " '业绩大幅上升',\n",
       " '业绩大幅上升',\n",
       " '业绩大幅上升',\n",
       " '预计扭亏',\n",
       " '预计减亏',\n",
       " '业绩预亏',\n",
       " '预计扭亏',\n",
       " '业绩大幅上升',\n",
       " '预计扭亏',\n",
       " '业绩大幅上升',\n",
       " '预计扭亏',\n",
       " '预计减亏',\n",
       " '业绩预亏',\n",
       " '业绩大幅上升',\n",
       " '业绩大幅上升',\n",
       " '业绩大幅上升',\n",
       " '预计扭亏',\n",
       " '业绩大幅上升',\n",
       " '业绩大幅上升',\n",
       " '预计增亏',\n",
       " '预计扭亏',\n",
       " '预计扭亏',\n",
       " '预计扭亏',\n",
       " '预计续亏',\n",
       " '预计扭亏',\n",
       " '预计续亏',\n",
       " '业绩大幅上升',\n",
       " '不确定',\n",
       " '业绩大幅上升',\n",
       " '预计扭亏',\n",
       " '预计续亏',\n",
       " '不确定',\n",
       " '不确定',\n",
       " '业绩大幅上升',\n",
       " '不确定',\n",
       " '预计续亏',\n",
       " '不确定',\n",
       " '预计续亏',\n",
       " '业绩大幅上升',\n",
       " '预计续亏',\n",
       " '业绩大幅上升',\n",
       " '预计减亏',\n",
       " '业绩大幅上升',\n",
       " '预计续亏',\n",
       " '业绩大幅上升',\n",
       " '预计续亏',\n",
       " '不确定',\n",
       " '不确定',\n",
       " '业绩大幅下降',\n",
       " '预计续亏',\n",
       " '预计续亏',\n",
       " '业绩预增',\n",
       " '不确定',\n",
       " '业绩大幅上升',\n",
       " '预计续亏',\n",
       " '不确定',\n",
       " '不确定',\n",
       " '业绩大幅上升',\n",
       " '预计扭亏',\n",
       " '不确定',\n",
       " '业绩大幅上升',\n",
       " '预计续亏',\n",
       " '不确定',\n",
       " '不确定',\n",
       " '业绩大幅上升',\n",
       " '业绩大幅下降',\n",
       " '业绩预盈',\n",
       " '业绩大幅上升',\n",
       " '业绩大幅上升',\n",
       " '不确定',\n",
       " '不确定',\n",
       " '不确定',\n",
       " '业绩大幅上升',\n",
       " '不确定',\n",
       " '业绩大幅上升',\n",
       " '不确定',\n",
       " '业绩大幅上升',\n",
       " '业绩大幅上升',\n",
       " '业绩预亏',\n",
       " '业绩大幅上升',\n",
       " '不确定',\n",
       " '预计续亏',\n",
       " '预计续亏',\n",
       " '不确定',\n",
       " '预计续亏',\n",
       " '不确定',\n",
       " '业绩预增',\n",
       " '业绩预亏',\n",
       " '预计减亏',\n",
       " '业绩预降',\n",
       " '预计扭亏',\n",
       " '不确定',\n",
       " '预计续亏',\n",
       " '预计续亏',\n",
       " '预计扭亏',\n",
       " '业绩大幅上升',\n",
       " '预计扭亏',\n",
       " '业绩大幅下降',\n",
       " '预计扭亏',\n",
       " '业绩大幅上升',\n",
       " '预计减亏',\n",
       " '业绩大幅上升',\n",
       " '业绩预增',\n",
       " '业绩大幅下降',\n",
       " '业绩大幅上升']"
      ]
     },
     "execution_count": 385,
     "metadata": {},
     "output_type": "execute_result"
    }
   ],
   "source": [
    "# 获取业绩数据\n",
    "performance = re.findall('<span>(.*)</span>',result)\n",
    "performance"
   ]
  },
  {
   "cell_type": "code",
   "execution_count": 386,
   "metadata": {},
   "outputs": [
    {
     "data": {
      "text/plain": [
       "['净利润7200万元至8200万元,下降幅度为35.25%至25.78%',\n",
       " '净利润5505.16万元至6104.53万元,增长幅度为32.92%至47.39%',\n",
       " '净利润3400.00万元至4200.00万元,增长幅度为-12.23%至8.42%',\n",
       " '净利润6000.00万元至7600.00万元,增长幅度为49.35%至89.17%',\n",
       " '净利润3000万元至3600万元,增长幅度为79.93%至115.92%',\n",
       " '净利润8600万元至9500万元,增长幅度为1.42%至12.04%',\n",
       " '净利润1647.73万元至1824.73万元,下降幅度为27.11%至19.28%',\n",
       " '净利润3200万元至3600万元,增长幅度为2.20%至14.98%',\n",
       " '净利润48400万元至50700万元,增长幅度为5%至10%',\n",
       " '公司预计2021年1-6月经营业绩同比不会发生重大不利变化。',\n",
       " '净利润3230万元至3380万元,增长幅度为31.71%至37.82%',\n",
       " '净利润5897.00万元至6384.06万元,增长幅度为18.63%至28.43%',\n",
       " '净利润7680.71万元至8380.71万元,增长幅度为213.58%至242.16%',\n",
       " '扣非后净利润1749.24万元至1831.73万元,增长幅度为5.18%至10.14%',\n",
       " '扣非后净利润5903.97万元至6760.45万元,增长幅度为-4.93%至8.86%',\n",
       " '净利润-54500万元至-45000万元,增长幅度为0.23%至17.62%',\n",
       " '净利润55000万元至65000万元,增长幅度为455.09%至556.02%',\n",
       " '净利润18000万元至21000万元,增长幅度为139.34%至179.23%',\n",
       " '净利润144000万元至149000万元,增长幅度为10%至13%',\n",
       " '净利润10201.88万元至12468.96万元,增长幅度为6.28%至29.90%',\n",
       " '净利润57000万元至72000万元,增长幅度为29.16%至63.15%',\n",
       " '净利润2800万元至3000万元,增长幅度为4.42%至11.88%',\n",
       " '不确定',\n",
       " '净利润30000万元至38000万元,增长幅度为311.47%至367.86%',\n",
       " '预计公司2021年1-6月累计净利润仍为亏损。',\n",
       " '净利润9500万元至11000万元,增长幅度为31.30%至52.03%',\n",
       " '净利润60000万元至75000万元,增长幅度为80.74%至125.93%',\n",
       " '净利润3500万元至5000万元,增长幅度为371.06%至572.94%',\n",
       " '净利润1000万元至1500万元,增长幅度为175.33%至213.00%',\n",
       " '净利润-40000万元至-30000万元,增长幅度为48.87%至61.66%',\n",
       " '净利润60289.03万元至80385.38万元,增长幅度为50.00%至100.00%',\n",
       " '净利润13343.31万元至15450.15万元,下降幅度为28.59%至17.31%',\n",
       " '净利润-2800万元至-1900万元,下降幅度为234.55%至191.3%',\n",
       " '净利润5737.96万元至8033.14万元,下降幅度为50%至30%',\n",
       " '净利润1000万元至1500万元,增长幅度为174.53%至211.79%',\n",
       " '净利润-500万元至-250万元,下降幅度为120.11%至110.06%',\n",
       " '净利润-19000万元至-14000万元,增长幅度为11.15%至34.53%',\n",
       " '净利润6500万元至7500万元,增长幅度为340.22%至407.94%',\n",
       " '净利润92819.06万元至112708.86万元,增长幅度为40.00%至70.00%',\n",
       " '净利润5000万元至6000万元,增长幅度为32.25%至58.70%',\n",
       " '净利润45689.30万元至53996.45万元,增长幅度为10%至30%',\n",
       " '净利润13000万元至17000万元,下降幅度为76.7%至69.53%',\n",
       " '净利润-2000万元至-1100万元,下降幅度为186%至147%',\n",
       " '净利润-5000万元至0万元,增长幅度为89.54%至100.00%',\n",
       " '净利润500万元至750万元,下降幅度为98.21%至97.32%',\n",
       " '净利润9000万元至12500万元,增长幅度为88.72%至162.12%',\n",
       " '净利润15000万元至18000万元,增长幅度为1017.44%至1240.92%',\n",
       " '净利润13942万元至15730万元,增长幅度为290.00%至340.02%',\n",
       " '净利润60000万元至70000万元,增长幅度为1341.17%至1548.04%',\n",
       " '净利润-14000万元至-8000万元,增长幅度为74.97%至85.70%',\n",
       " '净利润-18000万元至-12000万元',\n",
       " '净利润6000万元至8000万元,增长幅度为804.80%至1039.73%',\n",
       " '净利润58000万元至72000万元,增长幅度为2585.65%至3233.90%',\n",
       " '净利润1400万元至1900万元,增长幅度为451.09%至576.48%',\n",
       " '净利润5013.7万元至6742.57万元,增长幅度为45.0%至95.0%',\n",
       " '净利润17800万元至22000万元,增长幅度为3149.88%至3869.51%',\n",
       " '净利润-1200万元至-800万元,增长幅度为21.00%至47.33%',\n",
       " '净利润-3000万元至-2000万元,下降幅度为184.71%至156.48%',\n",
       " '净利润6500万元至8000万元,增长幅度为600.02%至761.56%',\n",
       " '净利润3646.89万元至5383.51万元,增长幅度为5%至55%',\n",
       " '净利润3000万元至4000万元,增长幅度为347.25%至496.34%',\n",
       " '净利润680万元至980万元,增长幅度为130.82%至144.41%',\n",
       " '净利润6455.46万元至8154.26万元,增长幅度为90.0%至140.0%',\n",
       " '净利润1800万元至2700万元,增长幅度为71.77%至157.66%',\n",
       " '净利润-18000万元至-14000万元,下降幅度为178.3%至116.46%',\n",
       " '净利润300万元至450万元,增长幅度为108.91%至113.37%',\n",
       " '净利润1500万元至2200万元,增长幅度为403.63%至545.32%',\n",
       " '净利润500万元至700万元,增长幅度为131.62%至144.27%',\n",
       " '预测年初至下一报告期期末的累计净利润可能为亏损。',\n",
       " '公司预计2021年上半年较去年期净利润可能扭亏为盈。',\n",
       " '预计年初至下一报告期期末的累计净利润可能为亏损。',\n",
       " '公司预计年初至下一报告期期末的累计净利润相比上年同期有较大幅度增加。',\n",
       " '预计本集团2021年上半年的经营业绩仍将受到不利影响并存在较大不确定性。',\n",
       " '预计公司年初至下一报告期期末经营业绩同比将显著增长。',\n",
       " '公司预计2021年半年度业绩较去年同期扭亏为盈',\n",
       " '公司2021年上半年净利润可能继续亏损。',\n",
       " '不确定',\n",
       " '预测年初至下一报告期期末的累计净利润与上年同期相比亦将有较大幅度变动。',\n",
       " '增长幅度为60%至80%',\n",
       " '不确定',\n",
       " '下一报告期公司累计净利润出现亏损。',\n",
       " '预计下一业绩报告期公司的经营状况将大幅度好于去年同期水平。',\n",
       " '预计公司至下一报告期末的累计净利润很可能为亏损。',\n",
       " '增长幅度为50%以上',\n",
       " '年初至下一报告期期末累计净利润可能为负。',\n",
       " '预测年初至下一报告期期末的累计净利润与上年同期相比可能发生较大幅度上升。',\n",
       " '预计年初至下一报告期末的累计净利润同比减亏',\n",
       " '预测2021年上半年的累计净利润同比将大幅增长',\n",
       " '公司年初至下一报告期末的累计净利润为亏损。',\n",
       " '预计至下一报告期期末的累计净利润较去年同期会大幅增长。',\n",
       " '年初至下一报告期，公司预测归属于上市公司股东的累计净利润可能仍为亏损。',\n",
       " '预计公司2021年6月份累计实现归属于上市公司股东的净利润与上年同期相比发生较大变动。',\n",
       " '不确定',\n",
       " '预计上半年经营业绩与上年同期相比仍将大幅下降。',\n",
       " '公司预测年初至下一报告期期末的累计净利润可能为亏损。',\n",
       " '年初至下一报告期末的累计净利润可能为亏损。',\n",
       " '公司预计年初至下一报告期末的累计净利润与上年同期相比实现增长',\n",
       " '不确定',\n",
       " '预测年初至下一报告期期末的累计净利润与上年同期相比可能发生大幅度上升',\n",
       " '预计年初至下一报告期期末公司累计净利润将亏损。',\n",
       " '公司预测年初至下一报告期期末的累计净利润与上年同期相比仍存在发生较大幅度变动的可能性。',\n",
       " '2021年上半年公司盈利能力将得到大幅提升。',\n",
       " '增长幅度为50%以上',\n",
       " '预计公司2021年1-6月的累计净利润较上年同期将实现扭亏为盈。',\n",
       " '不确定',\n",
       " '预计公司半年度业绩较上年同期大幅增长',\n",
       " '预计年初至下一报告期期末的累计净利润可能为亏损',\n",
       " '不确定',\n",
       " '公司目前无法对2021年1-6月的经营业绩进行准确估计。',\n",
       " '预测年初至下一报告期期末的累计净利润较上年同期有较大幅度提升。',\n",
       " '净利润6000万元至9000万元',\n",
       " '公司预计年初至下一报告期期末的累计净利润为盈利。',\n",
       " '预计下一报告期期末的累计净利润与上年同期相比将大幅增长。',\n",
       " '公司预测年初至下一报告期期末的累计净利润与上年同期相比可能发生重大增加',\n",
       " '不确定',\n",
       " '预计年初至下一报告期期末的累计净利润与上年同期相比发生较大幅度上升。',\n",
       " '不确定',\n",
       " '增长幅度为135.56%至156.31%',\n",
       " '公司无法预测年初至下一报告期期末的累计净利润情况。',\n",
       " '公司预计2021年半年度的累计净利润相比2020年同期有较大幅度的增长。',\n",
       " '年初至下一报告期末的累计净利润与上年同期相比发生重大变动。',\n",
       " '预计年初至下一报告期期末的累计净利润与上年同期比将有较大幅度增长。',\n",
       " '预计2021年上半年的累计净利润与上年同期相比实现大幅度增长。',\n",
       " '2021年上半年公司归母净利润可能出现亏损。',\n",
       " '增长幅度为295%至335%',\n",
       " '预计上半年公司的归母净利润与上年同期相比仍会有所增长。',\n",
       " '公司预计今年上半年会有一定程度的亏损。',\n",
       " '预测公司年初至下一报告期末累计净利润可能出现亏损。',\n",
       " '公司累计净利润较上年同期有较大幅度的增长。',\n",
       " '2021年1-6月累计归属上市公司的净利润预计将出现亏损。',\n",
       " '公司预计2021年1-6月经营业绩同比不会发生重大不利变化。',\n",
       " '净利润10600.00万元至12000.00万元,增长幅度为10.28%至24.85%',\n",
       " '预计年初至下一报告期期末的累计净利润可能为亏损。',\n",
       " '预计本年度1月1日至6月30日累计净利润可能仍为亏损状态,但预计亏损额较去年同期将减少。',\n",
       " '公司年初至下一报告期期末（即2021年1-6月）的经营结果与上年同期相比存在一定程度下降的可能性',\n",
       " '预计年初至下一报告期期末的累计净利润为正。',\n",
       " '不确定',\n",
       " '预计2021年上半年仍将亏损',\n",
       " '公司预测年初至下一报告期期末的累计净利润可能为亏损。',\n",
       " '预测年初至下一报告期期末的累计净利润与上年同期相比可能实现扭亏为盈',\n",
       " '净利润12000万元至15000万元,增长幅度为23.36%至54.20%',\n",
       " '净利润8660.29万元至9091.15万元,增长幅度为1105.00%至1155.00%',\n",
       " '净利润4000万元至6000万元,下降幅度为66%至49%',\n",
       " '净利润2900万元至3900万元,增长幅度为236.94%至284.17%',\n",
       " '净利润8671.01万元至11079.63万元,增长幅度为80.0%至130.00%',\n",
       " '净利润-75000万元至-50000万元,增长幅度为27.47%至51.65%',\n",
       " '净利润135000万元至165000万元,增长幅度为73.41%至111.95%',\n",
       " '净利润30000万元至32000万元,增长幅度为30.77%至39.49%',\n",
       " '净利润2500万元至3750万元,下降幅度为85.4%至78.1%',\n",
       " '净利润9311.2万元至12104.56万元,增长幅度为100%至160%']"
      ]
     },
     "execution_count": 386,
     "metadata": {},
     "output_type": "execute_result"
    }
   ],
   "source": [
    "# 获取摘要\n",
    "summary = re.findall('target=\"_blank\">(.*)</a>',result)\n",
    "summary"
   ]
  },
  {
   "cell_type": "code",
   "execution_count": 389,
   "metadata": {},
   "outputs": [
    {
     "data": {
      "text/html": [
       "<div>\n",
       "<style scoped>\n",
       "    .dataframe tbody tr th:only-of-type {\n",
       "        vertical-align: middle;\n",
       "    }\n",
       "\n",
       "    .dataframe tbody tr th {\n",
       "        vertical-align: top;\n",
       "    }\n",
       "\n",
       "    .dataframe thead th {\n",
       "        text-align: right;\n",
       "    }\n",
       "</style>\n",
       "<table border=\"1\" class=\"dataframe\">\n",
       "  <thead>\n",
       "    <tr style=\"text-align: right;\">\n",
       "      <th></th>\n",
       "      <th>stock_code</th>\n",
       "      <th>stock_name</th>\n",
       "      <th>performance</th>\n",
       "      <th>summary</th>\n",
       "    </tr>\n",
       "  </thead>\n",
       "  <tbody>\n",
       "    <tr>\n",
       "      <th>1</th>\n",
       "      <td>001206</td>\n",
       "      <td>依依股份</td>\n",
       "      <td>业绩预降</td>\n",
       "      <td>净利润7200万元至8200万元,下降幅度为35.25%至25.78%</td>\n",
       "    </tr>\n",
       "    <tr>\n",
       "      <th>2</th>\n",
       "      <td>301000</td>\n",
       "      <td>肇民科技</td>\n",
       "      <td>业绩预增</td>\n",
       "      <td>净利润5505.16万元至6104.53万元,增长幅度为32.92%至47.39%</td>\n",
       "    </tr>\n",
       "    <tr>\n",
       "      <th>3</th>\n",
       "      <td>301001</td>\n",
       "      <td>凯淳股份</td>\n",
       "      <td>业绩预盈</td>\n",
       "      <td>净利润3400.00万元至4200.00万元,增长幅度为-12.23%至8.42%</td>\n",
       "    </tr>\n",
       "    <tr>\n",
       "      <th>4</th>\n",
       "      <td>301002</td>\n",
       "      <td>崧盛股份</td>\n",
       "      <td>业绩大幅上升</td>\n",
       "      <td>净利润6000.00万元至7600.00万元,增长幅度为49.35%至89.17%</td>\n",
       "    </tr>\n",
       "    <tr>\n",
       "      <th>5</th>\n",
       "      <td>300996</td>\n",
       "      <td>普联软件</td>\n",
       "      <td>业绩大幅上升</td>\n",
       "      <td>净利润3000万元至3600万元,增长幅度为79.93%至115.92%</td>\n",
       "    </tr>\n",
       "    <tr>\n",
       "      <th>...</th>\n",
       "      <td>...</td>\n",
       "      <td>...</td>\n",
       "      <td>...</td>\n",
       "      <td>...</td>\n",
       "    </tr>\n",
       "    <tr>\n",
       "      <th>146</th>\n",
       "      <td>000980</td>\n",
       "      <td>*ST众泰</td>\n",
       "      <td>预计减亏</td>\n",
       "      <td>净利润-75000万元至-50000万元,增长幅度为27.47%至51.65%</td>\n",
       "    </tr>\n",
       "    <tr>\n",
       "      <th>147</th>\n",
       "      <td>002030</td>\n",
       "      <td>达安基因</td>\n",
       "      <td>业绩大幅上升</td>\n",
       "      <td>净利润135000万元至165000万元,增长幅度为73.41%至111.95%</td>\n",
       "    </tr>\n",
       "    <tr>\n",
       "      <th>148</th>\n",
       "      <td>002034</td>\n",
       "      <td>旺能环境</td>\n",
       "      <td>业绩预增</td>\n",
       "      <td>净利润30000万元至32000万元,增长幅度为30.77%至39.49%</td>\n",
       "    </tr>\n",
       "    <tr>\n",
       "      <th>149</th>\n",
       "      <td>002055</td>\n",
       "      <td>得润电子</td>\n",
       "      <td>业绩大幅下降</td>\n",
       "      <td>净利润2500万元至3750万元,下降幅度为85.4%至78.1%</td>\n",
       "    </tr>\n",
       "    <tr>\n",
       "      <th>150</th>\n",
       "      <td>002079</td>\n",
       "      <td>苏州固锝</td>\n",
       "      <td>业绩大幅上升</td>\n",
       "      <td>净利润9311.2万元至12104.56万元,增长幅度为100%至160%</td>\n",
       "    </tr>\n",
       "  </tbody>\n",
       "</table>\n",
       "<p>150 rows × 4 columns</p>\n",
       "</div>"
      ],
      "text/plain": [
       "    stock_code stock_name performance  \\\n",
       "1       001206       依依股份        业绩预降   \n",
       "2       301000       肇民科技        业绩预增   \n",
       "3       301001       凯淳股份        业绩预盈   \n",
       "4       301002       崧盛股份      业绩大幅上升   \n",
       "5       300996       普联软件      业绩大幅上升   \n",
       "..         ...        ...         ...   \n",
       "146     000980      *ST众泰        预计减亏   \n",
       "147     002030       达安基因      业绩大幅上升   \n",
       "148     002034       旺能环境        业绩预增   \n",
       "149     002055       得润电子      业绩大幅下降   \n",
       "150     002079       苏州固锝      业绩大幅上升   \n",
       "\n",
       "                                       summary  \n",
       "1          净利润7200万元至8200万元,下降幅度为35.25%至25.78%  \n",
       "2    净利润5505.16万元至6104.53万元,增长幅度为32.92%至47.39%  \n",
       "3    净利润3400.00万元至4200.00万元,增长幅度为-12.23%至8.42%  \n",
       "4    净利润6000.00万元至7600.00万元,增长幅度为49.35%至89.17%  \n",
       "5         净利润3000万元至3600万元,增长幅度为79.93%至115.92%  \n",
       "..                                         ...  \n",
       "146    净利润-75000万元至-50000万元,增长幅度为27.47%至51.65%  \n",
       "147   净利润135000万元至165000万元,增长幅度为73.41%至111.95%  \n",
       "148      净利润30000万元至32000万元,增长幅度为30.77%至39.49%  \n",
       "149          净利润2500万元至3750万元,下降幅度为85.4%至78.1%  \n",
       "150      净利润9311.2万元至12104.56万元,增长幅度为100%至160%  \n",
       "\n",
       "[150 rows x 4 columns]"
      ]
     },
     "execution_count": 389,
     "metadata": {},
     "output_type": "execute_result"
    }
   ],
   "source": [
    "data = pd.DataFrame({\n",
    "    \"stock_code\":stock_code,\n",
    "    \"stock_name\":stock_name,\n",
    "    \"performance\":performance,\n",
    "    \"summary\":summary\n",
    "}, index=index)\n",
    "\n",
    "data"
   ]
  },
  {
   "cell_type": "code",
   "execution_count": 400,
   "metadata": {},
   "outputs": [
    {
     "data": {
      "text/html": [
       "<div>\n",
       "<style scoped>\n",
       "    .dataframe tbody tr th:only-of-type {\n",
       "        vertical-align: middle;\n",
       "    }\n",
       "\n",
       "    .dataframe tbody tr th {\n",
       "        vertical-align: top;\n",
       "    }\n",
       "\n",
       "    .dataframe thead th {\n",
       "        text-align: right;\n",
       "    }\n",
       "</style>\n",
       "<table border=\"1\" class=\"dataframe\">\n",
       "  <thead>\n",
       "    <tr style=\"text-align: right;\">\n",
       "      <th></th>\n",
       "      <th>0</th>\n",
       "      <th>1</th>\n",
       "    </tr>\n",
       "  </thead>\n",
       "  <tbody>\n",
       "    <tr>\n",
       "      <th>1</th>\n",
       "      <td>35.25</td>\n",
       "      <td>25.78</td>\n",
       "    </tr>\n",
       "    <tr>\n",
       "      <th>2</th>\n",
       "      <td>32.92</td>\n",
       "      <td>47.39</td>\n",
       "    </tr>\n",
       "    <tr>\n",
       "      <th>3</th>\n",
       "      <td>-12.23</td>\n",
       "      <td>8.42</td>\n",
       "    </tr>\n",
       "    <tr>\n",
       "      <th>4</th>\n",
       "      <td>49.35</td>\n",
       "      <td>89.17</td>\n",
       "    </tr>\n",
       "    <tr>\n",
       "      <th>5</th>\n",
       "      <td>79.93</td>\n",
       "      <td>115.92</td>\n",
       "    </tr>\n",
       "    <tr>\n",
       "      <th>...</th>\n",
       "      <td>...</td>\n",
       "      <td>...</td>\n",
       "    </tr>\n",
       "    <tr>\n",
       "      <th>146</th>\n",
       "      <td>27.47</td>\n",
       "      <td>51.65</td>\n",
       "    </tr>\n",
       "    <tr>\n",
       "      <th>147</th>\n",
       "      <td>73.41</td>\n",
       "      <td>111.95</td>\n",
       "    </tr>\n",
       "    <tr>\n",
       "      <th>148</th>\n",
       "      <td>30.77</td>\n",
       "      <td>39.49</td>\n",
       "    </tr>\n",
       "    <tr>\n",
       "      <th>149</th>\n",
       "      <td>85.4</td>\n",
       "      <td>78.1</td>\n",
       "    </tr>\n",
       "    <tr>\n",
       "      <th>150</th>\n",
       "      <td>100</td>\n",
       "      <td>160</td>\n",
       "    </tr>\n",
       "  </tbody>\n",
       "</table>\n",
       "<p>150 rows × 2 columns</p>\n",
       "</div>"
      ],
      "text/plain": [
       "          0       1\n",
       "1     35.25   25.78\n",
       "2     32.92   47.39\n",
       "3    -12.23    8.42\n",
       "4     49.35   89.17\n",
       "5     79.93  115.92\n",
       "..      ...     ...\n",
       "146   27.47   51.65\n",
       "147   73.41  111.95\n",
       "148   30.77   39.49\n",
       "149    85.4    78.1\n",
       "150     100     160\n",
       "\n",
       "[150 rows x 2 columns]"
      ]
     },
     "execution_count": 400,
     "metadata": {},
     "output_type": "execute_result"
    }
   ],
   "source": [
    "data.summary.str.extract('幅度为(.*)%至(.*)%')"
   ]
  },
  {
   "cell_type": "code",
   "execution_count": 399,
   "metadata": {},
   "outputs": [
    {
     "data": {
      "text/html": [
       "<div>\n",
       "<style scoped>\n",
       "    .dataframe tbody tr th:only-of-type {\n",
       "        vertical-align: middle;\n",
       "    }\n",
       "\n",
       "    .dataframe tbody tr th {\n",
       "        vertical-align: top;\n",
       "    }\n",
       "\n",
       "    .dataframe thead th {\n",
       "        text-align: right;\n",
       "    }\n",
       "</style>\n",
       "<table border=\"1\" class=\"dataframe\">\n",
       "  <thead>\n",
       "    <tr style=\"text-align: right;\">\n",
       "      <th></th>\n",
       "      <th>0</th>\n",
       "      <th>1</th>\n",
       "    </tr>\n",
       "  </thead>\n",
       "  <tbody>\n",
       "    <tr>\n",
       "      <th>1</th>\n",
       "      <td>7200</td>\n",
       "      <td>8200</td>\n",
       "    </tr>\n",
       "    <tr>\n",
       "      <th>2</th>\n",
       "      <td>5505.16</td>\n",
       "      <td>6104.53</td>\n",
       "    </tr>\n",
       "    <tr>\n",
       "      <th>3</th>\n",
       "      <td>3400.00</td>\n",
       "      <td>4200.00</td>\n",
       "    </tr>\n",
       "    <tr>\n",
       "      <th>4</th>\n",
       "      <td>6000.00</td>\n",
       "      <td>7600.00</td>\n",
       "    </tr>\n",
       "    <tr>\n",
       "      <th>5</th>\n",
       "      <td>3000</td>\n",
       "      <td>3600</td>\n",
       "    </tr>\n",
       "    <tr>\n",
       "      <th>...</th>\n",
       "      <td>...</td>\n",
       "      <td>...</td>\n",
       "    </tr>\n",
       "    <tr>\n",
       "      <th>146</th>\n",
       "      <td>-75000</td>\n",
       "      <td>-50000</td>\n",
       "    </tr>\n",
       "    <tr>\n",
       "      <th>147</th>\n",
       "      <td>135000</td>\n",
       "      <td>165000</td>\n",
       "    </tr>\n",
       "    <tr>\n",
       "      <th>148</th>\n",
       "      <td>30000</td>\n",
       "      <td>32000</td>\n",
       "    </tr>\n",
       "    <tr>\n",
       "      <th>149</th>\n",
       "      <td>2500</td>\n",
       "      <td>3750</td>\n",
       "    </tr>\n",
       "    <tr>\n",
       "      <th>150</th>\n",
       "      <td>9311.2</td>\n",
       "      <td>12104.56</td>\n",
       "    </tr>\n",
       "  </tbody>\n",
       "</table>\n",
       "<p>150 rows × 2 columns</p>\n",
       "</div>"
      ],
      "text/plain": [
       "           0         1\n",
       "1       7200      8200\n",
       "2    5505.16   6104.53\n",
       "3    3400.00   4200.00\n",
       "4    6000.00   7600.00\n",
       "5       3000      3600\n",
       "..       ...       ...\n",
       "146   -75000    -50000\n",
       "147   135000    165000\n",
       "148    30000     32000\n",
       "149     2500      3750\n",
       "150   9311.2  12104.56\n",
       "\n",
       "[150 rows x 2 columns]"
      ]
     },
     "execution_count": 399,
     "metadata": {},
     "output_type": "execute_result"
    }
   ],
   "source": [
    "data.summary.str.extract('^净利润(.*)万元至(.*)万元')"
   ]
  },
  {
   "cell_type": "code",
   "execution_count": 402,
   "metadata": {},
   "outputs": [
    {
     "data": {
      "text/html": [
       "<div>\n",
       "<style scoped>\n",
       "    .dataframe tbody tr th:only-of-type {\n",
       "        vertical-align: middle;\n",
       "    }\n",
       "\n",
       "    .dataframe tbody tr th {\n",
       "        vertical-align: top;\n",
       "    }\n",
       "\n",
       "    .dataframe thead th {\n",
       "        text-align: right;\n",
       "    }\n",
       "</style>\n",
       "<table border=\"1\" class=\"dataframe\">\n",
       "  <thead>\n",
       "    <tr style=\"text-align: right;\">\n",
       "      <th></th>\n",
       "      <th>stock_code</th>\n",
       "      <th>stock_name</th>\n",
       "      <th>performance</th>\n",
       "      <th>summary</th>\n",
       "      <th>start_range</th>\n",
       "      <th>end_range</th>\n",
       "      <th>start_profit</th>\n",
       "      <th>end_profit</th>\n",
       "    </tr>\n",
       "  </thead>\n",
       "  <tbody>\n",
       "    <tr>\n",
       "      <th>1</th>\n",
       "      <td>001206</td>\n",
       "      <td>依依股份</td>\n",
       "      <td>业绩预降</td>\n",
       "      <td>净利润7200万元至8200万元,下降幅度为35.25%至25.78%</td>\n",
       "      <td>35.25</td>\n",
       "      <td>25.78</td>\n",
       "      <td>7200</td>\n",
       "      <td>8200</td>\n",
       "    </tr>\n",
       "    <tr>\n",
       "      <th>2</th>\n",
       "      <td>301000</td>\n",
       "      <td>肇民科技</td>\n",
       "      <td>业绩预增</td>\n",
       "      <td>净利润5505.16万元至6104.53万元,增长幅度为32.92%至47.39%</td>\n",
       "      <td>32.92</td>\n",
       "      <td>47.39</td>\n",
       "      <td>5505.16</td>\n",
       "      <td>6104.53</td>\n",
       "    </tr>\n",
       "    <tr>\n",
       "      <th>3</th>\n",
       "      <td>301001</td>\n",
       "      <td>凯淳股份</td>\n",
       "      <td>业绩预盈</td>\n",
       "      <td>净利润3400.00万元至4200.00万元,增长幅度为-12.23%至8.42%</td>\n",
       "      <td>-12.23</td>\n",
       "      <td>8.42</td>\n",
       "      <td>3400.00</td>\n",
       "      <td>4200.00</td>\n",
       "    </tr>\n",
       "    <tr>\n",
       "      <th>4</th>\n",
       "      <td>301002</td>\n",
       "      <td>崧盛股份</td>\n",
       "      <td>业绩大幅上升</td>\n",
       "      <td>净利润6000.00万元至7600.00万元,增长幅度为49.35%至89.17%</td>\n",
       "      <td>49.35</td>\n",
       "      <td>89.17</td>\n",
       "      <td>6000.00</td>\n",
       "      <td>7600.00</td>\n",
       "    </tr>\n",
       "    <tr>\n",
       "      <th>5</th>\n",
       "      <td>300996</td>\n",
       "      <td>普联软件</td>\n",
       "      <td>业绩大幅上升</td>\n",
       "      <td>净利润3000万元至3600万元,增长幅度为79.93%至115.92%</td>\n",
       "      <td>79.93</td>\n",
       "      <td>115.92</td>\n",
       "      <td>3000</td>\n",
       "      <td>3600</td>\n",
       "    </tr>\n",
       "  </tbody>\n",
       "</table>\n",
       "</div>"
      ],
      "text/plain": [
       "  stock_code stock_name performance  \\\n",
       "1     001206       依依股份        业绩预降   \n",
       "2     301000       肇民科技        业绩预增   \n",
       "3     301001       凯淳股份        业绩预盈   \n",
       "4     301002       崧盛股份      业绩大幅上升   \n",
       "5     300996       普联软件      业绩大幅上升   \n",
       "\n",
       "                                     summary start_range end_range  \\\n",
       "1        净利润7200万元至8200万元,下降幅度为35.25%至25.78%       35.25     25.78   \n",
       "2  净利润5505.16万元至6104.53万元,增长幅度为32.92%至47.39%       32.92     47.39   \n",
       "3  净利润3400.00万元至4200.00万元,增长幅度为-12.23%至8.42%      -12.23      8.42   \n",
       "4  净利润6000.00万元至7600.00万元,增长幅度为49.35%至89.17%       49.35     89.17   \n",
       "5       净利润3000万元至3600万元,增长幅度为79.93%至115.92%       79.93    115.92   \n",
       "\n",
       "  start_profit end_profit  \n",
       "1         7200       8200  \n",
       "2      5505.16    6104.53  \n",
       "3      3400.00    4200.00  \n",
       "4      6000.00    7600.00  \n",
       "5         3000       3600  "
      ]
     },
     "execution_count": 402,
     "metadata": {},
     "output_type": "execute_result"
    }
   ],
   "source": [
    "#两种方法\n",
    "data['start_profit'] = data['summary'].str.extract('(-{0,1}\\d{0,10}\\.{0,1}\\d{0,10})万元')\n",
    "data['end_profit'] = data['summary'].str.extract('至(-{0,1}\\d{0,10}\\.{0,1}\\d{0,10})万元')\n",
    "data['start_range'] = data['summary'].str.extract('(-{0,1}\\d{0,10}\\.{0,1}\\d{0,10})%')\n",
    "data['end_range'] = data['summary'].str.extract('至(-{0,1}\\d{0,10}\\.{0,1}\\d{0,10})%')\n",
    "data.head()"
   ]
  },
  {
   "cell_type": "code",
   "execution_count": 403,
   "metadata": {},
   "outputs": [],
   "source": [
    "#通过一个字段判断是盈利还是亏损\n",
    "def if_profit(x):\n",
    "    if x>=0:\n",
    "        return 1\n",
    "    if x<0:\n",
    "        return -1"
   ]
  },
  {
   "cell_type": "code",
   "execution_count": 412,
   "metadata": {},
   "outputs": [
    {
     "data": {
      "text/html": [
       "<div>\n",
       "<style scoped>\n",
       "    .dataframe tbody tr th:only-of-type {\n",
       "        vertical-align: middle;\n",
       "    }\n",
       "\n",
       "    .dataframe tbody tr th {\n",
       "        vertical-align: top;\n",
       "    }\n",
       "\n",
       "    .dataframe thead th {\n",
       "        text-align: right;\n",
       "    }\n",
       "</style>\n",
       "<table border=\"1\" class=\"dataframe\">\n",
       "  <thead>\n",
       "    <tr style=\"text-align: right;\">\n",
       "      <th></th>\n",
       "      <th>stock_code</th>\n",
       "      <th>stock_name</th>\n",
       "      <th>performance</th>\n",
       "      <th>summary</th>\n",
       "      <th>start_range</th>\n",
       "      <th>end_range</th>\n",
       "      <th>start_profit</th>\n",
       "      <th>end_profit</th>\n",
       "      <th>if_profit</th>\n",
       "    </tr>\n",
       "  </thead>\n",
       "  <tbody>\n",
       "    <tr>\n",
       "      <th>1</th>\n",
       "      <td>001206</td>\n",
       "      <td>依依股份</td>\n",
       "      <td>业绩预降</td>\n",
       "      <td>净利润7200万元至8200万元,下降幅度为35.25%至25.78%</td>\n",
       "      <td>35.25</td>\n",
       "      <td>25.78</td>\n",
       "      <td>7200</td>\n",
       "      <td>8200</td>\n",
       "      <td>1.0</td>\n",
       "    </tr>\n",
       "    <tr>\n",
       "      <th>2</th>\n",
       "      <td>301000</td>\n",
       "      <td>肇民科技</td>\n",
       "      <td>业绩预增</td>\n",
       "      <td>净利润5505.16万元至6104.53万元,增长幅度为32.92%至47.39%</td>\n",
       "      <td>32.92</td>\n",
       "      <td>47.39</td>\n",
       "      <td>5505.16</td>\n",
       "      <td>6104.53</td>\n",
       "      <td>1.0</td>\n",
       "    </tr>\n",
       "    <tr>\n",
       "      <th>3</th>\n",
       "      <td>301001</td>\n",
       "      <td>凯淳股份</td>\n",
       "      <td>业绩预盈</td>\n",
       "      <td>净利润3400.00万元至4200.00万元,增长幅度为-12.23%至8.42%</td>\n",
       "      <td>-12.23</td>\n",
       "      <td>8.42</td>\n",
       "      <td>3400.00</td>\n",
       "      <td>4200.00</td>\n",
       "      <td>-1.0</td>\n",
       "    </tr>\n",
       "    <tr>\n",
       "      <th>4</th>\n",
       "      <td>301002</td>\n",
       "      <td>崧盛股份</td>\n",
       "      <td>业绩大幅上升</td>\n",
       "      <td>净利润6000.00万元至7600.00万元,增长幅度为49.35%至89.17%</td>\n",
       "      <td>49.35</td>\n",
       "      <td>89.17</td>\n",
       "      <td>6000.00</td>\n",
       "      <td>7600.00</td>\n",
       "      <td>1.0</td>\n",
       "    </tr>\n",
       "    <tr>\n",
       "      <th>5</th>\n",
       "      <td>300996</td>\n",
       "      <td>普联软件</td>\n",
       "      <td>业绩大幅上升</td>\n",
       "      <td>净利润3000万元至3600万元,增长幅度为79.93%至115.92%</td>\n",
       "      <td>79.93</td>\n",
       "      <td>115.92</td>\n",
       "      <td>3000</td>\n",
       "      <td>3600</td>\n",
       "      <td>1.0</td>\n",
       "    </tr>\n",
       "    <tr>\n",
       "      <th>...</th>\n",
       "      <td>...</td>\n",
       "      <td>...</td>\n",
       "      <td>...</td>\n",
       "      <td>...</td>\n",
       "      <td>...</td>\n",
       "      <td>...</td>\n",
       "      <td>...</td>\n",
       "      <td>...</td>\n",
       "      <td>...</td>\n",
       "    </tr>\n",
       "    <tr>\n",
       "      <th>146</th>\n",
       "      <td>000980</td>\n",
       "      <td>*ST众泰</td>\n",
       "      <td>预计减亏</td>\n",
       "      <td>净利润-75000万元至-50000万元,增长幅度为27.47%至51.65%</td>\n",
       "      <td>27.47</td>\n",
       "      <td>51.65</td>\n",
       "      <td>-75000</td>\n",
       "      <td>-50000</td>\n",
       "      <td>1.0</td>\n",
       "    </tr>\n",
       "    <tr>\n",
       "      <th>147</th>\n",
       "      <td>002030</td>\n",
       "      <td>达安基因</td>\n",
       "      <td>业绩大幅上升</td>\n",
       "      <td>净利润135000万元至165000万元,增长幅度为73.41%至111.95%</td>\n",
       "      <td>73.41</td>\n",
       "      <td>111.95</td>\n",
       "      <td>135000</td>\n",
       "      <td>165000</td>\n",
       "      <td>1.0</td>\n",
       "    </tr>\n",
       "    <tr>\n",
       "      <th>148</th>\n",
       "      <td>002034</td>\n",
       "      <td>旺能环境</td>\n",
       "      <td>业绩预增</td>\n",
       "      <td>净利润30000万元至32000万元,增长幅度为30.77%至39.49%</td>\n",
       "      <td>30.77</td>\n",
       "      <td>39.49</td>\n",
       "      <td>30000</td>\n",
       "      <td>32000</td>\n",
       "      <td>1.0</td>\n",
       "    </tr>\n",
       "    <tr>\n",
       "      <th>149</th>\n",
       "      <td>002055</td>\n",
       "      <td>得润电子</td>\n",
       "      <td>业绩大幅下降</td>\n",
       "      <td>净利润2500万元至3750万元,下降幅度为85.4%至78.1%</td>\n",
       "      <td>85.40</td>\n",
       "      <td>78.1</td>\n",
       "      <td>2500</td>\n",
       "      <td>3750</td>\n",
       "      <td>1.0</td>\n",
       "    </tr>\n",
       "    <tr>\n",
       "      <th>150</th>\n",
       "      <td>002079</td>\n",
       "      <td>苏州固锝</td>\n",
       "      <td>业绩大幅上升</td>\n",
       "      <td>净利润9311.2万元至12104.56万元,增长幅度为100%至160%</td>\n",
       "      <td>100.00</td>\n",
       "      <td>160</td>\n",
       "      <td>9311.2</td>\n",
       "      <td>12104.56</td>\n",
       "      <td>1.0</td>\n",
       "    </tr>\n",
       "  </tbody>\n",
       "</table>\n",
       "<p>150 rows × 9 columns</p>\n",
       "</div>"
      ],
      "text/plain": [
       "    stock_code stock_name performance  \\\n",
       "1       001206       依依股份        业绩预降   \n",
       "2       301000       肇民科技        业绩预增   \n",
       "3       301001       凯淳股份        业绩预盈   \n",
       "4       301002       崧盛股份      业绩大幅上升   \n",
       "5       300996       普联软件      业绩大幅上升   \n",
       "..         ...        ...         ...   \n",
       "146     000980      *ST众泰        预计减亏   \n",
       "147     002030       达安基因      业绩大幅上升   \n",
       "148     002034       旺能环境        业绩预增   \n",
       "149     002055       得润电子      业绩大幅下降   \n",
       "150     002079       苏州固锝      业绩大幅上升   \n",
       "\n",
       "                                       summary  start_range end_range  \\\n",
       "1          净利润7200万元至8200万元,下降幅度为35.25%至25.78%        35.25     25.78   \n",
       "2    净利润5505.16万元至6104.53万元,增长幅度为32.92%至47.39%        32.92     47.39   \n",
       "3    净利润3400.00万元至4200.00万元,增长幅度为-12.23%至8.42%       -12.23      8.42   \n",
       "4    净利润6000.00万元至7600.00万元,增长幅度为49.35%至89.17%        49.35     89.17   \n",
       "5         净利润3000万元至3600万元,增长幅度为79.93%至115.92%        79.93    115.92   \n",
       "..                                         ...          ...       ...   \n",
       "146    净利润-75000万元至-50000万元,增长幅度为27.47%至51.65%        27.47     51.65   \n",
       "147   净利润135000万元至165000万元,增长幅度为73.41%至111.95%        73.41    111.95   \n",
       "148      净利润30000万元至32000万元,增长幅度为30.77%至39.49%        30.77     39.49   \n",
       "149          净利润2500万元至3750万元,下降幅度为85.4%至78.1%        85.40      78.1   \n",
       "150      净利润9311.2万元至12104.56万元,增长幅度为100%至160%       100.00       160   \n",
       "\n",
       "    start_profit end_profit  if_profit  \n",
       "1           7200       8200        1.0  \n",
       "2        5505.16    6104.53        1.0  \n",
       "3        3400.00    4200.00       -1.0  \n",
       "4        6000.00    7600.00        1.0  \n",
       "5           3000       3600        1.0  \n",
       "..           ...        ...        ...  \n",
       "146       -75000     -50000        1.0  \n",
       "147       135000     165000        1.0  \n",
       "148        30000      32000        1.0  \n",
       "149         2500       3750        1.0  \n",
       "150       9311.2   12104.56        1.0  \n",
       "\n",
       "[150 rows x 9 columns]"
      ]
     },
     "execution_count": 412,
     "metadata": {},
     "output_type": "execute_result"
    }
   ],
   "source": [
    "data.start_range=data.start_range.astype('float')\n",
    "data['if_profit']=data.apply(lambda x:if_profit(x.start_range),axis=1)\n",
    "data"
   ]
  },
  {
   "cell_type": "code",
   "execution_count": null,
   "metadata": {},
   "outputs": [],
   "source": []
  }
 ],
 "metadata": {
  "kernelspec": {
   "display_name": "Python 3",
   "language": "python",
   "name": "python3"
  },
  "language_info": {
   "codemirror_mode": {
    "name": "ipython",
    "version": 3
   },
   "file_extension": ".py",
   "mimetype": "text/x-python",
   "name": "python",
   "nbconvert_exporter": "python",
   "pygments_lexer": "ipython3",
   "version": "3.7.4"
  },
  "toc": {
   "base_numbering": 1,
   "nav_menu": {},
   "number_sections": true,
   "sideBar": true,
   "skip_h1_title": false,
   "title_cell": "Table of Contents",
   "title_sidebar": "Contents",
   "toc_cell": false,
   "toc_position": {
    "height": "calc(100% - 180px)",
    "left": "10px",
    "top": "150px",
    "width": "288px"
   },
   "toc_section_display": true,
   "toc_window_display": true
  }
 },
 "nbformat": 4,
 "nbformat_minor": 4
}
